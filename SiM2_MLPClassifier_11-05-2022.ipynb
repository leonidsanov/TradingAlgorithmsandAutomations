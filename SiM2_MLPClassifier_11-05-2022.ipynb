{
 "cells": [
  {
   "cell_type": "markdown",
   "id": "a797df50",
   "metadata": {},
   "source": [
    "# Векторизованное тестирование на актуальных исторических данных"
   ]
  },
  {
   "cell_type": "markdown",
   "id": "196fd22c",
   "metadata": {},
   "source": [
    "Прежде чем запускать данный алгоритм необходимо сначала актуализировать исторические данные. Для этого запускаем QUIK. Затем в QUIK запускаем алгоритм в основе которого лежит функция CreateDataSource, извлекающая данные из графиков движения цены."
   ]
  },
  {
   "cell_type": "markdown",
   "id": "4a2895c3",
   "metadata": {},
   "source": [
    "В QUIK должны быть запущены стакан с котировками по нужному инструменту, график, таблица текущих торгов. А также скрипты получения данных и отправки транзакций."
   ]
  },
  {
   "cell_type": "markdown",
   "id": "0e5f5108",
   "metadata": {},
   "source": [
    "# Получение и обработка актуальных данных данных"
   ]
  },
  {
   "cell_type": "code",
   "execution_count": 1,
   "id": "a269f043",
   "metadata": {},
   "outputs": [],
   "source": [
    "# Загружаем необходимые библиотеки и классы (treeinterpreter можно\n",
    "# установить с помощью команды pip install treeinterpreter)\n",
    "import time\n",
    "import pickle\n",
    "import datetime as dt\n",
    "from pylab import mpl, plt # импорт библиотеки Matplotlib\n",
    "from sklearn.ensemble import RandomForestRegressor\n",
    "from sklearn.ensemble import RandomForestClassifier\n",
    "from sklearn.metrics import accuracy_score\n",
    "from sklearn.neural_network import MLPClassifier\n",
    "import numpy as np\n",
    "import pandas as pd"
   ]
  },
  {
   "cell_type": "code",
   "execution_count": 2,
   "id": "29b754a5",
   "metadata": {},
   "outputs": [],
   "source": [
    "plt.style.use('seaborn') # настройка стиля диаграмм\n",
    "mpl.rcParams['font.family'] = 'serif'\n",
    "%matplotlib inline"
   ]
  },
  {
   "cell_type": "code",
   "execution_count": 3,
   "id": "6249c065",
   "metadata": {},
   "outputs": [],
   "source": [
    "# загрузка данных из CSV-файла\n",
    "# Столбцы для использования в качестве меток строки файла DataFrame либо даны как string name или индекс столбца.\n",
    "# Если задана последовательность INT / STR, используется многоиндекс.\n",
    "# Примечание: index_col = false может использоваться для форсирования Pands не использовать первый столбец как индекс,\n",
    "# например, когда у вас есть неправильный файл с разделителями в конце каждой строки.\n",
    "# Функция читает файл, в котором данные о последней свече находятся в первой строке \n",
    "raw = pd.read_csv('c:\\SBERBANK\\QUIK_x64\\lua\\SiM2\\Data\\SiM2_Data.csv', index_col=0, parse_dates=False)"
   ]
  },
  {
   "cell_type": "code",
   "execution_count": 4,
   "id": "de01868f",
   "metadata": {},
   "outputs": [
    {
     "name": "stdout",
     "output_type": "stream",
     "text": [
      "<class 'pandas.core.frame.DataFrame'>\n",
      "Index: 3037 entries, 2022-5-13 to 2021-11-24\n",
      "Data columns (total 6 columns):\n",
      " #   Column  Non-Null Count  Dtype  \n",
      "---  ------  --------------  -----  \n",
      " 0   Time    3037 non-null   object \n",
      " 1   Open    3037 non-null   float64\n",
      " 2   High    3037 non-null   float64\n",
      " 3   Low     3037 non-null   float64\n",
      " 4   Close   3037 non-null   float64\n",
      " 5   Volume  3037 non-null   float64\n",
      "dtypes: float64(5), object(1)\n",
      "memory usage: 166.1+ KB\n"
     ]
    }
   ],
   "source": [
    "raw.info() # информация о файле"
   ]
  },
  {
   "cell_type": "code",
   "execution_count": 5,
   "id": "0cbe1d1e",
   "metadata": {},
   "outputs": [],
   "source": [
    "# reverse_raw = raw[::-1] # когда берём всю коллекцию целиком\n",
    "reverse_raw1 = raw[:200] # последние 200 свечей"
   ]
  },
  {
   "cell_type": "code",
   "execution_count": 6,
   "id": "577de817",
   "metadata": {},
   "outputs": [],
   "source": [
    "reverse_raw = reverse_raw1[::-1]"
   ]
  },
  {
   "cell_type": "code",
   "execution_count": 7,
   "id": "a91eb0ed",
   "metadata": {},
   "outputs": [
    {
     "data": {
      "text/html": [
       "<div>\n",
       "<style scoped>\n",
       "    .dataframe tbody tr th:only-of-type {\n",
       "        vertical-align: middle;\n",
       "    }\n",
       "\n",
       "    .dataframe tbody tr th {\n",
       "        vertical-align: top;\n",
       "    }\n",
       "\n",
       "    .dataframe thead th {\n",
       "        text-align: right;\n",
       "    }\n",
       "</style>\n",
       "<table border=\"1\" class=\"dataframe\">\n",
       "  <thead>\n",
       "    <tr style=\"text-align: right;\">\n",
       "      <th></th>\n",
       "      <th>Time</th>\n",
       "      <th>Open</th>\n",
       "      <th>High</th>\n",
       "      <th>Low</th>\n",
       "      <th>Close</th>\n",
       "      <th>Volume</th>\n",
       "    </tr>\n",
       "    <tr>\n",
       "      <th>Date</th>\n",
       "      <th></th>\n",
       "      <th></th>\n",
       "      <th></th>\n",
       "      <th></th>\n",
       "      <th></th>\n",
       "      <th></th>\n",
       "    </tr>\n",
       "  </thead>\n",
       "  <tbody>\n",
       "    <tr>\n",
       "      <th>2022-4-21</th>\n",
       "      <td>18:30</td>\n",
       "      <td>76426.0</td>\n",
       "      <td>76650.0</td>\n",
       "      <td>76250.0</td>\n",
       "      <td>76599.0</td>\n",
       "      <td>71185.0</td>\n",
       "    </tr>\n",
       "    <tr>\n",
       "      <th>2022-4-22</th>\n",
       "      <td>10:0</td>\n",
       "      <td>76687.0</td>\n",
       "      <td>77615.0</td>\n",
       "      <td>75255.0</td>\n",
       "      <td>75314.0</td>\n",
       "      <td>305433.0</td>\n",
       "    </tr>\n",
       "    <tr>\n",
       "      <th>2022-4-22</th>\n",
       "      <td>10:30</td>\n",
       "      <td>75314.0</td>\n",
       "      <td>75636.0</td>\n",
       "      <td>75080.0</td>\n",
       "      <td>75222.0</td>\n",
       "      <td>132233.0</td>\n",
       "    </tr>\n",
       "    <tr>\n",
       "      <th>2022-4-22</th>\n",
       "      <td>11:0</td>\n",
       "      <td>75222.0</td>\n",
       "      <td>75333.0</td>\n",
       "      <td>74713.0</td>\n",
       "      <td>74836.0</td>\n",
       "      <td>140083.0</td>\n",
       "    </tr>\n",
       "    <tr>\n",
       "      <th>2022-4-22</th>\n",
       "      <td>11:30</td>\n",
       "      <td>74838.0</td>\n",
       "      <td>75402.0</td>\n",
       "      <td>74836.0</td>\n",
       "      <td>74900.0</td>\n",
       "      <td>101749.0</td>\n",
       "    </tr>\n",
       "  </tbody>\n",
       "</table>\n",
       "</div>"
      ],
      "text/plain": [
       "            Time     Open     High      Low    Close    Volume\n",
       "Date                                                          \n",
       "2022-4-21  18:30  76426.0  76650.0  76250.0  76599.0   71185.0\n",
       "2022-4-22   10:0  76687.0  77615.0  75255.0  75314.0  305433.0\n",
       "2022-4-22  10:30  75314.0  75636.0  75080.0  75222.0  132233.0\n",
       "2022-4-22   11:0  75222.0  75333.0  74713.0  74836.0  140083.0\n",
       "2022-4-22  11:30  74838.0  75402.0  74836.0  74900.0  101749.0"
      ]
     },
     "execution_count": 7,
     "metadata": {},
     "output_type": "execute_result"
    }
   ],
   "source": [
    "reverse_raw.head()"
   ]
  },
  {
   "cell_type": "code",
   "execution_count": 8,
   "id": "bc3e697d",
   "metadata": {},
   "outputs": [
    {
     "data": {
      "text/html": [
       "<div>\n",
       "<style scoped>\n",
       "    .dataframe tbody tr th:only-of-type {\n",
       "        vertical-align: middle;\n",
       "    }\n",
       "\n",
       "    .dataframe tbody tr th {\n",
       "        vertical-align: top;\n",
       "    }\n",
       "\n",
       "    .dataframe thead th {\n",
       "        text-align: right;\n",
       "    }\n",
       "</style>\n",
       "<table border=\"1\" class=\"dataframe\">\n",
       "  <thead>\n",
       "    <tr style=\"text-align: right;\">\n",
       "      <th></th>\n",
       "      <th>Time</th>\n",
       "      <th>Open</th>\n",
       "      <th>High</th>\n",
       "      <th>Low</th>\n",
       "      <th>Close</th>\n",
       "      <th>Volume</th>\n",
       "    </tr>\n",
       "    <tr>\n",
       "      <th>Date</th>\n",
       "      <th></th>\n",
       "      <th></th>\n",
       "      <th></th>\n",
       "      <th></th>\n",
       "      <th></th>\n",
       "      <th></th>\n",
       "    </tr>\n",
       "  </thead>\n",
       "  <tbody>\n",
       "    <tr>\n",
       "      <th>2022-5-12</th>\n",
       "      <td>17:0</td>\n",
       "      <td>65407.0</td>\n",
       "      <td>65417.0</td>\n",
       "      <td>64450.0</td>\n",
       "      <td>64581.0</td>\n",
       "      <td>226940.0</td>\n",
       "    </tr>\n",
       "    <tr>\n",
       "      <th>2022-5-12</th>\n",
       "      <td>17:30</td>\n",
       "      <td>64573.0</td>\n",
       "      <td>64971.0</td>\n",
       "      <td>64510.0</td>\n",
       "      <td>64875.0</td>\n",
       "      <td>130333.0</td>\n",
       "    </tr>\n",
       "    <tr>\n",
       "      <th>2022-5-12</th>\n",
       "      <td>18:0</td>\n",
       "      <td>64879.0</td>\n",
       "      <td>65279.0</td>\n",
       "      <td>64552.0</td>\n",
       "      <td>64552.0</td>\n",
       "      <td>175768.0</td>\n",
       "    </tr>\n",
       "    <tr>\n",
       "      <th>2022-5-12</th>\n",
       "      <td>18:30</td>\n",
       "      <td>64557.0</td>\n",
       "      <td>64730.0</td>\n",
       "      <td>64163.0</td>\n",
       "      <td>64237.0</td>\n",
       "      <td>84100.0</td>\n",
       "    </tr>\n",
       "    <tr>\n",
       "      <th>2022-5-13</th>\n",
       "      <td>10:0</td>\n",
       "      <td>64458.0</td>\n",
       "      <td>64824.0</td>\n",
       "      <td>63613.0</td>\n",
       "      <td>64701.0</td>\n",
       "      <td>158852.0</td>\n",
       "    </tr>\n",
       "  </tbody>\n",
       "</table>\n",
       "</div>"
      ],
      "text/plain": [
       "            Time     Open     High      Low    Close    Volume\n",
       "Date                                                          \n",
       "2022-5-12   17:0  65407.0  65417.0  64450.0  64581.0  226940.0\n",
       "2022-5-12  17:30  64573.0  64971.0  64510.0  64875.0  130333.0\n",
       "2022-5-12   18:0  64879.0  65279.0  64552.0  64552.0  175768.0\n",
       "2022-5-12  18:30  64557.0  64730.0  64163.0  64237.0   84100.0\n",
       "2022-5-13   10:0  64458.0  64824.0  63613.0  64701.0  158852.0"
      ]
     },
     "execution_count": 8,
     "metadata": {},
     "output_type": "execute_result"
    }
   ],
   "source": [
    "reverse_raw.tail()"
   ]
  },
  {
   "cell_type": "code",
   "execution_count": 9,
   "id": "1b0e5f22",
   "metadata": {},
   "outputs": [
    {
     "name": "stdout",
     "output_type": "stream",
     "text": [
      "<class 'pandas.core.frame.DataFrame'>\n",
      "Index: 200 entries, 2022-4-21 to 2022-5-13\n",
      "Data columns (total 6 columns):\n",
      " #   Column  Non-Null Count  Dtype  \n",
      "---  ------  --------------  -----  \n",
      " 0   Time    200 non-null    object \n",
      " 1   Open    200 non-null    float64\n",
      " 2   High    200 non-null    float64\n",
      " 3   Low     200 non-null    float64\n",
      " 4   Close   200 non-null    float64\n",
      " 5   Volume  200 non-null    float64\n",
      "dtypes: float64(5), object(1)\n",
      "memory usage: 10.9+ KB\n"
     ]
    }
   ],
   "source": [
    "reverse_raw.info()"
   ]
  },
  {
   "cell_type": "code",
   "execution_count": 10,
   "id": "1b9f29d7",
   "metadata": {},
   "outputs": [],
   "source": [
    "symbol = 'Close' # т.к. нам нужны цены закрытия пятиминутных свечей берём данные из колонки Close"
   ]
  },
  {
   "cell_type": "code",
   "execution_count": 11,
   "id": "8370f038",
   "metadata": {},
   "outputs": [],
   "source": [
    "m5_close = reverse_raw[symbol] # сохраняем серию в переменную с наиболее подходящим и информативным названием"
   ]
  },
  {
   "cell_type": "code",
   "execution_count": 12,
   "id": "3e81afd1",
   "metadata": {},
   "outputs": [],
   "source": [
    "# формирование подмножества данных и исключение нечисловых значений (NaN))\n",
    "data = (pd.DataFrame(m5_close).dropna())"
   ]
  },
  {
   "cell_type": "code",
   "execution_count": 13,
   "id": "78d84d72",
   "metadata": {},
   "outputs": [],
   "source": [
    "# расчёт логарифмической доходности\n",
    "data['Доходность'] = np.log(data/data.shift(1))"
   ]
  },
  {
   "cell_type": "code",
   "execution_count": 14,
   "id": "b38f6129",
   "metadata": {},
   "outputs": [],
   "source": [
    "# всегда применяем после shift, т.к. после shift появляются нечисловые значения NaN\n",
    "data.dropna(inplace=True)"
   ]
  },
  {
   "cell_type": "code",
   "execution_count": 15,
   "id": "3c82c4b3",
   "metadata": {},
   "outputs": [],
   "source": [
    "# Функция sign() является указателем на знак числа. Если число со знаком минус, то возвращает -1, если с плюсом, то 1\n",
    "# Функция astype() преобразует в указанный тип данных, в данном случае int\n",
    "data['Направление'] = np.sign(data['Доходность']).astype(int)"
   ]
  },
  {
   "cell_type": "code",
   "execution_count": 16,
   "id": "fe3dad4b",
   "metadata": {},
   "outputs": [],
   "source": [
    "lags = 5 # поменяли количество 2 на 5"
   ]
  },
  {
   "cell_type": "code",
   "execution_count": 17,
   "id": "42b307cf",
   "metadata": {},
   "outputs": [],
   "source": [
    "def create_lags(data):\n",
    "    global cols\n",
    "    cols = []\n",
    "    for lag in range(1, lags + 1):\n",
    "        col = 'lag_{}'.format(lag)\n",
    "        data[col] = data['Доходность'].shift(lag) # обратить внимание на каком этапе появляются data[col]\n",
    "        cols.append(col)"
   ]
  },
  {
   "cell_type": "code",
   "execution_count": 18,
   "id": "e9a00a62",
   "metadata": {},
   "outputs": [],
   "source": [
    "create_lags(data)"
   ]
  },
  {
   "cell_type": "code",
   "execution_count": 19,
   "id": "3a228ce9",
   "metadata": {},
   "outputs": [],
   "source": [
    "data.dropna(inplace=True)"
   ]
  },
  {
   "cell_type": "code",
   "execution_count": 20,
   "id": "e8b935c5",
   "metadata": {},
   "outputs": [],
   "source": [
    "# дискретизация значений признаков с учётом параметра bins\n",
    "def create_bins(data, bins=[0]):\n",
    "    global cols_bin # объявляем глобальную переменную\n",
    "    cols_bin = []\n",
    "    for col in cols:\n",
    "        col_bin = col + '_bin' # преобразуем названия колонок\n",
    "        # Функция digitize Возвращает индексы бинов,к которым принадлежит каждое значение во входном массиве.\n",
    "        # Если значения в x выходят за пределы bins , соответственно возвращается 0 или len(bins). Т.е. отрицательные значения преобразуем в 0, а положительные в 1\n",
    "        data[col_bin] = np.digitize(data[col], bins=bins)\n",
    "        cols_bin.append (col_bin )"
   ]
  },
  {
   "cell_type": "code",
   "execution_count": 21,
   "id": "641de6cf",
   "metadata": {},
   "outputs": [
    {
     "data": {
      "text/plain": [
       "['lag_1_bin', 'lag_2_bin', 'lag_3_bin', 'lag_4_bin', 'lag_5_bin']"
      ]
     },
     "execution_count": 21,
     "metadata": {},
     "output_type": "execute_result"
    }
   ],
   "source": [
    "create_bins(data)\n",
    "cols_bin"
   ]
  },
  {
   "cell_type": "code",
   "execution_count": 22,
   "id": "56213273",
   "metadata": {},
   "outputs": [
    {
     "data": {
      "text/plain": [
       "lag_1_bin  lag_2_bin  lag_3_bin  lag_4_bin  lag_5_bin  Направление\n",
       "0          0          0          0          0          -1             2\n",
       "                                                        1             4\n",
       "                                            1          -1             4\n",
       "                                                        1             2\n",
       "                                 1          0          -1             5\n",
       "                                                                     ..\n",
       "1          1          1          0          1           1             1\n",
       "                                 1          0          -1             3\n",
       "                                                        1             2\n",
       "                                            1          -1             2\n",
       "                                                        1             7\n",
       "Length: 62, dtype: int64"
      ]
     },
     "execution_count": 22,
     "metadata": {},
     "output_type": "execute_result"
    }
   ],
   "source": [
    "grouped = data.groupby(cols_bin + ['Направление'])\n",
    "grouped.size() # Отображение частоты возможных движений в зависимости от комбинаций значений признаков"
   ]
  },
  {
   "cell_type": "code",
   "execution_count": 23,
   "id": "8045ae6d",
   "metadata": {},
   "outputs": [],
   "source": [
    "# Преобразование объекта DataFrame, чтобы частоты хранились по столбцам.\n",
    "res = grouped['Направление'].size().unstack(fill_value=0)"
   ]
  },
  {
   "cell_type": "code",
   "execution_count": 24,
   "id": "8bc84c6b",
   "metadata": {},
   "outputs": [],
   "source": [
    "# Определение наиболее часто встречающегося значения для каждой комбинации значений признаков.\n",
    "def highlight_max(s):\n",
    "    is_max = s == s.max()\n",
    "    return ['background-color: yellow' if v else '' for v in is_max]"
   ]
  },
  {
   "cell_type": "code",
   "execution_count": 25,
   "id": "d3fbed0c",
   "metadata": {},
   "outputs": [
    {
     "data": {
      "text/html": [
       "<style  type=\"text/css\" >\n",
       "#T_19a57_row0_col1,#T_19a57_row1_col0,#T_19a57_row2_col0,#T_19a57_row2_col1,#T_19a57_row3_col1,#T_19a57_row4_col0,#T_19a57_row5_col1,#T_19a57_row6_col1,#T_19a57_row7_col0,#T_19a57_row8_col0,#T_19a57_row9_col0,#T_19a57_row10_col0,#T_19a57_row11_col0,#T_19a57_row11_col1,#T_19a57_row12_col0,#T_19a57_row13_col0,#T_19a57_row14_col0,#T_19a57_row14_col1,#T_19a57_row15_col0,#T_19a57_row16_col0,#T_19a57_row17_col0,#T_19a57_row18_col0,#T_19a57_row19_col0,#T_19a57_row20_col0,#T_19a57_row21_col1,#T_19a57_row22_col0,#T_19a57_row23_col0,#T_19a57_row23_col1,#T_19a57_row24_col0,#T_19a57_row25_col1,#T_19a57_row26_col1,#T_19a57_row27_col0,#T_19a57_row28_col1,#T_19a57_row29_col0,#T_19a57_row30_col0,#T_19a57_row31_col1{\n",
       "            background-color:  yellow;\n",
       "        }</style><table id=\"T_19a57_\" ><thead>    <tr>        <th class=\"blank\" ></th>        <th class=\"blank\" ></th>        <th class=\"blank\" ></th>        <th class=\"blank\" ></th>        <th class=\"index_name level0\" >Направление</th>        <th class=\"col_heading level0 col0\" >-1</th>        <th class=\"col_heading level0 col1\" >1</th>    </tr>    <tr>        <th class=\"index_name level0\" >lag_1_bin</th>        <th class=\"index_name level1\" >lag_2_bin</th>        <th class=\"index_name level2\" >lag_3_bin</th>        <th class=\"index_name level3\" >lag_4_bin</th>        <th class=\"index_name level4\" >lag_5_bin</th>        <th class=\"blank\" ></th>        <th class=\"blank\" ></th>    </tr></thead><tbody>\n",
       "                <tr>\n",
       "                        <th id=\"T_19a57_level0_row0\" class=\"row_heading level0 row0\" rowspan=\"16\">0</th>\n",
       "                        <th id=\"T_19a57_level1_row0\" class=\"row_heading level1 row0\" rowspan=\"8\">0</th>\n",
       "                        <th id=\"T_19a57_level2_row0\" class=\"row_heading level2 row0\" rowspan=\"4\">0</th>\n",
       "                        <th id=\"T_19a57_level3_row0\" class=\"row_heading level3 row0\" rowspan=\"2\">0</th>\n",
       "                        <th id=\"T_19a57_level4_row0\" class=\"row_heading level4 row0\" >0</th>\n",
       "                        <td id=\"T_19a57_row0_col0\" class=\"data row0 col0\" >2</td>\n",
       "                        <td id=\"T_19a57_row0_col1\" class=\"data row0 col1\" >4</td>\n",
       "            </tr>\n",
       "            <tr>\n",
       "                                                        <th id=\"T_19a57_level4_row1\" class=\"row_heading level4 row1\" >1</th>\n",
       "                        <td id=\"T_19a57_row1_col0\" class=\"data row1 col0\" >4</td>\n",
       "                        <td id=\"T_19a57_row1_col1\" class=\"data row1 col1\" >2</td>\n",
       "            </tr>\n",
       "            <tr>\n",
       "                                                <th id=\"T_19a57_level3_row2\" class=\"row_heading level3 row2\" rowspan=\"2\">1</th>\n",
       "                        <th id=\"T_19a57_level4_row2\" class=\"row_heading level4 row2\" >0</th>\n",
       "                        <td id=\"T_19a57_row2_col0\" class=\"data row2 col0\" >5</td>\n",
       "                        <td id=\"T_19a57_row2_col1\" class=\"data row2 col1\" >5</td>\n",
       "            </tr>\n",
       "            <tr>\n",
       "                                                        <th id=\"T_19a57_level4_row3\" class=\"row_heading level4 row3\" >1</th>\n",
       "                        <td id=\"T_19a57_row3_col0\" class=\"data row3 col0\" >1</td>\n",
       "                        <td id=\"T_19a57_row3_col1\" class=\"data row3 col1\" >3</td>\n",
       "            </tr>\n",
       "            <tr>\n",
       "                                        <th id=\"T_19a57_level2_row4\" class=\"row_heading level2 row4\" rowspan=\"4\">1</th>\n",
       "                        <th id=\"T_19a57_level3_row4\" class=\"row_heading level3 row4\" rowspan=\"2\">0</th>\n",
       "                        <th id=\"T_19a57_level4_row4\" class=\"row_heading level4 row4\" >0</th>\n",
       "                        <td id=\"T_19a57_row4_col0\" class=\"data row4 col0\" >7</td>\n",
       "                        <td id=\"T_19a57_row4_col1\" class=\"data row4 col1\" >6</td>\n",
       "            </tr>\n",
       "            <tr>\n",
       "                                                        <th id=\"T_19a57_level4_row5\" class=\"row_heading level4 row5\" >1</th>\n",
       "                        <td id=\"T_19a57_row5_col0\" class=\"data row5 col0\" >3</td>\n",
       "                        <td id=\"T_19a57_row5_col1\" class=\"data row5 col1\" >4</td>\n",
       "            </tr>\n",
       "            <tr>\n",
       "                                                <th id=\"T_19a57_level3_row6\" class=\"row_heading level3 row6\" rowspan=\"2\">1</th>\n",
       "                        <th id=\"T_19a57_level4_row6\" class=\"row_heading level4 row6\" >0</th>\n",
       "                        <td id=\"T_19a57_row6_col0\" class=\"data row6 col0\" >1</td>\n",
       "                        <td id=\"T_19a57_row6_col1\" class=\"data row6 col1\" >5</td>\n",
       "            </tr>\n",
       "            <tr>\n",
       "                                                        <th id=\"T_19a57_level4_row7\" class=\"row_heading level4 row7\" >1</th>\n",
       "                        <td id=\"T_19a57_row7_col0\" class=\"data row7 col0\" >3</td>\n",
       "                        <td id=\"T_19a57_row7_col1\" class=\"data row7 col1\" >2</td>\n",
       "            </tr>\n",
       "            <tr>\n",
       "                                <th id=\"T_19a57_level1_row8\" class=\"row_heading level1 row8\" rowspan=\"8\">1</th>\n",
       "                        <th id=\"T_19a57_level2_row8\" class=\"row_heading level2 row8\" rowspan=\"4\">0</th>\n",
       "                        <th id=\"T_19a57_level3_row8\" class=\"row_heading level3 row8\" rowspan=\"2\">0</th>\n",
       "                        <th id=\"T_19a57_level4_row8\" class=\"row_heading level4 row8\" >0</th>\n",
       "                        <td id=\"T_19a57_row8_col0\" class=\"data row8 col0\" >6</td>\n",
       "                        <td id=\"T_19a57_row8_col1\" class=\"data row8 col1\" >5</td>\n",
       "            </tr>\n",
       "            <tr>\n",
       "                                                        <th id=\"T_19a57_level4_row9\" class=\"row_heading level4 row9\" >1</th>\n",
       "                        <td id=\"T_19a57_row9_col0\" class=\"data row9 col0\" >7</td>\n",
       "                        <td id=\"T_19a57_row9_col1\" class=\"data row9 col1\" >3</td>\n",
       "            </tr>\n",
       "            <tr>\n",
       "                                                <th id=\"T_19a57_level3_row10\" class=\"row_heading level3 row10\" rowspan=\"2\">1</th>\n",
       "                        <th id=\"T_19a57_level4_row10\" class=\"row_heading level4 row10\" >0</th>\n",
       "                        <td id=\"T_19a57_row10_col0\" class=\"data row10 col0\" >5</td>\n",
       "                        <td id=\"T_19a57_row10_col1\" class=\"data row10 col1\" >2</td>\n",
       "            </tr>\n",
       "            <tr>\n",
       "                                                        <th id=\"T_19a57_level4_row11\" class=\"row_heading level4 row11\" >1</th>\n",
       "                        <td id=\"T_19a57_row11_col0\" class=\"data row11 col0\" >2</td>\n",
       "                        <td id=\"T_19a57_row11_col1\" class=\"data row11 col1\" >2</td>\n",
       "            </tr>\n",
       "            <tr>\n",
       "                                        <th id=\"T_19a57_level2_row12\" class=\"row_heading level2 row12\" rowspan=\"4\">1</th>\n",
       "                        <th id=\"T_19a57_level3_row12\" class=\"row_heading level3 row12\" rowspan=\"2\">0</th>\n",
       "                        <th id=\"T_19a57_level4_row12\" class=\"row_heading level4 row12\" >0</th>\n",
       "                        <td id=\"T_19a57_row12_col0\" class=\"data row12 col0\" >3</td>\n",
       "                        <td id=\"T_19a57_row12_col1\" class=\"data row12 col1\" >1</td>\n",
       "            </tr>\n",
       "            <tr>\n",
       "                                                        <th id=\"T_19a57_level4_row13\" class=\"row_heading level4 row13\" >1</th>\n",
       "                        <td id=\"T_19a57_row13_col0\" class=\"data row13 col0\" >3</td>\n",
       "                        <td id=\"T_19a57_row13_col1\" class=\"data row13 col1\" >1</td>\n",
       "            </tr>\n",
       "            <tr>\n",
       "                                                <th id=\"T_19a57_level3_row14\" class=\"row_heading level3 row14\" rowspan=\"2\">1</th>\n",
       "                        <th id=\"T_19a57_level4_row14\" class=\"row_heading level4 row14\" >0</th>\n",
       "                        <td id=\"T_19a57_row14_col0\" class=\"data row14 col0\" >2</td>\n",
       "                        <td id=\"T_19a57_row14_col1\" class=\"data row14 col1\" >2</td>\n",
       "            </tr>\n",
       "            <tr>\n",
       "                                                        <th id=\"T_19a57_level4_row15\" class=\"row_heading level4 row15\" >1</th>\n",
       "                        <td id=\"T_19a57_row15_col0\" class=\"data row15 col0\" >3</td>\n",
       "                        <td id=\"T_19a57_row15_col1\" class=\"data row15 col1\" >2</td>\n",
       "            </tr>\n",
       "            <tr>\n",
       "                        <th id=\"T_19a57_level0_row16\" class=\"row_heading level0 row16\" rowspan=\"16\">1</th>\n",
       "                        <th id=\"T_19a57_level1_row16\" class=\"row_heading level1 row16\" rowspan=\"8\">0</th>\n",
       "                        <th id=\"T_19a57_level2_row16\" class=\"row_heading level2 row16\" rowspan=\"4\">0</th>\n",
       "                        <th id=\"T_19a57_level3_row16\" class=\"row_heading level3 row16\" rowspan=\"2\">0</th>\n",
       "                        <th id=\"T_19a57_level4_row16\" class=\"row_heading level4 row16\" >0</th>\n",
       "                        <td id=\"T_19a57_row16_col0\" class=\"data row16 col0\" >4</td>\n",
       "                        <td id=\"T_19a57_row16_col1\" class=\"data row16 col1\" >2</td>\n",
       "            </tr>\n",
       "            <tr>\n",
       "                                                        <th id=\"T_19a57_level4_row17\" class=\"row_heading level4 row17\" >1</th>\n",
       "                        <td id=\"T_19a57_row17_col0\" class=\"data row17 col0\" >6</td>\n",
       "                        <td id=\"T_19a57_row17_col1\" class=\"data row17 col1\" >2</td>\n",
       "            </tr>\n",
       "            <tr>\n",
       "                                                <th id=\"T_19a57_level3_row18\" class=\"row_heading level3 row18\" rowspan=\"2\">1</th>\n",
       "                        <th id=\"T_19a57_level4_row18\" class=\"row_heading level4 row18\" >0</th>\n",
       "                        <td id=\"T_19a57_row18_col0\" class=\"data row18 col0\" >6</td>\n",
       "                        <td id=\"T_19a57_row18_col1\" class=\"data row18 col1\" >3</td>\n",
       "            </tr>\n",
       "            <tr>\n",
       "                                                        <th id=\"T_19a57_level4_row19\" class=\"row_heading level4 row19\" >1</th>\n",
       "                        <td id=\"T_19a57_row19_col0\" class=\"data row19 col0\" >4</td>\n",
       "                        <td id=\"T_19a57_row19_col1\" class=\"data row19 col1\" >3</td>\n",
       "            </tr>\n",
       "            <tr>\n",
       "                                        <th id=\"T_19a57_level2_row20\" class=\"row_heading level2 row20\" rowspan=\"4\">1</th>\n",
       "                        <th id=\"T_19a57_level3_row20\" class=\"row_heading level3 row20\" rowspan=\"2\">0</th>\n",
       "                        <th id=\"T_19a57_level4_row20\" class=\"row_heading level4 row20\" >0</th>\n",
       "                        <td id=\"T_19a57_row20_col0\" class=\"data row20 col0\" >6</td>\n",
       "                        <td id=\"T_19a57_row20_col1\" class=\"data row20 col1\" >2</td>\n",
       "            </tr>\n",
       "            <tr>\n",
       "                                                        <th id=\"T_19a57_level4_row21\" class=\"row_heading level4 row21\" >1</th>\n",
       "                        <td id=\"T_19a57_row21_col0\" class=\"data row21 col0\" >1</td>\n",
       "                        <td id=\"T_19a57_row21_col1\" class=\"data row21 col1\" >3</td>\n",
       "            </tr>\n",
       "            <tr>\n",
       "                                                <th id=\"T_19a57_level3_row22\" class=\"row_heading level3 row22\" rowspan=\"2\">1</th>\n",
       "                        <th id=\"T_19a57_level4_row22\" class=\"row_heading level4 row22\" >0</th>\n",
       "                        <td id=\"T_19a57_row22_col0\" class=\"data row22 col0\" >2</td>\n",
       "                        <td id=\"T_19a57_row22_col1\" class=\"data row22 col1\" >0</td>\n",
       "            </tr>\n",
       "            <tr>\n",
       "                                                        <th id=\"T_19a57_level4_row23\" class=\"row_heading level4 row23\" >1</th>\n",
       "                        <td id=\"T_19a57_row23_col0\" class=\"data row23 col0\" >2</td>\n",
       "                        <td id=\"T_19a57_row23_col1\" class=\"data row23 col1\" >2</td>\n",
       "            </tr>\n",
       "            <tr>\n",
       "                                <th id=\"T_19a57_level1_row24\" class=\"row_heading level1 row24\" rowspan=\"8\">1</th>\n",
       "                        <th id=\"T_19a57_level2_row24\" class=\"row_heading level2 row24\" rowspan=\"4\">0</th>\n",
       "                        <th id=\"T_19a57_level3_row24\" class=\"row_heading level3 row24\" rowspan=\"2\">0</th>\n",
       "                        <th id=\"T_19a57_level4_row24\" class=\"row_heading level4 row24\" >0</th>\n",
       "                        <td id=\"T_19a57_row24_col0\" class=\"data row24 col0\" >3</td>\n",
       "                        <td id=\"T_19a57_row24_col1\" class=\"data row24 col1\" >1</td>\n",
       "            </tr>\n",
       "            <tr>\n",
       "                                                        <th id=\"T_19a57_level4_row25\" class=\"row_heading level4 row25\" >1</th>\n",
       "                        <td id=\"T_19a57_row25_col0\" class=\"data row25 col0\" >1</td>\n",
       "                        <td id=\"T_19a57_row25_col1\" class=\"data row25 col1\" >5</td>\n",
       "            </tr>\n",
       "            <tr>\n",
       "                                                <th id=\"T_19a57_level3_row26\" class=\"row_heading level3 row26\" rowspan=\"2\">1</th>\n",
       "                        <th id=\"T_19a57_level4_row26\" class=\"row_heading level4 row26\" >0</th>\n",
       "                        <td id=\"T_19a57_row26_col0\" class=\"data row26 col0\" >2</td>\n",
       "                        <td id=\"T_19a57_row26_col1\" class=\"data row26 col1\" >3</td>\n",
       "            </tr>\n",
       "            <tr>\n",
       "                                                        <th id=\"T_19a57_level4_row27\" class=\"row_heading level4 row27\" >1</th>\n",
       "                        <td id=\"T_19a57_row27_col0\" class=\"data row27 col0\" >2</td>\n",
       "                        <td id=\"T_19a57_row27_col1\" class=\"data row27 col1\" >0</td>\n",
       "            </tr>\n",
       "            <tr>\n",
       "                                        <th id=\"T_19a57_level2_row28\" class=\"row_heading level2 row28\" rowspan=\"4\">1</th>\n",
       "                        <th id=\"T_19a57_level3_row28\" class=\"row_heading level3 row28\" rowspan=\"2\">0</th>\n",
       "                        <th id=\"T_19a57_level4_row28\" class=\"row_heading level4 row28\" >0</th>\n",
       "                        <td id=\"T_19a57_row28_col0\" class=\"data row28 col0\" >2</td>\n",
       "                        <td id=\"T_19a57_row28_col1\" class=\"data row28 col1\" >4</td>\n",
       "            </tr>\n",
       "            <tr>\n",
       "                                                        <th id=\"T_19a57_level4_row29\" class=\"row_heading level4 row29\" >1</th>\n",
       "                        <td id=\"T_19a57_row29_col0\" class=\"data row29 col0\" >2</td>\n",
       "                        <td id=\"T_19a57_row29_col1\" class=\"data row29 col1\" >1</td>\n",
       "            </tr>\n",
       "            <tr>\n",
       "                                                <th id=\"T_19a57_level3_row30\" class=\"row_heading level3 row30\" rowspan=\"2\">1</th>\n",
       "                        <th id=\"T_19a57_level4_row30\" class=\"row_heading level4 row30\" >0</th>\n",
       "                        <td id=\"T_19a57_row30_col0\" class=\"data row30 col0\" >3</td>\n",
       "                        <td id=\"T_19a57_row30_col1\" class=\"data row30 col1\" >2</td>\n",
       "            </tr>\n",
       "            <tr>\n",
       "                                                        <th id=\"T_19a57_level4_row31\" class=\"row_heading level4 row31\" >1</th>\n",
       "                        <td id=\"T_19a57_row31_col0\" class=\"data row31 col0\" >2</td>\n",
       "                        <td id=\"T_19a57_row31_col1\" class=\"data row31 col1\" >7</td>\n",
       "            </tr>\n",
       "    </tbody></table>"
      ],
      "text/plain": [
       "<pandas.io.formats.style.Styler at 0x187dd1cd370>"
      ]
     },
     "execution_count": 25,
     "metadata": {},
     "output_type": "execute_result"
    }
   ],
   "source": [
    "# Определение наиболее часто встречающегося значения для каждой комбинации значений признаков.\n",
    "res.style.apply(highlight_max, axis=1)"
   ]
  },
  {
   "cell_type": "code",
   "execution_count": 26,
   "id": "b7e48506",
   "metadata": {},
   "outputs": [],
   "source": [
    "# Преобразование полученного частотного распределения в торговую стратегию\n",
    "# Функция where() возвращает элементы, которые могут выбираться из двух массивов в зависимости от условия\n",
    "data['pos_freq'] = np.where(data[cols_bin].sum(axis=1) == 2, -1, 1)"
   ]
  },
  {
   "cell_type": "code",
   "execution_count": 27,
   "id": "74602342",
   "metadata": {},
   "outputs": [
    {
     "data": {
      "text/plain": [
       "True     104\n",
       "False     90\n",
       "dtype: int64"
      ]
     },
     "execution_count": 27,
     "metadata": {},
     "output_type": "execute_result"
    }
   ],
   "source": [
    "(data['Направление'] == data['pos_freq']).value_counts()"
   ]
  },
  {
   "cell_type": "code",
   "execution_count": 28,
   "id": "b0a5b997",
   "metadata": {},
   "outputs": [],
   "source": [
    "data['strat_freq'] = data['pos_freq'] * data['Доходность']"
   ]
  },
  {
   "cell_type": "markdown",
   "id": "dde70e0a",
   "metadata": {},
   "source": [
    "# Обработка данных с помощью алгоритма MLPClassifier"
   ]
  },
  {
   "cell_type": "code",
   "execution_count": 29,
   "id": "3e9b42da",
   "metadata": {},
   "outputs": [],
   "source": [
    "model = MLPClassifier(solver='lbfgs', alpha=1e-5, hidden_layer_sizes=2 * [250], random_state=1)"
   ]
  },
  {
   "cell_type": "code",
   "execution_count": 30,
   "id": "7a252b9c",
   "metadata": {},
   "outputs": [
    {
     "name": "stdout",
     "output_type": "stream",
     "text": [
      "Wall time: 5.87 s\n"
     ]
    },
    {
     "data": {
      "text/plain": [
       "MLPClassifier(alpha=1e-05, hidden_layer_sizes=[250, 250], random_state=1,\n",
       "              solver='lbfgs')"
      ]
     },
     "execution_count": 30,
     "metadata": {},
     "output_type": "execute_result"
    }
   ],
   "source": [
    "%time model.fit(data[cols_bin], data['Направление']) "
   ]
  },
  {
   "cell_type": "code",
   "execution_count": 31,
   "id": "3da86c6f",
   "metadata": {},
   "outputs": [],
   "source": [
    "# прогнозируем ту колонку, которая нам нужна\n",
    "data['pos_dnn_sk'] = model.predict(data[cols_bin])"
   ]
  },
  {
   "cell_type": "code",
   "execution_count": 32,
   "id": "0a56a5fc",
   "metadata": {},
   "outputs": [
    {
     "data": {
      "text/plain": [
       "Date\n",
       "2022-4-22   -1\n",
       "2022-4-22   -1\n",
       "2022-4-22   -1\n",
       "2022-4-22   -1\n",
       "2022-4-22   -1\n",
       "2022-4-22   -1\n",
       "2022-4-22    1\n",
       "2022-4-22    1\n",
       "2022-4-22   -1\n",
       "2022-4-22    1\n",
       "Name: pos_dnn_sk, dtype: int32"
      ]
     },
     "execution_count": 32,
     "metadata": {},
     "output_type": "execute_result"
    }
   ],
   "source": [
    "data['pos_dnn_sk'].head(10)"
   ]
  },
  {
   "cell_type": "code",
   "execution_count": 33,
   "id": "39675083",
   "metadata": {},
   "outputs": [],
   "source": [
    "data['strat_dnn_sk'] = data['pos_dnn_sk'] * data['Доходность']"
   ]
  },
  {
   "cell_type": "code",
   "execution_count": 34,
   "id": "26e44642",
   "metadata": {},
   "outputs": [
    {
     "data": {
      "text/plain": [
       "Доходность      0.866145\n",
       "strat_dnn_sk    1.237102\n",
       "dtype: float64"
      ]
     },
     "execution_count": 34,
     "metadata": {},
     "output_type": "execute_result"
    }
   ],
   "source": [
    "data[['Доходность', 'strat_dnn_sk']].sum().apply(np.exp) "
   ]
  },
  {
   "cell_type": "code",
   "execution_count": 35,
   "id": "55658d6f",
   "metadata": {},
   "outputs": [
    {
     "data": {
      "image/png": "[encoded data removed]",
      "text/plain": [
       "<Figure size 720x432 with 1 Axes>"
      ]
     },
     "metadata": {
      "needs_background": "light"
     },
     "output_type": "display_data"
    }
   ],
   "source": [
    "data[['Доходность', 'strat_dnn_sk']].cumsum().apply(np.exp).plot(figsize=(10, 6));"
   ]
  },
  {
   "cell_type": "code",
   "execution_count": 36,
   "id": "6c9458f0",
   "metadata": {},
   "outputs": [],
   "source": [
    "pickle.dump(model, open('algorithm_MLPClassifier.pkl', 'wb')) # сохраняем модель в файл, который будет храниться в той же папке"
   ]
  },
  {
   "cell_type": "markdown",
   "id": "d2e47249",
   "metadata": {},
   "source": [
    "# Загрузка сохранённого объекта модели"
   ]
  },
  {
   "cell_type": "code",
   "execution_count": 37,
   "id": "5c040a39",
   "metadata": {},
   "outputs": [],
   "source": [
    "algorithm = pickle.load(open('algorithm_MLPClassifier.pkl', 'rb')) # загружаем модель из сохранённого файла"
   ]
  },
  {
   "cell_type": "markdown",
   "id": "8d076d72",
   "metadata": {},
   "source": [
    "# Запуск алгоритма в режиме реального времени с периодическим обновлением данных"
   ]
  },
  {
   "cell_type": "code",
   "execution_count": 38,
   "id": "8759fadf",
   "metadata": {},
   "outputs": [
    {
     "ename": "KeyboardInterrupt",
     "evalue": "",
     "output_type": "error",
     "traceback": [
      "\u001b[1;31m---------------------------------------------------------------------------\u001b[0m",
      "\u001b[1;31mKeyboardInterrupt\u001b[0m                         Traceback (most recent call last)",
      "\u001b[1;32m<ipython-input-38-101e3ddd9469>\u001b[0m in \u001b[0;36m<module>\u001b[1;34m\u001b[0m\n\u001b[0;32m     10\u001b[0m         \u001b[1;31m# например, когда у вас есть неправильный файл с разделителями в конце каждой строки.\u001b[0m\u001b[1;33m\u001b[0m\u001b[1;33m\u001b[0m\u001b[1;33m\u001b[0m\u001b[0m\n\u001b[0;32m     11\u001b[0m         \u001b[1;31m# Функция читает файл, в котором данные о последней свече находятся в первой строке\u001b[0m\u001b[1;33m\u001b[0m\u001b[1;33m\u001b[0m\u001b[1;33m\u001b[0m\u001b[0m\n\u001b[1;32m---> 12\u001b[1;33m         \u001b[0mraw\u001b[0m \u001b[1;33m=\u001b[0m \u001b[0mpd\u001b[0m\u001b[1;33m.\u001b[0m\u001b[0mread_csv\u001b[0m\u001b[1;33m(\u001b[0m\u001b[1;34m'c:\\SBERBANK\\QUIK_x64\\lua\\SiM2\\Data\\SiM2_Data.csv'\u001b[0m\u001b[1;33m,\u001b[0m \u001b[0mindex_col\u001b[0m\u001b[1;33m=\u001b[0m\u001b[1;36m0\u001b[0m\u001b[1;33m,\u001b[0m \u001b[0mparse_dates\u001b[0m\u001b[1;33m=\u001b[0m\u001b[1;32mFalse\u001b[0m\u001b[1;33m)\u001b[0m\u001b[1;33m\u001b[0m\u001b[1;33m\u001b[0m\u001b[0m\n\u001b[0m\u001b[0;32m     13\u001b[0m         \u001b[0mreverse_raw1\u001b[0m \u001b[1;33m=\u001b[0m \u001b[0mraw\u001b[0m\u001b[1;33m[\u001b[0m\u001b[1;33m:\u001b[0m\u001b[1;36m200\u001b[0m\u001b[1;33m]\u001b[0m \u001b[1;31m# реверс набора данных\u001b[0m\u001b[1;33m\u001b[0m\u001b[1;33m\u001b[0m\u001b[0m\n\u001b[0;32m     14\u001b[0m         \u001b[0mreverse_raw\u001b[0m \u001b[1;33m=\u001b[0m \u001b[0mreverse_raw1\u001b[0m\u001b[1;33m[\u001b[0m\u001b[1;33m:\u001b[0m\u001b[1;33m:\u001b[0m\u001b[1;33m-\u001b[0m\u001b[1;36m1\u001b[0m\u001b[1;33m]\u001b[0m\u001b[1;33m\u001b[0m\u001b[1;33m\u001b[0m\u001b[0m\n",
      "\u001b[1;32mC:\\ProgramData\\Anaconda3\\lib\\site-packages\\pandas\\io\\parsers.py\u001b[0m in \u001b[0;36mread_csv\u001b[1;34m(filepath_or_buffer, sep, delimiter, header, names, index_col, usecols, squeeze, prefix, mangle_dupe_cols, dtype, engine, converters, true_values, false_values, skipinitialspace, skiprows, skipfooter, nrows, na_values, keep_default_na, na_filter, verbose, skip_blank_lines, parse_dates, infer_datetime_format, keep_date_col, date_parser, dayfirst, cache_dates, iterator, chunksize, compression, thousands, decimal, lineterminator, quotechar, quoting, doublequote, escapechar, comment, encoding, dialect, error_bad_lines, warn_bad_lines, delim_whitespace, low_memory, memory_map, float_precision, storage_options)\u001b[0m\n\u001b[0;32m    608\u001b[0m     \u001b[0mkwds\u001b[0m\u001b[1;33m.\u001b[0m\u001b[0mupdate\u001b[0m\u001b[1;33m(\u001b[0m\u001b[0mkwds_defaults\u001b[0m\u001b[1;33m)\u001b[0m\u001b[1;33m\u001b[0m\u001b[1;33m\u001b[0m\u001b[0m\n\u001b[0;32m    609\u001b[0m \u001b[1;33m\u001b[0m\u001b[0m\n\u001b[1;32m--> 610\u001b[1;33m     \u001b[1;32mreturn\u001b[0m \u001b[0m_read\u001b[0m\u001b[1;33m(\u001b[0m\u001b[0mfilepath_or_buffer\u001b[0m\u001b[1;33m,\u001b[0m \u001b[0mkwds\u001b[0m\u001b[1;33m)\u001b[0m\u001b[1;33m\u001b[0m\u001b[1;33m\u001b[0m\u001b[0m\n\u001b[0m\u001b[0;32m    611\u001b[0m \u001b[1;33m\u001b[0m\u001b[0m\n\u001b[0;32m    612\u001b[0m \u001b[1;33m\u001b[0m\u001b[0m\n",
      "\u001b[1;32mC:\\ProgramData\\Anaconda3\\lib\\site-packages\\pandas\\io\\parsers.py\u001b[0m in \u001b[0;36m_read\u001b[1;34m(filepath_or_buffer, kwds)\u001b[0m\n\u001b[0;32m    466\u001b[0m \u001b[1;33m\u001b[0m\u001b[0m\n\u001b[0;32m    467\u001b[0m     \u001b[1;32mwith\u001b[0m \u001b[0mparser\u001b[0m\u001b[1;33m:\u001b[0m\u001b[1;33m\u001b[0m\u001b[1;33m\u001b[0m\u001b[0m\n\u001b[1;32m--> 468\u001b[1;33m         \u001b[1;32mreturn\u001b[0m \u001b[0mparser\u001b[0m\u001b[1;33m.\u001b[0m\u001b[0mread\u001b[0m\u001b[1;33m(\u001b[0m\u001b[0mnrows\u001b[0m\u001b[1;33m)\u001b[0m\u001b[1;33m\u001b[0m\u001b[1;33m\u001b[0m\u001b[0m\n\u001b[0m\u001b[0;32m    469\u001b[0m \u001b[1;33m\u001b[0m\u001b[0m\n\u001b[0;32m    470\u001b[0m \u001b[1;33m\u001b[0m\u001b[0m\n",
      "\u001b[1;32mC:\\ProgramData\\Anaconda3\\lib\\site-packages\\pandas\\io\\parsers.py\u001b[0m in \u001b[0;36mread\u001b[1;34m(self, nrows)\u001b[0m\n\u001b[0;32m   1055\u001b[0m     \u001b[1;32mdef\u001b[0m \u001b[0mread\u001b[0m\u001b[1;33m(\u001b[0m\u001b[0mself\u001b[0m\u001b[1;33m,\u001b[0m \u001b[0mnrows\u001b[0m\u001b[1;33m=\u001b[0m\u001b[1;32mNone\u001b[0m\u001b[1;33m)\u001b[0m\u001b[1;33m:\u001b[0m\u001b[1;33m\u001b[0m\u001b[1;33m\u001b[0m\u001b[0m\n\u001b[0;32m   1056\u001b[0m         \u001b[0mnrows\u001b[0m \u001b[1;33m=\u001b[0m \u001b[0mvalidate_integer\u001b[0m\u001b[1;33m(\u001b[0m\u001b[1;34m\"nrows\"\u001b[0m\u001b[1;33m,\u001b[0m \u001b[0mnrows\u001b[0m\u001b[1;33m)\u001b[0m\u001b[1;33m\u001b[0m\u001b[1;33m\u001b[0m\u001b[0m\n\u001b[1;32m-> 1057\u001b[1;33m         \u001b[0mindex\u001b[0m\u001b[1;33m,\u001b[0m \u001b[0mcolumns\u001b[0m\u001b[1;33m,\u001b[0m \u001b[0mcol_dict\u001b[0m \u001b[1;33m=\u001b[0m \u001b[0mself\u001b[0m\u001b[1;33m.\u001b[0m\u001b[0m_engine\u001b[0m\u001b[1;33m.\u001b[0m\u001b[0mread\u001b[0m\u001b[1;33m(\u001b[0m\u001b[0mnrows\u001b[0m\u001b[1;33m)\u001b[0m\u001b[1;33m\u001b[0m\u001b[1;33m\u001b[0m\u001b[0m\n\u001b[0m\u001b[0;32m   1058\u001b[0m \u001b[1;33m\u001b[0m\u001b[0m\n\u001b[0;32m   1059\u001b[0m         \u001b[1;32mif\u001b[0m \u001b[0mindex\u001b[0m \u001b[1;32mis\u001b[0m \u001b[1;32mNone\u001b[0m\u001b[1;33m:\u001b[0m\u001b[1;33m\u001b[0m\u001b[1;33m\u001b[0m\u001b[0m\n",
      "\u001b[1;32mC:\\ProgramData\\Anaconda3\\lib\\site-packages\\pandas\\io\\parsers.py\u001b[0m in \u001b[0;36mread\u001b[1;34m(self, nrows)\u001b[0m\n\u001b[0;32m   2059\u001b[0m     \u001b[1;32mdef\u001b[0m \u001b[0mread\u001b[0m\u001b[1;33m(\u001b[0m\u001b[0mself\u001b[0m\u001b[1;33m,\u001b[0m \u001b[0mnrows\u001b[0m\u001b[1;33m=\u001b[0m\u001b[1;32mNone\u001b[0m\u001b[1;33m)\u001b[0m\u001b[1;33m:\u001b[0m\u001b[1;33m\u001b[0m\u001b[1;33m\u001b[0m\u001b[0m\n\u001b[0;32m   2060\u001b[0m         \u001b[1;32mtry\u001b[0m\u001b[1;33m:\u001b[0m\u001b[1;33m\u001b[0m\u001b[1;33m\u001b[0m\u001b[0m\n\u001b[1;32m-> 2061\u001b[1;33m             \u001b[0mdata\u001b[0m \u001b[1;33m=\u001b[0m \u001b[0mself\u001b[0m\u001b[1;33m.\u001b[0m\u001b[0m_reader\u001b[0m\u001b[1;33m.\u001b[0m\u001b[0mread\u001b[0m\u001b[1;33m(\u001b[0m\u001b[0mnrows\u001b[0m\u001b[1;33m)\u001b[0m\u001b[1;33m\u001b[0m\u001b[1;33m\u001b[0m\u001b[0m\n\u001b[0m\u001b[0;32m   2062\u001b[0m         \u001b[1;32mexcept\u001b[0m \u001b[0mStopIteration\u001b[0m\u001b[1;33m:\u001b[0m\u001b[1;33m\u001b[0m\u001b[1;33m\u001b[0m\u001b[0m\n\u001b[0;32m   2063\u001b[0m             \u001b[1;32mif\u001b[0m \u001b[0mself\u001b[0m\u001b[1;33m.\u001b[0m\u001b[0m_first_chunk\u001b[0m\u001b[1;33m:\u001b[0m\u001b[1;33m\u001b[0m\u001b[1;33m\u001b[0m\u001b[0m\n",
      "\u001b[1;32mpandas\\_libs\\parsers.pyx\u001b[0m in \u001b[0;36mpandas._libs.parsers.TextReader.read\u001b[1;34m()\u001b[0m\n",
      "\u001b[1;32mpandas\\_libs\\parsers.pyx\u001b[0m in \u001b[0;36mpandas._libs.parsers.TextReader._read_low_memory\u001b[1;34m()\u001b[0m\n",
      "\u001b[1;32mpandas\\_libs\\parsers.pyx\u001b[0m in \u001b[0;36mpandas._libs.parsers.TextReader._read_rows\u001b[1;34m()\u001b[0m\n",
      "\u001b[1;32mpandas\\_libs\\parsers.pyx\u001b[0m in \u001b[0;36mpandas._libs.parsers.TextReader._convert_column_data\u001b[1;34m()\u001b[0m\n",
      "\u001b[1;32mpandas\\_libs\\parsers.pyx\u001b[0m in \u001b[0;36mpandas._libs.parsers.TextReader._convert_tokens\u001b[1;34m()\u001b[0m\n",
      "\u001b[1;32mpandas\\_libs\\parsers.pyx\u001b[0m in \u001b[0;36mpandas._libs.parsers.TextReader._convert_with_dtype\u001b[1;34m()\u001b[0m\n",
      "\u001b[1;32mC:\\ProgramData\\Anaconda3\\lib\\site-packages\\pandas\\core\\dtypes\\common.py\u001b[0m in \u001b[0;36mis_categorical_dtype\u001b[1;34m(arr_or_dtype)\u001b[0m\n\u001b[0;32m    535\u001b[0m \u001b[1;33m\u001b[0m\u001b[0m\n\u001b[0;32m    536\u001b[0m \u001b[1;33m\u001b[0m\u001b[0m\n\u001b[1;32m--> 537\u001b[1;33m \u001b[1;32mdef\u001b[0m \u001b[0mis_categorical_dtype\u001b[0m\u001b[1;33m(\u001b[0m\u001b[0marr_or_dtype\u001b[0m\u001b[1;33m)\u001b[0m \u001b[1;33m->\u001b[0m \u001b[0mbool\u001b[0m\u001b[1;33m:\u001b[0m\u001b[1;33m\u001b[0m\u001b[1;33m\u001b[0m\u001b[0m\n\u001b[0m\u001b[0;32m    538\u001b[0m     \"\"\"\n\u001b[0;32m    539\u001b[0m     \u001b[0mCheck\u001b[0m \u001b[0mwhether\u001b[0m \u001b[0man\u001b[0m \u001b[0marray\u001b[0m\u001b[1;33m-\u001b[0m\u001b[0mlike\u001b[0m \u001b[1;32mor\u001b[0m \u001b[0mdtype\u001b[0m \u001b[1;32mis\u001b[0m \u001b[0mof\u001b[0m \u001b[0mthe\u001b[0m \u001b[0mCategorical\u001b[0m \u001b[0mdtype\u001b[0m\u001b[1;33m.\u001b[0m\u001b[1;33m\u001b[0m\u001b[1;33m\u001b[0m\u001b[0m\n",
      "\u001b[1;31mKeyboardInterrupt\u001b[0m: "
     ]
    }
   ],
   "source": [
    "# разобраться с ебучим циклом он сука не работает. Признаком его работы должно быть появление файла signal\n",
    "# заебись, вроде работает\n",
    "while True:\n",
    "    struct = time.localtime()\n",
    "    if struct.tm_sec == 40:\n",
    "        # загрузка данных из CSV-файла\n",
    "        # Столбцы для использования в качестве меток строки файла DataFrame либо даны как string name или индекс столбца.\n",
    "        # Если задана последовательность INT / STR, используется многоиндекс.\n",
    "        # Примечание: index_col = false может использоваться для форсирования Pands не использовать первый столбец как индекс,\n",
    "        # например, когда у вас есть неправильный файл с разделителями в конце каждой строки.\n",
    "        # Функция читает файл, в котором данные о последней свече находятся в первой строке \n",
    "        raw = pd.read_csv('c:\\SBERBANK\\QUIK_x64\\lua\\SiM2\\Data\\SiM2_Data.csv', index_col=0, parse_dates=False)\n",
    "        reverse_raw1 = raw[:200] # реверс набора данных\n",
    "        reverse_raw = reverse_raw1[::-1]\n",
    "        symbol = 'Close' # т.к. нам нужны цены закрытия пятиминутных свечей берём данные из колонки Close\n",
    "        m5_close = reverse_raw[symbol] # сохраняем серию в переменную с наиболее подходящим и информативным названием\n",
    "        # формирование подмножества данных и исключение нечисловых значений (NaN))\n",
    "        data = (pd.DataFrame(m5_close).dropna())\n",
    "        # расчёт логарифмической доходности\n",
    "        data['Доходность'] = np.log(data/data.shift(1))\n",
    "        # всегда применяем после shift, т.к. после shift появляются нечисловые значения NaN\n",
    "        data.dropna(inplace=True)\n",
    "        # Функция sign() является указателем на знак числа. Если число со знаком минус, то возвращает -1, если с плюсом, то 1\n",
    "        # Функция astype() преобразует в указанный тип данных, в данном случае int\n",
    "        data['Направление'] = np.sign(data['Доходность']).astype(int)\n",
    "        features = data['Направление'].iloc[-(lags + 1):-1]\n",
    "        features = features.values.reshape(1, -1)\n",
    "        #model = MLPClassifier(solver='lbfgs', alpha=1e-5, hidden_layer_sizes=2 * [250], random_state=1)\n",
    "        #%time model.fit(features)\n",
    "        signal = model.predict(features)[0]\n",
    "        f = open('c:\\SBERBANK\\QUIK_x64\\lua\\SiM2\\Signal_and_transaction\\signal.txt', 'w') # вместо а+ лучше поставить w или w+, т.к. дозапись необязательна\n",
    "        f.write(str(signal)) # секунды убрать, мешать будут и перевод строки\n",
    "        f.close()\n",
    "        continue\n",
    "    else:\n",
    "        continue\n",
    "        "
   ]
  }
 ],
 "metadata": {
  "kernelspec": {
   "display_name": "Python 3.9.13 64-bit (microsoft store)",
   "language": "python",
   "name": "python3"
  },
  "language_info": {
   "codemirror_mode": {
    "name": "ipython",
    "version": 3
   },
   "file_extension": ".py",
   "mimetype": "text/x-python",
   "name": "python",
   "nbconvert_exporter": "python",
   "pygments_lexer": "ipython3",
   "version": "3.9.13"
  },
  "vscode": {
   "interpreter": {
    "hash": "df1dcb468d51eff0d314cb6cf4e3077034bfe9d1cdf2d96d24ce9ee578b396dd"
   }
  }
 },
 "nbformat": 4,
 "nbformat_minor": 5
}
