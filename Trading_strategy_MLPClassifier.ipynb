{
 "cells": [
  {
   "cell_type": "markdown",
   "id": "0e5f5108",
   "metadata": {},
   "source": [
    "# Подготовка данных"
   ]
  },
  {
   "cell_type": "code",
   "execution_count": 1,
   "id": "a269f043",
   "metadata": {},
   "outputs": [],
   "source": [
    "import numpy as np # импортируем библиотеку NumPy\n",
    "import pandas as pd # импорт пакета Pandas\n",
    "import datetime as dt\n",
    "from pylab import mpl, plt # импорт библиотеки Matplotlib"
   ]
  },
  {
   "cell_type": "code",
   "execution_count": 2,
   "id": "29b754a5",
   "metadata": {},
   "outputs": [],
   "source": [
    "plt.style.use('seaborn-v0_8-darkgrid') # настройка стиля диаграмм\n",
    "mpl.rcParams['font.family'] = 'serif'\n",
    "%matplotlib inline"
   ]
  },
  {
   "cell_type": "code",
   "execution_count": 3,
   "id": "6249c065",
   "metadata": {},
   "outputs": [],
   "source": [
    "# загрузка данных из CSV-файла\n",
    "# Столбцы для использования в качестве меток строки файла DataFrame либо даны как string name или индекс столбца.\n",
    "# Если задана последовательность INT / STR, используется многоиндекс.\n",
    "# Примечание: index_col = false может использоваться для форсирования Pands не использовать первый столбец как индекс,\n",
    "# например, когда у вас есть неправильный файл с разделителями в конце каждой строки.\n",
    "# Функция читает файл, в котором данные о последней свече находятся в первой строке \n",
    "raw = pd.read_csv('BRJ2\\Data\\BRJ2_Data.csv', index_col=0, parse_dates=False)"
   ]
  },
  {
   "cell_type": "code",
   "execution_count": 4,
   "id": "de01868f",
   "metadata": {},
   "outputs": [
    {
     "name": "stdout",
     "output_type": "stream",
     "text": [
      "<class 'pandas.core.frame.DataFrame'>\n",
      "Index: 3504 entries, 2022-3-30 to 2022-2-15\n",
      "Data columns (total 6 columns):\n",
      " #   Column  Non-Null Count  Dtype  \n",
      "---  ------  --------------  -----  \n",
      " 0   Time    3504 non-null   object \n",
      " 1   Open    3504 non-null   float64\n",
      " 2   High    3504 non-null   float64\n",
      " 3   Low     3504 non-null   float64\n",
      " 4   Close   3504 non-null   float64\n",
      " 5   Volume  3504 non-null   float64\n",
      "dtypes: float64(5), object(1)\n",
      "memory usage: 191.6+ KB\n"
     ]
    }
   ],
   "source": [
    "raw.info() # информация о файле"
   ]
  },
  {
   "cell_type": "code",
   "execution_count": 5,
   "id": "0dc790d1",
   "metadata": {},
   "outputs": [],
   "source": [
    "symbol = 'Close' # т.к. нам нужны цены закрытия пятиминутных свечей берём данные из колонки Close"
   ]
  },
  {
   "cell_type": "code",
   "execution_count": 6,
   "id": "2f77fe69",
   "metadata": {},
   "outputs": [],
   "source": [
    "m5_close = raw[symbol] # сохраняем серию в переменную с наиболее подходящим и информативным названием"
   ]
  },
  {
   "cell_type": "code",
   "execution_count": 7,
   "id": "5ec82628",
   "metadata": {},
   "outputs": [
    {
     "data": {
      "text/plain": [
       "Date\n",
       "2022-3-30    112.88\n",
       "2022-3-30    112.50\n",
       "2022-3-30    112.57\n",
       "2022-3-30    112.45\n",
       "2022-3-30    112.66\n",
       "Name: Close, dtype: float64"
      ]
     },
     "execution_count": 7,
     "metadata": {},
     "output_type": "execute_result"
    }
   ],
   "source": [
    "# обратить внимание, что дата всегда присутствует\n",
    "m5_close.head()"
   ]
  },
  {
   "cell_type": "code",
   "execution_count": 8,
   "id": "c8785668",
   "metadata": {},
   "outputs": [],
   "source": [
    "# нам необходимо, чтобы самые старые свечи были в начале серии, поэтому применяем соответствующую операцию для срезов: \n",
    "reverse_m5_close = m5_close[::-1]"
   ]
  },
  {
   "cell_type": "code",
   "execution_count": 9,
   "id": "38529d23",
   "metadata": {},
   "outputs": [
    {
     "data": {
      "text/plain": [
       "Date\n",
       "2022-2-15    90.60\n",
       "2022-2-15    90.61\n",
       "2022-2-15    90.55\n",
       "2022-2-15    90.48\n",
       "2022-2-15    90.31\n",
       "Name: Close, dtype: float64"
      ]
     },
     "execution_count": 9,
     "metadata": {},
     "output_type": "execute_result"
    }
   ],
   "source": [
    "# смотрим на каждом этапе какие данные в каком виде\n",
    "reverse_m5_close.head()"
   ]
  },
  {
   "cell_type": "code",
   "execution_count": 10,
   "id": "14343511",
   "metadata": {},
   "outputs": [],
   "source": [
    "# формирование подмножества данных и исключение нечисловых значений (NaN))\n",
    "data = (pd.DataFrame(reverse_m5_close).dropna())"
   ]
  },
  {
   "cell_type": "code",
   "execution_count": 11,
   "id": "e22665a6",
   "metadata": {},
   "outputs": [
    {
     "data": {
      "text/html": [
       "<div>\n",
       "<style scoped>\n",
       "    .dataframe tbody tr th:only-of-type {\n",
       "        vertical-align: middle;\n",
       "    }\n",
       "\n",
       "    .dataframe tbody tr th {\n",
       "        vertical-align: top;\n",
       "    }\n",
       "\n",
       "    .dataframe thead th {\n",
       "        text-align: right;\n",
       "    }\n",
       "</style>\n",
       "<table border=\"1\" class=\"dataframe\">\n",
       "  <thead>\n",
       "    <tr style=\"text-align: right;\">\n",
       "      <th></th>\n",
       "      <th>Close</th>\n",
       "    </tr>\n",
       "    <tr>\n",
       "      <th>Date</th>\n",
       "      <th></th>\n",
       "    </tr>\n",
       "  </thead>\n",
       "  <tbody>\n",
       "    <tr>\n",
       "      <th>2022-2-15</th>\n",
       "      <td>90.60</td>\n",
       "    </tr>\n",
       "    <tr>\n",
       "      <th>2022-2-15</th>\n",
       "      <td>90.61</td>\n",
       "    </tr>\n",
       "    <tr>\n",
       "      <th>2022-2-15</th>\n",
       "      <td>90.55</td>\n",
       "    </tr>\n",
       "    <tr>\n",
       "      <th>2022-2-15</th>\n",
       "      <td>90.48</td>\n",
       "    </tr>\n",
       "    <tr>\n",
       "      <th>2022-2-15</th>\n",
       "      <td>90.31</td>\n",
       "    </tr>\n",
       "  </tbody>\n",
       "</table>\n",
       "</div>"
      ],
      "text/plain": [
       "           Close\n",
       "Date            \n",
       "2022-2-15  90.60\n",
       "2022-2-15  90.61\n",
       "2022-2-15  90.55\n",
       "2022-2-15  90.48\n",
       "2022-2-15  90.31"
      ]
     },
     "execution_count": 11,
     "metadata": {},
     "output_type": "execute_result"
    }
   ],
   "source": [
    "data.head()"
   ]
  },
  {
   "cell_type": "code",
   "execution_count": 12,
   "id": "48660ab7",
   "metadata": {},
   "outputs": [],
   "source": [
    "# расчёт логарифмической доходности\n",
    "data['Доходность'] = np.log(data/data.shift(1))"
   ]
  },
  {
   "cell_type": "code",
   "execution_count": 13,
   "id": "f68435f9",
   "metadata": {},
   "outputs": [
    {
     "data": {
      "text/plain": [
       "Date\n",
       "2022-2-15         NaN\n",
       "2022-2-15    0.000110\n",
       "2022-2-15   -0.000662\n",
       "2022-2-15   -0.000773\n",
       "2022-2-15   -0.001881\n",
       "Name: Доходность, dtype: float64"
      ]
     },
     "execution_count": 13,
     "metadata": {},
     "output_type": "execute_result"
    }
   ],
   "source": [
    "data['Доходность'].head()"
   ]
  },
  {
   "cell_type": "code",
   "execution_count": 14,
   "id": "dedc7920",
   "metadata": {},
   "outputs": [],
   "source": [
    "# всегда применяем после shift, т.к. после shift появляются нечисловые значения NaN\n",
    "data.dropna(inplace=True)"
   ]
  },
  {
   "cell_type": "code",
   "execution_count": 15,
   "id": "3935c1bc",
   "metadata": {},
   "outputs": [
    {
     "data": {
      "text/html": [
       "<div>\n",
       "<style scoped>\n",
       "    .dataframe tbody tr th:only-of-type {\n",
       "        vertical-align: middle;\n",
       "    }\n",
       "\n",
       "    .dataframe tbody tr th {\n",
       "        vertical-align: top;\n",
       "    }\n",
       "\n",
       "    .dataframe thead th {\n",
       "        text-align: right;\n",
       "    }\n",
       "</style>\n",
       "<table border=\"1\" class=\"dataframe\">\n",
       "  <thead>\n",
       "    <tr style=\"text-align: right;\">\n",
       "      <th></th>\n",
       "      <th>Close</th>\n",
       "      <th>Доходность</th>\n",
       "    </tr>\n",
       "    <tr>\n",
       "      <th>Date</th>\n",
       "      <th></th>\n",
       "      <th></th>\n",
       "    </tr>\n",
       "  </thead>\n",
       "  <tbody>\n",
       "    <tr>\n",
       "      <th>2022-2-15</th>\n",
       "      <td>90.61</td>\n",
       "      <td>0.000110</td>\n",
       "    </tr>\n",
       "    <tr>\n",
       "      <th>2022-2-15</th>\n",
       "      <td>90.55</td>\n",
       "      <td>-0.000662</td>\n",
       "    </tr>\n",
       "    <tr>\n",
       "      <th>2022-2-15</th>\n",
       "      <td>90.48</td>\n",
       "      <td>-0.000773</td>\n",
       "    </tr>\n",
       "    <tr>\n",
       "      <th>2022-2-15</th>\n",
       "      <td>90.31</td>\n",
       "      <td>-0.001881</td>\n",
       "    </tr>\n",
       "    <tr>\n",
       "      <th>2022-2-15</th>\n",
       "      <td>90.27</td>\n",
       "      <td>-0.000443</td>\n",
       "    </tr>\n",
       "  </tbody>\n",
       "</table>\n",
       "</div>"
      ],
      "text/plain": [
       "           Close  Доходность\n",
       "Date                        \n",
       "2022-2-15  90.61    0.000110\n",
       "2022-2-15  90.55   -0.000662\n",
       "2022-2-15  90.48   -0.000773\n",
       "2022-2-15  90.31   -0.001881\n",
       "2022-2-15  90.27   -0.000443"
      ]
     },
     "execution_count": 15,
     "metadata": {},
     "output_type": "execute_result"
    }
   ],
   "source": [
    "data.head()"
   ]
  },
  {
   "cell_type": "code",
   "execution_count": 16,
   "id": "7f219551",
   "metadata": {},
   "outputs": [],
   "source": [
    "# Функция sign() является указателем на знак числа. Если число со знаком минус, то возвращает -1, если с плюсом, то 1\n",
    "# Функция astype() преобразует в указанный тип данных, в данном случае int\n",
    "data['Направление'] = np.sign(data['Доходность']).astype(int)"
   ]
  },
  {
   "cell_type": "code",
   "execution_count": 17,
   "id": "99a25421",
   "metadata": {},
   "outputs": [
    {
     "data": {
      "text/plain": [
       "Date\n",
       "2022-2-15    1\n",
       "2022-2-15   -1\n",
       "2022-2-15   -1\n",
       "2022-2-15   -1\n",
       "2022-2-15   -1\n",
       "Name: Направление, dtype: int32"
      ]
     },
     "execution_count": 17,
     "metadata": {},
     "output_type": "execute_result"
    }
   ],
   "source": [
    "data['Направление'].head()"
   ]
  },
  {
   "cell_type": "code",
   "execution_count": 18,
   "id": "1b1c8507",
   "metadata": {},
   "outputs": [],
   "source": [
    "lags = 5 # поменяли количество 2 на 5"
   ]
  },
  {
   "cell_type": "code",
   "execution_count": 19,
   "id": "a57eb9f5",
   "metadata": {},
   "outputs": [],
   "source": [
    "def create_lags(data):\n",
    "    global cols\n",
    "    cols = []\n",
    "    for lag in range(1, lags + 1):\n",
    "        col = 'lag_{}'.format(lag)\n",
    "        data[col] = data['Доходность'].shift(lag) # обратить внимание на каком этапе появляются data[col]\n",
    "        cols.append(col)"
   ]
  },
  {
   "cell_type": "code",
   "execution_count": 20,
   "id": "a787751d",
   "metadata": {},
   "outputs": [],
   "source": [
    "create_lags(data)"
   ]
  },
  {
   "cell_type": "code",
   "execution_count": 21,
   "id": "393a57bf",
   "metadata": {},
   "outputs": [],
   "source": [
    "data.dropna(inplace=True)"
   ]
  },
  {
   "cell_type": "code",
   "execution_count": 22,
   "id": "37b84d74",
   "metadata": {},
   "outputs": [
    {
     "data": {
      "text/html": [
       "<div>\n",
       "<style scoped>\n",
       "    .dataframe tbody tr th:only-of-type {\n",
       "        vertical-align: middle;\n",
       "    }\n",
       "\n",
       "    .dataframe tbody tr th {\n",
       "        vertical-align: top;\n",
       "    }\n",
       "\n",
       "    .dataframe thead th {\n",
       "        text-align: right;\n",
       "    }\n",
       "</style>\n",
       "<table border=\"1\" class=\"dataframe\">\n",
       "  <thead>\n",
       "    <tr style=\"text-align: right;\">\n",
       "      <th></th>\n",
       "      <th>Close</th>\n",
       "      <th>Доходность</th>\n",
       "      <th>Направление</th>\n",
       "      <th>lag_1</th>\n",
       "      <th>lag_2</th>\n",
       "      <th>lag_3</th>\n",
       "      <th>lag_4</th>\n",
       "      <th>lag_5</th>\n",
       "    </tr>\n",
       "    <tr>\n",
       "      <th>Date</th>\n",
       "      <th></th>\n",
       "      <th></th>\n",
       "      <th></th>\n",
       "      <th></th>\n",
       "      <th></th>\n",
       "      <th></th>\n",
       "      <th></th>\n",
       "      <th></th>\n",
       "    </tr>\n",
       "  </thead>\n",
       "  <tbody>\n",
       "    <tr>\n",
       "      <th>2022-2-15</th>\n",
       "      <td>90.38</td>\n",
       "      <td>0.001218</td>\n",
       "      <td>1</td>\n",
       "      <td>-0.000443</td>\n",
       "      <td>-0.001881</td>\n",
       "      <td>-0.000773</td>\n",
       "      <td>-0.000662</td>\n",
       "      <td>0.000110</td>\n",
       "    </tr>\n",
       "    <tr>\n",
       "      <th>2022-2-15</th>\n",
       "      <td>90.68</td>\n",
       "      <td>0.003314</td>\n",
       "      <td>1</td>\n",
       "      <td>0.001218</td>\n",
       "      <td>-0.000443</td>\n",
       "      <td>-0.001881</td>\n",
       "      <td>-0.000773</td>\n",
       "      <td>-0.000662</td>\n",
       "    </tr>\n",
       "    <tr>\n",
       "      <th>2022-2-15</th>\n",
       "      <td>90.80</td>\n",
       "      <td>0.001322</td>\n",
       "      <td>1</td>\n",
       "      <td>0.003314</td>\n",
       "      <td>0.001218</td>\n",
       "      <td>-0.000443</td>\n",
       "      <td>-0.001881</td>\n",
       "      <td>-0.000773</td>\n",
       "    </tr>\n",
       "    <tr>\n",
       "      <th>2022-2-15</th>\n",
       "      <td>90.70</td>\n",
       "      <td>-0.001102</td>\n",
       "      <td>-1</td>\n",
       "      <td>0.001322</td>\n",
       "      <td>0.003314</td>\n",
       "      <td>0.001218</td>\n",
       "      <td>-0.000443</td>\n",
       "      <td>-0.001881</td>\n",
       "    </tr>\n",
       "    <tr>\n",
       "      <th>2022-2-15</th>\n",
       "      <td>90.58</td>\n",
       "      <td>-0.001324</td>\n",
       "      <td>-1</td>\n",
       "      <td>-0.001102</td>\n",
       "      <td>0.001322</td>\n",
       "      <td>0.003314</td>\n",
       "      <td>0.001218</td>\n",
       "      <td>-0.000443</td>\n",
       "    </tr>\n",
       "  </tbody>\n",
       "</table>\n",
       "</div>"
      ],
      "text/plain": [
       "           Close  Доходность  Направление     lag_1     lag_2     lag_3  \\\n",
       "Date                                                                      \n",
       "2022-2-15  90.38    0.001218            1 -0.000443 -0.001881 -0.000773   \n",
       "2022-2-15  90.68    0.003314            1  0.001218 -0.000443 -0.001881   \n",
       "2022-2-15  90.80    0.001322            1  0.003314  0.001218 -0.000443   \n",
       "2022-2-15  90.70   -0.001102           -1  0.001322  0.003314  0.001218   \n",
       "2022-2-15  90.58   -0.001324           -1 -0.001102  0.001322  0.003314   \n",
       "\n",
       "              lag_4     lag_5  \n",
       "Date                           \n",
       "2022-2-15 -0.000662  0.000110  \n",
       "2022-2-15 -0.000773 -0.000662  \n",
       "2022-2-15 -0.001881 -0.000773  \n",
       "2022-2-15 -0.000443 -0.001881  \n",
       "2022-2-15  0.001218 -0.000443  "
      ]
     },
     "execution_count": 22,
     "metadata": {},
     "output_type": "execute_result"
    }
   ],
   "source": [
    "data.head()"
   ]
  },
  {
   "cell_type": "markdown",
   "id": "07800d8a",
   "metadata": {},
   "source": [
    "В этом разделе мы воспользуемся алгоритмами машинного обучения (см. главу 13) для решения задачи о прогнозировании направления движения цен на финансовых рынках. С учетом примеров из предыдущих разделов применить логистическую регрессию, наивный байесовский классификатор и метод опорных векторов будет не намного сложнее, чем в случае обработки небольшого набора выборочных данных."
   ]
  },
  {
   "cell_type": "markdown",
   "id": "65be894b",
   "metadata": {},
   "source": [
    "# Пять бинарных признаков"
   ]
  },
  {
   "cell_type": "markdown",
   "id": "22d2926e",
   "metadata": {},
   "source": [
    "Для начала напишем код обучения моделей на основе пяти бинарных признаков и получения соответствующих значений позиций."
   ]
  },
  {
   "cell_type": "code",
   "execution_count": 23,
   "id": "5a75fce6",
   "metadata": {},
   "outputs": [],
   "source": [
    "# импортируем все необходимые библиотеки\n",
    "from sklearn import linear_model # линейная модель\n",
    "from sklearn.naive_bayes import GaussianNB\n",
    "from sklearn.svm import SVC"
   ]
  },
  {
   "cell_type": "code",
   "execution_count": 24,
   "id": "447c1513",
   "metadata": {},
   "outputs": [],
   "source": [
    "def create_bins(data, bins=[0]):\n",
    "    global cols_bin\n",
    "    cols_bin = []\n",
    "    for col in cols:\n",
    "        col_bin = col + '_bin'\n",
    "        data[col_bin] = np.digitize(data[col], bins=bins)\n",
    "        cols_bin.append (col_bin )"
   ]
  },
  {
   "cell_type": "code",
   "execution_count": 25,
   "id": "adaa6f88",
   "metadata": {},
   "outputs": [
    {
     "data": {
      "text/plain": [
       "['lag_1_bin', 'lag_2_bin', 'lag_3_bin', 'lag_4_bin', 'lag_5_bin']"
      ]
     },
     "execution_count": 25,
     "metadata": {},
     "output_type": "execute_result"
    }
   ],
   "source": [
    "create_bins(data)\n",
    "cols_bin"
   ]
  },
  {
   "cell_type": "code",
   "execution_count": 26,
   "id": "182bf0b4",
   "metadata": {},
   "outputs": [
    {
     "data": {
      "text/html": [
       "<div>\n",
       "<style scoped>\n",
       "    .dataframe tbody tr th:only-of-type {\n",
       "        vertical-align: middle;\n",
       "    }\n",
       "\n",
       "    .dataframe tbody tr th {\n",
       "        vertical-align: top;\n",
       "    }\n",
       "\n",
       "    .dataframe thead th {\n",
       "        text-align: right;\n",
       "    }\n",
       "</style>\n",
       "<table border=\"1\" class=\"dataframe\">\n",
       "  <thead>\n",
       "    <tr style=\"text-align: right;\">\n",
       "      <th></th>\n",
       "      <th>lag_1_bin</th>\n",
       "      <th>lag_2_bin</th>\n",
       "      <th>lag_3_bin</th>\n",
       "      <th>lag_4_bin</th>\n",
       "      <th>lag_5_bin</th>\n",
       "      <th>Направление</th>\n",
       "    </tr>\n",
       "    <tr>\n",
       "      <th>Date</th>\n",
       "      <th></th>\n",
       "      <th></th>\n",
       "      <th></th>\n",
       "      <th></th>\n",
       "      <th></th>\n",
       "      <th></th>\n",
       "    </tr>\n",
       "  </thead>\n",
       "  <tbody>\n",
       "    <tr>\n",
       "      <th>2022-2-15</th>\n",
       "      <td>0</td>\n",
       "      <td>0</td>\n",
       "      <td>0</td>\n",
       "      <td>0</td>\n",
       "      <td>1</td>\n",
       "      <td>1</td>\n",
       "    </tr>\n",
       "    <tr>\n",
       "      <th>2022-2-15</th>\n",
       "      <td>1</td>\n",
       "      <td>0</td>\n",
       "      <td>0</td>\n",
       "      <td>0</td>\n",
       "      <td>0</td>\n",
       "      <td>1</td>\n",
       "    </tr>\n",
       "    <tr>\n",
       "      <th>2022-2-15</th>\n",
       "      <td>1</td>\n",
       "      <td>1</td>\n",
       "      <td>0</td>\n",
       "      <td>0</td>\n",
       "      <td>0</td>\n",
       "      <td>1</td>\n",
       "    </tr>\n",
       "    <tr>\n",
       "      <th>2022-2-15</th>\n",
       "      <td>1</td>\n",
       "      <td>1</td>\n",
       "      <td>1</td>\n",
       "      <td>0</td>\n",
       "      <td>0</td>\n",
       "      <td>-1</td>\n",
       "    </tr>\n",
       "    <tr>\n",
       "      <th>2022-2-15</th>\n",
       "      <td>0</td>\n",
       "      <td>1</td>\n",
       "      <td>1</td>\n",
       "      <td>1</td>\n",
       "      <td>0</td>\n",
       "      <td>-1</td>\n",
       "    </tr>\n",
       "  </tbody>\n",
       "</table>\n",
       "</div>"
      ],
      "text/plain": [
       "           lag_1_bin  lag_2_bin  lag_3_bin  lag_4_bin  lag_5_bin  Направление\n",
       "Date                                                                         \n",
       "2022-2-15          0          0          0          0          1            1\n",
       "2022-2-15          1          0          0          0          0            1\n",
       "2022-2-15          1          1          0          0          0            1\n",
       "2022-2-15          1          1          1          0          0           -1\n",
       "2022-2-15          0          1          1          1          0           -1"
      ]
     },
     "execution_count": 26,
     "metadata": {},
     "output_type": "execute_result"
    }
   ],
   "source": [
    "data[cols_bin + ['Направление']].head()"
   ]
  },
  {
   "cell_type": "code",
   "execution_count": 27,
   "id": "747b8757",
   "metadata": {},
   "outputs": [
    {
     "data": {
      "text/plain": [
       "lag_1_bin  lag_2_bin  lag_3_bin  lag_4_bin  lag_5_bin  Направление\n",
       "0          0          0          0          0          -1             26\n",
       "                                                        1             35\n",
       "                                            1          -1             35\n",
       "                                                        0              3\n",
       "                                                        1             40\n",
       "                                                                      ..\n",
       "1          1          1          1          0           0              5\n",
       "                                                        1             42\n",
       "                                            1          -1             47\n",
       "                                                        0             54\n",
       "                                                        1             39\n",
       "Length: 95, dtype: int64"
      ]
     },
     "execution_count": 27,
     "metadata": {},
     "output_type": "execute_result"
    }
   ],
   "source": [
    "grouped = data.groupby(cols_bin + ['Направление'])\n",
    "grouped.size()"
   ]
  },
  {
   "cell_type": "code",
   "execution_count": 28,
   "id": "41fb6b91",
   "metadata": {},
   "outputs": [],
   "source": [
    "res = grouped['Направление'].size().unstack(fill_value=0)"
   ]
  },
  {
   "cell_type": "code",
   "execution_count": 29,
   "id": "bebc299f",
   "metadata": {},
   "outputs": [],
   "source": [
    "def highlight_max(s):\n",
    "    is_max = s == s.max()\n",
    "    return ['background-color: yellow' if v else '' for v in is_max]"
   ]
  },
  {
   "cell_type": "code",
   "execution_count": 30,
   "id": "0466ad21",
   "metadata": {},
   "outputs": [
    {
     "data": {
      "text/html": [
       "<style type=\"text/css\">\n",
       "#T_3fd78_row0_col2, #T_3fd78_row1_col2, #T_3fd78_row2_col0, #T_3fd78_row3_col2, #T_3fd78_row4_col2, #T_3fd78_row5_col2, #T_3fd78_row6_col2, #T_3fd78_row7_col2, #T_3fd78_row8_col2, #T_3fd78_row9_col0, #T_3fd78_row10_col0, #T_3fd78_row11_col0, #T_3fd78_row12_col0, #T_3fd78_row12_col2, #T_3fd78_row13_col2, #T_3fd78_row14_col2, #T_3fd78_row15_col2, #T_3fd78_row16_col2, #T_3fd78_row17_col2, #T_3fd78_row18_col0, #T_3fd78_row19_col0, #T_3fd78_row20_col0, #T_3fd78_row20_col2, #T_3fd78_row21_col0, #T_3fd78_row22_col2, #T_3fd78_row23_col0, #T_3fd78_row24_col0, #T_3fd78_row25_col0, #T_3fd78_row26_col0, #T_3fd78_row27_col0, #T_3fd78_row28_col2, #T_3fd78_row29_col0, #T_3fd78_row30_col0, #T_3fd78_row31_col1 {\n",
       "  background-color: yellow;\n",
       "}\n",
       "</style>\n",
       "<table id=\"T_3fd78\">\n",
       "  <thead>\n",
       "    <tr>\n",
       "      <th class=\"blank\" >&nbsp;</th>\n",
       "      <th class=\"blank\" >&nbsp;</th>\n",
       "      <th class=\"blank\" >&nbsp;</th>\n",
       "      <th class=\"blank\" >&nbsp;</th>\n",
       "      <th class=\"index_name level0\" >Направление</th>\n",
       "      <th id=\"T_3fd78_level0_col0\" class=\"col_heading level0 col0\" >-1</th>\n",
       "      <th id=\"T_3fd78_level0_col1\" class=\"col_heading level0 col1\" >0</th>\n",
       "      <th id=\"T_3fd78_level0_col2\" class=\"col_heading level0 col2\" >1</th>\n",
       "    </tr>\n",
       "    <tr>\n",
       "      <th class=\"index_name level0\" >lag_1_bin</th>\n",
       "      <th class=\"index_name level1\" >lag_2_bin</th>\n",
       "      <th class=\"index_name level2\" >lag_3_bin</th>\n",
       "      <th class=\"index_name level3\" >lag_4_bin</th>\n",
       "      <th class=\"index_name level4\" >lag_5_bin</th>\n",
       "      <th class=\"blank col0\" >&nbsp;</th>\n",
       "      <th class=\"blank col1\" >&nbsp;</th>\n",
       "      <th class=\"blank col2\" >&nbsp;</th>\n",
       "    </tr>\n",
       "  </thead>\n",
       "  <tbody>\n",
       "    <tr>\n",
       "      <th id=\"T_3fd78_level0_row0\" class=\"row_heading level0 row0\" rowspan=\"16\">0</th>\n",
       "      <th id=\"T_3fd78_level1_row0\" class=\"row_heading level1 row0\" rowspan=\"8\">0</th>\n",
       "      <th id=\"T_3fd78_level2_row0\" class=\"row_heading level2 row0\" rowspan=\"4\">0</th>\n",
       "      <th id=\"T_3fd78_level3_row0\" class=\"row_heading level3 row0\" rowspan=\"2\">0</th>\n",
       "      <th id=\"T_3fd78_level4_row0\" class=\"row_heading level4 row0\" >0</th>\n",
       "      <td id=\"T_3fd78_row0_col0\" class=\"data row0 col0\" >26</td>\n",
       "      <td id=\"T_3fd78_row0_col1\" class=\"data row0 col1\" >0</td>\n",
       "      <td id=\"T_3fd78_row0_col2\" class=\"data row0 col2\" >35</td>\n",
       "    </tr>\n",
       "    <tr>\n",
       "      <th id=\"T_3fd78_level4_row1\" class=\"row_heading level4 row1\" >1</th>\n",
       "      <td id=\"T_3fd78_row1_col0\" class=\"data row1 col0\" >35</td>\n",
       "      <td id=\"T_3fd78_row1_col1\" class=\"data row1 col1\" >3</td>\n",
       "      <td id=\"T_3fd78_row1_col2\" class=\"data row1 col2\" >40</td>\n",
       "    </tr>\n",
       "    <tr>\n",
       "      <th id=\"T_3fd78_level3_row2\" class=\"row_heading level3 row2\" rowspan=\"2\">1</th>\n",
       "      <th id=\"T_3fd78_level4_row2\" class=\"row_heading level4 row2\" >0</th>\n",
       "      <td id=\"T_3fd78_row2_col0\" class=\"data row2 col0\" >46</td>\n",
       "      <td id=\"T_3fd78_row2_col1\" class=\"data row2 col1\" >4</td>\n",
       "      <td id=\"T_3fd78_row2_col2\" class=\"data row2 col2\" >42</td>\n",
       "    </tr>\n",
       "    <tr>\n",
       "      <th id=\"T_3fd78_level4_row3\" class=\"row_heading level4 row3\" >1</th>\n",
       "      <td id=\"T_3fd78_row3_col0\" class=\"data row3 col0\" >31</td>\n",
       "      <td id=\"T_3fd78_row3_col1\" class=\"data row3 col1\" >1</td>\n",
       "      <td id=\"T_3fd78_row3_col2\" class=\"data row3 col2\" >52</td>\n",
       "    </tr>\n",
       "    <tr>\n",
       "      <th id=\"T_3fd78_level2_row4\" class=\"row_heading level2 row4\" rowspan=\"4\">1</th>\n",
       "      <th id=\"T_3fd78_level3_row4\" class=\"row_heading level3 row4\" rowspan=\"2\">0</th>\n",
       "      <th id=\"T_3fd78_level4_row4\" class=\"row_heading level4 row4\" >0</th>\n",
       "      <td id=\"T_3fd78_row4_col0\" class=\"data row4 col0\" >36</td>\n",
       "      <td id=\"T_3fd78_row4_col1\" class=\"data row4 col1\" >1</td>\n",
       "      <td id=\"T_3fd78_row4_col2\" class=\"data row4 col2\" >60</td>\n",
       "    </tr>\n",
       "    <tr>\n",
       "      <th id=\"T_3fd78_level4_row5\" class=\"row_heading level4 row5\" >1</th>\n",
       "      <td id=\"T_3fd78_row5_col0\" class=\"data row5 col0\" >56</td>\n",
       "      <td id=\"T_3fd78_row5_col1\" class=\"data row5 col1\" >6</td>\n",
       "      <td id=\"T_3fd78_row5_col2\" class=\"data row5 col2\" >61</td>\n",
       "    </tr>\n",
       "    <tr>\n",
       "      <th id=\"T_3fd78_level3_row6\" class=\"row_heading level3 row6\" rowspan=\"2\">1</th>\n",
       "      <th id=\"T_3fd78_level4_row6\" class=\"row_heading level4 row6\" >0</th>\n",
       "      <td id=\"T_3fd78_row6_col0\" class=\"data row6 col0\" >51</td>\n",
       "      <td id=\"T_3fd78_row6_col1\" class=\"data row6 col1\" >4</td>\n",
       "      <td id=\"T_3fd78_row6_col2\" class=\"data row6 col2\" >63</td>\n",
       "    </tr>\n",
       "    <tr>\n",
       "      <th id=\"T_3fd78_level4_row7\" class=\"row_heading level4 row7\" >1</th>\n",
       "      <td id=\"T_3fd78_row7_col0\" class=\"data row7 col0\" >33</td>\n",
       "      <td id=\"T_3fd78_row7_col1\" class=\"data row7 col1\" >5</td>\n",
       "      <td id=\"T_3fd78_row7_col2\" class=\"data row7 col2\" >56</td>\n",
       "    </tr>\n",
       "    <tr>\n",
       "      <th id=\"T_3fd78_level1_row8\" class=\"row_heading level1 row8\" rowspan=\"8\">1</th>\n",
       "      <th id=\"T_3fd78_level2_row8\" class=\"row_heading level2 row8\" rowspan=\"4\">0</th>\n",
       "      <th id=\"T_3fd78_level3_row8\" class=\"row_heading level3 row8\" rowspan=\"2\">0</th>\n",
       "      <th id=\"T_3fd78_level4_row8\" class=\"row_heading level4 row8\" >0</th>\n",
       "      <td id=\"T_3fd78_row8_col0\" class=\"data row8 col0\" >29</td>\n",
       "      <td id=\"T_3fd78_row8_col1\" class=\"data row8 col1\" >2</td>\n",
       "      <td id=\"T_3fd78_row8_col2\" class=\"data row8 col2\" >45</td>\n",
       "    </tr>\n",
       "    <tr>\n",
       "      <th id=\"T_3fd78_level4_row9\" class=\"row_heading level4 row9\" >1</th>\n",
       "      <td id=\"T_3fd78_row9_col0\" class=\"data row9 col0\" >68</td>\n",
       "      <td id=\"T_3fd78_row9_col1\" class=\"data row9 col1\" >5</td>\n",
       "      <td id=\"T_3fd78_row9_col2\" class=\"data row9 col2\" >66</td>\n",
       "    </tr>\n",
       "    <tr>\n",
       "      <th id=\"T_3fd78_level3_row10\" class=\"row_heading level3 row10\" rowspan=\"2\">1</th>\n",
       "      <th id=\"T_3fd78_level4_row10\" class=\"row_heading level4 row10\" >0</th>\n",
       "      <td id=\"T_3fd78_row10_col0\" class=\"data row10 col0\" >60</td>\n",
       "      <td id=\"T_3fd78_row10_col1\" class=\"data row10 col1\" >4</td>\n",
       "      <td id=\"T_3fd78_row10_col2\" class=\"data row10 col2\" >50</td>\n",
       "    </tr>\n",
       "    <tr>\n",
       "      <th id=\"T_3fd78_level4_row11\" class=\"row_heading level4 row11\" >1</th>\n",
       "      <td id=\"T_3fd78_row11_col0\" class=\"data row11 col0\" >63</td>\n",
       "      <td id=\"T_3fd78_row11_col1\" class=\"data row11 col1\" >3</td>\n",
       "      <td id=\"T_3fd78_row11_col2\" class=\"data row11 col2\" >58</td>\n",
       "    </tr>\n",
       "    <tr>\n",
       "      <th id=\"T_3fd78_level2_row12\" class=\"row_heading level2 row12\" rowspan=\"4\">1</th>\n",
       "      <th id=\"T_3fd78_level3_row12\" class=\"row_heading level3 row12\" rowspan=\"2\">0</th>\n",
       "      <th id=\"T_3fd78_level4_row12\" class=\"row_heading level4 row12\" >0</th>\n",
       "      <td id=\"T_3fd78_row12_col0\" class=\"data row12 col0\" >55</td>\n",
       "      <td id=\"T_3fd78_row12_col1\" class=\"data row12 col1\" >3</td>\n",
       "      <td id=\"T_3fd78_row12_col2\" class=\"data row12 col2\" >55</td>\n",
       "    </tr>\n",
       "    <tr>\n",
       "      <th id=\"T_3fd78_level4_row13\" class=\"row_heading level4 row13\" >1</th>\n",
       "      <td id=\"T_3fd78_row13_col0\" class=\"data row13 col0\" >63</td>\n",
       "      <td id=\"T_3fd78_row13_col1\" class=\"data row13 col1\" >3</td>\n",
       "      <td id=\"T_3fd78_row13_col2\" class=\"data row13 col2\" >78</td>\n",
       "    </tr>\n",
       "    <tr>\n",
       "      <th id=\"T_3fd78_level3_row14\" class=\"row_heading level3 row14\" rowspan=\"2\">1</th>\n",
       "      <th id=\"T_3fd78_level4_row14\" class=\"row_heading level4 row14\" >0</th>\n",
       "      <td id=\"T_3fd78_row14_col0\" class=\"data row14 col0\" >50</td>\n",
       "      <td id=\"T_3fd78_row14_col1\" class=\"data row14 col1\" >4</td>\n",
       "      <td id=\"T_3fd78_row14_col2\" class=\"data row14 col2\" >52</td>\n",
       "    </tr>\n",
       "    <tr>\n",
       "      <th id=\"T_3fd78_level4_row15\" class=\"row_heading level4 row15\" >1</th>\n",
       "      <td id=\"T_3fd78_row15_col0\" class=\"data row15 col0\" >44</td>\n",
       "      <td id=\"T_3fd78_row15_col1\" class=\"data row15 col1\" >2</td>\n",
       "      <td id=\"T_3fd78_row15_col2\" class=\"data row15 col2\" >56</td>\n",
       "    </tr>\n",
       "    <tr>\n",
       "      <th id=\"T_3fd78_level0_row16\" class=\"row_heading level0 row16\" rowspan=\"16\">1</th>\n",
       "      <th id=\"T_3fd78_level1_row16\" class=\"row_heading level1 row16\" rowspan=\"8\">0</th>\n",
       "      <th id=\"T_3fd78_level2_row16\" class=\"row_heading level2 row16\" rowspan=\"4\">0</th>\n",
       "      <th id=\"T_3fd78_level3_row16\" class=\"row_heading level3 row16\" rowspan=\"2\">0</th>\n",
       "      <th id=\"T_3fd78_level4_row16\" class=\"row_heading level4 row16\" >0</th>\n",
       "      <td id=\"T_3fd78_row16_col0\" class=\"data row16 col0\" >30</td>\n",
       "      <td id=\"T_3fd78_row16_col1\" class=\"data row16 col1\" >5</td>\n",
       "      <td id=\"T_3fd78_row16_col2\" class=\"data row16 col2\" >43</td>\n",
       "    </tr>\n",
       "    <tr>\n",
       "      <th id=\"T_3fd78_level4_row17\" class=\"row_heading level4 row17\" >1</th>\n",
       "      <td id=\"T_3fd78_row17_col0\" class=\"data row17 col0\" >46</td>\n",
       "      <td id=\"T_3fd78_row17_col1\" class=\"data row17 col1\" >2</td>\n",
       "      <td id=\"T_3fd78_row17_col2\" class=\"data row17 col2\" >51</td>\n",
       "    </tr>\n",
       "    <tr>\n",
       "      <th id=\"T_3fd78_level3_row18\" class=\"row_heading level3 row18\" rowspan=\"2\">1</th>\n",
       "      <th id=\"T_3fd78_level4_row18\" class=\"row_heading level4 row18\" >0</th>\n",
       "      <td id=\"T_3fd78_row18_col0\" class=\"data row18 col0\" >69</td>\n",
       "      <td id=\"T_3fd78_row18_col1\" class=\"data row18 col1\" >4</td>\n",
       "      <td id=\"T_3fd78_row18_col2\" class=\"data row18 col2\" >55</td>\n",
       "    </tr>\n",
       "    <tr>\n",
       "      <th id=\"T_3fd78_level4_row19\" class=\"row_heading level4 row19\" >1</th>\n",
       "      <td id=\"T_3fd78_row19_col0\" class=\"data row19 col0\" >70</td>\n",
       "      <td id=\"T_3fd78_row19_col1\" class=\"data row19 col1\" >6</td>\n",
       "      <td id=\"T_3fd78_row19_col2\" class=\"data row19 col2\" >52</td>\n",
       "    </tr>\n",
       "    <tr>\n",
       "      <th id=\"T_3fd78_level2_row20\" class=\"row_heading level2 row20\" rowspan=\"4\">1</th>\n",
       "      <th id=\"T_3fd78_level3_row20\" class=\"row_heading level3 row20\" rowspan=\"2\">0</th>\n",
       "      <th id=\"T_3fd78_level4_row20\" class=\"row_heading level4 row20\" >0</th>\n",
       "      <td id=\"T_3fd78_row20_col0\" class=\"data row20 col0\" >57</td>\n",
       "      <td id=\"T_3fd78_row20_col1\" class=\"data row20 col1\" >4</td>\n",
       "      <td id=\"T_3fd78_row20_col2\" class=\"data row20 col2\" >57</td>\n",
       "    </tr>\n",
       "    <tr>\n",
       "      <th id=\"T_3fd78_level4_row21\" class=\"row_heading level4 row21\" >1</th>\n",
       "      <td id=\"T_3fd78_row21_col0\" class=\"data row21 col0\" >57</td>\n",
       "      <td id=\"T_3fd78_row21_col1\" class=\"data row21 col1\" >4</td>\n",
       "      <td id=\"T_3fd78_row21_col2\" class=\"data row21 col2\" >53</td>\n",
       "    </tr>\n",
       "    <tr>\n",
       "      <th id=\"T_3fd78_level3_row22\" class=\"row_heading level3 row22\" rowspan=\"2\">1</th>\n",
       "      <th id=\"T_3fd78_level4_row22\" class=\"row_heading level4 row22\" >0</th>\n",
       "      <td id=\"T_3fd78_row22_col0\" class=\"data row22 col0\" >66</td>\n",
       "      <td id=\"T_3fd78_row22_col1\" class=\"data row22 col1\" >4</td>\n",
       "      <td id=\"T_3fd78_row22_col2\" class=\"data row22 col2\" >69</td>\n",
       "    </tr>\n",
       "    <tr>\n",
       "      <th id=\"T_3fd78_level4_row23\" class=\"row_heading level4 row23\" >1</th>\n",
       "      <td id=\"T_3fd78_row23_col0\" class=\"data row23 col0\" >58</td>\n",
       "      <td id=\"T_3fd78_row23_col1\" class=\"data row23 col1\" >4</td>\n",
       "      <td id=\"T_3fd78_row23_col2\" class=\"data row23 col2\" >52</td>\n",
       "    </tr>\n",
       "    <tr>\n",
       "      <th id=\"T_3fd78_level1_row24\" class=\"row_heading level1 row24\" rowspan=\"8\">1</th>\n",
       "      <th id=\"T_3fd78_level2_row24\" class=\"row_heading level2 row24\" rowspan=\"4\">0</th>\n",
       "      <th id=\"T_3fd78_level3_row24\" class=\"row_heading level3 row24\" rowspan=\"2\">0</th>\n",
       "      <th id=\"T_3fd78_level4_row24\" class=\"row_heading level4 row24\" >0</th>\n",
       "      <td id=\"T_3fd78_row24_col0\" class=\"data row24 col0\" >55</td>\n",
       "      <td id=\"T_3fd78_row24_col1\" class=\"data row24 col1\" >5</td>\n",
       "      <td id=\"T_3fd78_row24_col2\" class=\"data row24 col2\" >41</td>\n",
       "    </tr>\n",
       "    <tr>\n",
       "      <th id=\"T_3fd78_level4_row25\" class=\"row_heading level4 row25\" >1</th>\n",
       "      <td id=\"T_3fd78_row25_col0\" class=\"data row25 col0\" >58</td>\n",
       "      <td id=\"T_3fd78_row25_col1\" class=\"data row25 col1\" >4</td>\n",
       "      <td id=\"T_3fd78_row25_col2\" class=\"data row25 col2\" >55</td>\n",
       "    </tr>\n",
       "    <tr>\n",
       "      <th id=\"T_3fd78_level3_row26\" class=\"row_heading level3 row26\" rowspan=\"2\">1</th>\n",
       "      <th id=\"T_3fd78_level4_row26\" class=\"row_heading level4 row26\" >0</th>\n",
       "      <td id=\"T_3fd78_row26_col0\" class=\"data row26 col0\" >64</td>\n",
       "      <td id=\"T_3fd78_row26_col1\" class=\"data row26 col1\" >1</td>\n",
       "      <td id=\"T_3fd78_row26_col2\" class=\"data row26 col2\" >53</td>\n",
       "    </tr>\n",
       "    <tr>\n",
       "      <th id=\"T_3fd78_level4_row27\" class=\"row_heading level4 row27\" >1</th>\n",
       "      <td id=\"T_3fd78_row27_col0\" class=\"data row27 col0\" >80</td>\n",
       "      <td id=\"T_3fd78_row27_col1\" class=\"data row27 col1\" >2</td>\n",
       "      <td id=\"T_3fd78_row27_col2\" class=\"data row27 col2\" >47</td>\n",
       "    </tr>\n",
       "    <tr>\n",
       "      <th id=\"T_3fd78_level2_row28\" class=\"row_heading level2 row28\" rowspan=\"4\">1</th>\n",
       "      <th id=\"T_3fd78_level3_row28\" class=\"row_heading level3 row28\" rowspan=\"2\">0</th>\n",
       "      <th id=\"T_3fd78_level4_row28\" class=\"row_heading level4 row28\" >0</th>\n",
       "      <td id=\"T_3fd78_row28_col0\" class=\"data row28 col0\" >49</td>\n",
       "      <td id=\"T_3fd78_row28_col1\" class=\"data row28 col1\" >3</td>\n",
       "      <td id=\"T_3fd78_row28_col2\" class=\"data row28 col2\" >53</td>\n",
       "    </tr>\n",
       "    <tr>\n",
       "      <th id=\"T_3fd78_level4_row29\" class=\"row_heading level4 row29\" >1</th>\n",
       "      <td id=\"T_3fd78_row29_col0\" class=\"data row29 col0\" >57</td>\n",
       "      <td id=\"T_3fd78_row29_col1\" class=\"data row29 col1\" >2</td>\n",
       "      <td id=\"T_3fd78_row29_col2\" class=\"data row29 col2\" >44</td>\n",
       "    </tr>\n",
       "    <tr>\n",
       "      <th id=\"T_3fd78_level3_row30\" class=\"row_heading level3 row30\" rowspan=\"2\">1</th>\n",
       "      <th id=\"T_3fd78_level4_row30\" class=\"row_heading level4 row30\" >0</th>\n",
       "      <td id=\"T_3fd78_row30_col0\" class=\"data row30 col0\" >55</td>\n",
       "      <td id=\"T_3fd78_row30_col1\" class=\"data row30 col1\" >5</td>\n",
       "      <td id=\"T_3fd78_row30_col2\" class=\"data row30 col2\" >42</td>\n",
       "    </tr>\n",
       "    <tr>\n",
       "      <th id=\"T_3fd78_level4_row31\" class=\"row_heading level4 row31\" >1</th>\n",
       "      <td id=\"T_3fd78_row31_col0\" class=\"data row31 col0\" >47</td>\n",
       "      <td id=\"T_3fd78_row31_col1\" class=\"data row31 col1\" >54</td>\n",
       "      <td id=\"T_3fd78_row31_col2\" class=\"data row31 col2\" >39</td>\n",
       "    </tr>\n",
       "  </tbody>\n",
       "</table>\n"
      ],
      "text/plain": [
       "<pandas.io.formats.style.Styler at 0x208b08d9710>"
      ]
     },
     "execution_count": 30,
     "metadata": {},
     "output_type": "execute_result"
    }
   ],
   "source": [
    "res.style.apply(highlight_max, axis=1)"
   ]
  },
  {
   "cell_type": "code",
   "execution_count": 31,
   "id": "f824825d",
   "metadata": {},
   "outputs": [],
   "source": [
    "data['pos_freq'] = np.where(data[cols_bin].sum(axis=1 ) == 2, -1, 1)"
   ]
  },
  {
   "cell_type": "code",
   "execution_count": 32,
   "id": "8b5b27ff",
   "metadata": {},
   "outputs": [
    {
     "data": {
      "text/plain": [
       "False    1826\n",
       "True     1672\n",
       "Name: count, dtype: int64"
      ]
     },
     "execution_count": 32,
     "metadata": {},
     "output_type": "execute_result"
    }
   ],
   "source": [
    "(data['Направление'] == data['pos_freq']).value_counts()"
   ]
  },
  {
   "cell_type": "code",
   "execution_count": 33,
   "id": "5aaef1b9",
   "metadata": {},
   "outputs": [],
   "source": [
    "data['strat_freq'] = data['pos_freq'] * data['Доходность']"
   ]
  },
  {
   "cell_type": "code",
   "execution_count": 34,
   "id": "1aa009f6",
   "metadata": {},
   "outputs": [
    {
     "data": {
      "text/plain": [
       "Доходность    1.250471\n",
       "strat_freq    0.835470\n",
       "dtype: float64"
      ]
     },
     "execution_count": 34,
     "metadata": {},
     "output_type": "execute_result"
    }
   ],
   "source": [
    "data[['Доходность', 'strat_freq']].sum().apply(np.exp)"
   ]
  },
  {
   "cell_type": "code",
   "execution_count": 35,
   "id": "e8078a8a",
   "metadata": {},
   "outputs": [],
   "source": [
    "C = 1"
   ]
  },
  {
   "cell_type": "code",
   "execution_count": 36,
   "id": "c92923ed",
   "metadata": {},
   "outputs": [],
   "source": [
    "models = {\n",
    "    'log_reg': linear_model.LogisticRegression(C=C),\n",
    "    'gauss_nb': GaussianNB(),\n",
    "    'svm': SVC(C=C) \n",
    "}"
   ]
  },
  {
   "cell_type": "code",
   "execution_count": 37,
   "id": "ca50320c",
   "metadata": {},
   "outputs": [],
   "source": [
    "def fit_models(data):\n",
    "    mfit = {model: models[model].fit(data[cols_bin], data['Направление'])\n",
    "            for model in models.keys()}"
   ]
  },
  {
   "cell_type": "code",
   "execution_count": 38,
   "id": "8f2f5963",
   "metadata": {},
   "outputs": [],
   "source": [
    "fit_models(data)"
   ]
  },
  {
   "cell_type": "code",
   "execution_count": 39,
   "id": "e5aa87bf",
   "metadata": {},
   "outputs": [],
   "source": [
    "def derive_positions(data):\n",
    "    for model in models.keys():\n",
    "        data['pos_' + model] = models[model].predict(data[cols_bin]) "
   ]
  },
  {
   "cell_type": "code",
   "execution_count": 40,
   "id": "3f8db386",
   "metadata": {},
   "outputs": [],
   "source": [
    "derive_positions(data)"
   ]
  },
  {
   "cell_type": "code",
   "execution_count": 41,
   "id": "c98b519c",
   "metadata": {},
   "outputs": [],
   "source": [
    "def evaluate_strats(data):\n",
    "    global sel\n",
    "    sel = []\n",
    "    for model in models.keys():\n",
    "        col = 'strat_' + model\n",
    "        data[col] = data['pos_' + model] * data['Доходность']\n",
    "        sel.append(col)\n",
    "    sel.insert(0, 'Доходность')"
   ]
  },
  {
   "cell_type": "code",
   "execution_count": 42,
   "id": "409ac6eb",
   "metadata": {},
   "outputs": [],
   "source": [
    "evaluate_strats(data)"
   ]
  },
  {
   "cell_type": "code",
   "execution_count": 43,
   "id": "7672e53e",
   "metadata": {},
   "outputs": [],
   "source": [
    "sel.insert(1, 'strat_freq') "
   ]
  },
  {
   "cell_type": "code",
   "execution_count": 44,
   "id": "0f1fa91e",
   "metadata": {},
   "outputs": [
    {
     "data": {
      "text/plain": [
       "Доходность        1.250471\n",
       "strat_freq        0.835470\n",
       "strat_log_reg     2.187124\n",
       "strat_gauss_nb    2.187124\n",
       "strat_svm         1.520765\n",
       "dtype: float64"
      ]
     },
     "execution_count": 44,
     "metadata": {},
     "output_type": "execute_result"
    }
   ],
   "source": [
    "data[sel].sum().apply(np.exp)"
   ]
  },
  {
   "cell_type": "code",
   "execution_count": 45,
   "id": "98237136",
   "metadata": {},
   "outputs": [
    {
     "data": {
      "image/png": "[encoded data removed]",
      "text/plain": [
       "<Figure size 1000x600 with 1 Axes>"
      ]
     },
     "metadata": {},
     "output_type": "display_data"
    }
   ],
   "source": [
    "data[sel].cumsum().apply(np.exp).plot(figsize=(10, 6));"
   ]
  },
  {
   "cell_type": "markdown",
   "id": "df127524",
   "metadata": {},
   "source": [
    "# Пять дискретизированных признаков"
   ]
  },
  {
   "cell_type": "code",
   "execution_count": 46,
   "id": "f4fd1cb8",
   "metadata": {},
   "outputs": [],
   "source": [
    "mu = data['Доходность'].mean()\n",
    "v = data['Доходность'].std()"
   ]
  },
  {
   "cell_type": "code",
   "execution_count": 47,
   "id": "33d6dc1e",
   "metadata": {},
   "outputs": [
    {
     "data": {
      "text/plain": [
       "[-0.005688308460013772, 6.389940772855809e-05, 0.005816107275470889]"
      ]
     },
     "execution_count": 47,
     "metadata": {},
     "output_type": "execute_result"
    }
   ],
   "source": [
    "bins = [mu - v, mu, mu + v]\n",
    "bins"
   ]
  },
  {
   "cell_type": "code",
   "execution_count": 48,
   "id": "1ea95d3e",
   "metadata": {},
   "outputs": [],
   "source": [
    "create_bins(data, bins)"
   ]
  },
  {
   "cell_type": "code",
   "execution_count": 49,
   "id": "2368c6ed",
   "metadata": {},
   "outputs": [
    {
     "data": {
      "text/html": [
       "<div>\n",
       "<style scoped>\n",
       "    .dataframe tbody tr th:only-of-type {\n",
       "        vertical-align: middle;\n",
       "    }\n",
       "\n",
       "    .dataframe tbody tr th {\n",
       "        vertical-align: top;\n",
       "    }\n",
       "\n",
       "    .dataframe thead th {\n",
       "        text-align: right;\n",
       "    }\n",
       "</style>\n",
       "<table border=\"1\" class=\"dataframe\">\n",
       "  <thead>\n",
       "    <tr style=\"text-align: right;\">\n",
       "      <th></th>\n",
       "      <th>lag_1_bin</th>\n",
       "      <th>lag_2_bin</th>\n",
       "      <th>lag_3_bin</th>\n",
       "      <th>lag_4_bin</th>\n",
       "      <th>lag_5_bin</th>\n",
       "    </tr>\n",
       "    <tr>\n",
       "      <th>Date</th>\n",
       "      <th></th>\n",
       "      <th></th>\n",
       "      <th></th>\n",
       "      <th></th>\n",
       "      <th></th>\n",
       "    </tr>\n",
       "  </thead>\n",
       "  <tbody>\n",
       "    <tr>\n",
       "      <th>2022-2-15</th>\n",
       "      <td>1</td>\n",
       "      <td>1</td>\n",
       "      <td>1</td>\n",
       "      <td>1</td>\n",
       "      <td>2</td>\n",
       "    </tr>\n",
       "    <tr>\n",
       "      <th>2022-2-15</th>\n",
       "      <td>2</td>\n",
       "      <td>1</td>\n",
       "      <td>1</td>\n",
       "      <td>1</td>\n",
       "      <td>1</td>\n",
       "    </tr>\n",
       "    <tr>\n",
       "      <th>2022-2-15</th>\n",
       "      <td>2</td>\n",
       "      <td>2</td>\n",
       "      <td>1</td>\n",
       "      <td>1</td>\n",
       "      <td>1</td>\n",
       "    </tr>\n",
       "    <tr>\n",
       "      <th>2022-2-15</th>\n",
       "      <td>2</td>\n",
       "      <td>2</td>\n",
       "      <td>2</td>\n",
       "      <td>1</td>\n",
       "      <td>1</td>\n",
       "    </tr>\n",
       "    <tr>\n",
       "      <th>2022-2-15</th>\n",
       "      <td>1</td>\n",
       "      <td>2</td>\n",
       "      <td>2</td>\n",
       "      <td>2</td>\n",
       "      <td>1</td>\n",
       "    </tr>\n",
       "  </tbody>\n",
       "</table>\n",
       "</div>"
      ],
      "text/plain": [
       "           lag_1_bin  lag_2_bin  lag_3_bin  lag_4_bin  lag_5_bin\n",
       "Date                                                            \n",
       "2022-2-15          1          1          1          1          2\n",
       "2022-2-15          2          1          1          1          1\n",
       "2022-2-15          2          2          1          1          1\n",
       "2022-2-15          2          2          2          1          1\n",
       "2022-2-15          1          2          2          2          1"
      ]
     },
     "execution_count": 49,
     "metadata": {},
     "output_type": "execute_result"
    }
   ],
   "source": [
    "data[cols_bin].head()"
   ]
  },
  {
   "cell_type": "code",
   "execution_count": 50,
   "id": "68ea9b80",
   "metadata": {},
   "outputs": [],
   "source": [
    "fit_models(data)"
   ]
  },
  {
   "cell_type": "code",
   "execution_count": 51,
   "id": "7074fe1a",
   "metadata": {},
   "outputs": [],
   "source": [
    "derive_positions(data)"
   ]
  },
  {
   "cell_type": "code",
   "execution_count": 52,
   "id": "fe431e60",
   "metadata": {},
   "outputs": [],
   "source": [
    "evaluate_strats(data)"
   ]
  },
  {
   "cell_type": "code",
   "execution_count": 53,
   "id": "fdc62432",
   "metadata": {},
   "outputs": [
    {
     "data": {
      "text/plain": [
       "Доходность        1.250471\n",
       "strat_log_reg     2.339794\n",
       "strat_gauss_nb    2.106163\n",
       "strat_svm         6.189809\n",
       "dtype: float64"
      ]
     },
     "execution_count": 53,
     "metadata": {},
     "output_type": "execute_result"
    }
   ],
   "source": [
    "data[sel].sum().apply(np.exp) "
   ]
  },
  {
   "cell_type": "code",
   "execution_count": 54,
   "id": "49c40aab",
   "metadata": {},
   "outputs": [
    {
     "data": {
      "image/png": "[encoded data removed]",
      "text/plain": [
       "<Figure size 1000x600 with 1 Axes>"
      ]
     },
     "metadata": {},
     "output_type": "display_data"
    }
   ],
   "source": [
    "data[sel].cumsum().apply(np.exp).plot(figsize=(10, 6));"
   ]
  },
  {
   "cell_type": "markdown",
   "id": "d960fb7b",
   "metadata": {},
   "source": [
    "# Последовательное разделение данных на обучающий и тестовый наборы"
   ]
  },
  {
   "cell_type": "code",
   "execution_count": 55,
   "id": "d0034aee",
   "metadata": {},
   "outputs": [],
   "source": [
    "split = int(len(data) * 0.5) "
   ]
  },
  {
   "cell_type": "code",
   "execution_count": 56,
   "id": "5ef13f98",
   "metadata": {},
   "outputs": [],
   "source": [
    "train = data.iloc[:split].copy()"
   ]
  },
  {
   "cell_type": "code",
   "execution_count": 57,
   "id": "feea9994",
   "metadata": {},
   "outputs": [],
   "source": [
    "fit_models(train)"
   ]
  },
  {
   "cell_type": "code",
   "execution_count": 58,
   "id": "77c76b5c",
   "metadata": {},
   "outputs": [],
   "source": [
    "test = data.iloc[split:].copy()"
   ]
  },
  {
   "cell_type": "code",
   "execution_count": 59,
   "id": "6cd769e6",
   "metadata": {},
   "outputs": [],
   "source": [
    "derive_positions(test)"
   ]
  },
  {
   "cell_type": "code",
   "execution_count": 60,
   "id": "bc1a8ec1",
   "metadata": {},
   "outputs": [],
   "source": [
    "evaluate_strats(test)"
   ]
  },
  {
   "cell_type": "code",
   "execution_count": 61,
   "id": "698de4ed",
   "metadata": {},
   "outputs": [
    {
     "data": {
      "text/plain": [
       "Доходность        0.999026\n",
       "strat_log_reg     1.356582\n",
       "strat_gauss_nb    1.262236\n",
       "strat_svm         0.946058\n",
       "dtype: float64"
      ]
     },
     "execution_count": 61,
     "metadata": {},
     "output_type": "execute_result"
    }
   ],
   "source": [
    "test[sel].sum().apply(np.exp) "
   ]
  },
  {
   "cell_type": "code",
   "execution_count": 62,
   "id": "ea33a7bd",
   "metadata": {},
   "outputs": [
    {
     "data": {
      "image/png": "[encoded data removed]",
      "text/plain": [
       "<Figure size 1000x600 with 1 Axes>"
      ]
     },
     "metadata": {},
     "output_type": "display_data"
    }
   ],
   "source": [
    "test[sel].cumsum().apply(np.exp).plot(figsize=(10, 6));"
   ]
  },
  {
   "cell_type": "markdown",
   "id": "6237cfb3",
   "metadata": {},
   "source": [
    "# Рандомизированное разделение данных на обучающий и тестовый наборы"
   ]
  },
  {
   "cell_type": "code",
   "execution_count": 63,
   "id": "f4f9fdd6",
   "metadata": {},
   "outputs": [],
   "source": [
    "from sklearn.model_selection import train_test_split"
   ]
  },
  {
   "cell_type": "code",
   "execution_count": 64,
   "id": "1379b32a",
   "metadata": {},
   "outputs": [],
   "source": [
    "train, test = train_test_split(data, test_size=0.5, shuffle=True, random_state=100)"
   ]
  },
  {
   "cell_type": "code",
   "execution_count": 65,
   "id": "1e425aab",
   "metadata": {},
   "outputs": [],
   "source": [
    "train = train.copy().sort_index()"
   ]
  },
  {
   "cell_type": "code",
   "execution_count": 66,
   "id": "e94693ed",
   "metadata": {},
   "outputs": [
    {
     "data": {
      "text/html": [
       "<div>\n",
       "<style scoped>\n",
       "    .dataframe tbody tr th:only-of-type {\n",
       "        vertical-align: middle;\n",
       "    }\n",
       "\n",
       "    .dataframe tbody tr th {\n",
       "        vertical-align: top;\n",
       "    }\n",
       "\n",
       "    .dataframe thead th {\n",
       "        text-align: right;\n",
       "    }\n",
       "</style>\n",
       "<table border=\"1\" class=\"dataframe\">\n",
       "  <thead>\n",
       "    <tr style=\"text-align: right;\">\n",
       "      <th></th>\n",
       "      <th>lag_1_bin</th>\n",
       "      <th>lag_2_bin</th>\n",
       "      <th>lag_3_bin</th>\n",
       "      <th>lag_4_bin</th>\n",
       "      <th>lag_5_bin</th>\n",
       "    </tr>\n",
       "    <tr>\n",
       "      <th>Date</th>\n",
       "      <th></th>\n",
       "      <th></th>\n",
       "      <th></th>\n",
       "      <th></th>\n",
       "      <th></th>\n",
       "    </tr>\n",
       "  </thead>\n",
       "  <tbody>\n",
       "    <tr>\n",
       "      <th>2022-2-15</th>\n",
       "      <td>2</td>\n",
       "      <td>2</td>\n",
       "      <td>1</td>\n",
       "      <td>1</td>\n",
       "      <td>1</td>\n",
       "    </tr>\n",
       "    <tr>\n",
       "      <th>2022-2-15</th>\n",
       "      <td>2</td>\n",
       "      <td>1</td>\n",
       "      <td>1</td>\n",
       "      <td>1</td>\n",
       "      <td>1</td>\n",
       "    </tr>\n",
       "    <tr>\n",
       "      <th>2022-2-15</th>\n",
       "      <td>1</td>\n",
       "      <td>1</td>\n",
       "      <td>1</td>\n",
       "      <td>1</td>\n",
       "      <td>1</td>\n",
       "    </tr>\n",
       "    <tr>\n",
       "      <th>2022-2-15</th>\n",
       "      <td>2</td>\n",
       "      <td>2</td>\n",
       "      <td>2</td>\n",
       "      <td>1</td>\n",
       "      <td>1</td>\n",
       "    </tr>\n",
       "    <tr>\n",
       "      <th>2022-2-15</th>\n",
       "      <td>2</td>\n",
       "      <td>2</td>\n",
       "      <td>1</td>\n",
       "      <td>1</td>\n",
       "      <td>1</td>\n",
       "    </tr>\n",
       "  </tbody>\n",
       "</table>\n",
       "</div>"
      ],
      "text/plain": [
       "           lag_1_bin  lag_2_bin  lag_3_bin  lag_4_bin  lag_5_bin\n",
       "Date                                                            \n",
       "2022-2-15          2          2          1          1          1\n",
       "2022-2-15          2          1          1          1          1\n",
       "2022-2-15          1          1          1          1          1\n",
       "2022-2-15          2          2          2          1          1\n",
       "2022-2-15          2          2          1          1          1"
      ]
     },
     "execution_count": 66,
     "metadata": {},
     "output_type": "execute_result"
    }
   ],
   "source": [
    "train[cols_bin].head()"
   ]
  },
  {
   "cell_type": "code",
   "execution_count": 67,
   "id": "87fe2a63",
   "metadata": {},
   "outputs": [],
   "source": [
    "test = test.copy().sort_index()"
   ]
  },
  {
   "cell_type": "code",
   "execution_count": 68,
   "id": "34fca402",
   "metadata": {},
   "outputs": [],
   "source": [
    "fit_models(train)"
   ]
  },
  {
   "cell_type": "code",
   "execution_count": 69,
   "id": "e84a953e",
   "metadata": {},
   "outputs": [],
   "source": [
    "derive_positions(test)"
   ]
  },
  {
   "cell_type": "code",
   "execution_count": 70,
   "id": "abf701a4",
   "metadata": {},
   "outputs": [],
   "source": [
    "evaluate_strats(test)"
   ]
  },
  {
   "cell_type": "code",
   "execution_count": 71,
   "id": "50a84292",
   "metadata": {},
   "outputs": [
    {
     "data": {
      "text/plain": [
       "Доходность        1.160471\n",
       "strat_log_reg     1.927797\n",
       "strat_gauss_nb    1.949770\n",
       "strat_svm         1.615714\n",
       "dtype: float64"
      ]
     },
     "execution_count": 71,
     "metadata": {},
     "output_type": "execute_result"
    }
   ],
   "source": [
    "test[sel].sum().apply(np.exp)"
   ]
  },
  {
   "cell_type": "code",
   "execution_count": 72,
   "id": "c6b46dd1",
   "metadata": {},
   "outputs": [
    {
     "data": {
      "image/png": "[encoded data removed]",
      "text/plain": [
       "<Figure size 1000x600 with 1 Axes>"
      ]
     },
     "metadata": {},
     "output_type": "display_data"
    }
   ],
   "source": [
    "test[sel].cumsum().apply(np.exp).plot(figsize=(10, 6));"
   ]
  },
  {
   "cell_type": "markdown",
   "id": "1b23ba95",
   "metadata": {},
   "source": [
    "# Глубокие нейронные сети"
   ]
  },
  {
   "cell_type": "markdown",
   "id": "1744ca86",
   "metadata": {},
   "source": [
    "Глубокие нейронные сети (Deep Neural Networks — DNN) пытаются моделировать работу человеческого мозга. Они обычно состоят из входного слоя (признаков), выходного слоя (метки) и определенного количества скрытых слоев. Наличие скрытых слоев как раз и делает нейронную сеть глубокой. Такие нейронные сети способны обучаться сложным зависимостям и демонстрировать более высокую эффективность при решении целого ряда задач. В этом контексте обычно говорят не о машинном обучении, а о глубоком обучении."
   ]
  },
  {
   "cell_type": "markdown",
   "id": "822d0e50",
   "metadata": {},
   "source": [
    "# DNN и библиотека Scikit-learn"
   ]
  },
  {
   "cell_type": "markdown",
   "id": "28b37337",
   "metadata": {},
   "source": [
    "В этом разделемы применим алгоритм MLPClassifier избиблиотеки Scikit-learn, с которым познакомились в главе 13. Сначала он обучается и тестируется на всем наборе данных с использованием дискретизированных признаков. Алгоритм демонстрирует исключительную доходность в пределах выборки, что свидетельствует об огромных возможностях DNN в решении такого рода задач. Но вероятнее всего, мы имеем дело с сильным переобучением, поскольку доходность выглядит неестественно высокой."
   ]
  },
  {
   "cell_type": "code",
   "execution_count": 73,
   "id": "7cd347bb",
   "metadata": {},
   "outputs": [],
   "source": [
    "from sklearn.neural_network import MLPClassifier"
   ]
  },
  {
   "cell_type": "code",
   "execution_count": 74,
   "id": "2ea0743b",
   "metadata": {},
   "outputs": [
    {
     "data": {
      "text/html": [
       "<div>\n",
       "<style scoped>\n",
       "    .dataframe tbody tr th:only-of-type {\n",
       "        vertical-align: middle;\n",
       "    }\n",
       "\n",
       "    .dataframe tbody tr th {\n",
       "        vertical-align: top;\n",
       "    }\n",
       "\n",
       "    .dataframe thead th {\n",
       "        text-align: right;\n",
       "    }\n",
       "</style>\n",
       "<table border=\"1\" class=\"dataframe\">\n",
       "  <thead>\n",
       "    <tr style=\"text-align: right;\">\n",
       "      <th></th>\n",
       "      <th>lag_1_bin</th>\n",
       "      <th>lag_2_bin</th>\n",
       "      <th>lag_3_bin</th>\n",
       "      <th>lag_4_bin</th>\n",
       "      <th>lag_5_bin</th>\n",
       "    </tr>\n",
       "    <tr>\n",
       "      <th>Date</th>\n",
       "      <th></th>\n",
       "      <th></th>\n",
       "      <th></th>\n",
       "      <th></th>\n",
       "      <th></th>\n",
       "    </tr>\n",
       "  </thead>\n",
       "  <tbody>\n",
       "    <tr>\n",
       "      <th>2022-2-15</th>\n",
       "      <td>1</td>\n",
       "      <td>1</td>\n",
       "      <td>1</td>\n",
       "      <td>1</td>\n",
       "      <td>2</td>\n",
       "    </tr>\n",
       "    <tr>\n",
       "      <th>2022-2-15</th>\n",
       "      <td>2</td>\n",
       "      <td>1</td>\n",
       "      <td>1</td>\n",
       "      <td>1</td>\n",
       "      <td>1</td>\n",
       "    </tr>\n",
       "    <tr>\n",
       "      <th>2022-2-15</th>\n",
       "      <td>2</td>\n",
       "      <td>2</td>\n",
       "      <td>1</td>\n",
       "      <td>1</td>\n",
       "      <td>1</td>\n",
       "    </tr>\n",
       "    <tr>\n",
       "      <th>2022-2-15</th>\n",
       "      <td>2</td>\n",
       "      <td>2</td>\n",
       "      <td>2</td>\n",
       "      <td>1</td>\n",
       "      <td>1</td>\n",
       "    </tr>\n",
       "    <tr>\n",
       "      <th>2022-2-15</th>\n",
       "      <td>1</td>\n",
       "      <td>2</td>\n",
       "      <td>2</td>\n",
       "      <td>2</td>\n",
       "      <td>1</td>\n",
       "    </tr>\n",
       "    <tr>\n",
       "      <th>2022-2-15</th>\n",
       "      <td>1</td>\n",
       "      <td>1</td>\n",
       "      <td>2</td>\n",
       "      <td>2</td>\n",
       "      <td>2</td>\n",
       "    </tr>\n",
       "    <tr>\n",
       "      <th>2022-2-15</th>\n",
       "      <td>1</td>\n",
       "      <td>1</td>\n",
       "      <td>1</td>\n",
       "      <td>2</td>\n",
       "      <td>2</td>\n",
       "    </tr>\n",
       "    <tr>\n",
       "      <th>2022-2-15</th>\n",
       "      <td>2</td>\n",
       "      <td>1</td>\n",
       "      <td>1</td>\n",
       "      <td>1</td>\n",
       "      <td>2</td>\n",
       "    </tr>\n",
       "    <tr>\n",
       "      <th>2022-2-15</th>\n",
       "      <td>1</td>\n",
       "      <td>2</td>\n",
       "      <td>1</td>\n",
       "      <td>1</td>\n",
       "      <td>1</td>\n",
       "    </tr>\n",
       "    <tr>\n",
       "      <th>2022-2-15</th>\n",
       "      <td>2</td>\n",
       "      <td>1</td>\n",
       "      <td>2</td>\n",
       "      <td>1</td>\n",
       "      <td>1</td>\n",
       "    </tr>\n",
       "  </tbody>\n",
       "</table>\n",
       "</div>"
      ],
      "text/plain": [
       "           lag_1_bin  lag_2_bin  lag_3_bin  lag_4_bin  lag_5_bin\n",
       "Date                                                            \n",
       "2022-2-15          1          1          1          1          2\n",
       "2022-2-15          2          1          1          1          1\n",
       "2022-2-15          2          2          1          1          1\n",
       "2022-2-15          2          2          2          1          1\n",
       "2022-2-15          1          2          2          2          1\n",
       "2022-2-15          1          1          2          2          2\n",
       "2022-2-15          1          1          1          2          2\n",
       "2022-2-15          2          1          1          1          2\n",
       "2022-2-15          1          2          1          1          1\n",
       "2022-2-15          2          1          2          1          1"
      ]
     },
     "execution_count": 74,
     "metadata": {},
     "output_type": "execute_result"
    }
   ],
   "source": [
    "data[cols_bin].head(10)"
   ]
  },
  {
   "cell_type": "code",
   "execution_count": 75,
   "id": "a9f88844",
   "metadata": {},
   "outputs": [
    {
     "data": {
      "text/plain": [
       "Date\n",
       "2022-2-15    1\n",
       "2022-2-15    1\n",
       "2022-2-15    1\n",
       "2022-2-15   -1\n",
       "2022-2-15   -1\n",
       "2022-2-15   -1\n",
       "2022-2-15    1\n",
       "2022-2-15   -1\n",
       "2022-2-15    1\n",
       "2022-2-15   -1\n",
       "Name: Направление, dtype: int32"
      ]
     },
     "execution_count": 75,
     "metadata": {},
     "output_type": "execute_result"
    }
   ],
   "source": [
    "data['Направление'].head(10)"
   ]
  },
  {
   "cell_type": "code",
   "execution_count": 76,
   "id": "3e9b42da",
   "metadata": {},
   "outputs": [],
   "source": [
    "model = MLPClassifier(solver='lbfgs', alpha=1e-5, hidden_layer_sizes=2 * [250], random_state=1)"
   ]
  },
  {
   "cell_type": "code",
   "execution_count": 77,
   "id": "7a252b9c",
   "metadata": {},
   "outputs": [
    {
     "name": "stdout",
     "output_type": "stream",
     "text": [
      "CPU times: total: 2min 18s\n",
      "Wall time: 13.6 s\n"
     ]
    },
    {
     "name": "stderr",
     "output_type": "stream",
     "text": [
      "e:\\repo\\TradingAlgorithmsandAutomations\\.venv\\Lib\\site-packages\\sklearn\\neural_network\\_multilayer_perceptron.py:546: ConvergenceWarning: lbfgs failed to converge (status=1):\n",
      "STOP: TOTAL NO. of ITERATIONS REACHED LIMIT.\n",
      "\n",
      "Increase the number of iterations (max_iter) or scale the data as shown in:\n",
      "    https://scikit-learn.org/stable/modules/preprocessing.html\n",
      "  self.n_iter_ = _check_optimize_result(\"lbfgs\", opt_res, self.max_iter)\n"
     ]
    },
    {
     "data": {
      "text/html": [
       "<style>#sk-container-id-1 {\n",
       "  /* Definition of color scheme common for light and dark mode */\n",
       "  --sklearn-color-text: black;\n",
       "  --sklearn-color-line: gray;\n",
       "  /* Definition of color scheme for unfitted estimators */\n",
       "  --sklearn-color-unfitted-level-0: #fff5e6;\n",
       "  --sklearn-color-unfitted-level-1: #f6e4d2;\n",
       "  --sklearn-color-unfitted-level-2: #ffe0b3;\n",
       "  --sklearn-color-unfitted-level-3: chocolate;\n",
       "  /* Definition of color scheme for fitted estimators */\n",
       "  --sklearn-color-fitted-level-0: #f0f8ff;\n",
       "  --sklearn-color-fitted-level-1: #d4ebff;\n",
       "  --sklearn-color-fitted-level-2: #b3dbfd;\n",
       "  --sklearn-color-fitted-level-3: cornflowerblue;\n",
       "\n",
       "  /* Specific color for light theme */\n",
       "  --sklearn-color-text-on-default-background: var(--sg-text-color, var(--theme-code-foreground, var(--jp-content-font-color1, black)));\n",
       "  --sklearn-color-background: var(--sg-background-color, var(--theme-background, var(--jp-layout-color0, white)));\n",
       "  --sklearn-color-border-box: var(--sg-text-color, var(--theme-code-foreground, var(--jp-content-font-color1, black)));\n",
       "  --sklearn-color-icon: #696969;\n",
       "\n",
       "  @media (prefers-color-scheme: dark) {\n",
       "    /* Redefinition of color scheme for dark theme */\n",
       "    --sklearn-color-text-on-default-background: var(--sg-text-color, var(--theme-code-foreground, var(--jp-content-font-color1, white)));\n",
       "    --sklearn-color-background: var(--sg-background-color, var(--theme-background, var(--jp-layout-color0, #111)));\n",
       "    --sklearn-color-border-box: var(--sg-text-color, var(--theme-code-foreground, var(--jp-content-font-color1, white)));\n",
       "    --sklearn-color-icon: #878787;\n",
       "  }\n",
       "}\n",
       "\n",
       "#sk-container-id-1 {\n",
       "  color: var(--sklearn-color-text);\n",
       "}\n",
       "\n",
       "#sk-container-id-1 pre {\n",
       "  padding: 0;\n",
       "}\n",
       "\n",
       "#sk-container-id-1 input.sk-hidden--visually {\n",
       "  border: 0;\n",
       "  clip: rect(1px 1px 1px 1px);\n",
       "  clip: rect(1px, 1px, 1px, 1px);\n",
       "  height: 1px;\n",
       "  margin: -1px;\n",
       "  overflow: hidden;\n",
       "  padding: 0;\n",
       "  position: absolute;\n",
       "  width: 1px;\n",
       "}\n",
       "\n",
       "#sk-container-id-1 div.sk-dashed-wrapped {\n",
       "  border: 1px dashed var(--sklearn-color-line);\n",
       "  margin: 0 0.4em 0.5em 0.4em;\n",
       "  box-sizing: border-box;\n",
       "  padding-bottom: 0.4em;\n",
       "  background-color: var(--sklearn-color-background);\n",
       "}\n",
       "\n",
       "#sk-container-id-1 div.sk-container {\n",
       "  /* jupyter's `normalize.less` sets `[hidden] { display: none; }`\n",
       "     but bootstrap.min.css set `[hidden] { display: none !important; }`\n",
       "     so we also need the `!important` here to be able to override the\n",
       "     default hidden behavior on the sphinx rendered scikit-learn.org.\n",
       "     See: https://github.com/scikit-learn/scikit-learn/issues/21755 */\n",
       "  display: inline-block !important;\n",
       "  position: relative;\n",
       "}\n",
       "\n",
       "#sk-container-id-1 div.sk-text-repr-fallback {\n",
       "  display: none;\n",
       "}\n",
       "\n",
       "div.sk-parallel-item,\n",
       "div.sk-serial,\n",
       "div.sk-item {\n",
       "  /* draw centered vertical line to link estimators */\n",
       "  background-image: linear-gradient(var(--sklearn-color-text-on-default-background), var(--sklearn-color-text-on-default-background));\n",
       "  background-size: 2px 100%;\n",
       "  background-repeat: no-repeat;\n",
       "  background-position: center center;\n",
       "}\n",
       "\n",
       "/* Parallel-specific style estimator block */\n",
       "\n",
       "#sk-container-id-1 div.sk-parallel-item::after {\n",
       "  content: \"\";\n",
       "  width: 100%;\n",
       "  border-bottom: 2px solid var(--sklearn-color-text-on-default-background);\n",
       "  flex-grow: 1;\n",
       "}\n",
       "\n",
       "#sk-container-id-1 div.sk-parallel {\n",
       "  display: flex;\n",
       "  align-items: stretch;\n",
       "  justify-content: center;\n",
       "  background-color: var(--sklearn-color-background);\n",
       "  position: relative;\n",
       "}\n",
       "\n",
       "#sk-container-id-1 div.sk-parallel-item {\n",
       "  display: flex;\n",
       "  flex-direction: column;\n",
       "}\n",
       "\n",
       "#sk-container-id-1 div.sk-parallel-item:first-child::after {\n",
       "  align-self: flex-end;\n",
       "  width: 50%;\n",
       "}\n",
       "\n",
       "#sk-container-id-1 div.sk-parallel-item:last-child::after {\n",
       "  align-self: flex-start;\n",
       "  width: 50%;\n",
       "}\n",
       "\n",
       "#sk-container-id-1 div.sk-parallel-item:only-child::after {\n",
       "  width: 0;\n",
       "}\n",
       "\n",
       "/* Serial-specific style estimator block */\n",
       "\n",
       "#sk-container-id-1 div.sk-serial {\n",
       "  display: flex;\n",
       "  flex-direction: column;\n",
       "  align-items: center;\n",
       "  background-color: var(--sklearn-color-background);\n",
       "  padding-right: 1em;\n",
       "  padding-left: 1em;\n",
       "}\n",
       "\n",
       "\n",
       "/* Toggleable style: style used for estimator/Pipeline/ColumnTransformer box that is\n",
       "clickable and can be expanded/collapsed.\n",
       "- Pipeline and ColumnTransformer use this feature and define the default style\n",
       "- Estimators will overwrite some part of the style using the `sk-estimator` class\n",
       "*/\n",
       "\n",
       "/* Pipeline and ColumnTransformer style (default) */\n",
       "\n",
       "#sk-container-id-1 div.sk-toggleable {\n",
       "  /* Default theme specific background. It is overwritten whether we have a\n",
       "  specific estimator or a Pipeline/ColumnTransformer */\n",
       "  background-color: var(--sklearn-color-background);\n",
       "}\n",
       "\n",
       "/* Toggleable label */\n",
       "#sk-container-id-1 label.sk-toggleable__label {\n",
       "  cursor: pointer;\n",
       "  display: block;\n",
       "  width: 100%;\n",
       "  margin-bottom: 0;\n",
       "  padding: 0.5em;\n",
       "  box-sizing: border-box;\n",
       "  text-align: center;\n",
       "}\n",
       "\n",
       "#sk-container-id-1 label.sk-toggleable__label-arrow:before {\n",
       "  /* Arrow on the left of the label */\n",
       "  content: \"▸\";\n",
       "  float: left;\n",
       "  margin-right: 0.25em;\n",
       "  color: var(--sklearn-color-icon);\n",
       "}\n",
       "\n",
       "#sk-container-id-1 label.sk-toggleable__label-arrow:hover:before {\n",
       "  color: var(--sklearn-color-text);\n",
       "}\n",
       "\n",
       "/* Toggleable content - dropdown */\n",
       "\n",
       "#sk-container-id-1 div.sk-toggleable__content {\n",
       "  max-height: 0;\n",
       "  max-width: 0;\n",
       "  overflow: hidden;\n",
       "  text-align: left;\n",
       "  /* unfitted */\n",
       "  background-color: var(--sklearn-color-unfitted-level-0);\n",
       "}\n",
       "\n",
       "#sk-container-id-1 div.sk-toggleable__content.fitted {\n",
       "  /* fitted */\n",
       "  background-color: var(--sklearn-color-fitted-level-0);\n",
       "}\n",
       "\n",
       "#sk-container-id-1 div.sk-toggleable__content pre {\n",
       "  margin: 0.2em;\n",
       "  border-radius: 0.25em;\n",
       "  color: var(--sklearn-color-text);\n",
       "  /* unfitted */\n",
       "  background-color: var(--sklearn-color-unfitted-level-0);\n",
       "}\n",
       "\n",
       "#sk-container-id-1 div.sk-toggleable__content.fitted pre {\n",
       "  /* unfitted */\n",
       "  background-color: var(--sklearn-color-fitted-level-0);\n",
       "}\n",
       "\n",
       "#sk-container-id-1 input.sk-toggleable__control:checked~div.sk-toggleable__content {\n",
       "  /* Expand drop-down */\n",
       "  max-height: 200px;\n",
       "  max-width: 100%;\n",
       "  overflow: auto;\n",
       "}\n",
       "\n",
       "#sk-container-id-1 input.sk-toggleable__control:checked~label.sk-toggleable__label-arrow:before {\n",
       "  content: \"▾\";\n",
       "}\n",
       "\n",
       "/* Pipeline/ColumnTransformer-specific style */\n",
       "\n",
       "#sk-container-id-1 div.sk-label input.sk-toggleable__control:checked~label.sk-toggleable__label {\n",
       "  color: var(--sklearn-color-text);\n",
       "  background-color: var(--sklearn-color-unfitted-level-2);\n",
       "}\n",
       "\n",
       "#sk-container-id-1 div.sk-label.fitted input.sk-toggleable__control:checked~label.sk-toggleable__label {\n",
       "  background-color: var(--sklearn-color-fitted-level-2);\n",
       "}\n",
       "\n",
       "/* Estimator-specific style */\n",
       "\n",
       "/* Colorize estimator box */\n",
       "#sk-container-id-1 div.sk-estimator input.sk-toggleable__control:checked~label.sk-toggleable__label {\n",
       "  /* unfitted */\n",
       "  background-color: var(--sklearn-color-unfitted-level-2);\n",
       "}\n",
       "\n",
       "#sk-container-id-1 div.sk-estimator.fitted input.sk-toggleable__control:checked~label.sk-toggleable__label {\n",
       "  /* fitted */\n",
       "  background-color: var(--sklearn-color-fitted-level-2);\n",
       "}\n",
       "\n",
       "#sk-container-id-1 div.sk-label label.sk-toggleable__label,\n",
       "#sk-container-id-1 div.sk-label label {\n",
       "  /* The background is the default theme color */\n",
       "  color: var(--sklearn-color-text-on-default-background);\n",
       "}\n",
       "\n",
       "/* On hover, darken the color of the background */\n",
       "#sk-container-id-1 div.sk-label:hover label.sk-toggleable__label {\n",
       "  color: var(--sklearn-color-text);\n",
       "  background-color: var(--sklearn-color-unfitted-level-2);\n",
       "}\n",
       "\n",
       "/* Label box, darken color on hover, fitted */\n",
       "#sk-container-id-1 div.sk-label.fitted:hover label.sk-toggleable__label.fitted {\n",
       "  color: var(--sklearn-color-text);\n",
       "  background-color: var(--sklearn-color-fitted-level-2);\n",
       "}\n",
       "\n",
       "/* Estimator label */\n",
       "\n",
       "#sk-container-id-1 div.sk-label label {\n",
       "  font-family: monospace;\n",
       "  font-weight: bold;\n",
       "  display: inline-block;\n",
       "  line-height: 1.2em;\n",
       "}\n",
       "\n",
       "#sk-container-id-1 div.sk-label-container {\n",
       "  text-align: center;\n",
       "}\n",
       "\n",
       "/* Estimator-specific */\n",
       "#sk-container-id-1 div.sk-estimator {\n",
       "  font-family: monospace;\n",
       "  border: 1px dotted var(--sklearn-color-border-box);\n",
       "  border-radius: 0.25em;\n",
       "  box-sizing: border-box;\n",
       "  margin-bottom: 0.5em;\n",
       "  /* unfitted */\n",
       "  background-color: var(--sklearn-color-unfitted-level-0);\n",
       "}\n",
       "\n",
       "#sk-container-id-1 div.sk-estimator.fitted {\n",
       "  /* fitted */\n",
       "  background-color: var(--sklearn-color-fitted-level-0);\n",
       "}\n",
       "\n",
       "/* on hover */\n",
       "#sk-container-id-1 div.sk-estimator:hover {\n",
       "  /* unfitted */\n",
       "  background-color: var(--sklearn-color-unfitted-level-2);\n",
       "}\n",
       "\n",
       "#sk-container-id-1 div.sk-estimator.fitted:hover {\n",
       "  /* fitted */\n",
       "  background-color: var(--sklearn-color-fitted-level-2);\n",
       "}\n",
       "\n",
       "/* Specification for estimator info (e.g. \"i\" and \"?\") */\n",
       "\n",
       "/* Common style for \"i\" and \"?\" */\n",
       "\n",
       ".sk-estimator-doc-link,\n",
       "a:link.sk-estimator-doc-link,\n",
       "a:visited.sk-estimator-doc-link {\n",
       "  float: right;\n",
       "  font-size: smaller;\n",
       "  line-height: 1em;\n",
       "  font-family: monospace;\n",
       "  background-color: var(--sklearn-color-background);\n",
       "  border-radius: 1em;\n",
       "  height: 1em;\n",
       "  width: 1em;\n",
       "  text-decoration: none !important;\n",
       "  margin-left: 1ex;\n",
       "  /* unfitted */\n",
       "  border: var(--sklearn-color-unfitted-level-1) 1pt solid;\n",
       "  color: var(--sklearn-color-unfitted-level-1);\n",
       "}\n",
       "\n",
       ".sk-estimator-doc-link.fitted,\n",
       "a:link.sk-estimator-doc-link.fitted,\n",
       "a:visited.sk-estimator-doc-link.fitted {\n",
       "  /* fitted */\n",
       "  border: var(--sklearn-color-fitted-level-1) 1pt solid;\n",
       "  color: var(--sklearn-color-fitted-level-1);\n",
       "}\n",
       "\n",
       "/* On hover */\n",
       "div.sk-estimator:hover .sk-estimator-doc-link:hover,\n",
       ".sk-estimator-doc-link:hover,\n",
       "div.sk-label-container:hover .sk-estimator-doc-link:hover,\n",
       ".sk-estimator-doc-link:hover {\n",
       "  /* unfitted */\n",
       "  background-color: var(--sklearn-color-unfitted-level-3);\n",
       "  color: var(--sklearn-color-background);\n",
       "  text-decoration: none;\n",
       "}\n",
       "\n",
       "div.sk-estimator.fitted:hover .sk-estimator-doc-link.fitted:hover,\n",
       ".sk-estimator-doc-link.fitted:hover,\n",
       "div.sk-label-container:hover .sk-estimator-doc-link.fitted:hover,\n",
       ".sk-estimator-doc-link.fitted:hover {\n",
       "  /* fitted */\n",
       "  background-color: var(--sklearn-color-fitted-level-3);\n",
       "  color: var(--sklearn-color-background);\n",
       "  text-decoration: none;\n",
       "}\n",
       "\n",
       "/* Span, style for the box shown on hovering the info icon */\n",
       ".sk-estimator-doc-link span {\n",
       "  display: none;\n",
       "  z-index: 9999;\n",
       "  position: relative;\n",
       "  font-weight: normal;\n",
       "  right: .2ex;\n",
       "  padding: .5ex;\n",
       "  margin: .5ex;\n",
       "  width: min-content;\n",
       "  min-width: 20ex;\n",
       "  max-width: 50ex;\n",
       "  color: var(--sklearn-color-text);\n",
       "  box-shadow: 2pt 2pt 4pt #999;\n",
       "  /* unfitted */\n",
       "  background: var(--sklearn-color-unfitted-level-0);\n",
       "  border: .5pt solid var(--sklearn-color-unfitted-level-3);\n",
       "}\n",
       "\n",
       ".sk-estimator-doc-link.fitted span {\n",
       "  /* fitted */\n",
       "  background: var(--sklearn-color-fitted-level-0);\n",
       "  border: var(--sklearn-color-fitted-level-3);\n",
       "}\n",
       "\n",
       ".sk-estimator-doc-link:hover span {\n",
       "  display: block;\n",
       "}\n",
       "\n",
       "/* \"?\"-specific style due to the `<a>` HTML tag */\n",
       "\n",
       "#sk-container-id-1 a.estimator_doc_link {\n",
       "  float: right;\n",
       "  font-size: 1rem;\n",
       "  line-height: 1em;\n",
       "  font-family: monospace;\n",
       "  background-color: var(--sklearn-color-background);\n",
       "  border-radius: 1rem;\n",
       "  height: 1rem;\n",
       "  width: 1rem;\n",
       "  text-decoration: none;\n",
       "  /* unfitted */\n",
       "  color: var(--sklearn-color-unfitted-level-1);\n",
       "  border: var(--sklearn-color-unfitted-level-1) 1pt solid;\n",
       "}\n",
       "\n",
       "#sk-container-id-1 a.estimator_doc_link.fitted {\n",
       "  /* fitted */\n",
       "  border: var(--sklearn-color-fitted-level-1) 1pt solid;\n",
       "  color: var(--sklearn-color-fitted-level-1);\n",
       "}\n",
       "\n",
       "/* On hover */\n",
       "#sk-container-id-1 a.estimator_doc_link:hover {\n",
       "  /* unfitted */\n",
       "  background-color: var(--sklearn-color-unfitted-level-3);\n",
       "  color: var(--sklearn-color-background);\n",
       "  text-decoration: none;\n",
       "}\n",
       "\n",
       "#sk-container-id-1 a.estimator_doc_link.fitted:hover {\n",
       "  /* fitted */\n",
       "  background-color: var(--sklearn-color-fitted-level-3);\n",
       "}\n",
       "</style><div id=\"sk-container-id-1\" class=\"sk-top-container\"><div class=\"sk-text-repr-fallback\"><pre>MLPClassifier(alpha=1e-05, hidden_layer_sizes=[250, 250], random_state=1,\n",
       "              solver=&#x27;lbfgs&#x27;)</pre><b>In a Jupyter environment, please rerun this cell to show the HTML representation or trust the notebook. <br />On GitHub, the HTML representation is unable to render, please try loading this page with nbviewer.org.</b></div><div class=\"sk-container\" hidden><div class=\"sk-item\"><div class=\"sk-estimator fitted sk-toggleable\"><input class=\"sk-toggleable__control sk-hidden--visually\" id=\"sk-estimator-id-1\" type=\"checkbox\" checked><label for=\"sk-estimator-id-1\" class=\"sk-toggleable__label fitted sk-toggleable__label-arrow fitted\">&nbsp;&nbsp;MLPClassifier<a class=\"sk-estimator-doc-link fitted\" rel=\"noreferrer\" target=\"_blank\" href=\"https://scikit-learn.org/1.4/modules/generated/sklearn.neural_network.MLPClassifier.html\">?<span>Documentation for MLPClassifier</span></a><span class=\"sk-estimator-doc-link fitted\">i<span>Fitted</span></span></label><div class=\"sk-toggleable__content fitted\"><pre>MLPClassifier(alpha=1e-05, hidden_layer_sizes=[250, 250], random_state=1,\n",
       "              solver=&#x27;lbfgs&#x27;)</pre></div> </div></div></div></div>"
      ],
      "text/plain": [
       "MLPClassifier(alpha=1e-05, hidden_layer_sizes=[250, 250], random_state=1,\n",
       "              solver='lbfgs')"
      ]
     },
     "execution_count": 77,
     "metadata": {},
     "output_type": "execute_result"
    }
   ],
   "source": [
    "%time model.fit(data[cols_bin], data['Направление']) "
   ]
  },
  {
   "cell_type": "code",
   "execution_count": 78,
   "id": "3da86c6f",
   "metadata": {},
   "outputs": [],
   "source": [
    "# прогнозируем ту колонку, которая нам нужна\n",
    "data['pos_dnn_sk'] = model.predict(data[cols_bin])"
   ]
  },
  {
   "cell_type": "code",
   "execution_count": 79,
   "id": "0a56a5fc",
   "metadata": {},
   "outputs": [
    {
     "data": {
      "text/plain": [
       "Date\n",
       "2022-2-15    1\n",
       "2022-2-15    1\n",
       "2022-2-15   -1\n",
       "2022-2-15    1\n",
       "2022-2-15   -1\n",
       "2022-2-15    1\n",
       "2022-2-15    1\n",
       "2022-2-15   -1\n",
       "2022-2-15    1\n",
       "2022-2-15    1\n",
       "Name: pos_dnn_sk, dtype: int32"
      ]
     },
     "execution_count": 79,
     "metadata": {},
     "output_type": "execute_result"
    }
   ],
   "source": [
    "data['pos_dnn_sk'].head(10)"
   ]
  },
  {
   "cell_type": "code",
   "execution_count": 80,
   "id": "39675083",
   "metadata": {},
   "outputs": [],
   "source": [
    "data['strat_dnn_sk'] = data['pos_dnn_sk'] * data['Доходность']"
   ]
  },
  {
   "cell_type": "code",
   "execution_count": 81,
   "id": "26e44642",
   "metadata": {},
   "outputs": [
    {
     "data": {
      "text/plain": [
       "Доходность      1.250471\n",
       "strat_dnn_sk    7.977968\n",
       "dtype: float64"
      ]
     },
     "execution_count": 81,
     "metadata": {},
     "output_type": "execute_result"
    }
   ],
   "source": [
    "data[['Доходность', 'strat_dnn_sk']].sum().apply(np.exp) "
   ]
  },
  {
   "cell_type": "code",
   "execution_count": 82,
   "id": "55658d6f",
   "metadata": {},
   "outputs": [
    {
     "data": {
      "image/png": "[encoded data removed]",
      "text/plain": [
       "<Figure size 1000x600 with 1 Axes>"
      ]
     },
     "metadata": {},
     "output_type": "display_data"
    }
   ],
   "source": [
    "data[['Доходность', 'strat_dnn_sk']].cumsum().apply(np.exp).plot(figsize=(10, 6));"
   ]
  },
  {
   "cell_type": "code",
   "execution_count": 83,
   "id": "c6554064",
   "metadata": {},
   "outputs": [],
   "source": [
    "train, test = train_test_split(data, test_size=0.5, random_state=100) "
   ]
  },
  {
   "cell_type": "code",
   "execution_count": 84,
   "id": "4edbe113",
   "metadata": {},
   "outputs": [],
   "source": [
    "train = train.copy().sort_index() "
   ]
  },
  {
   "cell_type": "code",
   "execution_count": 85,
   "id": "1f6e92e2",
   "metadata": {},
   "outputs": [],
   "source": [
    "test = test.copy().sort_index()"
   ]
  },
  {
   "cell_type": "code",
   "execution_count": 86,
   "id": "09a47ce1",
   "metadata": {},
   "outputs": [],
   "source": [
    "model = MLPClassifier(solver='lbfgs', alpha=1e-5, max_iter=500, hidden_layer_sizes=3 * [500], random_state=1)"
   ]
  },
  {
   "cell_type": "code",
   "execution_count": 87,
   "id": "b304627a",
   "metadata": {},
   "outputs": [
    {
     "name": "stdout",
     "output_type": "stream",
     "text": [
      "CPU times: total: 12min 40s\n",
      "Wall time: 1min 37s\n"
     ]
    },
    {
     "name": "stderr",
     "output_type": "stream",
     "text": [
      "e:\\repo\\TradingAlgorithmsandAutomations\\.venv\\Lib\\site-packages\\sklearn\\neural_network\\_multilayer_perceptron.py:546: ConvergenceWarning: lbfgs failed to converge (status=1):\n",
      "STOP: TOTAL NO. of ITERATIONS REACHED LIMIT.\n",
      "\n",
      "Increase the number of iterations (max_iter) or scale the data as shown in:\n",
      "    https://scikit-learn.org/stable/modules/preprocessing.html\n",
      "  self.n_iter_ = _check_optimize_result(\"lbfgs\", opt_res, self.max_iter)\n"
     ]
    },
    {
     "data": {
      "text/html": [
       "<style>#sk-container-id-2 {\n",
       "  /* Definition of color scheme common for light and dark mode */\n",
       "  --sklearn-color-text: black;\n",
       "  --sklearn-color-line: gray;\n",
       "  /* Definition of color scheme for unfitted estimators */\n",
       "  --sklearn-color-unfitted-level-0: #fff5e6;\n",
       "  --sklearn-color-unfitted-level-1: #f6e4d2;\n",
       "  --sklearn-color-unfitted-level-2: #ffe0b3;\n",
       "  --sklearn-color-unfitted-level-3: chocolate;\n",
       "  /* Definition of color scheme for fitted estimators */\n",
       "  --sklearn-color-fitted-level-0: #f0f8ff;\n",
       "  --sklearn-color-fitted-level-1: #d4ebff;\n",
       "  --sklearn-color-fitted-level-2: #b3dbfd;\n",
       "  --sklearn-color-fitted-level-3: cornflowerblue;\n",
       "\n",
       "  /* Specific color for light theme */\n",
       "  --sklearn-color-text-on-default-background: var(--sg-text-color, var(--theme-code-foreground, var(--jp-content-font-color1, black)));\n",
       "  --sklearn-color-background: var(--sg-background-color, var(--theme-background, var(--jp-layout-color0, white)));\n",
       "  --sklearn-color-border-box: var(--sg-text-color, var(--theme-code-foreground, var(--jp-content-font-color1, black)));\n",
       "  --sklearn-color-icon: #696969;\n",
       "\n",
       "  @media (prefers-color-scheme: dark) {\n",
       "    /* Redefinition of color scheme for dark theme */\n",
       "    --sklearn-color-text-on-default-background: var(--sg-text-color, var(--theme-code-foreground, var(--jp-content-font-color1, white)));\n",
       "    --sklearn-color-background: var(--sg-background-color, var(--theme-background, var(--jp-layout-color0, #111)));\n",
       "    --sklearn-color-border-box: var(--sg-text-color, var(--theme-code-foreground, var(--jp-content-font-color1, white)));\n",
       "    --sklearn-color-icon: #878787;\n",
       "  }\n",
       "}\n",
       "\n",
       "#sk-container-id-2 {\n",
       "  color: var(--sklearn-color-text);\n",
       "}\n",
       "\n",
       "#sk-container-id-2 pre {\n",
       "  padding: 0;\n",
       "}\n",
       "\n",
       "#sk-container-id-2 input.sk-hidden--visually {\n",
       "  border: 0;\n",
       "  clip: rect(1px 1px 1px 1px);\n",
       "  clip: rect(1px, 1px, 1px, 1px);\n",
       "  height: 1px;\n",
       "  margin: -1px;\n",
       "  overflow: hidden;\n",
       "  padding: 0;\n",
       "  position: absolute;\n",
       "  width: 1px;\n",
       "}\n",
       "\n",
       "#sk-container-id-2 div.sk-dashed-wrapped {\n",
       "  border: 1px dashed var(--sklearn-color-line);\n",
       "  margin: 0 0.4em 0.5em 0.4em;\n",
       "  box-sizing: border-box;\n",
       "  padding-bottom: 0.4em;\n",
       "  background-color: var(--sklearn-color-background);\n",
       "}\n",
       "\n",
       "#sk-container-id-2 div.sk-container {\n",
       "  /* jupyter's `normalize.less` sets `[hidden] { display: none; }`\n",
       "     but bootstrap.min.css set `[hidden] { display: none !important; }`\n",
       "     so we also need the `!important` here to be able to override the\n",
       "     default hidden behavior on the sphinx rendered scikit-learn.org.\n",
       "     See: https://github.com/scikit-learn/scikit-learn/issues/21755 */\n",
       "  display: inline-block !important;\n",
       "  position: relative;\n",
       "}\n",
       "\n",
       "#sk-container-id-2 div.sk-text-repr-fallback {\n",
       "  display: none;\n",
       "}\n",
       "\n",
       "div.sk-parallel-item,\n",
       "div.sk-serial,\n",
       "div.sk-item {\n",
       "  /* draw centered vertical line to link estimators */\n",
       "  background-image: linear-gradient(var(--sklearn-color-text-on-default-background), var(--sklearn-color-text-on-default-background));\n",
       "  background-size: 2px 100%;\n",
       "  background-repeat: no-repeat;\n",
       "  background-position: center center;\n",
       "}\n",
       "\n",
       "/* Parallel-specific style estimator block */\n",
       "\n",
       "#sk-container-id-2 div.sk-parallel-item::after {\n",
       "  content: \"\";\n",
       "  width: 100%;\n",
       "  border-bottom: 2px solid var(--sklearn-color-text-on-default-background);\n",
       "  flex-grow: 1;\n",
       "}\n",
       "\n",
       "#sk-container-id-2 div.sk-parallel {\n",
       "  display: flex;\n",
       "  align-items: stretch;\n",
       "  justify-content: center;\n",
       "  background-color: var(--sklearn-color-background);\n",
       "  position: relative;\n",
       "}\n",
       "\n",
       "#sk-container-id-2 div.sk-parallel-item {\n",
       "  display: flex;\n",
       "  flex-direction: column;\n",
       "}\n",
       "\n",
       "#sk-container-id-2 div.sk-parallel-item:first-child::after {\n",
       "  align-self: flex-end;\n",
       "  width: 50%;\n",
       "}\n",
       "\n",
       "#sk-container-id-2 div.sk-parallel-item:last-child::after {\n",
       "  align-self: flex-start;\n",
       "  width: 50%;\n",
       "}\n",
       "\n",
       "#sk-container-id-2 div.sk-parallel-item:only-child::after {\n",
       "  width: 0;\n",
       "}\n",
       "\n",
       "/* Serial-specific style estimator block */\n",
       "\n",
       "#sk-container-id-2 div.sk-serial {\n",
       "  display: flex;\n",
       "  flex-direction: column;\n",
       "  align-items: center;\n",
       "  background-color: var(--sklearn-color-background);\n",
       "  padding-right: 1em;\n",
       "  padding-left: 1em;\n",
       "}\n",
       "\n",
       "\n",
       "/* Toggleable style: style used for estimator/Pipeline/ColumnTransformer box that is\n",
       "clickable and can be expanded/collapsed.\n",
       "- Pipeline and ColumnTransformer use this feature and define the default style\n",
       "- Estimators will overwrite some part of the style using the `sk-estimator` class\n",
       "*/\n",
       "\n",
       "/* Pipeline and ColumnTransformer style (default) */\n",
       "\n",
       "#sk-container-id-2 div.sk-toggleable {\n",
       "  /* Default theme specific background. It is overwritten whether we have a\n",
       "  specific estimator or a Pipeline/ColumnTransformer */\n",
       "  background-color: var(--sklearn-color-background);\n",
       "}\n",
       "\n",
       "/* Toggleable label */\n",
       "#sk-container-id-2 label.sk-toggleable__label {\n",
       "  cursor: pointer;\n",
       "  display: block;\n",
       "  width: 100%;\n",
       "  margin-bottom: 0;\n",
       "  padding: 0.5em;\n",
       "  box-sizing: border-box;\n",
       "  text-align: center;\n",
       "}\n",
       "\n",
       "#sk-container-id-2 label.sk-toggleable__label-arrow:before {\n",
       "  /* Arrow on the left of the label */\n",
       "  content: \"▸\";\n",
       "  float: left;\n",
       "  margin-right: 0.25em;\n",
       "  color: var(--sklearn-color-icon);\n",
       "}\n",
       "\n",
       "#sk-container-id-2 label.sk-toggleable__label-arrow:hover:before {\n",
       "  color: var(--sklearn-color-text);\n",
       "}\n",
       "\n",
       "/* Toggleable content - dropdown */\n",
       "\n",
       "#sk-container-id-2 div.sk-toggleable__content {\n",
       "  max-height: 0;\n",
       "  max-width: 0;\n",
       "  overflow: hidden;\n",
       "  text-align: left;\n",
       "  /* unfitted */\n",
       "  background-color: var(--sklearn-color-unfitted-level-0);\n",
       "}\n",
       "\n",
       "#sk-container-id-2 div.sk-toggleable__content.fitted {\n",
       "  /* fitted */\n",
       "  background-color: var(--sklearn-color-fitted-level-0);\n",
       "}\n",
       "\n",
       "#sk-container-id-2 div.sk-toggleable__content pre {\n",
       "  margin: 0.2em;\n",
       "  border-radius: 0.25em;\n",
       "  color: var(--sklearn-color-text);\n",
       "  /* unfitted */\n",
       "  background-color: var(--sklearn-color-unfitted-level-0);\n",
       "}\n",
       "\n",
       "#sk-container-id-2 div.sk-toggleable__content.fitted pre {\n",
       "  /* unfitted */\n",
       "  background-color: var(--sklearn-color-fitted-level-0);\n",
       "}\n",
       "\n",
       "#sk-container-id-2 input.sk-toggleable__control:checked~div.sk-toggleable__content {\n",
       "  /* Expand drop-down */\n",
       "  max-height: 200px;\n",
       "  max-width: 100%;\n",
       "  overflow: auto;\n",
       "}\n",
       "\n",
       "#sk-container-id-2 input.sk-toggleable__control:checked~label.sk-toggleable__label-arrow:before {\n",
       "  content: \"▾\";\n",
       "}\n",
       "\n",
       "/* Pipeline/ColumnTransformer-specific style */\n",
       "\n",
       "#sk-container-id-2 div.sk-label input.sk-toggleable__control:checked~label.sk-toggleable__label {\n",
       "  color: var(--sklearn-color-text);\n",
       "  background-color: var(--sklearn-color-unfitted-level-2);\n",
       "}\n",
       "\n",
       "#sk-container-id-2 div.sk-label.fitted input.sk-toggleable__control:checked~label.sk-toggleable__label {\n",
       "  background-color: var(--sklearn-color-fitted-level-2);\n",
       "}\n",
       "\n",
       "/* Estimator-specific style */\n",
       "\n",
       "/* Colorize estimator box */\n",
       "#sk-container-id-2 div.sk-estimator input.sk-toggleable__control:checked~label.sk-toggleable__label {\n",
       "  /* unfitted */\n",
       "  background-color: var(--sklearn-color-unfitted-level-2);\n",
       "}\n",
       "\n",
       "#sk-container-id-2 div.sk-estimator.fitted input.sk-toggleable__control:checked~label.sk-toggleable__label {\n",
       "  /* fitted */\n",
       "  background-color: var(--sklearn-color-fitted-level-2);\n",
       "}\n",
       "\n",
       "#sk-container-id-2 div.sk-label label.sk-toggleable__label,\n",
       "#sk-container-id-2 div.sk-label label {\n",
       "  /* The background is the default theme color */\n",
       "  color: var(--sklearn-color-text-on-default-background);\n",
       "}\n",
       "\n",
       "/* On hover, darken the color of the background */\n",
       "#sk-container-id-2 div.sk-label:hover label.sk-toggleable__label {\n",
       "  color: var(--sklearn-color-text);\n",
       "  background-color: var(--sklearn-color-unfitted-level-2);\n",
       "}\n",
       "\n",
       "/* Label box, darken color on hover, fitted */\n",
       "#sk-container-id-2 div.sk-label.fitted:hover label.sk-toggleable__label.fitted {\n",
       "  color: var(--sklearn-color-text);\n",
       "  background-color: var(--sklearn-color-fitted-level-2);\n",
       "}\n",
       "\n",
       "/* Estimator label */\n",
       "\n",
       "#sk-container-id-2 div.sk-label label {\n",
       "  font-family: monospace;\n",
       "  font-weight: bold;\n",
       "  display: inline-block;\n",
       "  line-height: 1.2em;\n",
       "}\n",
       "\n",
       "#sk-container-id-2 div.sk-label-container {\n",
       "  text-align: center;\n",
       "}\n",
       "\n",
       "/* Estimator-specific */\n",
       "#sk-container-id-2 div.sk-estimator {\n",
       "  font-family: monospace;\n",
       "  border: 1px dotted var(--sklearn-color-border-box);\n",
       "  border-radius: 0.25em;\n",
       "  box-sizing: border-box;\n",
       "  margin-bottom: 0.5em;\n",
       "  /* unfitted */\n",
       "  background-color: var(--sklearn-color-unfitted-level-0);\n",
       "}\n",
       "\n",
       "#sk-container-id-2 div.sk-estimator.fitted {\n",
       "  /* fitted */\n",
       "  background-color: var(--sklearn-color-fitted-level-0);\n",
       "}\n",
       "\n",
       "/* on hover */\n",
       "#sk-container-id-2 div.sk-estimator:hover {\n",
       "  /* unfitted */\n",
       "  background-color: var(--sklearn-color-unfitted-level-2);\n",
       "}\n",
       "\n",
       "#sk-container-id-2 div.sk-estimator.fitted:hover {\n",
       "  /* fitted */\n",
       "  background-color: var(--sklearn-color-fitted-level-2);\n",
       "}\n",
       "\n",
       "/* Specification for estimator info (e.g. \"i\" and \"?\") */\n",
       "\n",
       "/* Common style for \"i\" and \"?\" */\n",
       "\n",
       ".sk-estimator-doc-link,\n",
       "a:link.sk-estimator-doc-link,\n",
       "a:visited.sk-estimator-doc-link {\n",
       "  float: right;\n",
       "  font-size: smaller;\n",
       "  line-height: 1em;\n",
       "  font-family: monospace;\n",
       "  background-color: var(--sklearn-color-background);\n",
       "  border-radius: 1em;\n",
       "  height: 1em;\n",
       "  width: 1em;\n",
       "  text-decoration: none !important;\n",
       "  margin-left: 1ex;\n",
       "  /* unfitted */\n",
       "  border: var(--sklearn-color-unfitted-level-1) 1pt solid;\n",
       "  color: var(--sklearn-color-unfitted-level-1);\n",
       "}\n",
       "\n",
       ".sk-estimator-doc-link.fitted,\n",
       "a:link.sk-estimator-doc-link.fitted,\n",
       "a:visited.sk-estimator-doc-link.fitted {\n",
       "  /* fitted */\n",
       "  border: var(--sklearn-color-fitted-level-1) 1pt solid;\n",
       "  color: var(--sklearn-color-fitted-level-1);\n",
       "}\n",
       "\n",
       "/* On hover */\n",
       "div.sk-estimator:hover .sk-estimator-doc-link:hover,\n",
       ".sk-estimator-doc-link:hover,\n",
       "div.sk-label-container:hover .sk-estimator-doc-link:hover,\n",
       ".sk-estimator-doc-link:hover {\n",
       "  /* unfitted */\n",
       "  background-color: var(--sklearn-color-unfitted-level-3);\n",
       "  color: var(--sklearn-color-background);\n",
       "  text-decoration: none;\n",
       "}\n",
       "\n",
       "div.sk-estimator.fitted:hover .sk-estimator-doc-link.fitted:hover,\n",
       ".sk-estimator-doc-link.fitted:hover,\n",
       "div.sk-label-container:hover .sk-estimator-doc-link.fitted:hover,\n",
       ".sk-estimator-doc-link.fitted:hover {\n",
       "  /* fitted */\n",
       "  background-color: var(--sklearn-color-fitted-level-3);\n",
       "  color: var(--sklearn-color-background);\n",
       "  text-decoration: none;\n",
       "}\n",
       "\n",
       "/* Span, style for the box shown on hovering the info icon */\n",
       ".sk-estimator-doc-link span {\n",
       "  display: none;\n",
       "  z-index: 9999;\n",
       "  position: relative;\n",
       "  font-weight: normal;\n",
       "  right: .2ex;\n",
       "  padding: .5ex;\n",
       "  margin: .5ex;\n",
       "  width: min-content;\n",
       "  min-width: 20ex;\n",
       "  max-width: 50ex;\n",
       "  color: var(--sklearn-color-text);\n",
       "  box-shadow: 2pt 2pt 4pt #999;\n",
       "  /* unfitted */\n",
       "  background: var(--sklearn-color-unfitted-level-0);\n",
       "  border: .5pt solid var(--sklearn-color-unfitted-level-3);\n",
       "}\n",
       "\n",
       ".sk-estimator-doc-link.fitted span {\n",
       "  /* fitted */\n",
       "  background: var(--sklearn-color-fitted-level-0);\n",
       "  border: var(--sklearn-color-fitted-level-3);\n",
       "}\n",
       "\n",
       ".sk-estimator-doc-link:hover span {\n",
       "  display: block;\n",
       "}\n",
       "\n",
       "/* \"?\"-specific style due to the `<a>` HTML tag */\n",
       "\n",
       "#sk-container-id-2 a.estimator_doc_link {\n",
       "  float: right;\n",
       "  font-size: 1rem;\n",
       "  line-height: 1em;\n",
       "  font-family: monospace;\n",
       "  background-color: var(--sklearn-color-background);\n",
       "  border-radius: 1rem;\n",
       "  height: 1rem;\n",
       "  width: 1rem;\n",
       "  text-decoration: none;\n",
       "  /* unfitted */\n",
       "  color: var(--sklearn-color-unfitted-level-1);\n",
       "  border: var(--sklearn-color-unfitted-level-1) 1pt solid;\n",
       "}\n",
       "\n",
       "#sk-container-id-2 a.estimator_doc_link.fitted {\n",
       "  /* fitted */\n",
       "  border: var(--sklearn-color-fitted-level-1) 1pt solid;\n",
       "  color: var(--sklearn-color-fitted-level-1);\n",
       "}\n",
       "\n",
       "/* On hover */\n",
       "#sk-container-id-2 a.estimator_doc_link:hover {\n",
       "  /* unfitted */\n",
       "  background-color: var(--sklearn-color-unfitted-level-3);\n",
       "  color: var(--sklearn-color-background);\n",
       "  text-decoration: none;\n",
       "}\n",
       "\n",
       "#sk-container-id-2 a.estimator_doc_link.fitted:hover {\n",
       "  /* fitted */\n",
       "  background-color: var(--sklearn-color-fitted-level-3);\n",
       "}\n",
       "</style><div id=\"sk-container-id-2\" class=\"sk-top-container\"><div class=\"sk-text-repr-fallback\"><pre>MLPClassifier(alpha=1e-05, hidden_layer_sizes=[500, 500, 500], max_iter=500,\n",
       "              random_state=1, solver=&#x27;lbfgs&#x27;)</pre><b>In a Jupyter environment, please rerun this cell to show the HTML representation or trust the notebook. <br />On GitHub, the HTML representation is unable to render, please try loading this page with nbviewer.org.</b></div><div class=\"sk-container\" hidden><div class=\"sk-item\"><div class=\"sk-estimator fitted sk-toggleable\"><input class=\"sk-toggleable__control sk-hidden--visually\" id=\"sk-estimator-id-2\" type=\"checkbox\" checked><label for=\"sk-estimator-id-2\" class=\"sk-toggleable__label fitted sk-toggleable__label-arrow fitted\">&nbsp;&nbsp;MLPClassifier<a class=\"sk-estimator-doc-link fitted\" rel=\"noreferrer\" target=\"_blank\" href=\"https://scikit-learn.org/1.4/modules/generated/sklearn.neural_network.MLPClassifier.html\">?<span>Documentation for MLPClassifier</span></a><span class=\"sk-estimator-doc-link fitted\">i<span>Fitted</span></span></label><div class=\"sk-toggleable__content fitted\"><pre>MLPClassifier(alpha=1e-05, hidden_layer_sizes=[500, 500, 500], max_iter=500,\n",
       "              random_state=1, solver=&#x27;lbfgs&#x27;)</pre></div> </div></div></div></div>"
      ],
      "text/plain": [
       "MLPClassifier(alpha=1e-05, hidden_layer_sizes=[500, 500, 500], max_iter=500,\n",
       "              random_state=1, solver='lbfgs')"
      ]
     },
     "execution_count": 87,
     "metadata": {},
     "output_type": "execute_result"
    }
   ],
   "source": [
    "%time model.fit(train[cols_bin ], train['Направление'])"
   ]
  },
  {
   "cell_type": "code",
   "execution_count": 88,
   "id": "fd594872",
   "metadata": {},
   "outputs": [],
   "source": [
    "test['pos_dnn_sk'] = model.predict(test[cols_bin]) "
   ]
  },
  {
   "cell_type": "code",
   "execution_count": 89,
   "id": "57e82f49",
   "metadata": {},
   "outputs": [],
   "source": [
    "test['strat_dnn_sk'] = test['pos_dnn_sk'] * test['Доходность'] "
   ]
  },
  {
   "cell_type": "code",
   "execution_count": 90,
   "id": "fa3226f6",
   "metadata": {},
   "outputs": [
    {
     "data": {
      "text/plain": [
       "Доходность      1.160471\n",
       "strat_dnn_sk    1.161075\n",
       "dtype: float64"
      ]
     },
     "execution_count": 90,
     "metadata": {},
     "output_type": "execute_result"
    }
   ],
   "source": [
    "test[['Доходность', 'strat_dnn_sk']].sum().apply(np.exp) "
   ]
  },
  {
   "cell_type": "code",
   "execution_count": 91,
   "id": "677ae96f",
   "metadata": {},
   "outputs": [
    {
     "data": {
      "image/png": "[encoded data removed]",
      "text/plain": [
       "<Figure size 1000x600 with 1 Axes>"
      ]
     },
     "metadata": {},
     "output_type": "display_data"
    }
   ],
   "source": [
    "test[['Доходность', 'strat_dnn_sk']].cumsum().apply(np.exp).plot(figsize=(10, 6));"
   ]
  }
 ],
 "metadata": {
  "kernelspec": {
   "display_name": "Python 3",
   "language": "python",
   "name": "python3"
  },
  "language_info": {
   "codemirror_mode": {
    "name": "ipython",
    "version": 3
   },
   "file_extension": ".py",
   "mimetype": "text/x-python",
   "name": "python",
   "nbconvert_exporter": "python",
   "pygments_lexer": "ipython3",
   "version": "3.11.5"
  }
 },
 "nbformat": 4,
 "nbformat_minor": 5
}
