{
 "cells": [
  {
   "cell_type": "markdown",
   "id": "0e5f5108",
   "metadata": {},
   "source": [
    "# Подготовка данных"
   ]
  },
  {
   "cell_type": "code",
   "execution_count": 1,
   "id": "a269f043",
   "metadata": {},
   "outputs": [],
   "source": [
    "import numpy as np # импортируем библиотеку NumPy\n",
    "import pandas as pd # импорт пакета Pandas\n",
    "import datetime as dt\n",
    "from pylab import mpl, plt # импорт библиотеки Matplotlib"
   ]
  },
  {
   "cell_type": "code",
   "execution_count": 2,
   "id": "29b754a5",
   "metadata": {},
   "outputs": [],
   "source": [
    "plt.style.use('seaborn') # настройка стиля диаграмм\n",
    "mpl.rcParams['font.family'] = 'serif'\n",
    "%matplotlib inline"
   ]
  },
  {
   "cell_type": "code",
   "execution_count": 3,
   "id": "6249c065",
   "metadata": {},
   "outputs": [],
   "source": [
    "# загрузка данных из CSV-файла\n",
    "# Столбцы для использования в качестве меток строки файла DataFrame либо даны как string name или индекс столбца.\n",
    "# Если задана последовательность INT / STR, используется многоиндекс.\n",
    "# Примечание: index_col = false может использоваться для форсирования Pands не использовать первый столбец как индекс,\n",
    "# например, когда у вас есть неправильный файл с разделителями в конце каждой строки.\n",
    "# Функция читает файл, в котором данные о последней свече находятся в первой строке \n",
    "raw = pd.read_csv('c:\\SBERBANK\\QUIK_x64\\lua\\SiH2\\SiH2_13.1.2022.csv', index_col=0, parse_dates=False)"
   ]
  },
  {
   "cell_type": "code",
   "execution_count": 4,
   "id": "de01868f",
   "metadata": {},
   "outputs": [
    {
     "name": "stdout",
     "output_type": "stream",
     "text": [
      "<class 'pandas.core.frame.DataFrame'>\n",
      "Index: 3753 entries, 2022-1-13 to 2021-12-16\n",
      "Data columns (total 6 columns):\n",
      " #   Column  Non-Null Count  Dtype  \n",
      "---  ------  --------------  -----  \n",
      " 0   Time    3753 non-null   object \n",
      " 1   Open    3753 non-null   float64\n",
      " 2   High    3753 non-null   float64\n",
      " 3   Low     3753 non-null   float64\n",
      " 4   Close   3753 non-null   float64\n",
      " 5   Volume  3753 non-null   float64\n",
      "dtypes: float64(5), object(1)\n",
      "memory usage: 205.2+ KB\n"
     ]
    }
   ],
   "source": [
    "raw.info() # информация о файле"
   ]
  },
  {
   "cell_type": "code",
   "execution_count": 5,
   "id": "0dc790d1",
   "metadata": {},
   "outputs": [],
   "source": [
    "symbol = 'Close' # т.к. нам нужны цены закрытия пятиминутных свечей берём данные из колонки Close"
   ]
  },
  {
   "cell_type": "code",
   "execution_count": 6,
   "id": "2f77fe69",
   "metadata": {},
   "outputs": [],
   "source": [
    "m5_close = raw[symbol] # сохраняем серию в переменную с наиболее подходящим и информативным названием"
   ]
  },
  {
   "cell_type": "code",
   "execution_count": 7,
   "id": "5ec82628",
   "metadata": {},
   "outputs": [
    {
     "data": {
      "text/plain": [
       "Date\n",
       "2022-1-13    77498.0\n",
       "2022-1-13    77454.0\n",
       "2022-1-13    77440.0\n",
       "2022-1-13    77494.0\n",
       "2022-1-13    77461.0\n",
       "Name: Close, dtype: float64"
      ]
     },
     "execution_count": 7,
     "metadata": {},
     "output_type": "execute_result"
    }
   ],
   "source": [
    "# обратить внимание, что дата всегда присутствует\n",
    "m5_close.head()"
   ]
  },
  {
   "cell_type": "code",
   "execution_count": 8,
   "id": "c8785668",
   "metadata": {},
   "outputs": [],
   "source": [
    "# нам необходимо, чтобы самые старые свечи были в начале серии, поэтому применяем соответствующую операцию для срезов: \n",
    "reverse_m5_close = m5_close[::-1]"
   ]
  },
  {
   "cell_type": "code",
   "execution_count": 9,
   "id": "38529d23",
   "metadata": {},
   "outputs": [
    {
     "data": {
      "text/plain": [
       "Date\n",
       "2021-12-16    75204.0\n",
       "2021-12-16    75190.0\n",
       "2021-12-16    75196.0\n",
       "2021-12-16    75158.0\n",
       "2021-12-16    75134.0\n",
       "Name: Close, dtype: float64"
      ]
     },
     "execution_count": 9,
     "metadata": {},
     "output_type": "execute_result"
    }
   ],
   "source": [
    "# смотрим на каждом этапе какие данные в каком виде\n",
    "reverse_m5_close.head()"
   ]
  },
  {
   "cell_type": "code",
   "execution_count": 10,
   "id": "14343511",
   "metadata": {},
   "outputs": [],
   "source": [
    "# формирование подмножества данных и исключение нечисловых значений (NaN))\n",
    "data = (pd.DataFrame(reverse_m5_close).dropna())"
   ]
  },
  {
   "cell_type": "code",
   "execution_count": 11,
   "id": "e22665a6",
   "metadata": {},
   "outputs": [
    {
     "data": {
      "text/html": [
       "<div>\n",
       "<style scoped>\n",
       "    .dataframe tbody tr th:only-of-type {\n",
       "        vertical-align: middle;\n",
       "    }\n",
       "\n",
       "    .dataframe tbody tr th {\n",
       "        vertical-align: top;\n",
       "    }\n",
       "\n",
       "    .dataframe thead th {\n",
       "        text-align: right;\n",
       "    }\n",
       "</style>\n",
       "<table border=\"1\" class=\"dataframe\">\n",
       "  <thead>\n",
       "    <tr style=\"text-align: right;\">\n",
       "      <th></th>\n",
       "      <th>Close</th>\n",
       "    </tr>\n",
       "    <tr>\n",
       "      <th>Date</th>\n",
       "      <th></th>\n",
       "    </tr>\n",
       "  </thead>\n",
       "  <tbody>\n",
       "    <tr>\n",
       "      <th>2021-12-16</th>\n",
       "      <td>75204.0</td>\n",
       "    </tr>\n",
       "    <tr>\n",
       "      <th>2021-12-16</th>\n",
       "      <td>75190.0</td>\n",
       "    </tr>\n",
       "    <tr>\n",
       "      <th>2021-12-16</th>\n",
       "      <td>75196.0</td>\n",
       "    </tr>\n",
       "    <tr>\n",
       "      <th>2021-12-16</th>\n",
       "      <td>75158.0</td>\n",
       "    </tr>\n",
       "    <tr>\n",
       "      <th>2021-12-16</th>\n",
       "      <td>75134.0</td>\n",
       "    </tr>\n",
       "  </tbody>\n",
       "</table>\n",
       "</div>"
      ],
      "text/plain": [
       "              Close\n",
       "Date               \n",
       "2021-12-16  75204.0\n",
       "2021-12-16  75190.0\n",
       "2021-12-16  75196.0\n",
       "2021-12-16  75158.0\n",
       "2021-12-16  75134.0"
      ]
     },
     "execution_count": 11,
     "metadata": {},
     "output_type": "execute_result"
    }
   ],
   "source": [
    "data.head()"
   ]
  },
  {
   "cell_type": "code",
   "execution_count": 12,
   "id": "48660ab7",
   "metadata": {},
   "outputs": [],
   "source": [
    "# расчёт логарифмической доходности\n",
    "data['Доходность'] = np.log(data/data.shift(1))"
   ]
  },
  {
   "cell_type": "code",
   "execution_count": 13,
   "id": "f68435f9",
   "metadata": {},
   "outputs": [
    {
     "data": {
      "text/plain": [
       "Date\n",
       "2021-12-16         NaN\n",
       "2021-12-16   -0.000186\n",
       "2021-12-16    0.000080\n",
       "2021-12-16   -0.000505\n",
       "2021-12-16   -0.000319\n",
       "Name: Доходность, dtype: float64"
      ]
     },
     "execution_count": 13,
     "metadata": {},
     "output_type": "execute_result"
    }
   ],
   "source": [
    "data['Доходность'].head()"
   ]
  },
  {
   "cell_type": "code",
   "execution_count": 14,
   "id": "dedc7920",
   "metadata": {},
   "outputs": [],
   "source": [
    "# всегда применяем после shift, т.к. после shift появляются нечисловые значения NaN\n",
    "data.dropna(inplace=True)"
   ]
  },
  {
   "cell_type": "code",
   "execution_count": 15,
   "id": "3935c1bc",
   "metadata": {},
   "outputs": [
    {
     "data": {
      "text/html": [
       "<div>\n",
       "<style scoped>\n",
       "    .dataframe tbody tr th:only-of-type {\n",
       "        vertical-align: middle;\n",
       "    }\n",
       "\n",
       "    .dataframe tbody tr th {\n",
       "        vertical-align: top;\n",
       "    }\n",
       "\n",
       "    .dataframe thead th {\n",
       "        text-align: right;\n",
       "    }\n",
       "</style>\n",
       "<table border=\"1\" class=\"dataframe\">\n",
       "  <thead>\n",
       "    <tr style=\"text-align: right;\">\n",
       "      <th></th>\n",
       "      <th>Close</th>\n",
       "      <th>Доходность</th>\n",
       "    </tr>\n",
       "    <tr>\n",
       "      <th>Date</th>\n",
       "      <th></th>\n",
       "      <th></th>\n",
       "    </tr>\n",
       "  </thead>\n",
       "  <tbody>\n",
       "    <tr>\n",
       "      <th>2021-12-16</th>\n",
       "      <td>75190.0</td>\n",
       "      <td>-0.000186</td>\n",
       "    </tr>\n",
       "    <tr>\n",
       "      <th>2021-12-16</th>\n",
       "      <td>75196.0</td>\n",
       "      <td>0.000080</td>\n",
       "    </tr>\n",
       "    <tr>\n",
       "      <th>2021-12-16</th>\n",
       "      <td>75158.0</td>\n",
       "      <td>-0.000505</td>\n",
       "    </tr>\n",
       "    <tr>\n",
       "      <th>2021-12-16</th>\n",
       "      <td>75134.0</td>\n",
       "      <td>-0.000319</td>\n",
       "    </tr>\n",
       "    <tr>\n",
       "      <th>2021-12-16</th>\n",
       "      <td>75132.0</td>\n",
       "      <td>-0.000027</td>\n",
       "    </tr>\n",
       "  </tbody>\n",
       "</table>\n",
       "</div>"
      ],
      "text/plain": [
       "              Close  Доходность\n",
       "Date                           \n",
       "2021-12-16  75190.0   -0.000186\n",
       "2021-12-16  75196.0    0.000080\n",
       "2021-12-16  75158.0   -0.000505\n",
       "2021-12-16  75134.0   -0.000319\n",
       "2021-12-16  75132.0   -0.000027"
      ]
     },
     "execution_count": 15,
     "metadata": {},
     "output_type": "execute_result"
    }
   ],
   "source": [
    "data.head()"
   ]
  },
  {
   "cell_type": "code",
   "execution_count": 16,
   "id": "7f219551",
   "metadata": {},
   "outputs": [],
   "source": [
    "# Функция sign() является указателем на знак числа. Если число со знаком минус, то возвращает -1, если с плюсом, то 1\n",
    "# Функция astype() преобразует в указанный тип данных, в данном случае int\n",
    "data['Направление'] = np.sign(data['Доходность']).astype(int)"
   ]
  },
  {
   "cell_type": "code",
   "execution_count": 17,
   "id": "99a25421",
   "metadata": {},
   "outputs": [
    {
     "data": {
      "text/plain": [
       "Date\n",
       "2021-12-16   -1\n",
       "2021-12-16    1\n",
       "2021-12-16   -1\n",
       "2021-12-16   -1\n",
       "2021-12-16   -1\n",
       "Name: Направление, dtype: int32"
      ]
     },
     "execution_count": 17,
     "metadata": {},
     "output_type": "execute_result"
    }
   ],
   "source": [
    "data['Направление'].head()"
   ]
  },
  {
   "cell_type": "code",
   "execution_count": 18,
   "id": "1b1c8507",
   "metadata": {},
   "outputs": [],
   "source": [
    "lags = 5 # поменяли количество 2 на 5"
   ]
  },
  {
   "cell_type": "code",
   "execution_count": 19,
   "id": "a57eb9f5",
   "metadata": {},
   "outputs": [],
   "source": [
    "def create_lags(data):\n",
    "    global cols\n",
    "    cols = []\n",
    "    for lag in range(1, lags + 1):\n",
    "        col = 'lag_{}'.format(lag)\n",
    "        data[col] = data['Доходность'].shift(lag) # обратить внимание на каком этапе появляются data[col]\n",
    "        cols.append(col)"
   ]
  },
  {
   "cell_type": "code",
   "execution_count": 20,
   "id": "a787751d",
   "metadata": {},
   "outputs": [],
   "source": [
    "create_lags(data)"
   ]
  },
  {
   "cell_type": "code",
   "execution_count": 21,
   "id": "393a57bf",
   "metadata": {},
   "outputs": [],
   "source": [
    "data.dropna(inplace=True)"
   ]
  },
  {
   "cell_type": "code",
   "execution_count": 22,
   "id": "37b84d74",
   "metadata": {},
   "outputs": [
    {
     "data": {
      "text/html": [
       "<div>\n",
       "<style scoped>\n",
       "    .dataframe tbody tr th:only-of-type {\n",
       "        vertical-align: middle;\n",
       "    }\n",
       "\n",
       "    .dataframe tbody tr th {\n",
       "        vertical-align: top;\n",
       "    }\n",
       "\n",
       "    .dataframe thead th {\n",
       "        text-align: right;\n",
       "    }\n",
       "</style>\n",
       "<table border=\"1\" class=\"dataframe\">\n",
       "  <thead>\n",
       "    <tr style=\"text-align: right;\">\n",
       "      <th></th>\n",
       "      <th>Close</th>\n",
       "      <th>Доходность</th>\n",
       "      <th>Направление</th>\n",
       "      <th>lag_1</th>\n",
       "      <th>lag_2</th>\n",
       "      <th>lag_3</th>\n",
       "      <th>lag_4</th>\n",
       "      <th>lag_5</th>\n",
       "    </tr>\n",
       "    <tr>\n",
       "      <th>Date</th>\n",
       "      <th></th>\n",
       "      <th></th>\n",
       "      <th></th>\n",
       "      <th></th>\n",
       "      <th></th>\n",
       "      <th></th>\n",
       "      <th></th>\n",
       "      <th></th>\n",
       "    </tr>\n",
       "  </thead>\n",
       "  <tbody>\n",
       "    <tr>\n",
       "      <th>2021-12-16</th>\n",
       "      <td>75136.0</td>\n",
       "      <td>0.000053</td>\n",
       "      <td>1</td>\n",
       "      <td>-0.000027</td>\n",
       "      <td>-0.000319</td>\n",
       "      <td>-0.000505</td>\n",
       "      <td>0.000080</td>\n",
       "      <td>-0.000186</td>\n",
       "    </tr>\n",
       "    <tr>\n",
       "      <th>2021-12-16</th>\n",
       "      <td>75159.0</td>\n",
       "      <td>0.000306</td>\n",
       "      <td>1</td>\n",
       "      <td>0.000053</td>\n",
       "      <td>-0.000027</td>\n",
       "      <td>-0.000319</td>\n",
       "      <td>-0.000505</td>\n",
       "      <td>0.000080</td>\n",
       "    </tr>\n",
       "    <tr>\n",
       "      <th>2021-12-16</th>\n",
       "      <td>75177.0</td>\n",
       "      <td>0.000239</td>\n",
       "      <td>1</td>\n",
       "      <td>0.000306</td>\n",
       "      <td>0.000053</td>\n",
       "      <td>-0.000027</td>\n",
       "      <td>-0.000319</td>\n",
       "      <td>-0.000505</td>\n",
       "    </tr>\n",
       "    <tr>\n",
       "      <th>2021-12-16</th>\n",
       "      <td>75200.0</td>\n",
       "      <td>0.000306</td>\n",
       "      <td>1</td>\n",
       "      <td>0.000239</td>\n",
       "      <td>0.000306</td>\n",
       "      <td>0.000053</td>\n",
       "      <td>-0.000027</td>\n",
       "      <td>-0.000319</td>\n",
       "    </tr>\n",
       "    <tr>\n",
       "      <th>2021-12-16</th>\n",
       "      <td>75180.0</td>\n",
       "      <td>-0.000266</td>\n",
       "      <td>-1</td>\n",
       "      <td>0.000306</td>\n",
       "      <td>0.000239</td>\n",
       "      <td>0.000306</td>\n",
       "      <td>0.000053</td>\n",
       "      <td>-0.000027</td>\n",
       "    </tr>\n",
       "  </tbody>\n",
       "</table>\n",
       "</div>"
      ],
      "text/plain": [
       "              Close  Доходность  Направление     lag_1     lag_2     lag_3  \\\n",
       "Date                                                                         \n",
       "2021-12-16  75136.0    0.000053            1 -0.000027 -0.000319 -0.000505   \n",
       "2021-12-16  75159.0    0.000306            1  0.000053 -0.000027 -0.000319   \n",
       "2021-12-16  75177.0    0.000239            1  0.000306  0.000053 -0.000027   \n",
       "2021-12-16  75200.0    0.000306            1  0.000239  0.000306  0.000053   \n",
       "2021-12-16  75180.0   -0.000266           -1  0.000306  0.000239  0.000306   \n",
       "\n",
       "               lag_4     lag_5  \n",
       "Date                            \n",
       "2021-12-16  0.000080 -0.000186  \n",
       "2021-12-16 -0.000505  0.000080  \n",
       "2021-12-16 -0.000319 -0.000505  \n",
       "2021-12-16 -0.000027 -0.000319  \n",
       "2021-12-16  0.000053 -0.000027  "
      ]
     },
     "execution_count": 22,
     "metadata": {},
     "output_type": "execute_result"
    }
   ],
   "source": [
    "data.head()"
   ]
  },
  {
   "cell_type": "markdown",
   "id": "07800d8a",
   "metadata": {},
   "source": [
    "В этом разделе мы воспользуемся алгоритмами машинного обучения (см. главу 13) для решения задачи о прогнозировании направления движения цен на финансовых рынках. С учетом примеров из предыдущих разделов применить логистическую регрессию, наивный байесовский классификатор и метод опорных векторов будет не намного сложнее, чем в случае обработки небольшого набора выборочных данных."
   ]
  },
  {
   "cell_type": "markdown",
   "id": "65be894b",
   "metadata": {},
   "source": [
    "# Пять бинарных признаков"
   ]
  },
  {
   "cell_type": "markdown",
   "id": "22d2926e",
   "metadata": {},
   "source": [
    "Для начала напишем код обучения моделей на основе пяти бинарных признаков и получения соответствующих значений позиций."
   ]
  },
  {
   "cell_type": "code",
   "execution_count": 23,
   "id": "5a75fce6",
   "metadata": {},
   "outputs": [],
   "source": [
    "# импортируем все необходимые библиотеки\n",
    "from sklearn import linear_model # линейная модель\n",
    "from sklearn.naive_bayes import GaussianNB\n",
    "from sklearn.svm import SVC"
   ]
  },
  {
   "cell_type": "code",
   "execution_count": 24,
   "id": "447c1513",
   "metadata": {},
   "outputs": [],
   "source": [
    "def create_bins(data, bins=[0]):\n",
    "    global cols_bin\n",
    "    cols_bin = []\n",
    "    for col in cols:\n",
    "        col_bin = col + '_bin'\n",
    "        data[col_bin] = np.digitize(data[col], bins=bins)\n",
    "        cols_bin.append (col_bin )"
   ]
  },
  {
   "cell_type": "code",
   "execution_count": 25,
   "id": "adaa6f88",
   "metadata": {},
   "outputs": [
    {
     "data": {
      "text/plain": [
       "['lag_1_bin', 'lag_2_bin', 'lag_3_bin', 'lag_4_bin', 'lag_5_bin']"
      ]
     },
     "execution_count": 25,
     "metadata": {},
     "output_type": "execute_result"
    }
   ],
   "source": [
    "create_bins(data)\n",
    "cols_bin"
   ]
  },
  {
   "cell_type": "code",
   "execution_count": 26,
   "id": "182bf0b4",
   "metadata": {},
   "outputs": [
    {
     "data": {
      "text/html": [
       "<div>\n",
       "<style scoped>\n",
       "    .dataframe tbody tr th:only-of-type {\n",
       "        vertical-align: middle;\n",
       "    }\n",
       "\n",
       "    .dataframe tbody tr th {\n",
       "        vertical-align: top;\n",
       "    }\n",
       "\n",
       "    .dataframe thead th {\n",
       "        text-align: right;\n",
       "    }\n",
       "</style>\n",
       "<table border=\"1\" class=\"dataframe\">\n",
       "  <thead>\n",
       "    <tr style=\"text-align: right;\">\n",
       "      <th></th>\n",
       "      <th>lag_1_bin</th>\n",
       "      <th>lag_2_bin</th>\n",
       "      <th>lag_3_bin</th>\n",
       "      <th>lag_4_bin</th>\n",
       "      <th>lag_5_bin</th>\n",
       "      <th>Направление</th>\n",
       "    </tr>\n",
       "    <tr>\n",
       "      <th>Date</th>\n",
       "      <th></th>\n",
       "      <th></th>\n",
       "      <th></th>\n",
       "      <th></th>\n",
       "      <th></th>\n",
       "      <th></th>\n",
       "    </tr>\n",
       "  </thead>\n",
       "  <tbody>\n",
       "    <tr>\n",
       "      <th>2021-12-16</th>\n",
       "      <td>0</td>\n",
       "      <td>0</td>\n",
       "      <td>0</td>\n",
       "      <td>1</td>\n",
       "      <td>0</td>\n",
       "      <td>1</td>\n",
       "    </tr>\n",
       "    <tr>\n",
       "      <th>2021-12-16</th>\n",
       "      <td>1</td>\n",
       "      <td>0</td>\n",
       "      <td>0</td>\n",
       "      <td>0</td>\n",
       "      <td>1</td>\n",
       "      <td>1</td>\n",
       "    </tr>\n",
       "    <tr>\n",
       "      <th>2021-12-16</th>\n",
       "      <td>1</td>\n",
       "      <td>1</td>\n",
       "      <td>0</td>\n",
       "      <td>0</td>\n",
       "      <td>0</td>\n",
       "      <td>1</td>\n",
       "    </tr>\n",
       "    <tr>\n",
       "      <th>2021-12-16</th>\n",
       "      <td>1</td>\n",
       "      <td>1</td>\n",
       "      <td>1</td>\n",
       "      <td>0</td>\n",
       "      <td>0</td>\n",
       "      <td>1</td>\n",
       "    </tr>\n",
       "    <tr>\n",
       "      <th>2021-12-16</th>\n",
       "      <td>1</td>\n",
       "      <td>1</td>\n",
       "      <td>1</td>\n",
       "      <td>1</td>\n",
       "      <td>0</td>\n",
       "      <td>-1</td>\n",
       "    </tr>\n",
       "  </tbody>\n",
       "</table>\n",
       "</div>"
      ],
      "text/plain": [
       "            lag_1_bin  lag_2_bin  lag_3_bin  lag_4_bin  lag_5_bin  Направление\n",
       "Date                                                                          \n",
       "2021-12-16          0          0          0          1          0            1\n",
       "2021-12-16          1          0          0          0          1            1\n",
       "2021-12-16          1          1          0          0          0            1\n",
       "2021-12-16          1          1          1          0          0            1\n",
       "2021-12-16          1          1          1          1          0           -1"
      ]
     },
     "execution_count": 26,
     "metadata": {},
     "output_type": "execute_result"
    }
   ],
   "source": [
    "data[cols_bin + ['Направление']].head()"
   ]
  },
  {
   "cell_type": "code",
   "execution_count": 27,
   "id": "747b8757",
   "metadata": {},
   "outputs": [
    {
     "data": {
      "text/plain": [
       "lag_1_bin  lag_2_bin  lag_3_bin  lag_4_bin  lag_5_bin  Направление\n",
       "0          0          0          0          0          -1             30\n",
       "                                                        0              1\n",
       "                                                        1             35\n",
       "                                            1          -1             36\n",
       "                                                        1             70\n",
       "                                                                      ..\n",
       "1          1          1          1          0           0              3\n",
       "                                                        1             61\n",
       "                                            1          -1             64\n",
       "                                                        0              1\n",
       "                                                        1             63\n",
       "Length: 92, dtype: int64"
      ]
     },
     "execution_count": 27,
     "metadata": {},
     "output_type": "execute_result"
    }
   ],
   "source": [
    "grouped = data.groupby(cols_bin + ['Направление'])\n",
    "grouped.size()"
   ]
  },
  {
   "cell_type": "code",
   "execution_count": 28,
   "id": "41fb6b91",
   "metadata": {},
   "outputs": [],
   "source": [
    "res = grouped['Направление'].size().unstack(fill_value=0)"
   ]
  },
  {
   "cell_type": "code",
   "execution_count": 29,
   "id": "bebc299f",
   "metadata": {},
   "outputs": [],
   "source": [
    "def highlight_max(s):\n",
    "    is_max = s == s.max()\n",
    "    return ['background-color: yellow' if v else '' for v in is_max]"
   ]
  },
  {
   "cell_type": "code",
   "execution_count": 30,
   "id": "0466ad21",
   "metadata": {},
   "outputs": [
    {
     "data": {
      "text/html": [
       "<style  type=\"text/css\" >\n",
       "#T_9b5aa_row0_col2,#T_9b5aa_row1_col2,#T_9b5aa_row2_col2,#T_9b5aa_row3_col2,#T_9b5aa_row4_col2,#T_9b5aa_row5_col0,#T_9b5aa_row6_col2,#T_9b5aa_row7_col0,#T_9b5aa_row8_col0,#T_9b5aa_row8_col2,#T_9b5aa_row9_col0,#T_9b5aa_row10_col2,#T_9b5aa_row11_col0,#T_9b5aa_row11_col2,#T_9b5aa_row12_col2,#T_9b5aa_row13_col0,#T_9b5aa_row14_col2,#T_9b5aa_row15_col0,#T_9b5aa_row16_col0,#T_9b5aa_row17_col2,#T_9b5aa_row18_col0,#T_9b5aa_row19_col0,#T_9b5aa_row20_col2,#T_9b5aa_row21_col0,#T_9b5aa_row22_col2,#T_9b5aa_row23_col2,#T_9b5aa_row24_col2,#T_9b5aa_row25_col0,#T_9b5aa_row26_col0,#T_9b5aa_row27_col2,#T_9b5aa_row28_col2,#T_9b5aa_row29_col2,#T_9b5aa_row30_col0,#T_9b5aa_row31_col0{\n",
       "            background-color:  yellow;\n",
       "        }</style><table id=\"T_9b5aa_\" ><thead>    <tr>        <th class=\"blank\" ></th>        <th class=\"blank\" ></th>        <th class=\"blank\" ></th>        <th class=\"blank\" ></th>        <th class=\"index_name level0\" >Направление</th>        <th class=\"col_heading level0 col0\" >-1</th>        <th class=\"col_heading level0 col1\" >0</th>        <th class=\"col_heading level0 col2\" >1</th>    </tr>    <tr>        <th class=\"index_name level0\" >lag_1_bin</th>        <th class=\"index_name level1\" >lag_2_bin</th>        <th class=\"index_name level2\" >lag_3_bin</th>        <th class=\"index_name level3\" >lag_4_bin</th>        <th class=\"index_name level4\" >lag_5_bin</th>        <th class=\"blank\" ></th>        <th class=\"blank\" ></th>        <th class=\"blank\" ></th>    </tr></thead><tbody>\n",
       "                <tr>\n",
       "                        <th id=\"T_9b5aa_level0_row0\" class=\"row_heading level0 row0\" rowspan=\"16\">0</th>\n",
       "                        <th id=\"T_9b5aa_level1_row0\" class=\"row_heading level1 row0\" rowspan=\"8\">0</th>\n",
       "                        <th id=\"T_9b5aa_level2_row0\" class=\"row_heading level2 row0\" rowspan=\"4\">0</th>\n",
       "                        <th id=\"T_9b5aa_level3_row0\" class=\"row_heading level3 row0\" rowspan=\"2\">0</th>\n",
       "                        <th id=\"T_9b5aa_level4_row0\" class=\"row_heading level4 row0\" >0</th>\n",
       "                        <td id=\"T_9b5aa_row0_col0\" class=\"data row0 col0\" >30</td>\n",
       "                        <td id=\"T_9b5aa_row0_col1\" class=\"data row0 col1\" >1</td>\n",
       "                        <td id=\"T_9b5aa_row0_col2\" class=\"data row0 col2\" >35</td>\n",
       "            </tr>\n",
       "            <tr>\n",
       "                                                        <th id=\"T_9b5aa_level4_row1\" class=\"row_heading level4 row1\" >1</th>\n",
       "                        <td id=\"T_9b5aa_row1_col0\" class=\"data row1 col0\" >36</td>\n",
       "                        <td id=\"T_9b5aa_row1_col1\" class=\"data row1 col1\" >0</td>\n",
       "                        <td id=\"T_9b5aa_row1_col2\" class=\"data row1 col2\" >70</td>\n",
       "            </tr>\n",
       "            <tr>\n",
       "                                                <th id=\"T_9b5aa_level3_row2\" class=\"row_heading level3 row2\" rowspan=\"2\">1</th>\n",
       "                        <th id=\"T_9b5aa_level4_row2\" class=\"row_heading level4 row2\" >0</th>\n",
       "                        <td id=\"T_9b5aa_row2_col0\" class=\"data row2 col0\" >53</td>\n",
       "                        <td id=\"T_9b5aa_row2_col1\" class=\"data row2 col1\" >2</td>\n",
       "                        <td id=\"T_9b5aa_row2_col2\" class=\"data row2 col2\" >60</td>\n",
       "            </tr>\n",
       "            <tr>\n",
       "                                                        <th id=\"T_9b5aa_level4_row3\" class=\"row_heading level4 row3\" >1</th>\n",
       "                        <td id=\"T_9b5aa_row3_col0\" class=\"data row3 col0\" >53</td>\n",
       "                        <td id=\"T_9b5aa_row3_col1\" class=\"data row3 col1\" >0</td>\n",
       "                        <td id=\"T_9b5aa_row3_col2\" class=\"data row3 col2\" >59</td>\n",
       "            </tr>\n",
       "            <tr>\n",
       "                                        <th id=\"T_9b5aa_level2_row4\" class=\"row_heading level2 row4\" rowspan=\"4\">1</th>\n",
       "                        <th id=\"T_9b5aa_level3_row4\" class=\"row_heading level3 row4\" rowspan=\"2\">0</th>\n",
       "                        <th id=\"T_9b5aa_level4_row4\" class=\"row_heading level4 row4\" >0</th>\n",
       "                        <td id=\"T_9b5aa_row4_col0\" class=\"data row4 col0\" >59</td>\n",
       "                        <td id=\"T_9b5aa_row4_col1\" class=\"data row4 col1\" >1</td>\n",
       "                        <td id=\"T_9b5aa_row4_col2\" class=\"data row4 col2\" >64</td>\n",
       "            </tr>\n",
       "            <tr>\n",
       "                                                        <th id=\"T_9b5aa_level4_row5\" class=\"row_heading level4 row5\" >1</th>\n",
       "                        <td id=\"T_9b5aa_row5_col0\" class=\"data row5 col0\" >55</td>\n",
       "                        <td id=\"T_9b5aa_row5_col1\" class=\"data row5 col1\" >2</td>\n",
       "                        <td id=\"T_9b5aa_row5_col2\" class=\"data row5 col2\" >51</td>\n",
       "            </tr>\n",
       "            <tr>\n",
       "                                                <th id=\"T_9b5aa_level3_row6\" class=\"row_heading level3 row6\" rowspan=\"2\">1</th>\n",
       "                        <th id=\"T_9b5aa_level4_row6\" class=\"row_heading level4 row6\" >0</th>\n",
       "                        <td id=\"T_9b5aa_row6_col0\" class=\"data row6 col0\" >52</td>\n",
       "                        <td id=\"T_9b5aa_row6_col1\" class=\"data row6 col1\" >4</td>\n",
       "                        <td id=\"T_9b5aa_row6_col2\" class=\"data row6 col2\" >66</td>\n",
       "            </tr>\n",
       "            <tr>\n",
       "                                                        <th id=\"T_9b5aa_level4_row7\" class=\"row_heading level4 row7\" >1</th>\n",
       "                        <td id=\"T_9b5aa_row7_col0\" class=\"data row7 col0\" >60</td>\n",
       "                        <td id=\"T_9b5aa_row7_col1\" class=\"data row7 col1\" >3</td>\n",
       "                        <td id=\"T_9b5aa_row7_col2\" class=\"data row7 col2\" >55</td>\n",
       "            </tr>\n",
       "            <tr>\n",
       "                                <th id=\"T_9b5aa_level1_row8\" class=\"row_heading level1 row8\" rowspan=\"8\">1</th>\n",
       "                        <th id=\"T_9b5aa_level2_row8\" class=\"row_heading level2 row8\" rowspan=\"4\">0</th>\n",
       "                        <th id=\"T_9b5aa_level3_row8\" class=\"row_heading level3 row8\" rowspan=\"2\">0</th>\n",
       "                        <th id=\"T_9b5aa_level4_row8\" class=\"row_heading level4 row8\" >0</th>\n",
       "                        <td id=\"T_9b5aa_row8_col0\" class=\"data row8 col0\" >56</td>\n",
       "                        <td id=\"T_9b5aa_row8_col1\" class=\"data row8 col1\" >3</td>\n",
       "                        <td id=\"T_9b5aa_row8_col2\" class=\"data row8 col2\" >56</td>\n",
       "            </tr>\n",
       "            <tr>\n",
       "                                                        <th id=\"T_9b5aa_level4_row9\" class=\"row_heading level4 row9\" >1</th>\n",
       "                        <td id=\"T_9b5aa_row9_col0\" class=\"data row9 col0\" >68</td>\n",
       "                        <td id=\"T_9b5aa_row9_col1\" class=\"data row9 col1\" >2</td>\n",
       "                        <td id=\"T_9b5aa_row9_col2\" class=\"data row9 col2\" >64</td>\n",
       "            </tr>\n",
       "            <tr>\n",
       "                                                <th id=\"T_9b5aa_level3_row10\" class=\"row_heading level3 row10\" rowspan=\"2\">1</th>\n",
       "                        <th id=\"T_9b5aa_level4_row10\" class=\"row_heading level4 row10\" >0</th>\n",
       "                        <td id=\"T_9b5aa_row10_col0\" class=\"data row10 col0\" >58</td>\n",
       "                        <td id=\"T_9b5aa_row10_col1\" class=\"data row10 col1\" >1</td>\n",
       "                        <td id=\"T_9b5aa_row10_col2\" class=\"data row10 col2\" >62</td>\n",
       "            </tr>\n",
       "            <tr>\n",
       "                                                        <th id=\"T_9b5aa_level4_row11\" class=\"row_heading level4 row11\" >1</th>\n",
       "                        <td id=\"T_9b5aa_row11_col0\" class=\"data row11 col0\" >50</td>\n",
       "                        <td id=\"T_9b5aa_row11_col1\" class=\"data row11 col1\" >4</td>\n",
       "                        <td id=\"T_9b5aa_row11_col2\" class=\"data row11 col2\" >50</td>\n",
       "            </tr>\n",
       "            <tr>\n",
       "                                        <th id=\"T_9b5aa_level2_row12\" class=\"row_heading level2 row12\" rowspan=\"4\">1</th>\n",
       "                        <th id=\"T_9b5aa_level3_row12\" class=\"row_heading level3 row12\" rowspan=\"2\">0</th>\n",
       "                        <th id=\"T_9b5aa_level4_row12\" class=\"row_heading level4 row12\" >0</th>\n",
       "                        <td id=\"T_9b5aa_row12_col0\" class=\"data row12 col0\" >51</td>\n",
       "                        <td id=\"T_9b5aa_row12_col1\" class=\"data row12 col1\" >2</td>\n",
       "                        <td id=\"T_9b5aa_row12_col2\" class=\"data row12 col2\" >61</td>\n",
       "            </tr>\n",
       "            <tr>\n",
       "                                                        <th id=\"T_9b5aa_level4_row13\" class=\"row_heading level4 row13\" >1</th>\n",
       "                        <td id=\"T_9b5aa_row13_col0\" class=\"data row13 col0\" >71</td>\n",
       "                        <td id=\"T_9b5aa_row13_col1\" class=\"data row13 col1\" >0</td>\n",
       "                        <td id=\"T_9b5aa_row13_col2\" class=\"data row13 col2\" >57</td>\n",
       "            </tr>\n",
       "            <tr>\n",
       "                                                <th id=\"T_9b5aa_level3_row14\" class=\"row_heading level3 row14\" rowspan=\"2\">1</th>\n",
       "                        <th id=\"T_9b5aa_level4_row14\" class=\"row_heading level4 row14\" >0</th>\n",
       "                        <td id=\"T_9b5aa_row14_col0\" class=\"data row14 col0\" >48</td>\n",
       "                        <td id=\"T_9b5aa_row14_col1\" class=\"data row14 col1\" >2</td>\n",
       "                        <td id=\"T_9b5aa_row14_col2\" class=\"data row14 col2\" >57</td>\n",
       "            </tr>\n",
       "            <tr>\n",
       "                                                        <th id=\"T_9b5aa_level4_row15\" class=\"row_heading level4 row15\" >1</th>\n",
       "                        <td id=\"T_9b5aa_row15_col0\" class=\"data row15 col0\" >70</td>\n",
       "                        <td id=\"T_9b5aa_row15_col1\" class=\"data row15 col1\" >1</td>\n",
       "                        <td id=\"T_9b5aa_row15_col2\" class=\"data row15 col2\" >58</td>\n",
       "            </tr>\n",
       "            <tr>\n",
       "                        <th id=\"T_9b5aa_level0_row16\" class=\"row_heading level0 row16\" rowspan=\"16\">1</th>\n",
       "                        <th id=\"T_9b5aa_level1_row16\" class=\"row_heading level1 row16\" rowspan=\"8\">0</th>\n",
       "                        <th id=\"T_9b5aa_level2_row16\" class=\"row_heading level2 row16\" rowspan=\"4\">0</th>\n",
       "                        <th id=\"T_9b5aa_level3_row16\" class=\"row_heading level3 row16\" rowspan=\"2\">0</th>\n",
       "                        <th id=\"T_9b5aa_level4_row16\" class=\"row_heading level4 row16\" >0</th>\n",
       "                        <td id=\"T_9b5aa_row16_col0\" class=\"data row16 col0\" >58</td>\n",
       "                        <td id=\"T_9b5aa_row16_col1\" class=\"data row16 col1\" >1</td>\n",
       "                        <td id=\"T_9b5aa_row16_col2\" class=\"data row16 col2\" >47</td>\n",
       "            </tr>\n",
       "            <tr>\n",
       "                                                        <th id=\"T_9b5aa_level4_row17\" class=\"row_heading level4 row17\" >1</th>\n",
       "                        <td id=\"T_9b5aa_row17_col0\" class=\"data row17 col0\" >57</td>\n",
       "                        <td id=\"T_9b5aa_row17_col1\" class=\"data row17 col1\" >1</td>\n",
       "                        <td id=\"T_9b5aa_row17_col2\" class=\"data row17 col2\" >63</td>\n",
       "            </tr>\n",
       "            <tr>\n",
       "                                                <th id=\"T_9b5aa_level3_row18\" class=\"row_heading level3 row18\" rowspan=\"2\">1</th>\n",
       "                        <th id=\"T_9b5aa_level4_row18\" class=\"row_heading level4 row18\" >0</th>\n",
       "                        <td id=\"T_9b5aa_row18_col0\" class=\"data row18 col0\" >67</td>\n",
       "                        <td id=\"T_9b5aa_row18_col1\" class=\"data row18 col1\" >2</td>\n",
       "                        <td id=\"T_9b5aa_row18_col2\" class=\"data row18 col2\" >49</td>\n",
       "            </tr>\n",
       "            <tr>\n",
       "                                                        <th id=\"T_9b5aa_level4_row19\" class=\"row_heading level4 row19\" >1</th>\n",
       "                        <td id=\"T_9b5aa_row19_col0\" class=\"data row19 col0\" >67</td>\n",
       "                        <td id=\"T_9b5aa_row19_col1\" class=\"data row19 col1\" >1</td>\n",
       "                        <td id=\"T_9b5aa_row19_col2\" class=\"data row19 col2\" >60</td>\n",
       "            </tr>\n",
       "            <tr>\n",
       "                                        <th id=\"T_9b5aa_level2_row20\" class=\"row_heading level2 row20\" rowspan=\"4\">1</th>\n",
       "                        <th id=\"T_9b5aa_level3_row20\" class=\"row_heading level3 row20\" rowspan=\"2\">0</th>\n",
       "                        <th id=\"T_9b5aa_level4_row20\" class=\"row_heading level4 row20\" >0</th>\n",
       "                        <td id=\"T_9b5aa_row20_col0\" class=\"data row20 col0\" >60</td>\n",
       "                        <td id=\"T_9b5aa_row20_col1\" class=\"data row20 col1\" >0</td>\n",
       "                        <td id=\"T_9b5aa_row20_col2\" class=\"data row20 col2\" >65</td>\n",
       "            </tr>\n",
       "            <tr>\n",
       "                                                        <th id=\"T_9b5aa_level4_row21\" class=\"row_heading level4 row21\" >1</th>\n",
       "                        <td id=\"T_9b5aa_row21_col0\" class=\"data row21 col0\" >61</td>\n",
       "                        <td id=\"T_9b5aa_row21_col1\" class=\"data row21 col1\" >2</td>\n",
       "                        <td id=\"T_9b5aa_row21_col2\" class=\"data row21 col2\" >54</td>\n",
       "            </tr>\n",
       "            <tr>\n",
       "                                                <th id=\"T_9b5aa_level3_row22\" class=\"row_heading level3 row22\" rowspan=\"2\">1</th>\n",
       "                        <th id=\"T_9b5aa_level4_row22\" class=\"row_heading level4 row22\" >0</th>\n",
       "                        <td id=\"T_9b5aa_row22_col0\" class=\"data row22 col0\" >48</td>\n",
       "                        <td id=\"T_9b5aa_row22_col1\" class=\"data row22 col1\" >2</td>\n",
       "                        <td id=\"T_9b5aa_row22_col2\" class=\"data row22 col2\" >70</td>\n",
       "            </tr>\n",
       "            <tr>\n",
       "                                                        <th id=\"T_9b5aa_level4_row23\" class=\"row_heading level4 row23\" >1</th>\n",
       "                        <td id=\"T_9b5aa_row23_col0\" class=\"data row23 col0\" >56</td>\n",
       "                        <td id=\"T_9b5aa_row23_col1\" class=\"data row23 col1\" >3</td>\n",
       "                        <td id=\"T_9b5aa_row23_col2\" class=\"data row23 col2\" >59</td>\n",
       "            </tr>\n",
       "            <tr>\n",
       "                                <th id=\"T_9b5aa_level1_row24\" class=\"row_heading level1 row24\" rowspan=\"8\">1</th>\n",
       "                        <th id=\"T_9b5aa_level2_row24\" class=\"row_heading level2 row24\" rowspan=\"4\">0</th>\n",
       "                        <th id=\"T_9b5aa_level3_row24\" class=\"row_heading level3 row24\" rowspan=\"2\">0</th>\n",
       "                        <th id=\"T_9b5aa_level4_row24\" class=\"row_heading level4 row24\" >0</th>\n",
       "                        <td id=\"T_9b5aa_row24_col0\" class=\"data row24 col0\" >50</td>\n",
       "                        <td id=\"T_9b5aa_row24_col1\" class=\"data row24 col1\" >1</td>\n",
       "                        <td id=\"T_9b5aa_row24_col2\" class=\"data row24 col2\" >61</td>\n",
       "            </tr>\n",
       "            <tr>\n",
       "                                                        <th id=\"T_9b5aa_level4_row25\" class=\"row_heading level4 row25\" >1</th>\n",
       "                        <td id=\"T_9b5aa_row25_col0\" class=\"data row25 col0\" >64</td>\n",
       "                        <td id=\"T_9b5aa_row25_col1\" class=\"data row25 col1\" >2</td>\n",
       "                        <td id=\"T_9b5aa_row25_col2\" class=\"data row25 col2\" >46</td>\n",
       "            </tr>\n",
       "            <tr>\n",
       "                                                <th id=\"T_9b5aa_level3_row26\" class=\"row_heading level3 row26\" rowspan=\"2\">1</th>\n",
       "                        <th id=\"T_9b5aa_level4_row26\" class=\"row_heading level4 row26\" >0</th>\n",
       "                        <td id=\"T_9b5aa_row26_col0\" class=\"data row26 col0\" >64</td>\n",
       "                        <td id=\"T_9b5aa_row26_col1\" class=\"data row26 col1\" >2</td>\n",
       "                        <td id=\"T_9b5aa_row26_col2\" class=\"data row26 col2\" >55</td>\n",
       "            </tr>\n",
       "            <tr>\n",
       "                                                        <th id=\"T_9b5aa_level4_row27\" class=\"row_heading level4 row27\" >1</th>\n",
       "                        <td id=\"T_9b5aa_row27_col0\" class=\"data row27 col0\" >64</td>\n",
       "                        <td id=\"T_9b5aa_row27_col1\" class=\"data row27 col1\" >1</td>\n",
       "                        <td id=\"T_9b5aa_row27_col2\" class=\"data row27 col2\" >68</td>\n",
       "            </tr>\n",
       "            <tr>\n",
       "                                        <th id=\"T_9b5aa_level2_row28\" class=\"row_heading level2 row28\" rowspan=\"4\">1</th>\n",
       "                        <th id=\"T_9b5aa_level3_row28\" class=\"row_heading level3 row28\" rowspan=\"2\">0</th>\n",
       "                        <th id=\"T_9b5aa_level4_row28\" class=\"row_heading level4 row28\" >0</th>\n",
       "                        <td id=\"T_9b5aa_row28_col0\" class=\"data row28 col0\" >49</td>\n",
       "                        <td id=\"T_9b5aa_row28_col1\" class=\"data row28 col1\" >3</td>\n",
       "                        <td id=\"T_9b5aa_row28_col2\" class=\"data row28 col2\" >58</td>\n",
       "            </tr>\n",
       "            <tr>\n",
       "                                                        <th id=\"T_9b5aa_level4_row29\" class=\"row_heading level4 row29\" >1</th>\n",
       "                        <td id=\"T_9b5aa_row29_col0\" class=\"data row29 col0\" >58</td>\n",
       "                        <td id=\"T_9b5aa_row29_col1\" class=\"data row29 col1\" >3</td>\n",
       "                        <td id=\"T_9b5aa_row29_col2\" class=\"data row29 col2\" >65</td>\n",
       "            </tr>\n",
       "            <tr>\n",
       "                                                <th id=\"T_9b5aa_level3_row30\" class=\"row_heading level3 row30\" rowspan=\"2\">1</th>\n",
       "                        <th id=\"T_9b5aa_level4_row30\" class=\"row_heading level4 row30\" >0</th>\n",
       "                        <td id=\"T_9b5aa_row30_col0\" class=\"data row30 col0\" >65</td>\n",
       "                        <td id=\"T_9b5aa_row30_col1\" class=\"data row30 col1\" >3</td>\n",
       "                        <td id=\"T_9b5aa_row30_col2\" class=\"data row30 col2\" >61</td>\n",
       "            </tr>\n",
       "            <tr>\n",
       "                                                        <th id=\"T_9b5aa_level4_row31\" class=\"row_heading level4 row31\" >1</th>\n",
       "                        <td id=\"T_9b5aa_row31_col0\" class=\"data row31 col0\" >64</td>\n",
       "                        <td id=\"T_9b5aa_row31_col1\" class=\"data row31 col1\" >1</td>\n",
       "                        <td id=\"T_9b5aa_row31_col2\" class=\"data row31 col2\" >63</td>\n",
       "            </tr>\n",
       "    </tbody></table>"
      ],
      "text/plain": [
       "<pandas.io.formats.style.Styler at 0x2a788cdfe20>"
      ]
     },
     "execution_count": 30,
     "metadata": {},
     "output_type": "execute_result"
    }
   ],
   "source": [
    "res.style.apply(highlight_max, axis=1)"
   ]
  },
  {
   "cell_type": "code",
   "execution_count": 31,
   "id": "f824825d",
   "metadata": {},
   "outputs": [],
   "source": [
    "data['pos_freq'] = np.where(data[cols_bin].sum(axis=1 ) == 2, -1, 1)"
   ]
  },
  {
   "cell_type": "code",
   "execution_count": 32,
   "id": "8b5b27ff",
   "metadata": {},
   "outputs": [
    {
     "data": {
      "text/plain": [
       "False    1908\n",
       "True     1839\n",
       "dtype: int64"
      ]
     },
     "execution_count": 32,
     "metadata": {},
     "output_type": "execute_result"
    }
   ],
   "source": [
    "(data['Направление'] == data['pos_freq']).value_counts()"
   ]
  },
  {
   "cell_type": "code",
   "execution_count": 33,
   "id": "5aaef1b9",
   "metadata": {},
   "outputs": [],
   "source": [
    "data['strat_freq'] = data['pos_freq'] * data['Доходность']"
   ]
  },
  {
   "cell_type": "code",
   "execution_count": 34,
   "id": "1aa009f6",
   "metadata": {},
   "outputs": [
    {
     "data": {
      "text/plain": [
       "Доходность    1.031491\n",
       "strat_freq    1.027477\n",
       "dtype: float64"
      ]
     },
     "execution_count": 34,
     "metadata": {},
     "output_type": "execute_result"
    }
   ],
   "source": [
    "data[['Доходность', 'strat_freq']].sum().apply(np.exp)"
   ]
  },
  {
   "cell_type": "code",
   "execution_count": 35,
   "id": "e8078a8a",
   "metadata": {},
   "outputs": [],
   "source": [
    "C = 1"
   ]
  },
  {
   "cell_type": "code",
   "execution_count": 36,
   "id": "c92923ed",
   "metadata": {},
   "outputs": [],
   "source": [
    "models = {\n",
    "    'log_reg': linear_model.LogisticRegression(C=C),\n",
    "    'gauss_nb': GaussianNB(),\n",
    "    'svm': SVC(C=C) \n",
    "}"
   ]
  },
  {
   "cell_type": "code",
   "execution_count": 37,
   "id": "ca50320c",
   "metadata": {},
   "outputs": [],
   "source": [
    "def fit_models(data):\n",
    "    mfit = {model: models[model].fit(data[cols_bin], data['Направление'])\n",
    "            for model in models.keys()}"
   ]
  },
  {
   "cell_type": "code",
   "execution_count": 38,
   "id": "8f2f5963",
   "metadata": {},
   "outputs": [],
   "source": [
    "fit_models(data)"
   ]
  },
  {
   "cell_type": "code",
   "execution_count": 39,
   "id": "e5aa87bf",
   "metadata": {},
   "outputs": [],
   "source": [
    "def derive_positions(data):\n",
    "    for model in models.keys():\n",
    "        data['pos_' + model] = models[model].predict(data[cols_bin]) "
   ]
  },
  {
   "cell_type": "code",
   "execution_count": 40,
   "id": "3f8db386",
   "metadata": {},
   "outputs": [],
   "source": [
    "derive_positions(data)"
   ]
  },
  {
   "cell_type": "code",
   "execution_count": 41,
   "id": "c98b519c",
   "metadata": {},
   "outputs": [],
   "source": [
    "def evaluate_strats(data):\n",
    "    global sel\n",
    "    sel = []\n",
    "    for model in models.keys():\n",
    "        col = 'strat_' + model\n",
    "        data[col] = data['pos_' + model] * data['Доходность']\n",
    "        sel.append(col)\n",
    "    sel.insert(0, 'Доходность')"
   ]
  },
  {
   "cell_type": "code",
   "execution_count": 42,
   "id": "409ac6eb",
   "metadata": {},
   "outputs": [],
   "source": [
    "evaluate_strats(data)"
   ]
  },
  {
   "cell_type": "code",
   "execution_count": 43,
   "id": "7672e53e",
   "metadata": {},
   "outputs": [],
   "source": [
    "sel.insert(1, 'strat_freq') "
   ]
  },
  {
   "cell_type": "code",
   "execution_count": 44,
   "id": "0f1fa91e",
   "metadata": {},
   "outputs": [
    {
     "data": {
      "text/plain": [
       "Доходность        1.031491\n",
       "strat_freq        1.027477\n",
       "strat_log_reg     0.977182\n",
       "strat_gauss_nb    0.977182\n",
       "strat_svm         1.121107\n",
       "dtype: float64"
      ]
     },
     "execution_count": 44,
     "metadata": {},
     "output_type": "execute_result"
    }
   ],
   "source": [
    "data[sel].sum().apply(np.exp)"
   ]
  },
  {
   "cell_type": "code",
   "execution_count": 45,
   "id": "98237136",
   "metadata": {},
   "outputs": [
    {
     "data": {
      "image/png": "[encoded data removed]",
      "text/plain": [
       "<Figure size 720x432 with 1 Axes>"
      ]
     },
     "metadata": {
      "needs_background": "light"
     },
     "output_type": "display_data"
    }
   ],
   "source": [
    "data[sel].cumsum().apply(np.exp).plot(figsize=(10, 6));"
   ]
  },
  {
   "cell_type": "markdown",
   "id": "df127524",
   "metadata": {},
   "source": [
    "# Пять дискретизированных признаков"
   ]
  },
  {
   "cell_type": "code",
   "execution_count": 46,
   "id": "f4fd1cb8",
   "metadata": {},
   "outputs": [],
   "source": [
    "mu = data['Доходность'].mean()\n",
    "v = data['Доходность'].std()"
   ]
  },
  {
   "cell_type": "code",
   "execution_count": 47,
   "id": "33d6dc1e",
   "metadata": {},
   "outputs": [
    {
     "data": {
      "text/plain": [
       "[-0.0004809767608532843, 8.274769955568862e-06, 0.000497526300764422]"
      ]
     },
     "execution_count": 47,
     "metadata": {},
     "output_type": "execute_result"
    }
   ],
   "source": [
    "bins = [mu - v, mu, mu + v]\n",
    "bins"
   ]
  },
  {
   "cell_type": "code",
   "execution_count": 48,
   "id": "1ea95d3e",
   "metadata": {},
   "outputs": [],
   "source": [
    "create_bins(data, bins)"
   ]
  },
  {
   "cell_type": "code",
   "execution_count": 49,
   "id": "2368c6ed",
   "metadata": {},
   "outputs": [
    {
     "data": {
      "text/html": [
       "<div>\n",
       "<style scoped>\n",
       "    .dataframe tbody tr th:only-of-type {\n",
       "        vertical-align: middle;\n",
       "    }\n",
       "\n",
       "    .dataframe tbody tr th {\n",
       "        vertical-align: top;\n",
       "    }\n",
       "\n",
       "    .dataframe thead th {\n",
       "        text-align: right;\n",
       "    }\n",
       "</style>\n",
       "<table border=\"1\" class=\"dataframe\">\n",
       "  <thead>\n",
       "    <tr style=\"text-align: right;\">\n",
       "      <th></th>\n",
       "      <th>lag_1_bin</th>\n",
       "      <th>lag_2_bin</th>\n",
       "      <th>lag_3_bin</th>\n",
       "      <th>lag_4_bin</th>\n",
       "      <th>lag_5_bin</th>\n",
       "    </tr>\n",
       "    <tr>\n",
       "      <th>Date</th>\n",
       "      <th></th>\n",
       "      <th></th>\n",
       "      <th></th>\n",
       "      <th></th>\n",
       "      <th></th>\n",
       "    </tr>\n",
       "  </thead>\n",
       "  <tbody>\n",
       "    <tr>\n",
       "      <th>2021-12-16</th>\n",
       "      <td>1</td>\n",
       "      <td>1</td>\n",
       "      <td>0</td>\n",
       "      <td>2</td>\n",
       "      <td>1</td>\n",
       "    </tr>\n",
       "    <tr>\n",
       "      <th>2021-12-16</th>\n",
       "      <td>2</td>\n",
       "      <td>1</td>\n",
       "      <td>1</td>\n",
       "      <td>0</td>\n",
       "      <td>2</td>\n",
       "    </tr>\n",
       "    <tr>\n",
       "      <th>2021-12-16</th>\n",
       "      <td>2</td>\n",
       "      <td>2</td>\n",
       "      <td>1</td>\n",
       "      <td>1</td>\n",
       "      <td>0</td>\n",
       "    </tr>\n",
       "    <tr>\n",
       "      <th>2021-12-16</th>\n",
       "      <td>2</td>\n",
       "      <td>2</td>\n",
       "      <td>2</td>\n",
       "      <td>1</td>\n",
       "      <td>1</td>\n",
       "    </tr>\n",
       "    <tr>\n",
       "      <th>2021-12-16</th>\n",
       "      <td>2</td>\n",
       "      <td>2</td>\n",
       "      <td>2</td>\n",
       "      <td>2</td>\n",
       "      <td>1</td>\n",
       "    </tr>\n",
       "  </tbody>\n",
       "</table>\n",
       "</div>"
      ],
      "text/plain": [
       "            lag_1_bin  lag_2_bin  lag_3_bin  lag_4_bin  lag_5_bin\n",
       "Date                                                             \n",
       "2021-12-16          1          1          0          2          1\n",
       "2021-12-16          2          1          1          0          2\n",
       "2021-12-16          2          2          1          1          0\n",
       "2021-12-16          2          2          2          1          1\n",
       "2021-12-16          2          2          2          2          1"
      ]
     },
     "execution_count": 49,
     "metadata": {},
     "output_type": "execute_result"
    }
   ],
   "source": [
    "data[cols_bin].head()"
   ]
  },
  {
   "cell_type": "code",
   "execution_count": 50,
   "id": "68ea9b80",
   "metadata": {},
   "outputs": [],
   "source": [
    "fit_models(data)"
   ]
  },
  {
   "cell_type": "code",
   "execution_count": 51,
   "id": "7074fe1a",
   "metadata": {},
   "outputs": [],
   "source": [
    "derive_positions(data)"
   ]
  },
  {
   "cell_type": "code",
   "execution_count": 52,
   "id": "fe431e60",
   "metadata": {},
   "outputs": [],
   "source": [
    "evaluate_strats(data)"
   ]
  },
  {
   "cell_type": "code",
   "execution_count": 53,
   "id": "fdc62432",
   "metadata": {},
   "outputs": [
    {
     "data": {
      "text/plain": [
       "Доходность        1.031491\n",
       "strat_log_reg     0.982237\n",
       "strat_gauss_nb    0.990396\n",
       "strat_svm         1.239016\n",
       "dtype: float64"
      ]
     },
     "execution_count": 53,
     "metadata": {},
     "output_type": "execute_result"
    }
   ],
   "source": [
    "data[sel].sum().apply(np.exp) "
   ]
  },
  {
   "cell_type": "code",
   "execution_count": 54,
   "id": "49c40aab",
   "metadata": {},
   "outputs": [
    {
     "data": {
      "image/png": "[encoded data removed]",
      "text/plain": [
       "<Figure size 720x432 with 1 Axes>"
      ]
     },
     "metadata": {
      "needs_background": "light"
     },
     "output_type": "display_data"
    }
   ],
   "source": [
    "data[sel].cumsum().apply(np.exp).plot(figsize=(10, 6));"
   ]
  },
  {
   "cell_type": "markdown",
   "id": "d960fb7b",
   "metadata": {},
   "source": [
    "# Последовательное разделение данных на обучающий и тестовый наборы"
   ]
  },
  {
   "cell_type": "code",
   "execution_count": 55,
   "id": "d0034aee",
   "metadata": {},
   "outputs": [],
   "source": [
    "split = int(len(data) * 0.5) "
   ]
  },
  {
   "cell_type": "code",
   "execution_count": 56,
   "id": "5ef13f98",
   "metadata": {},
   "outputs": [],
   "source": [
    "train = data.iloc[:split].copy()"
   ]
  },
  {
   "cell_type": "code",
   "execution_count": 57,
   "id": "feea9994",
   "metadata": {},
   "outputs": [],
   "source": [
    "fit_models(train)"
   ]
  },
  {
   "cell_type": "code",
   "execution_count": 58,
   "id": "77c76b5c",
   "metadata": {},
   "outputs": [],
   "source": [
    "test = data.iloc[split:].copy()"
   ]
  },
  {
   "cell_type": "code",
   "execution_count": 59,
   "id": "6cd769e6",
   "metadata": {},
   "outputs": [],
   "source": [
    "derive_positions(test)"
   ]
  },
  {
   "cell_type": "code",
   "execution_count": 60,
   "id": "bc1a8ec1",
   "metadata": {},
   "outputs": [],
   "source": [
    "evaluate_strats(test)"
   ]
  },
  {
   "cell_type": "code",
   "execution_count": 61,
   "id": "698de4ed",
   "metadata": {},
   "outputs": [
    {
     "data": {
      "text/plain": [
       "Доходность        1.020610\n",
       "strat_log_reg     0.944675\n",
       "strat_gauss_nb    0.934858\n",
       "strat_svm         0.951055\n",
       "dtype: float64"
      ]
     },
     "execution_count": 61,
     "metadata": {},
     "output_type": "execute_result"
    }
   ],
   "source": [
    "test[sel].sum().apply(np.exp) "
   ]
  },
  {
   "cell_type": "code",
   "execution_count": 62,
   "id": "ea33a7bd",
   "metadata": {},
   "outputs": [
    {
     "data": {
      "image/png": "[encoded data removed]",
      "text/plain": [
       "<Figure size 720x432 with 1 Axes>"
      ]
     },
     "metadata": {
      "needs_background": "light"
     },
     "output_type": "display_data"
    }
   ],
   "source": [
    "test[sel].cumsum().apply(np.exp).plot(figsize=(10, 6));"
   ]
  },
  {
   "cell_type": "markdown",
   "id": "6237cfb3",
   "metadata": {},
   "source": [
    "# Рандомизированное разделение данных на обучающий и тестовый наборы"
   ]
  },
  {
   "cell_type": "code",
   "execution_count": 63,
   "id": "f4f9fdd6",
   "metadata": {},
   "outputs": [],
   "source": [
    "from sklearn.model_selection import train_test_split"
   ]
  },
  {
   "cell_type": "code",
   "execution_count": 64,
   "id": "1379b32a",
   "metadata": {},
   "outputs": [],
   "source": [
    "train, test = train_test_split(data, test_size=0.5, shuffle=True, random_state=100)"
   ]
  },
  {
   "cell_type": "code",
   "execution_count": 65,
   "id": "1e425aab",
   "metadata": {},
   "outputs": [],
   "source": [
    "train = train.copy().sort_index()"
   ]
  },
  {
   "cell_type": "code",
   "execution_count": 66,
   "id": "e94693ed",
   "metadata": {},
   "outputs": [
    {
     "data": {
      "text/html": [
       "<div>\n",
       "<style scoped>\n",
       "    .dataframe tbody tr th:only-of-type {\n",
       "        vertical-align: middle;\n",
       "    }\n",
       "\n",
       "    .dataframe tbody tr th {\n",
       "        vertical-align: top;\n",
       "    }\n",
       "\n",
       "    .dataframe thead th {\n",
       "        text-align: right;\n",
       "    }\n",
       "</style>\n",
       "<table border=\"1\" class=\"dataframe\">\n",
       "  <thead>\n",
       "    <tr style=\"text-align: right;\">\n",
       "      <th></th>\n",
       "      <th>lag_1_bin</th>\n",
       "      <th>lag_2_bin</th>\n",
       "      <th>lag_3_bin</th>\n",
       "      <th>lag_4_bin</th>\n",
       "      <th>lag_5_bin</th>\n",
       "    </tr>\n",
       "    <tr>\n",
       "      <th>Date</th>\n",
       "      <th></th>\n",
       "      <th></th>\n",
       "      <th></th>\n",
       "      <th></th>\n",
       "      <th></th>\n",
       "    </tr>\n",
       "  </thead>\n",
       "  <tbody>\n",
       "    <tr>\n",
       "      <th>2021-12-16</th>\n",
       "      <td>2</td>\n",
       "      <td>2</td>\n",
       "      <td>2</td>\n",
       "      <td>2</td>\n",
       "      <td>1</td>\n",
       "    </tr>\n",
       "    <tr>\n",
       "      <th>2021-12-16</th>\n",
       "      <td>3</td>\n",
       "      <td>2</td>\n",
       "      <td>2</td>\n",
       "      <td>2</td>\n",
       "      <td>1</td>\n",
       "    </tr>\n",
       "    <tr>\n",
       "      <th>2021-12-16</th>\n",
       "      <td>2</td>\n",
       "      <td>2</td>\n",
       "      <td>2</td>\n",
       "      <td>1</td>\n",
       "      <td>1</td>\n",
       "    </tr>\n",
       "    <tr>\n",
       "      <th>2021-12-16</th>\n",
       "      <td>2</td>\n",
       "      <td>3</td>\n",
       "      <td>2</td>\n",
       "      <td>1</td>\n",
       "      <td>2</td>\n",
       "    </tr>\n",
       "    <tr>\n",
       "      <th>2021-12-16</th>\n",
       "      <td>2</td>\n",
       "      <td>2</td>\n",
       "      <td>2</td>\n",
       "      <td>1</td>\n",
       "      <td>1</td>\n",
       "    </tr>\n",
       "  </tbody>\n",
       "</table>\n",
       "</div>"
      ],
      "text/plain": [
       "            lag_1_bin  lag_2_bin  lag_3_bin  lag_4_bin  lag_5_bin\n",
       "Date                                                             \n",
       "2021-12-16          2          2          2          2          1\n",
       "2021-12-16          3          2          2          2          1\n",
       "2021-12-16          2          2          2          1          1\n",
       "2021-12-16          2          3          2          1          2\n",
       "2021-12-16          2          2          2          1          1"
      ]
     },
     "execution_count": 66,
     "metadata": {},
     "output_type": "execute_result"
    }
   ],
   "source": [
    "train[cols_bin].head()"
   ]
  },
  {
   "cell_type": "code",
   "execution_count": 67,
   "id": "87fe2a63",
   "metadata": {},
   "outputs": [],
   "source": [
    "test = test.copy().sort_index()"
   ]
  },
  {
   "cell_type": "code",
   "execution_count": 68,
   "id": "34fca402",
   "metadata": {},
   "outputs": [],
   "source": [
    "fit_models(train)"
   ]
  },
  {
   "cell_type": "code",
   "execution_count": 69,
   "id": "e84a953e",
   "metadata": {},
   "outputs": [],
   "source": [
    "derive_positions(test)"
   ]
  },
  {
   "cell_type": "code",
   "execution_count": 70,
   "id": "abf701a4",
   "metadata": {},
   "outputs": [],
   "source": [
    "evaluate_strats(test)"
   ]
  },
  {
   "cell_type": "code",
   "execution_count": 71,
   "id": "50a84292",
   "metadata": {},
   "outputs": [
    {
     "data": {
      "text/plain": [
       "Доходность        1.020265\n",
       "strat_log_reg     0.967684\n",
       "strat_gauss_nb    0.968294\n",
       "strat_svm         0.993735\n",
       "dtype: float64"
      ]
     },
     "execution_count": 71,
     "metadata": {},
     "output_type": "execute_result"
    }
   ],
   "source": [
    "test[sel].sum().apply(np.exp)"
   ]
  },
  {
   "cell_type": "code",
   "execution_count": 72,
   "id": "c6b46dd1",
   "metadata": {},
   "outputs": [
    {
     "data": {
      "image/png": "[encoded data removed]",
      "text/plain": [
       "<Figure size 720x432 with 1 Axes>"
      ]
     },
     "metadata": {
      "needs_background": "light"
     },
     "output_type": "display_data"
    }
   ],
   "source": [
    "test[sel].cumsum().apply(np.exp).plot(figsize=(10, 6));"
   ]
  },
  {
   "cell_type": "markdown",
   "id": "1b23ba95",
   "metadata": {},
   "source": [
    "# Глубокие нейронные сети"
   ]
  },
  {
   "cell_type": "markdown",
   "id": "1744ca86",
   "metadata": {},
   "source": [
    "Глубокие нейронные сети (Deep Neural Networks — DNN) пытаются моделировать работу человеческого мозга. Они обычно состоят из входного слоя (признаков), выходного слоя (метки) и определенного количества скрытых слоев. Наличие скрытых слоев как раз и делает нейронную сеть глубокой. Такие нейронные сети способны обучаться сложным зависимостям и демонстрировать более высокую эффективность при решении целого ряда задач. В этом контексте обычно говорят не о машинном обучении, а о глубоком обучении."
   ]
  },
  {
   "cell_type": "markdown",
   "id": "822d0e50",
   "metadata": {},
   "source": [
    "# DNN и библиотека Scikit-learn"
   ]
  },
  {
   "cell_type": "markdown",
   "id": "28b37337",
   "metadata": {},
   "source": [
    "В этом разделемы применим алгоритм MLPClassifier избиблиотеки Scikit-learn, с которым познакомились в главе 13. Сначала он обучается и тестируется на всем наборе данных с использованием дискретизированных признаков. Алгоритм демонстрирует исключительную доходность в пределах выборки, что свидетельствует об огромных возможностях DNN в решении такого рода задач. Но вероятнее всего, мы имеем дело с сильным переобучением, поскольку доходность выглядит неестественно высокой."
   ]
  },
  {
   "cell_type": "code",
   "execution_count": 73,
   "id": "7cd347bb",
   "metadata": {},
   "outputs": [],
   "source": [
    "from sklearn.neural_network import MLPClassifier"
   ]
  },
  {
   "cell_type": "code",
   "execution_count": 74,
   "id": "2ea0743b",
   "metadata": {},
   "outputs": [
    {
     "data": {
      "text/html": [
       "<div>\n",
       "<style scoped>\n",
       "    .dataframe tbody tr th:only-of-type {\n",
       "        vertical-align: middle;\n",
       "    }\n",
       "\n",
       "    .dataframe tbody tr th {\n",
       "        vertical-align: top;\n",
       "    }\n",
       "\n",
       "    .dataframe thead th {\n",
       "        text-align: right;\n",
       "    }\n",
       "</style>\n",
       "<table border=\"1\" class=\"dataframe\">\n",
       "  <thead>\n",
       "    <tr style=\"text-align: right;\">\n",
       "      <th></th>\n",
       "      <th>lag_1_bin</th>\n",
       "      <th>lag_2_bin</th>\n",
       "      <th>lag_3_bin</th>\n",
       "      <th>lag_4_bin</th>\n",
       "      <th>lag_5_bin</th>\n",
       "    </tr>\n",
       "    <tr>\n",
       "      <th>Date</th>\n",
       "      <th></th>\n",
       "      <th></th>\n",
       "      <th></th>\n",
       "      <th></th>\n",
       "      <th></th>\n",
       "    </tr>\n",
       "  </thead>\n",
       "  <tbody>\n",
       "    <tr>\n",
       "      <th>2021-12-16</th>\n",
       "      <td>1</td>\n",
       "      <td>1</td>\n",
       "      <td>0</td>\n",
       "      <td>2</td>\n",
       "      <td>1</td>\n",
       "    </tr>\n",
       "    <tr>\n",
       "      <th>2021-12-16</th>\n",
       "      <td>2</td>\n",
       "      <td>1</td>\n",
       "      <td>1</td>\n",
       "      <td>0</td>\n",
       "      <td>2</td>\n",
       "    </tr>\n",
       "    <tr>\n",
       "      <th>2021-12-16</th>\n",
       "      <td>2</td>\n",
       "      <td>2</td>\n",
       "      <td>1</td>\n",
       "      <td>1</td>\n",
       "      <td>0</td>\n",
       "    </tr>\n",
       "    <tr>\n",
       "      <th>2021-12-16</th>\n",
       "      <td>2</td>\n",
       "      <td>2</td>\n",
       "      <td>2</td>\n",
       "      <td>1</td>\n",
       "      <td>1</td>\n",
       "    </tr>\n",
       "    <tr>\n",
       "      <th>2021-12-16</th>\n",
       "      <td>2</td>\n",
       "      <td>2</td>\n",
       "      <td>2</td>\n",
       "      <td>2</td>\n",
       "      <td>1</td>\n",
       "    </tr>\n",
       "    <tr>\n",
       "      <th>2021-12-16</th>\n",
       "      <td>1</td>\n",
       "      <td>2</td>\n",
       "      <td>2</td>\n",
       "      <td>2</td>\n",
       "      <td>2</td>\n",
       "    </tr>\n",
       "    <tr>\n",
       "      <th>2021-12-16</th>\n",
       "      <td>3</td>\n",
       "      <td>1</td>\n",
       "      <td>2</td>\n",
       "      <td>2</td>\n",
       "      <td>2</td>\n",
       "    </tr>\n",
       "    <tr>\n",
       "      <th>2021-12-16</th>\n",
       "      <td>0</td>\n",
       "      <td>3</td>\n",
       "      <td>1</td>\n",
       "      <td>2</td>\n",
       "      <td>2</td>\n",
       "    </tr>\n",
       "    <tr>\n",
       "      <th>2021-12-16</th>\n",
       "      <td>2</td>\n",
       "      <td>0</td>\n",
       "      <td>3</td>\n",
       "      <td>1</td>\n",
       "      <td>2</td>\n",
       "    </tr>\n",
       "    <tr>\n",
       "      <th>2021-12-16</th>\n",
       "      <td>1</td>\n",
       "      <td>2</td>\n",
       "      <td>0</td>\n",
       "      <td>3</td>\n",
       "      <td>1</td>\n",
       "    </tr>\n",
       "  </tbody>\n",
       "</table>\n",
       "</div>"
      ],
      "text/plain": [
       "            lag_1_bin  lag_2_bin  lag_3_bin  lag_4_bin  lag_5_bin\n",
       "Date                                                             \n",
       "2021-12-16          1          1          0          2          1\n",
       "2021-12-16          2          1          1          0          2\n",
       "2021-12-16          2          2          1          1          0\n",
       "2021-12-16          2          2          2          1          1\n",
       "2021-12-16          2          2          2          2          1\n",
       "2021-12-16          1          2          2          2          2\n",
       "2021-12-16          3          1          2          2          2\n",
       "2021-12-16          0          3          1          2          2\n",
       "2021-12-16          2          0          3          1          2\n",
       "2021-12-16          1          2          0          3          1"
      ]
     },
     "execution_count": 74,
     "metadata": {},
     "output_type": "execute_result"
    }
   ],
   "source": [
    "data[cols_bin].head(10)"
   ]
  },
  {
   "cell_type": "code",
   "execution_count": 75,
   "id": "a9f88844",
   "metadata": {},
   "outputs": [
    {
     "data": {
      "text/plain": [
       "Date\n",
       "2021-12-16    1\n",
       "2021-12-16    1\n",
       "2021-12-16    1\n",
       "2021-12-16    1\n",
       "2021-12-16   -1\n",
       "2021-12-16    1\n",
       "2021-12-16   -1\n",
       "2021-12-16    1\n",
       "2021-12-16   -1\n",
       "2021-12-16   -1\n",
       "Name: Направление, dtype: int32"
      ]
     },
     "execution_count": 75,
     "metadata": {},
     "output_type": "execute_result"
    }
   ],
   "source": [
    "data['Направление'].head(10)"
   ]
  },
  {
   "cell_type": "code",
   "execution_count": 76,
   "id": "3e9b42da",
   "metadata": {},
   "outputs": [],
   "source": [
    "model = MLPClassifier(solver='lbfgs', alpha=1e-5, hidden_layer_sizes=2 * [250], random_state=1)"
   ]
  },
  {
   "cell_type": "code",
   "execution_count": 77,
   "id": "7a252b9c",
   "metadata": {},
   "outputs": [
    {
     "name": "stdout",
     "output_type": "stream",
     "text": [
      "Wall time: 35.3 s\n"
     ]
    },
    {
     "name": "stderr",
     "output_type": "stream",
     "text": [
      "C:\\ProgramData\\Anaconda3\\lib\\site-packages\\sklearn\\neural_network\\_multilayer_perceptron.py:500: ConvergenceWarning: lbfgs failed to converge (status=1):\n",
      "STOP: TOTAL NO. of ITERATIONS REACHED LIMIT.\n",
      "\n",
      "Increase the number of iterations (max_iter) or scale the data as shown in:\n",
      "    https://scikit-learn.org/stable/modules/preprocessing.html\n",
      "  self.n_iter_ = _check_optimize_result(\"lbfgs\", opt_res, self.max_iter)\n"
     ]
    },
    {
     "data": {
      "text/plain": [
       "MLPClassifier(alpha=1e-05, hidden_layer_sizes=[250, 250], random_state=1,\n",
       "              solver='lbfgs')"
      ]
     },
     "execution_count": 77,
     "metadata": {},
     "output_type": "execute_result"
    }
   ],
   "source": [
    "%time model.fit(data[cols_bin], data['Направление']) "
   ]
  },
  {
   "cell_type": "code",
   "execution_count": 78,
   "id": "3da86c6f",
   "metadata": {},
   "outputs": [],
   "source": [
    "# прогнозируем ту колонку, которая нам нужна\n",
    "data['pos_dnn_sk'] = model.predict(data[cols_bin])"
   ]
  },
  {
   "cell_type": "code",
   "execution_count": 79,
   "id": "0a56a5fc",
   "metadata": {},
   "outputs": [
    {
     "data": {
      "text/plain": [
       "Date\n",
       "2021-12-16    1\n",
       "2021-12-16    1\n",
       "2021-12-16   -1\n",
       "2021-12-16    1\n",
       "2021-12-16   -1\n",
       "2021-12-16   -1\n",
       "2021-12-16   -1\n",
       "2021-12-16   -1\n",
       "2021-12-16   -1\n",
       "2021-12-16   -1\n",
       "Name: pos_dnn_sk, dtype: int32"
      ]
     },
     "execution_count": 79,
     "metadata": {},
     "output_type": "execute_result"
    }
   ],
   "source": [
    "data['pos_dnn_sk'].head(10)"
   ]
  },
  {
   "cell_type": "code",
   "execution_count": 80,
   "id": "39675083",
   "metadata": {},
   "outputs": [],
   "source": [
    "data['strat_dnn_sk'] = data['pos_dnn_sk'] * data['Доходность']"
   ]
  },
  {
   "cell_type": "code",
   "execution_count": 81,
   "id": "26e44642",
   "metadata": {},
   "outputs": [
    {
     "data": {
      "text/plain": [
       "Доходность      1.031491\n",
       "strat_dnn_sk    1.453491\n",
       "dtype: float64"
      ]
     },
     "execution_count": 81,
     "metadata": {},
     "output_type": "execute_result"
    }
   ],
   "source": [
    "data[['Доходность', 'strat_dnn_sk']].sum().apply(np.exp) "
   ]
  },
  {
   "cell_type": "code",
   "execution_count": 82,
   "id": "55658d6f",
   "metadata": {},
   "outputs": [
    {
     "data": {
      "image/png": "[encoded data removed]",
      "text/plain": [
       "<Figure size 720x432 with 1 Axes>"
      ]
     },
     "metadata": {
      "needs_background": "light"
     },
     "output_type": "display_data"
    }
   ],
   "source": [
    "data[['Доходность', 'strat_dnn_sk']].cumsum().apply(np.exp).plot(figsize=(10, 6));"
   ]
  },
  {
   "cell_type": "code",
   "execution_count": 83,
   "id": "c6554064",
   "metadata": {},
   "outputs": [],
   "source": [
    "train, test = train_test_split(data, test_size=0.5, random_state=100) "
   ]
  },
  {
   "cell_type": "code",
   "execution_count": 84,
   "id": "4edbe113",
   "metadata": {},
   "outputs": [],
   "source": [
    "train = train.copy().sort_index() "
   ]
  },
  {
   "cell_type": "code",
   "execution_count": 85,
   "id": "1f6e92e2",
   "metadata": {},
   "outputs": [],
   "source": [
    "test = test.copy().sort_index()"
   ]
  },
  {
   "cell_type": "code",
   "execution_count": 86,
   "id": "09a47ce1",
   "metadata": {},
   "outputs": [],
   "source": [
    "model = MLPClassifier(solver='lbfgs', alpha=1e-5, max_iter=500, hidden_layer_sizes=3 * [500], random_state=1)"
   ]
  },
  {
   "cell_type": "code",
   "execution_count": 87,
   "id": "b304627a",
   "metadata": {},
   "outputs": [
    {
     "name": "stdout",
     "output_type": "stream",
     "text": [
      "Wall time: 5min 14s\n"
     ]
    },
    {
     "name": "stderr",
     "output_type": "stream",
     "text": [
      "C:\\ProgramData\\Anaconda3\\lib\\site-packages\\sklearn\\neural_network\\_multilayer_perceptron.py:500: ConvergenceWarning: lbfgs failed to converge (status=1):\n",
      "STOP: TOTAL NO. of ITERATIONS REACHED LIMIT.\n",
      "\n",
      "Increase the number of iterations (max_iter) or scale the data as shown in:\n",
      "    https://scikit-learn.org/stable/modules/preprocessing.html\n",
      "  self.n_iter_ = _check_optimize_result(\"lbfgs\", opt_res, self.max_iter)\n"
     ]
    },
    {
     "data": {
      "text/plain": [
       "MLPClassifier(alpha=1e-05, hidden_layer_sizes=[500, 500, 500], max_iter=500,\n",
       "              random_state=1, solver='lbfgs')"
      ]
     },
     "execution_count": 87,
     "metadata": {},
     "output_type": "execute_result"
    }
   ],
   "source": [
    "%time model.fit(train[cols_bin ], train['Направление'])"
   ]
  },
  {
   "cell_type": "code",
   "execution_count": 88,
   "id": "fd594872",
   "metadata": {},
   "outputs": [],
   "source": [
    "test['pos_dnn_sk'] = model.predict(test[cols_bin]) "
   ]
  },
  {
   "cell_type": "code",
   "execution_count": 89,
   "id": "57e82f49",
   "metadata": {},
   "outputs": [],
   "source": [
    "test['strat_dnn_sk'] = test['pos_dnn_sk'] * test['Доходность'] "
   ]
  },
  {
   "cell_type": "code",
   "execution_count": 90,
   "id": "fa3226f6",
   "metadata": {},
   "outputs": [
    {
     "data": {
      "text/plain": [
       "Доходность      1.020265\n",
       "strat_dnn_sk    0.998402\n",
       "dtype: float64"
      ]
     },
     "execution_count": 90,
     "metadata": {},
     "output_type": "execute_result"
    }
   ],
   "source": [
    "test[['Доходность', 'strat_dnn_sk']].sum().apply(np.exp) "
   ]
  },
  {
   "cell_type": "code",
   "execution_count": 91,
   "id": "677ae96f",
   "metadata": {},
   "outputs": [
    {
     "data": {
      "image/png": "[encoded data removed]",
      "text/plain": [
       "<Figure size 720x432 with 1 Axes>"
      ]
     },
     "metadata": {
      "needs_background": "light"
     },
     "output_type": "display_data"
    }
   ],
   "source": [
    "test[['Доходность', 'strat_dnn_sk']].cumsum().apply(np.exp).plot(figsize=(10, 6));"
   ]
  }
 ],
 "metadata": {
  "kernelspec": {
   "display_name": "Python 3",
   "language": "python",
   "name": "python3"
  },
  "language_info": {
   "codemirror_mode": {
    "name": "ipython",
    "version": 3
   },
   "file_extension": ".py",
   "mimetype": "text/x-python",
   "name": "python",
   "nbconvert_exporter": "python",
   "pygments_lexer": "ipython3",
   "version": "3.8.8"
  }
 },
 "nbformat": 4,
 "nbformat_minor": 5
}
