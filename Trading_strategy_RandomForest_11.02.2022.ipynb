{
 "cells": [
  {
   "cell_type": "markdown",
   "id": "c005f565",
   "metadata": {},
   "source": [
    "# Векторизованное тестирование на актуальных исторических данных"
   ]
  },
  {
   "cell_type": "markdown",
   "id": "49ab017e",
   "metadata": {},
   "source": [
    "Прежде чем запускать данный алгоритм необходимо сначала актуализировать исторические данные. Для этого запускаем QUIK. Затем в QUIK запускаем алгоритм в основе которого лежит функция CreateDataSource, извлекающая данные из графиков движения цены."
   ]
  },
  {
   "cell_type": "markdown",
   "id": "f031bb33",
   "metadata": {},
   "source": [
    "В QUIK должны быть запущены стакан с котировками по нужному инструменту, таблица обезличенных сделок и график. А также скрипт QuikLuaPython"
   ]
  },
  {
   "cell_type": "markdown",
   "id": "75cdfa8d",
   "metadata": {},
   "source": [
    "# Получение и обработка данных"
   ]
  },
  {
   "cell_type": "code",
   "execution_count": 1,
   "id": "d3ae2e1f",
   "metadata": {},
   "outputs": [],
   "source": [
    "# Загружаем необходимые библиотеки и классы (treeinterpreter можно\n",
    "# установить с помощью команды pip install treeinterpreter)\n",
    "import time\n",
    "import pickle\n",
    "import datetime as dt\n",
    "from pylab import mpl, plt # импорт библиотеки Matplotlib\n",
    "from sklearn.ensemble import RandomForestRegressor\n",
    "from sklearn.ensemble import RandomForestClassifier\n",
    "from sklearn.metrics import accuracy_score\n",
    "import numpy as np\n",
    "import pandas as pd"
   ]
  },
  {
   "cell_type": "code",
   "execution_count": 2,
   "id": "1022fde5",
   "metadata": {},
   "outputs": [],
   "source": [
    "plt.style.use('seaborn') # настройка стиля диаграмм\n",
    "mpl.rcParams['font.family'] = 'serif'\n",
    "%matplotlib inline"
   ]
  },
  {
   "cell_type": "code",
   "execution_count": 3,
   "id": "900cccf2",
   "metadata": {},
   "outputs": [],
   "source": [
    "# загрузка данных из CSV-файла\n",
    "# Столбцы для использования в качестве меток строки файла DataFrame либо даны как string name или индекс столбца.\n",
    "# Если задана последовательность INT / STR, используется многоиндекс.\n",
    "# Примечание: index_col = false может использоваться для форсирования Pands не использовать первый столбец как индекс,\n",
    "# например, когда у вас есть неправильный файл с разделителями в конце каждой строки.\n",
    "# Функция читает файл, в котором данные о последней свече находятся в первой строке \n",
    "raw = pd.read_csv('c:\\SBERBANK\\QUIK_x64\\lua\\SiH2\\Data\\SiH2_11.2.2022.csv', index_col=0, parse_dates=False)"
   ]
  },
  {
   "cell_type": "code",
   "execution_count": 4,
   "id": "8f0758af",
   "metadata": {},
   "outputs": [
    {
     "name": "stdout",
     "output_type": "stream",
     "text": [
      "<class 'pandas.core.frame.DataFrame'>\n",
      "Index: 7795 entries, 2022-2-11 to 2021-12-16\n",
      "Data columns (total 6 columns):\n",
      " #   Column  Non-Null Count  Dtype  \n",
      "---  ------  --------------  -----  \n",
      " 0   Time    7795 non-null   object \n",
      " 1   Open    7795 non-null   float64\n",
      " 2   High    7795 non-null   float64\n",
      " 3   Low     7795 non-null   float64\n",
      " 4   Close   7795 non-null   float64\n",
      " 5   Volume  7795 non-null   float64\n",
      "dtypes: float64(5), object(1)\n",
      "memory usage: 426.3+ KB\n"
     ]
    }
   ],
   "source": [
    "raw.info() # информация о файле"
   ]
  },
  {
   "cell_type": "code",
   "execution_count": 5,
   "id": "1ea760ac",
   "metadata": {},
   "outputs": [],
   "source": [
    "reverse_raw = raw[::-1]"
   ]
  },
  {
   "cell_type": "code",
   "execution_count": 6,
   "id": "a9a9ff8c",
   "metadata": {},
   "outputs": [
    {
     "data": {
      "text/html": [
       "<div>\n",
       "<style scoped>\n",
       "    .dataframe tbody tr th:only-of-type {\n",
       "        vertical-align: middle;\n",
       "    }\n",
       "\n",
       "    .dataframe tbody tr th {\n",
       "        vertical-align: top;\n",
       "    }\n",
       "\n",
       "    .dataframe thead th {\n",
       "        text-align: right;\n",
       "    }\n",
       "</style>\n",
       "<table border=\"1\" class=\"dataframe\">\n",
       "  <thead>\n",
       "    <tr style=\"text-align: right;\">\n",
       "      <th></th>\n",
       "      <th>Time</th>\n",
       "      <th>Open</th>\n",
       "      <th>High</th>\n",
       "      <th>Low</th>\n",
       "      <th>Close</th>\n",
       "      <th>Volume</th>\n",
       "    </tr>\n",
       "    <tr>\n",
       "      <th>Date</th>\n",
       "      <th></th>\n",
       "      <th></th>\n",
       "      <th></th>\n",
       "      <th></th>\n",
       "      <th></th>\n",
       "      <th></th>\n",
       "    </tr>\n",
       "  </thead>\n",
       "  <tbody>\n",
       "    <tr>\n",
       "      <th>2021-12-16</th>\n",
       "      <td>20:45</td>\n",
       "      <td>75183.0</td>\n",
       "      <td>75208.0</td>\n",
       "      <td>75165.0</td>\n",
       "      <td>75204.0</td>\n",
       "      <td>7121.0</td>\n",
       "    </tr>\n",
       "    <tr>\n",
       "      <th>2021-12-16</th>\n",
       "      <td>20:50</td>\n",
       "      <td>75202.0</td>\n",
       "      <td>75208.0</td>\n",
       "      <td>75183.0</td>\n",
       "      <td>75190.0</td>\n",
       "      <td>2339.0</td>\n",
       "    </tr>\n",
       "    <tr>\n",
       "      <th>2021-12-16</th>\n",
       "      <td>20:55</td>\n",
       "      <td>75191.0</td>\n",
       "      <td>75197.0</td>\n",
       "      <td>75186.0</td>\n",
       "      <td>75196.0</td>\n",
       "      <td>982.0</td>\n",
       "    </tr>\n",
       "    <tr>\n",
       "      <th>2021-12-16</th>\n",
       "      <td>21:0</td>\n",
       "      <td>75196.0</td>\n",
       "      <td>75199.0</td>\n",
       "      <td>75150.0</td>\n",
       "      <td>75158.0</td>\n",
       "      <td>4400.0</td>\n",
       "    </tr>\n",
       "    <tr>\n",
       "      <th>2021-12-16</th>\n",
       "      <td>21:5</td>\n",
       "      <td>75156.0</td>\n",
       "      <td>75171.0</td>\n",
       "      <td>75133.0</td>\n",
       "      <td>75134.0</td>\n",
       "      <td>5503.0</td>\n",
       "    </tr>\n",
       "  </tbody>\n",
       "</table>\n",
       "</div>"
      ],
      "text/plain": [
       "             Time     Open     High      Low    Close  Volume\n",
       "Date                                                         \n",
       "2021-12-16  20:45  75183.0  75208.0  75165.0  75204.0  7121.0\n",
       "2021-12-16  20:50  75202.0  75208.0  75183.0  75190.0  2339.0\n",
       "2021-12-16  20:55  75191.0  75197.0  75186.0  75196.0   982.0\n",
       "2021-12-16   21:0  75196.0  75199.0  75150.0  75158.0  4400.0\n",
       "2021-12-16   21:5  75156.0  75171.0  75133.0  75134.0  5503.0"
      ]
     },
     "execution_count": 6,
     "metadata": {},
     "output_type": "execute_result"
    }
   ],
   "source": [
    "reverse_raw.head()"
   ]
  },
  {
   "cell_type": "code",
   "execution_count": 7,
   "id": "5cfdcef2",
   "metadata": {},
   "outputs": [],
   "source": [
    "symbol = 'Close' # т.к. нам нужны цены закрытия пятиминутных свечей берём данные из колонки Close"
   ]
  },
  {
   "cell_type": "code",
   "execution_count": 8,
   "id": "e049dee0",
   "metadata": {},
   "outputs": [],
   "source": [
    "m5_close = reverse_raw[symbol] # сохраняем серию в переменную с наиболее подходящим и информативным названием"
   ]
  },
  {
   "cell_type": "code",
   "execution_count": 9,
   "id": "57a67748",
   "metadata": {},
   "outputs": [],
   "source": [
    "# формирование подмножества данных и исключение нечисловых значений (NaN))\n",
    "data = (pd.DataFrame(m5_close).dropna())"
   ]
  },
  {
   "cell_type": "code",
   "execution_count": 10,
   "id": "cfb72389",
   "metadata": {},
   "outputs": [],
   "source": [
    "# расчёт логарифмической доходности\n",
    "data['Доходность'] = np.log(data/data.shift(1))"
   ]
  },
  {
   "cell_type": "code",
   "execution_count": 11,
   "id": "6f5db6b7",
   "metadata": {},
   "outputs": [],
   "source": [
    "# всегда применяем после shift, т.к. после shift появляются нечисловые значения NaN\n",
    "data.dropna(inplace=True)"
   ]
  },
  {
   "cell_type": "code",
   "execution_count": 12,
   "id": "6529593d",
   "metadata": {},
   "outputs": [
    {
     "data": {
      "text/plain": [
       "Date\n",
       "2021-12-16   -0.000186\n",
       "2021-12-16    0.000080\n",
       "2021-12-16   -0.000505\n",
       "2021-12-16   -0.000319\n",
       "2021-12-16   -0.000027\n",
       "Name: Доходность, dtype: float64"
      ]
     },
     "execution_count": 12,
     "metadata": {},
     "output_type": "execute_result"
    }
   ],
   "source": [
    "data['Доходность'].head()"
   ]
  },
  {
   "cell_type": "code",
   "execution_count": 13,
   "id": "5669ffda",
   "metadata": {},
   "outputs": [],
   "source": [
    "# Функция sign() является указателем на знак числа. Если число со знаком минус, то возвращает -1, если с плюсом, то 1\n",
    "# Функция astype() преобразует в указанный тип данных, в данном случае int\n",
    "data['Направление'] = np.sign(data['Доходность']).astype(int)"
   ]
  },
  {
   "cell_type": "code",
   "execution_count": 14,
   "id": "1fdcbdff",
   "metadata": {},
   "outputs": [],
   "source": [
    "lags = 5 # поменяли количество 2 на 5"
   ]
  },
  {
   "cell_type": "code",
   "execution_count": 15,
   "id": "4927e4a1",
   "metadata": {},
   "outputs": [],
   "source": [
    "# это не относится к данному разделу, просто проверка работоспособности кода\n",
    "features = data['Направление'].iloc[-(lags + 1):-1] "
   ]
  },
  {
   "cell_type": "code",
   "execution_count": 16,
   "id": "efecb55c",
   "metadata": {},
   "outputs": [
    {
     "data": {
      "text/plain": [
       "pandas.core.series.Series"
      ]
     },
     "execution_count": 16,
     "metadata": {},
     "output_type": "execute_result"
    }
   ],
   "source": [
    "# смотрим, что за тип данных\n",
    "type(features)"
   ]
  },
  {
   "cell_type": "code",
   "execution_count": 17,
   "id": "95a94d7e",
   "metadata": {},
   "outputs": [
    {
     "data": {
      "text/plain": [
       "Date\n",
       "2022-2-11    1\n",
       "2022-2-11   -1\n",
       "2022-2-11   -1\n",
       "2022-2-11    1\n",
       "2022-2-11    1\n",
       "Name: Направление, dtype: int32"
      ]
     },
     "execution_count": 17,
     "metadata": {},
     "output_type": "execute_result"
    }
   ],
   "source": [
    "# наглядно\n",
    "features.head()"
   ]
  },
  {
   "cell_type": "code",
   "execution_count": 18,
   "id": "f93cc3bf",
   "metadata": {},
   "outputs": [
    {
     "data": {
      "text/plain": [
       "Date\n",
       "2022-2-11    1\n",
       "2022-2-11   -1\n",
       "2022-2-11   -1\n",
       "2022-2-11    1\n",
       "2022-2-11    1\n",
       "Name: Направление, dtype: int32"
      ]
     },
     "execution_count": 18,
     "metadata": {},
     "output_type": "execute_result"
    }
   ],
   "source": [
    "features"
   ]
  },
  {
   "cell_type": "code",
   "execution_count": 19,
   "id": "41b1f54a",
   "metadata": {},
   "outputs": [],
   "source": [
    "features = features.values.reshape(1, -1)"
   ]
  },
  {
   "cell_type": "code",
   "execution_count": 20,
   "id": "d0f27f02",
   "metadata": {},
   "outputs": [
    {
     "data": {
      "text/plain": [
       "numpy.ndarray"
      ]
     },
     "execution_count": 20,
     "metadata": {},
     "output_type": "execute_result"
    }
   ],
   "source": [
    "type(features)"
   ]
  },
  {
   "cell_type": "code",
   "execution_count": 21,
   "id": "38b75f93",
   "metadata": {},
   "outputs": [
    {
     "data": {
      "text/plain": [
       "array([[ 1, -1, -1,  1,  1]])"
      ]
     },
     "execution_count": 21,
     "metadata": {},
     "output_type": "execute_result"
    }
   ],
   "source": [
    "features"
   ]
  },
  {
   "cell_type": "markdown",
   "id": "e10d5f4b",
   "metadata": {},
   "source": [
    "Продолжение раздела, чтобы не перепутать, что откуда берётся"
   ]
  },
  {
   "cell_type": "code",
   "execution_count": 22,
   "id": "47a8b0a0",
   "metadata": {},
   "outputs": [],
   "source": [
    "def create_lags(data):\n",
    "    global cols\n",
    "    cols = []\n",
    "    for lag in range(1, lags + 1):\n",
    "        col = 'lag_{}'.format(lag)\n",
    "        data[col] = data['Доходность'].shift(lag) # обратить внимание на каком этапе появляются data[col]\n",
    "        cols.append(col)"
   ]
  },
  {
   "cell_type": "code",
   "execution_count": 23,
   "id": "bc7839b6",
   "metadata": {},
   "outputs": [],
   "source": [
    "create_lags(data)"
   ]
  },
  {
   "cell_type": "code",
   "execution_count": 24,
   "id": "c76c06b0",
   "metadata": {},
   "outputs": [],
   "source": [
    "data.dropna(inplace=True)"
   ]
  },
  {
   "cell_type": "code",
   "execution_count": 25,
   "id": "bbf28c0e",
   "metadata": {},
   "outputs": [
    {
     "data": {
      "text/plain": [
       "pandas.core.frame.DataFrame"
      ]
     },
     "execution_count": 25,
     "metadata": {},
     "output_type": "execute_result"
    }
   ],
   "source": [
    "type(data)"
   ]
  },
  {
   "cell_type": "code",
   "execution_count": 26,
   "id": "f9bc46d6",
   "metadata": {},
   "outputs": [
    {
     "data": {
      "text/html": [
       "<div>\n",
       "<style scoped>\n",
       "    .dataframe tbody tr th:only-of-type {\n",
       "        vertical-align: middle;\n",
       "    }\n",
       "\n",
       "    .dataframe tbody tr th {\n",
       "        vertical-align: top;\n",
       "    }\n",
       "\n",
       "    .dataframe thead th {\n",
       "        text-align: right;\n",
       "    }\n",
       "</style>\n",
       "<table border=\"1\" class=\"dataframe\">\n",
       "  <thead>\n",
       "    <tr style=\"text-align: right;\">\n",
       "      <th></th>\n",
       "      <th>Close</th>\n",
       "      <th>Доходность</th>\n",
       "      <th>Направление</th>\n",
       "      <th>lag_1</th>\n",
       "      <th>lag_2</th>\n",
       "      <th>lag_3</th>\n",
       "      <th>lag_4</th>\n",
       "      <th>lag_5</th>\n",
       "    </tr>\n",
       "    <tr>\n",
       "      <th>Date</th>\n",
       "      <th></th>\n",
       "      <th></th>\n",
       "      <th></th>\n",
       "      <th></th>\n",
       "      <th></th>\n",
       "      <th></th>\n",
       "      <th></th>\n",
       "      <th></th>\n",
       "    </tr>\n",
       "  </thead>\n",
       "  <tbody>\n",
       "    <tr>\n",
       "      <th>2021-12-16</th>\n",
       "      <td>75136.0</td>\n",
       "      <td>0.000053</td>\n",
       "      <td>1</td>\n",
       "      <td>-0.000027</td>\n",
       "      <td>-0.000319</td>\n",
       "      <td>-0.000505</td>\n",
       "      <td>0.000080</td>\n",
       "      <td>-0.000186</td>\n",
       "    </tr>\n",
       "    <tr>\n",
       "      <th>2021-12-16</th>\n",
       "      <td>75159.0</td>\n",
       "      <td>0.000306</td>\n",
       "      <td>1</td>\n",
       "      <td>0.000053</td>\n",
       "      <td>-0.000027</td>\n",
       "      <td>-0.000319</td>\n",
       "      <td>-0.000505</td>\n",
       "      <td>0.000080</td>\n",
       "    </tr>\n",
       "    <tr>\n",
       "      <th>2021-12-16</th>\n",
       "      <td>75177.0</td>\n",
       "      <td>0.000239</td>\n",
       "      <td>1</td>\n",
       "      <td>0.000306</td>\n",
       "      <td>0.000053</td>\n",
       "      <td>-0.000027</td>\n",
       "      <td>-0.000319</td>\n",
       "      <td>-0.000505</td>\n",
       "    </tr>\n",
       "    <tr>\n",
       "      <th>2021-12-16</th>\n",
       "      <td>75200.0</td>\n",
       "      <td>0.000306</td>\n",
       "      <td>1</td>\n",
       "      <td>0.000239</td>\n",
       "      <td>0.000306</td>\n",
       "      <td>0.000053</td>\n",
       "      <td>-0.000027</td>\n",
       "      <td>-0.000319</td>\n",
       "    </tr>\n",
       "    <tr>\n",
       "      <th>2021-12-16</th>\n",
       "      <td>75180.0</td>\n",
       "      <td>-0.000266</td>\n",
       "      <td>-1</td>\n",
       "      <td>0.000306</td>\n",
       "      <td>0.000239</td>\n",
       "      <td>0.000306</td>\n",
       "      <td>0.000053</td>\n",
       "      <td>-0.000027</td>\n",
       "    </tr>\n",
       "  </tbody>\n",
       "</table>\n",
       "</div>"
      ],
      "text/plain": [
       "              Close  Доходность  Направление     lag_1     lag_2     lag_3  \\\n",
       "Date                                                                         \n",
       "2021-12-16  75136.0    0.000053            1 -0.000027 -0.000319 -0.000505   \n",
       "2021-12-16  75159.0    0.000306            1  0.000053 -0.000027 -0.000319   \n",
       "2021-12-16  75177.0    0.000239            1  0.000306  0.000053 -0.000027   \n",
       "2021-12-16  75200.0    0.000306            1  0.000239  0.000306  0.000053   \n",
       "2021-12-16  75180.0   -0.000266           -1  0.000306  0.000239  0.000306   \n",
       "\n",
       "               lag_4     lag_5  \n",
       "Date                            \n",
       "2021-12-16  0.000080 -0.000186  \n",
       "2021-12-16 -0.000505  0.000080  \n",
       "2021-12-16 -0.000319 -0.000505  \n",
       "2021-12-16 -0.000027 -0.000319  \n",
       "2021-12-16  0.000053 -0.000027  "
      ]
     },
     "execution_count": 26,
     "metadata": {},
     "output_type": "execute_result"
    }
   ],
   "source": [
    "data.head()"
   ]
  },
  {
   "cell_type": "code",
   "execution_count": 27,
   "id": "bebe8324",
   "metadata": {},
   "outputs": [],
   "source": [
    "# дискретизация значений признаков с учётом параметра bins\n",
    "def create_bins(data, bins=[0]):\n",
    "    global cols_bin # объявляем глобальную переменную\n",
    "    cols_bin = []\n",
    "    for col in cols:\n",
    "        col_bin = col + '_bin' # преобразуем названия колонок\n",
    "        # Функция digitize Возвращает индексы бинов,к которым принадлежит каждое значение во входном массиве.\n",
    "        # Если значения в x выходят за пределы bins , соответственно возвращается 0 или len(bins). Т.е. отрицательные значения преобразуем в 0, а положительные в 1\n",
    "        data[col_bin] = np.digitize(data[col], bins=bins)\n",
    "        cols_bin.append (col_bin )"
   ]
  },
  {
   "cell_type": "code",
   "execution_count": 28,
   "id": "56ecbe25",
   "metadata": {},
   "outputs": [
    {
     "data": {
      "text/plain": [
       "['lag_1_bin', 'lag_2_bin', 'lag_3_bin', 'lag_4_bin', 'lag_5_bin']"
      ]
     },
     "execution_count": 28,
     "metadata": {},
     "output_type": "execute_result"
    }
   ],
   "source": [
    "create_bins(data)\n",
    "cols_bin"
   ]
  },
  {
   "cell_type": "code",
   "execution_count": 29,
   "id": "201325a2",
   "metadata": {},
   "outputs": [
    {
     "data": {
      "text/plain": [
       "pandas.core.frame.DataFrame"
      ]
     },
     "execution_count": 29,
     "metadata": {},
     "output_type": "execute_result"
    }
   ],
   "source": [
    "type(data)"
   ]
  },
  {
   "cell_type": "code",
   "execution_count": 30,
   "id": "614eabc8",
   "metadata": {},
   "outputs": [
    {
     "data": {
      "text/html": [
       "<div>\n",
       "<style scoped>\n",
       "    .dataframe tbody tr th:only-of-type {\n",
       "        vertical-align: middle;\n",
       "    }\n",
       "\n",
       "    .dataframe tbody tr th {\n",
       "        vertical-align: top;\n",
       "    }\n",
       "\n",
       "    .dataframe thead th {\n",
       "        text-align: right;\n",
       "    }\n",
       "</style>\n",
       "<table border=\"1\" class=\"dataframe\">\n",
       "  <thead>\n",
       "    <tr style=\"text-align: right;\">\n",
       "      <th></th>\n",
       "      <th>Close</th>\n",
       "      <th>Доходность</th>\n",
       "      <th>Направление</th>\n",
       "      <th>lag_1</th>\n",
       "      <th>lag_2</th>\n",
       "      <th>lag_3</th>\n",
       "      <th>lag_4</th>\n",
       "      <th>lag_5</th>\n",
       "      <th>lag_1_bin</th>\n",
       "      <th>lag_2_bin</th>\n",
       "      <th>lag_3_bin</th>\n",
       "      <th>lag_4_bin</th>\n",
       "      <th>lag_5_bin</th>\n",
       "    </tr>\n",
       "    <tr>\n",
       "      <th>Date</th>\n",
       "      <th></th>\n",
       "      <th></th>\n",
       "      <th></th>\n",
       "      <th></th>\n",
       "      <th></th>\n",
       "      <th></th>\n",
       "      <th></th>\n",
       "      <th></th>\n",
       "      <th></th>\n",
       "      <th></th>\n",
       "      <th></th>\n",
       "      <th></th>\n",
       "      <th></th>\n",
       "    </tr>\n",
       "  </thead>\n",
       "  <tbody>\n",
       "    <tr>\n",
       "      <th>2021-12-16</th>\n",
       "      <td>75136.0</td>\n",
       "      <td>0.000053</td>\n",
       "      <td>1</td>\n",
       "      <td>-0.000027</td>\n",
       "      <td>-0.000319</td>\n",
       "      <td>-0.000505</td>\n",
       "      <td>0.000080</td>\n",
       "      <td>-0.000186</td>\n",
       "      <td>0</td>\n",
       "      <td>0</td>\n",
       "      <td>0</td>\n",
       "      <td>1</td>\n",
       "      <td>0</td>\n",
       "    </tr>\n",
       "    <tr>\n",
       "      <th>2021-12-16</th>\n",
       "      <td>75159.0</td>\n",
       "      <td>0.000306</td>\n",
       "      <td>1</td>\n",
       "      <td>0.000053</td>\n",
       "      <td>-0.000027</td>\n",
       "      <td>-0.000319</td>\n",
       "      <td>-0.000505</td>\n",
       "      <td>0.000080</td>\n",
       "      <td>1</td>\n",
       "      <td>0</td>\n",
       "      <td>0</td>\n",
       "      <td>0</td>\n",
       "      <td>1</td>\n",
       "    </tr>\n",
       "    <tr>\n",
       "      <th>2021-12-16</th>\n",
       "      <td>75177.0</td>\n",
       "      <td>0.000239</td>\n",
       "      <td>1</td>\n",
       "      <td>0.000306</td>\n",
       "      <td>0.000053</td>\n",
       "      <td>-0.000027</td>\n",
       "      <td>-0.000319</td>\n",
       "      <td>-0.000505</td>\n",
       "      <td>1</td>\n",
       "      <td>1</td>\n",
       "      <td>0</td>\n",
       "      <td>0</td>\n",
       "      <td>0</td>\n",
       "    </tr>\n",
       "    <tr>\n",
       "      <th>2021-12-16</th>\n",
       "      <td>75200.0</td>\n",
       "      <td>0.000306</td>\n",
       "      <td>1</td>\n",
       "      <td>0.000239</td>\n",
       "      <td>0.000306</td>\n",
       "      <td>0.000053</td>\n",
       "      <td>-0.000027</td>\n",
       "      <td>-0.000319</td>\n",
       "      <td>1</td>\n",
       "      <td>1</td>\n",
       "      <td>1</td>\n",
       "      <td>0</td>\n",
       "      <td>0</td>\n",
       "    </tr>\n",
       "    <tr>\n",
       "      <th>2021-12-16</th>\n",
       "      <td>75180.0</td>\n",
       "      <td>-0.000266</td>\n",
       "      <td>-1</td>\n",
       "      <td>0.000306</td>\n",
       "      <td>0.000239</td>\n",
       "      <td>0.000306</td>\n",
       "      <td>0.000053</td>\n",
       "      <td>-0.000027</td>\n",
       "      <td>1</td>\n",
       "      <td>1</td>\n",
       "      <td>1</td>\n",
       "      <td>1</td>\n",
       "      <td>0</td>\n",
       "    </tr>\n",
       "  </tbody>\n",
       "</table>\n",
       "</div>"
      ],
      "text/plain": [
       "              Close  Доходность  Направление     lag_1     lag_2     lag_3  \\\n",
       "Date                                                                         \n",
       "2021-12-16  75136.0    0.000053            1 -0.000027 -0.000319 -0.000505   \n",
       "2021-12-16  75159.0    0.000306            1  0.000053 -0.000027 -0.000319   \n",
       "2021-12-16  75177.0    0.000239            1  0.000306  0.000053 -0.000027   \n",
       "2021-12-16  75200.0    0.000306            1  0.000239  0.000306  0.000053   \n",
       "2021-12-16  75180.0   -0.000266           -1  0.000306  0.000239  0.000306   \n",
       "\n",
       "               lag_4     lag_5  lag_1_bin  lag_2_bin  lag_3_bin  lag_4_bin  \\\n",
       "Date                                                                         \n",
       "2021-12-16  0.000080 -0.000186          0          0          0          1   \n",
       "2021-12-16 -0.000505  0.000080          1          0          0          0   \n",
       "2021-12-16 -0.000319 -0.000505          1          1          0          0   \n",
       "2021-12-16 -0.000027 -0.000319          1          1          1          0   \n",
       "2021-12-16  0.000053 -0.000027          1          1          1          1   \n",
       "\n",
       "            lag_5_bin  \n",
       "Date                   \n",
       "2021-12-16          0  \n",
       "2021-12-16          1  \n",
       "2021-12-16          0  \n",
       "2021-12-16          0  \n",
       "2021-12-16          0  "
      ]
     },
     "execution_count": 30,
     "metadata": {},
     "output_type": "execute_result"
    }
   ],
   "source": [
    "data.head()"
   ]
  },
  {
   "cell_type": "code",
   "execution_count": 31,
   "id": "ba5b3312",
   "metadata": {},
   "outputs": [
    {
     "data": {
      "text/html": [
       "<div>\n",
       "<style scoped>\n",
       "    .dataframe tbody tr th:only-of-type {\n",
       "        vertical-align: middle;\n",
       "    }\n",
       "\n",
       "    .dataframe tbody tr th {\n",
       "        vertical-align: top;\n",
       "    }\n",
       "\n",
       "    .dataframe thead th {\n",
       "        text-align: right;\n",
       "    }\n",
       "</style>\n",
       "<table border=\"1\" class=\"dataframe\">\n",
       "  <thead>\n",
       "    <tr style=\"text-align: right;\">\n",
       "      <th></th>\n",
       "      <th>lag_1_bin</th>\n",
       "      <th>lag_2_bin</th>\n",
       "      <th>lag_3_bin</th>\n",
       "      <th>lag_4_bin</th>\n",
       "      <th>lag_5_bin</th>\n",
       "      <th>Направление</th>\n",
       "    </tr>\n",
       "    <tr>\n",
       "      <th>Date</th>\n",
       "      <th></th>\n",
       "      <th></th>\n",
       "      <th></th>\n",
       "      <th></th>\n",
       "      <th></th>\n",
       "      <th></th>\n",
       "    </tr>\n",
       "  </thead>\n",
       "  <tbody>\n",
       "    <tr>\n",
       "      <th>2021-12-16</th>\n",
       "      <td>0</td>\n",
       "      <td>0</td>\n",
       "      <td>0</td>\n",
       "      <td>1</td>\n",
       "      <td>0</td>\n",
       "      <td>1</td>\n",
       "    </tr>\n",
       "    <tr>\n",
       "      <th>2021-12-16</th>\n",
       "      <td>1</td>\n",
       "      <td>0</td>\n",
       "      <td>0</td>\n",
       "      <td>0</td>\n",
       "      <td>1</td>\n",
       "      <td>1</td>\n",
       "    </tr>\n",
       "    <tr>\n",
       "      <th>2021-12-16</th>\n",
       "      <td>1</td>\n",
       "      <td>1</td>\n",
       "      <td>0</td>\n",
       "      <td>0</td>\n",
       "      <td>0</td>\n",
       "      <td>1</td>\n",
       "    </tr>\n",
       "    <tr>\n",
       "      <th>2021-12-16</th>\n",
       "      <td>1</td>\n",
       "      <td>1</td>\n",
       "      <td>1</td>\n",
       "      <td>0</td>\n",
       "      <td>0</td>\n",
       "      <td>1</td>\n",
       "    </tr>\n",
       "    <tr>\n",
       "      <th>2021-12-16</th>\n",
       "      <td>1</td>\n",
       "      <td>1</td>\n",
       "      <td>1</td>\n",
       "      <td>1</td>\n",
       "      <td>0</td>\n",
       "      <td>-1</td>\n",
       "    </tr>\n",
       "    <tr>\n",
       "      <th>2021-12-16</th>\n",
       "      <td>0</td>\n",
       "      <td>1</td>\n",
       "      <td>1</td>\n",
       "      <td>1</td>\n",
       "      <td>1</td>\n",
       "      <td>1</td>\n",
       "    </tr>\n",
       "    <tr>\n",
       "      <th>2021-12-16</th>\n",
       "      <td>1</td>\n",
       "      <td>0</td>\n",
       "      <td>1</td>\n",
       "      <td>1</td>\n",
       "      <td>1</td>\n",
       "      <td>-1</td>\n",
       "    </tr>\n",
       "    <tr>\n",
       "      <th>2021-12-16</th>\n",
       "      <td>0</td>\n",
       "      <td>1</td>\n",
       "      <td>0</td>\n",
       "      <td>1</td>\n",
       "      <td>1</td>\n",
       "      <td>1</td>\n",
       "    </tr>\n",
       "    <tr>\n",
       "      <th>2021-12-16</th>\n",
       "      <td>1</td>\n",
       "      <td>0</td>\n",
       "      <td>1</td>\n",
       "      <td>0</td>\n",
       "      <td>1</td>\n",
       "      <td>-1</td>\n",
       "    </tr>\n",
       "    <tr>\n",
       "      <th>2021-12-16</th>\n",
       "      <td>0</td>\n",
       "      <td>1</td>\n",
       "      <td>0</td>\n",
       "      <td>1</td>\n",
       "      <td>0</td>\n",
       "      <td>-1</td>\n",
       "    </tr>\n",
       "  </tbody>\n",
       "</table>\n",
       "</div>"
      ],
      "text/plain": [
       "            lag_1_bin  lag_2_bin  lag_3_bin  lag_4_bin  lag_5_bin  Направление\n",
       "Date                                                                          \n",
       "2021-12-16          0          0          0          1          0            1\n",
       "2021-12-16          1          0          0          0          1            1\n",
       "2021-12-16          1          1          0          0          0            1\n",
       "2021-12-16          1          1          1          0          0            1\n",
       "2021-12-16          1          1          1          1          0           -1\n",
       "2021-12-16          0          1          1          1          1            1\n",
       "2021-12-16          1          0          1          1          1           -1\n",
       "2021-12-16          0          1          0          1          1            1\n",
       "2021-12-16          1          0          1          0          1           -1\n",
       "2021-12-16          0          1          0          1          0           -1"
      ]
     },
     "execution_count": 31,
     "metadata": {},
     "output_type": "execute_result"
    }
   ],
   "source": [
    "# Отображение дискретных значений признаков и меток\n",
    "data[cols_bin + ['Направление']].head(10)"
   ]
  },
  {
   "cell_type": "code",
   "execution_count": 32,
   "id": "84dd451e",
   "metadata": {},
   "outputs": [
    {
     "data": {
      "text/plain": [
       "lag_1_bin  lag_2_bin  lag_3_bin  lag_4_bin  lag_5_bin  Направление\n",
       "0          0          0          0          0          -1              65\n",
       "                                                        0               2\n",
       "                                                        1              82\n",
       "                                            1          -1              84\n",
       "                                                        0               2\n",
       "                                                                     ... \n",
       "1          1          1          1          0           0               4\n",
       "                                                        1             106\n",
       "                                            1          -1             110\n",
       "                                                        0               1\n",
       "                                                        1              92\n",
       "Length: 95, dtype: int64"
      ]
     },
     "execution_count": 32,
     "metadata": {},
     "output_type": "execute_result"
    }
   ],
   "source": [
    "grouped = data.groupby(cols_bin + ['Направление'])\n",
    "grouped.size() # Отображение частоты возможных движений в зависимости от комбинаций значений признаков"
   ]
  },
  {
   "cell_type": "code",
   "execution_count": 33,
   "id": "7ab69465",
   "metadata": {},
   "outputs": [],
   "source": [
    "# Преобразование объекта DataFrame, чтобы частоты хранились по столбцам.\n",
    "res = grouped['Направление'].size().unstack(fill_value=0)"
   ]
  },
  {
   "cell_type": "code",
   "execution_count": 34,
   "id": "933fd60b",
   "metadata": {},
   "outputs": [],
   "source": [
    "# Определение наиболее часто встречающегося значения для каждой комбинации значений признаков.\n",
    "def highlight_max(s):\n",
    "    is_max = s == s.max()\n",
    "    return ['background-color: yellow' if v else '' for v in is_max]"
   ]
  },
  {
   "cell_type": "code",
   "execution_count": 35,
   "id": "f6134b4d",
   "metadata": {},
   "outputs": [
    {
     "data": {
      "text/html": [
       "<style  type=\"text/css\" >\n",
       "#T_226a3_row0_col2,#T_226a3_row1_col2,#T_226a3_row2_col2,#T_226a3_row3_col2,#T_226a3_row4_col2,#T_226a3_row5_col2,#T_226a3_row6_col2,#T_226a3_row7_col0,#T_226a3_row8_col2,#T_226a3_row9_col0,#T_226a3_row10_col2,#T_226a3_row11_col2,#T_226a3_row12_col2,#T_226a3_row13_col0,#T_226a3_row14_col2,#T_226a3_row15_col0,#T_226a3_row16_col0,#T_226a3_row17_col0,#T_226a3_row17_col2,#T_226a3_row18_col0,#T_226a3_row19_col0,#T_226a3_row20_col0,#T_226a3_row21_col0,#T_226a3_row22_col2,#T_226a3_row23_col0,#T_226a3_row24_col0,#T_226a3_row25_col0,#T_226a3_row26_col0,#T_226a3_row27_col0,#T_226a3_row28_col0,#T_226a3_row29_col0,#T_226a3_row30_col0,#T_226a3_row31_col0{\n",
       "            background-color:  yellow;\n",
       "        }</style><table id=\"T_226a3_\" ><thead>    <tr>        <th class=\"blank\" ></th>        <th class=\"blank\" ></th>        <th class=\"blank\" ></th>        <th class=\"blank\" ></th>        <th class=\"index_name level0\" >Направление</th>        <th class=\"col_heading level0 col0\" >-1</th>        <th class=\"col_heading level0 col1\" >0</th>        <th class=\"col_heading level0 col2\" >1</th>    </tr>    <tr>        <th class=\"index_name level0\" >lag_1_bin</th>        <th class=\"index_name level1\" >lag_2_bin</th>        <th class=\"index_name level2\" >lag_3_bin</th>        <th class=\"index_name level3\" >lag_4_bin</th>        <th class=\"index_name level4\" >lag_5_bin</th>        <th class=\"blank\" ></th>        <th class=\"blank\" ></th>        <th class=\"blank\" ></th>    </tr></thead><tbody>\n",
       "                <tr>\n",
       "                        <th id=\"T_226a3_level0_row0\" class=\"row_heading level0 row0\" rowspan=\"16\">0</th>\n",
       "                        <th id=\"T_226a3_level1_row0\" class=\"row_heading level1 row0\" rowspan=\"8\">0</th>\n",
       "                        <th id=\"T_226a3_level2_row0\" class=\"row_heading level2 row0\" rowspan=\"4\">0</th>\n",
       "                        <th id=\"T_226a3_level3_row0\" class=\"row_heading level3 row0\" rowspan=\"2\">0</th>\n",
       "                        <th id=\"T_226a3_level4_row0\" class=\"row_heading level4 row0\" >0</th>\n",
       "                        <td id=\"T_226a3_row0_col0\" class=\"data row0 col0\" >65</td>\n",
       "                        <td id=\"T_226a3_row0_col1\" class=\"data row0 col1\" >2</td>\n",
       "                        <td id=\"T_226a3_row0_col2\" class=\"data row0 col2\" >82</td>\n",
       "            </tr>\n",
       "            <tr>\n",
       "                                                        <th id=\"T_226a3_level4_row1\" class=\"row_heading level4 row1\" >1</th>\n",
       "                        <td id=\"T_226a3_row1_col0\" class=\"data row1 col0\" >84</td>\n",
       "                        <td id=\"T_226a3_row1_col1\" class=\"data row1 col1\" >2</td>\n",
       "                        <td id=\"T_226a3_row1_col2\" class=\"data row1 col2\" >127</td>\n",
       "            </tr>\n",
       "            <tr>\n",
       "                                                <th id=\"T_226a3_level3_row2\" class=\"row_heading level3 row2\" rowspan=\"2\">1</th>\n",
       "                        <th id=\"T_226a3_level4_row2\" class=\"row_heading level4 row2\" >0</th>\n",
       "                        <td id=\"T_226a3_row2_col0\" class=\"data row2 col0\" >98</td>\n",
       "                        <td id=\"T_226a3_row2_col1\" class=\"data row2 col1\" >3</td>\n",
       "                        <td id=\"T_226a3_row2_col2\" class=\"data row2 col2\" >121</td>\n",
       "            </tr>\n",
       "            <tr>\n",
       "                                                        <th id=\"T_226a3_level4_row3\" class=\"row_heading level4 row3\" >1</th>\n",
       "                        <td id=\"T_226a3_row3_col0\" class=\"data row3 col0\" >115</td>\n",
       "                        <td id=\"T_226a3_row3_col1\" class=\"data row3 col1\" >1</td>\n",
       "                        <td id=\"T_226a3_row3_col2\" class=\"data row3 col2\" >130</td>\n",
       "            </tr>\n",
       "            <tr>\n",
       "                                        <th id=\"T_226a3_level2_row4\" class=\"row_heading level2 row4\" rowspan=\"4\">1</th>\n",
       "                        <th id=\"T_226a3_level3_row4\" class=\"row_heading level3 row4\" rowspan=\"2\">0</th>\n",
       "                        <th id=\"T_226a3_level4_row4\" class=\"row_heading level4 row4\" >0</th>\n",
       "                        <td id=\"T_226a3_row4_col0\" class=\"data row4 col0\" >104</td>\n",
       "                        <td id=\"T_226a3_row4_col1\" class=\"data row4 col1\" >1</td>\n",
       "                        <td id=\"T_226a3_row4_col2\" class=\"data row4 col2\" >141</td>\n",
       "            </tr>\n",
       "            <tr>\n",
       "                                                        <th id=\"T_226a3_level4_row5\" class=\"row_heading level4 row5\" >1</th>\n",
       "                        <td id=\"T_226a3_row5_col0\" class=\"data row5 col0\" >117</td>\n",
       "                        <td id=\"T_226a3_row5_col1\" class=\"data row5 col1\" >3</td>\n",
       "                        <td id=\"T_226a3_row5_col2\" class=\"data row5 col2\" >125</td>\n",
       "            </tr>\n",
       "            <tr>\n",
       "                                                <th id=\"T_226a3_level3_row6\" class=\"row_heading level3 row6\" rowspan=\"2\">1</th>\n",
       "                        <th id=\"T_226a3_level4_row6\" class=\"row_heading level4 row6\" >0</th>\n",
       "                        <td id=\"T_226a3_row6_col0\" class=\"data row6 col0\" >120</td>\n",
       "                        <td id=\"T_226a3_row6_col1\" class=\"data row6 col1\" >5</td>\n",
       "                        <td id=\"T_226a3_row6_col2\" class=\"data row6 col2\" >138</td>\n",
       "            </tr>\n",
       "            <tr>\n",
       "                                                        <th id=\"T_226a3_level4_row7\" class=\"row_heading level4 row7\" >1</th>\n",
       "                        <td id=\"T_226a3_row7_col0\" class=\"data row7 col0\" >126</td>\n",
       "                        <td id=\"T_226a3_row7_col1\" class=\"data row7 col1\" >6</td>\n",
       "                        <td id=\"T_226a3_row7_col2\" class=\"data row7 col2\" >109</td>\n",
       "            </tr>\n",
       "            <tr>\n",
       "                                <th id=\"T_226a3_level1_row8\" class=\"row_heading level1 row8\" rowspan=\"8\">1</th>\n",
       "                        <th id=\"T_226a3_level2_row8\" class=\"row_heading level2 row8\" rowspan=\"4\">0</th>\n",
       "                        <th id=\"T_226a3_level3_row8\" class=\"row_heading level3 row8\" rowspan=\"2\">0</th>\n",
       "                        <th id=\"T_226a3_level4_row8\" class=\"row_heading level4 row8\" >0</th>\n",
       "                        <td id=\"T_226a3_row8_col0\" class=\"data row8 col0\" >108</td>\n",
       "                        <td id=\"T_226a3_row8_col1\" class=\"data row8 col1\" >4</td>\n",
       "                        <td id=\"T_226a3_row8_col2\" class=\"data row8 col2\" >125</td>\n",
       "            </tr>\n",
       "            <tr>\n",
       "                                                        <th id=\"T_226a3_level4_row9\" class=\"row_heading level4 row9\" >1</th>\n",
       "                        <td id=\"T_226a3_row9_col0\" class=\"data row9 col0\" >138</td>\n",
       "                        <td id=\"T_226a3_row9_col1\" class=\"data row9 col1\" >4</td>\n",
       "                        <td id=\"T_226a3_row9_col2\" class=\"data row9 col2\" >132</td>\n",
       "            </tr>\n",
       "            <tr>\n",
       "                                                <th id=\"T_226a3_level3_row10\" class=\"row_heading level3 row10\" rowspan=\"2\">1</th>\n",
       "                        <th id=\"T_226a3_level4_row10\" class=\"row_heading level4 row10\" >0</th>\n",
       "                        <td id=\"T_226a3_row10_col0\" class=\"data row10 col0\" >133</td>\n",
       "                        <td id=\"T_226a3_row10_col1\" class=\"data row10 col1\" >2</td>\n",
       "                        <td id=\"T_226a3_row10_col2\" class=\"data row10 col2\" >136</td>\n",
       "            </tr>\n",
       "            <tr>\n",
       "                                                        <th id=\"T_226a3_level4_row11\" class=\"row_heading level4 row11\" >1</th>\n",
       "                        <td id=\"T_226a3_row11_col0\" class=\"data row11 col0\" >112</td>\n",
       "                        <td id=\"T_226a3_row11_col1\" class=\"data row11 col1\" >5</td>\n",
       "                        <td id=\"T_226a3_row11_col2\" class=\"data row11 col2\" >115</td>\n",
       "            </tr>\n",
       "            <tr>\n",
       "                                        <th id=\"T_226a3_level2_row12\" class=\"row_heading level2 row12\" rowspan=\"4\">1</th>\n",
       "                        <th id=\"T_226a3_level3_row12\" class=\"row_heading level3 row12\" rowspan=\"2\">0</th>\n",
       "                        <th id=\"T_226a3_level4_row12\" class=\"row_heading level4 row12\" >0</th>\n",
       "                        <td id=\"T_226a3_row12_col0\" class=\"data row12 col0\" >119</td>\n",
       "                        <td id=\"T_226a3_row12_col1\" class=\"data row12 col1\" >3</td>\n",
       "                        <td id=\"T_226a3_row12_col2\" class=\"data row12 col2\" >128</td>\n",
       "            </tr>\n",
       "            <tr>\n",
       "                                                        <th id=\"T_226a3_level4_row13\" class=\"row_heading level4 row13\" >1</th>\n",
       "                        <td id=\"T_226a3_row13_col0\" class=\"data row13 col0\" >144</td>\n",
       "                        <td id=\"T_226a3_row13_col1\" class=\"data row13 col1\" >2</td>\n",
       "                        <td id=\"T_226a3_row13_col2\" class=\"data row13 col2\" >123</td>\n",
       "            </tr>\n",
       "            <tr>\n",
       "                                                <th id=\"T_226a3_level3_row14\" class=\"row_heading level3 row14\" rowspan=\"2\">1</th>\n",
       "                        <th id=\"T_226a3_level4_row14\" class=\"row_heading level4 row14\" >0</th>\n",
       "                        <td id=\"T_226a3_row14_col0\" class=\"data row14 col0\" >117</td>\n",
       "                        <td id=\"T_226a3_row14_col1\" class=\"data row14 col1\" >3</td>\n",
       "                        <td id=\"T_226a3_row14_col2\" class=\"data row14 col2\" >126</td>\n",
       "            </tr>\n",
       "            <tr>\n",
       "                                                        <th id=\"T_226a3_level4_row15\" class=\"row_heading level4 row15\" >1</th>\n",
       "                        <td id=\"T_226a3_row15_col0\" class=\"data row15 col0\" >124</td>\n",
       "                        <td id=\"T_226a3_row15_col1\" class=\"data row15 col1\" >3</td>\n",
       "                        <td id=\"T_226a3_row15_col2\" class=\"data row15 col2\" >111</td>\n",
       "            </tr>\n",
       "            <tr>\n",
       "                        <th id=\"T_226a3_level0_row16\" class=\"row_heading level0 row16\" rowspan=\"16\">1</th>\n",
       "                        <th id=\"T_226a3_level1_row16\" class=\"row_heading level1 row16\" rowspan=\"8\">0</th>\n",
       "                        <th id=\"T_226a3_level2_row16\" class=\"row_heading level2 row16\" rowspan=\"4\">0</th>\n",
       "                        <th id=\"T_226a3_level3_row16\" class=\"row_heading level3 row16\" rowspan=\"2\">0</th>\n",
       "                        <th id=\"T_226a3_level4_row16\" class=\"row_heading level4 row16\" >0</th>\n",
       "                        <td id=\"T_226a3_row16_col0\" class=\"data row16 col0\" >110</td>\n",
       "                        <td id=\"T_226a3_row16_col1\" class=\"data row16 col1\" >2</td>\n",
       "                        <td id=\"T_226a3_row16_col2\" class=\"data row16 col2\" >101</td>\n",
       "            </tr>\n",
       "            <tr>\n",
       "                                                        <th id=\"T_226a3_level4_row17\" class=\"row_heading level4 row17\" >1</th>\n",
       "                        <td id=\"T_226a3_row17_col0\" class=\"data row17 col0\" >127</td>\n",
       "                        <td id=\"T_226a3_row17_col1\" class=\"data row17 col1\" >1</td>\n",
       "                        <td id=\"T_226a3_row17_col2\" class=\"data row17 col2\" >127</td>\n",
       "            </tr>\n",
       "            <tr>\n",
       "                                                <th id=\"T_226a3_level3_row18\" class=\"row_heading level3 row18\" rowspan=\"2\">1</th>\n",
       "                        <th id=\"T_226a3_level4_row18\" class=\"row_heading level4 row18\" >0</th>\n",
       "                        <td id=\"T_226a3_row18_col0\" class=\"data row18 col0\" >138</td>\n",
       "                        <td id=\"T_226a3_row18_col1\" class=\"data row18 col1\" >4</td>\n",
       "                        <td id=\"T_226a3_row18_col2\" class=\"data row18 col2\" >128</td>\n",
       "            </tr>\n",
       "            <tr>\n",
       "                                                        <th id=\"T_226a3_level4_row19\" class=\"row_heading level4 row19\" >1</th>\n",
       "                        <td id=\"T_226a3_row19_col0\" class=\"data row19 col0\" >136</td>\n",
       "                        <td id=\"T_226a3_row19_col1\" class=\"data row19 col1\" >2</td>\n",
       "                        <td id=\"T_226a3_row19_col2\" class=\"data row19 col2\" >120</td>\n",
       "            </tr>\n",
       "            <tr>\n",
       "                                        <th id=\"T_226a3_level2_row20\" class=\"row_heading level2 row20\" rowspan=\"4\">1</th>\n",
       "                        <th id=\"T_226a3_level3_row20\" class=\"row_heading level3 row20\" rowspan=\"2\">0</th>\n",
       "                        <th id=\"T_226a3_level4_row20\" class=\"row_heading level4 row20\" >0</th>\n",
       "                        <td id=\"T_226a3_row20_col0\" class=\"data row20 col0\" >133</td>\n",
       "                        <td id=\"T_226a3_row20_col1\" class=\"data row20 col1\" >0</td>\n",
       "                        <td id=\"T_226a3_row20_col2\" class=\"data row20 col2\" >132</td>\n",
       "            </tr>\n",
       "            <tr>\n",
       "                                                        <th id=\"T_226a3_level4_row21\" class=\"row_heading level4 row21\" >1</th>\n",
       "                        <td id=\"T_226a3_row21_col0\" class=\"data row21 col0\" >138</td>\n",
       "                        <td id=\"T_226a3_row21_col1\" class=\"data row21 col1\" >5</td>\n",
       "                        <td id=\"T_226a3_row21_col2\" class=\"data row21 col2\" >115</td>\n",
       "            </tr>\n",
       "            <tr>\n",
       "                                                <th id=\"T_226a3_level3_row22\" class=\"row_heading level3 row22\" rowspan=\"2\">1</th>\n",
       "                        <th id=\"T_226a3_level4_row22\" class=\"row_heading level4 row22\" >0</th>\n",
       "                        <td id=\"T_226a3_row22_col0\" class=\"data row22 col0\" >110</td>\n",
       "                        <td id=\"T_226a3_row22_col1\" class=\"data row22 col1\" >3</td>\n",
       "                        <td id=\"T_226a3_row22_col2\" class=\"data row22 col2\" >143</td>\n",
       "            </tr>\n",
       "            <tr>\n",
       "                                                        <th id=\"T_226a3_level4_row23\" class=\"row_heading level4 row23\" >1</th>\n",
       "                        <td id=\"T_226a3_row23_col0\" class=\"data row23 col0\" >122</td>\n",
       "                        <td id=\"T_226a3_row23_col1\" class=\"data row23 col1\" >5</td>\n",
       "                        <td id=\"T_226a3_row23_col2\" class=\"data row23 col2\" >116</td>\n",
       "            </tr>\n",
       "            <tr>\n",
       "                                <th id=\"T_226a3_level1_row24\" class=\"row_heading level1 row24\" rowspan=\"8\">1</th>\n",
       "                        <th id=\"T_226a3_level2_row24\" class=\"row_heading level2 row24\" rowspan=\"4\">0</th>\n",
       "                        <th id=\"T_226a3_level3_row24\" class=\"row_heading level3 row24\" rowspan=\"2\">0</th>\n",
       "                        <th id=\"T_226a3_level4_row24\" class=\"row_heading level4 row24\" >0</th>\n",
       "                        <td id=\"T_226a3_row24_col0\" class=\"data row24 col0\" >118</td>\n",
       "                        <td id=\"T_226a3_row24_col1\" class=\"data row24 col1\" >3</td>\n",
       "                        <td id=\"T_226a3_row24_col2\" class=\"data row24 col2\" >110</td>\n",
       "            </tr>\n",
       "            <tr>\n",
       "                                                        <th id=\"T_226a3_level4_row25\" class=\"row_heading level4 row25\" >1</th>\n",
       "                        <td id=\"T_226a3_row25_col0\" class=\"data row25 col0\" >132</td>\n",
       "                        <td id=\"T_226a3_row25_col1\" class=\"data row25 col1\" >5</td>\n",
       "                        <td id=\"T_226a3_row25_col2\" class=\"data row25 col2\" >117</td>\n",
       "            </tr>\n",
       "            <tr>\n",
       "                                                <th id=\"T_226a3_level3_row26\" class=\"row_heading level3 row26\" rowspan=\"2\">1</th>\n",
       "                        <th id=\"T_226a3_level4_row26\" class=\"row_heading level4 row26\" >0</th>\n",
       "                        <td id=\"T_226a3_row26_col0\" class=\"data row26 col0\" >128</td>\n",
       "                        <td id=\"T_226a3_row26_col1\" class=\"data row26 col1\" >6</td>\n",
       "                        <td id=\"T_226a3_row26_col2\" class=\"data row26 col2\" >118</td>\n",
       "            </tr>\n",
       "            <tr>\n",
       "                                                        <th id=\"T_226a3_level4_row27\" class=\"row_heading level4 row27\" >1</th>\n",
       "                        <td id=\"T_226a3_row27_col0\" class=\"data row27 col0\" >141</td>\n",
       "                        <td id=\"T_226a3_row27_col1\" class=\"data row27 col1\" >1</td>\n",
       "                        <td id=\"T_226a3_row27_col2\" class=\"data row27 col2\" >125</td>\n",
       "            </tr>\n",
       "            <tr>\n",
       "                                        <th id=\"T_226a3_level2_row28\" class=\"row_heading level2 row28\" rowspan=\"4\">1</th>\n",
       "                        <th id=\"T_226a3_level3_row28\" class=\"row_heading level3 row28\" rowspan=\"2\">0</th>\n",
       "                        <th id=\"T_226a3_level4_row28\" class=\"row_heading level4 row28\" >0</th>\n",
       "                        <td id=\"T_226a3_row28_col0\" class=\"data row28 col0\" >119</td>\n",
       "                        <td id=\"T_226a3_row28_col1\" class=\"data row28 col1\" >4</td>\n",
       "                        <td id=\"T_226a3_row28_col2\" class=\"data row28 col2\" >111</td>\n",
       "            </tr>\n",
       "            <tr>\n",
       "                                                        <th id=\"T_226a3_level4_row29\" class=\"row_heading level4 row29\" >1</th>\n",
       "                        <td id=\"T_226a3_row29_col0\" class=\"data row29 col0\" >127</td>\n",
       "                        <td id=\"T_226a3_row29_col1\" class=\"data row29 col1\" >5</td>\n",
       "                        <td id=\"T_226a3_row29_col2\" class=\"data row29 col2\" >118</td>\n",
       "            </tr>\n",
       "            <tr>\n",
       "                                                <th id=\"T_226a3_level3_row30\" class=\"row_heading level3 row30\" rowspan=\"2\">1</th>\n",
       "                        <th id=\"T_226a3_level4_row30\" class=\"row_heading level4 row30\" >0</th>\n",
       "                        <td id=\"T_226a3_row30_col0\" class=\"data row30 col0\" >128</td>\n",
       "                        <td id=\"T_226a3_row30_col1\" class=\"data row30 col1\" >4</td>\n",
       "                        <td id=\"T_226a3_row30_col2\" class=\"data row30 col2\" >106</td>\n",
       "            </tr>\n",
       "            <tr>\n",
       "                                                        <th id=\"T_226a3_level4_row31\" class=\"row_heading level4 row31\" >1</th>\n",
       "                        <td id=\"T_226a3_row31_col0\" class=\"data row31 col0\" >110</td>\n",
       "                        <td id=\"T_226a3_row31_col1\" class=\"data row31 col1\" >1</td>\n",
       "                        <td id=\"T_226a3_row31_col2\" class=\"data row31 col2\" >92</td>\n",
       "            </tr>\n",
       "    </tbody></table>"
      ],
      "text/plain": [
       "<pandas.io.formats.style.Styler at 0x12bca5b8280>"
      ]
     },
     "execution_count": 35,
     "metadata": {},
     "output_type": "execute_result"
    }
   ],
   "source": [
    "# Определение наиболее часто встречающегося значения для каждой комбинации значений признаков.\n",
    "res.style.apply(highlight_max, axis=1)"
   ]
  },
  {
   "cell_type": "code",
   "execution_count": 36,
   "id": "9405948e",
   "metadata": {},
   "outputs": [],
   "source": [
    "# Преобразование полученного частотного распределения в торговую стратегию\n",
    "# Функция where() возвращает элементы, которые могут выбираться из двух массивов в зависимости от условия\n",
    "data['pos_freq'] = np.where(data[cols_bin].sum(axis=1) == 2, -1, 1)"
   ]
  },
  {
   "cell_type": "code",
   "execution_count": 37,
   "id": "d824657e",
   "metadata": {},
   "outputs": [
    {
     "data": {
      "text/plain": [
       "pandas.core.series.Series"
      ]
     },
     "execution_count": 37,
     "metadata": {},
     "output_type": "execute_result"
    }
   ],
   "source": [
    "type(data['pos_freq'])"
   ]
  },
  {
   "cell_type": "code",
   "execution_count": 38,
   "id": "e07b40c7",
   "metadata": {},
   "outputs": [
    {
     "data": {
      "text/plain": [
       "Date\n",
       "2021-12-16    1\n",
       "2021-12-16   -1\n",
       "2021-12-16   -1\n",
       "2021-12-16    1\n",
       "2021-12-16    1\n",
       "Name: pos_freq, dtype: int32"
      ]
     },
     "execution_count": 38,
     "metadata": {},
     "output_type": "execute_result"
    }
   ],
   "source": [
    "data['pos_freq'].head()"
   ]
  },
  {
   "cell_type": "code",
   "execution_count": 39,
   "id": "db065c3b",
   "metadata": {},
   "outputs": [
    {
     "data": {
      "text/plain": [
       "False    3969\n",
       "True     3820\n",
       "dtype: int64"
      ]
     },
     "execution_count": 39,
     "metadata": {},
     "output_type": "execute_result"
    }
   ],
   "source": [
    "(data['Направление'] == data['pos_freq']).value_counts()"
   ]
  },
  {
   "cell_type": "code",
   "execution_count": 40,
   "id": "feb5e329",
   "metadata": {},
   "outputs": [],
   "source": [
    "data['strat_freq'] = data['pos_freq'] * data['Доходность']"
   ]
  },
  {
   "cell_type": "markdown",
   "id": "ad277313",
   "metadata": {},
   "source": [
    "# Обработка данных с помощью алгоритма RandomForest"
   ]
  },
  {
   "cell_type": "code",
   "execution_count": 41,
   "id": "14241f9e",
   "metadata": {},
   "outputs": [],
   "source": [
    "model = RandomForestClassifier(n_estimators=150)"
   ]
  },
  {
   "cell_type": "code",
   "execution_count": 42,
   "id": "4f5bbf15",
   "metadata": {},
   "outputs": [],
   "source": [
    "split = int(len(data ) * 0.80) "
   ]
  },
  {
   "cell_type": "code",
   "execution_count": 43,
   "id": "69dc69ee",
   "metadata": {},
   "outputs": [],
   "source": [
    "train = data.iloc[:split].copy() "
   ]
  },
  {
   "cell_type": "code",
   "execution_count": 44,
   "id": "9291261d",
   "metadata": {},
   "outputs": [
    {
     "data": {
      "text/plain": [
       "RandomForestClassifier(n_estimators=150)"
      ]
     },
     "execution_count": 44,
     "metadata": {},
     "output_type": "execute_result"
    }
   ],
   "source": [
    "model.fit(data[cols_bin], data['Направление'])"
   ]
  },
  {
   "cell_type": "code",
   "execution_count": 45,
   "id": "ee57d60e",
   "metadata": {},
   "outputs": [
    {
     "data": {
      "text/plain": [
       "0.5148451291927459"
      ]
     },
     "execution_count": 45,
     "metadata": {},
     "output_type": "execute_result"
    }
   ],
   "source": [
    "accuracy_score(train['Направление'], model.predict(train[cols_bin]))"
   ]
  },
  {
   "cell_type": "code",
   "execution_count": 46,
   "id": "a8071b24",
   "metadata": {},
   "outputs": [],
   "source": [
    "test = data.iloc[split:].copy() "
   ]
  },
  {
   "cell_type": "code",
   "execution_count": 47,
   "id": "18ffa104",
   "metadata": {},
   "outputs": [],
   "source": [
    "test['position'] = model.predict(test[cols_bin]) "
   ]
  },
  {
   "cell_type": "code",
   "execution_count": 48,
   "id": "5458b71c",
   "metadata": {},
   "outputs": [
    {
     "data": {
      "text/plain": [
       "0.5571245186136072"
      ]
     },
     "execution_count": 48,
     "metadata": {},
     "output_type": "execute_result"
    }
   ],
   "source": [
    "accuracy_score(test['Направление'], test['position'])"
   ]
  },
  {
   "cell_type": "code",
   "execution_count": 49,
   "id": "cc78ea1b",
   "metadata": {},
   "outputs": [],
   "source": [
    "test['strategy'] = test['position'] * test['Доходность']"
   ]
  },
  {
   "cell_type": "code",
   "execution_count": 50,
   "id": "c07392cd",
   "metadata": {},
   "outputs": [
    {
     "data": {
      "text/plain": [
       "680"
      ]
     },
     "execution_count": 50,
     "metadata": {},
     "output_type": "execute_result"
    }
   ],
   "source": [
    "sum(test['position'].diff() != 0)"
   ]
  },
  {
   "cell_type": "code",
   "execution_count": 51,
   "id": "9ba73e10",
   "metadata": {},
   "outputs": [
    {
     "data": {
      "text/plain": [
       "Доходность    0.969611\n",
       "strategy      1.067194\n",
       "dtype: float64"
      ]
     },
     "execution_count": 51,
     "metadata": {},
     "output_type": "execute_result"
    }
   ],
   "source": [
    "test[['Доходность', 'strategy']].sum().apply(np.exp) "
   ]
  },
  {
   "cell_type": "code",
   "execution_count": 52,
   "id": "eb43ee13",
   "metadata": {},
   "outputs": [
    {
     "data": {
      "text/plain": [
       "<AxesSubplot:xlabel='Date'>"
      ]
     },
     "execution_count": 52,
     "metadata": {},
     "output_type": "execute_result"
    },
    {
     "data": {
      "image/png": "[encoded data removed]",
      "text/plain": [
       "<Figure size 1368x432 with 1 Axes>"
      ]
     },
     "metadata": {
      "needs_background": "light"
     },
     "output_type": "display_data"
    }
   ],
   "source": [
    "test[['Доходность', 'strategy']].cumsum().apply(np.exp).plot(figsize=(19, 6))"
   ]
  },
  {
   "cell_type": "code",
   "execution_count": 53,
   "id": "d6ab27ab",
   "metadata": {},
   "outputs": [],
   "source": [
    "pickle.dump(model, open('algorithm.pkl', 'wb')) # сохраняем модель в файл, который будет храниться в той же папке"
   ]
  },
  {
   "cell_type": "markdown",
   "id": "82331529",
   "metadata": {},
   "source": [
    "# Сохранение объекта модели"
   ]
  },
  {
   "cell_type": "code",
   "execution_count": 54,
   "id": "392a5217",
   "metadata": {},
   "outputs": [],
   "source": [
    "algorithm = pickle.load(open('algorithm.pkl', 'rb')) # загружаем модель из сохранённого файла"
   ]
  },
  {
   "cell_type": "code",
   "execution_count": 55,
   "id": "755ca8e7",
   "metadata": {},
   "outputs": [],
   "source": [
    "cignal = algorithm.predict(features)[0] # первый вариант получения сигнала"
   ]
  },
  {
   "cell_type": "code",
   "execution_count": 56,
   "id": "0b565031",
   "metadata": {},
   "outputs": [],
   "source": [
    "signal = model.predict(features)[0] # второй вариант"
   ]
  },
  {
   "cell_type": "code",
   "execution_count": 57,
   "id": "aedd96e5",
   "metadata": {},
   "outputs": [
    {
     "data": {
      "text/plain": [
       "-1"
      ]
     },
     "execution_count": 57,
     "metadata": {},
     "output_type": "execute_result"
    }
   ],
   "source": [
    "signal"
   ]
  },
  {
   "cell_type": "code",
   "execution_count": 58,
   "id": "48cf1770",
   "metadata": {},
   "outputs": [
    {
     "data": {
      "text/plain": [
       "numpy.int32"
      ]
     },
     "execution_count": 58,
     "metadata": {},
     "output_type": "execute_result"
    }
   ],
   "source": [
    "type(signal)"
   ]
  },
  {
   "cell_type": "markdown",
   "id": "06db1727",
   "metadata": {},
   "source": [
    "# Запуск алгоритма в режиме реального времени с периодическим обновлением данных"
   ]
  },
  {
   "cell_type": "markdown",
   "id": "1a2e85cf",
   "metadata": {},
   "source": [
    "До этого момента мы тестировали алгоритм торговой стратегии в автономном режиме. Другими словами, для решения поставленной задачи ему требовался полный набор данных. Основная трудность заключалась в обучении SVM-алгоритма на бинарных признаках и метках, задающих направление движения. На практике при развертывании системы алгоритмической торговли для работы на финансовых рынках данные будут обрабатываться по мере поступления, и предсказываться будет направление рыночного движения в следующем временном интервале. В этом разделе мы интегрируем сохраненный объект модели в среду потоковой обработки данных.\n",
    "Программа, которая преобразует автономный алгоритм в систему реального времени, должна решить следующие основные задачи.\n",
    "Обработка данных свечей:\n",
    "Данные свечей поступают в реальном времени и должны обрабатываться в потоковом режиме.\n",
    "Повторная выборка данных:\n",
    "Данные свечей нужно перевыбирать в соответствии с величиной интервала, установленного в алгоритме торговой стратегии.\n",
    "Прогнозирование:\n",
    "Торговый алгоритм прогнозирует направление рыночного движения в будущие периоды.\n",
    "Размещение заявок:\n",
    "С учетом текущей позиции и сгенерированного прогноза (“сигнала”) программа должна либо размещать заявку, либо удерживать позицию."
   ]
  },
  {
   "cell_type": "markdown",
   "id": "e6421624",
   "metadata": {},
   "source": [
    "Мы получаем данные свечей из периодически обновляемого файла CSV. Затем обрабатываем алгоритмом и генерируем сигнал"
   ]
  },
  {
   "cell_type": "code",
   "execution_count": 59,
   "id": "86b17124",
   "metadata": {},
   "outputs": [
    {
     "data": {
      "text/plain": [
       "int"
      ]
     },
     "execution_count": 59,
     "metadata": {},
     "output_type": "execute_result"
    }
   ],
   "source": [
    "struct = time.localtime()\n",
    "type(struct.tm_sec)"
   ]
  },
  {
   "cell_type": "code",
   "execution_count": 60,
   "id": "77e994b6",
   "metadata": {},
   "outputs": [
    {
     "data": {
      "text/plain": [
       "14"
      ]
     },
     "execution_count": 60,
     "metadata": {},
     "output_type": "execute_result"
    }
   ],
   "source": [
    "struct.tm_sec"
   ]
  },
  {
   "cell_type": "code",
   "execution_count": 61,
   "id": "5bbb536a",
   "metadata": {},
   "outputs": [
    {
     "ename": "KeyboardInterrupt",
     "evalue": "",
     "output_type": "error",
     "traceback": [
      "\u001b[1;31m---------------------------------------------------------------------------\u001b[0m",
      "\u001b[1;31mKeyboardInterrupt\u001b[0m                         Traceback (most recent call last)",
      "\u001b[1;32m<ipython-input-61-20bbe49cc636>\u001b[0m in \u001b[0;36m<module>\u001b[1;34m\u001b[0m\n\u001b[0;32m      2\u001b[0m \u001b[1;31m# заебись, вроде работает\u001b[0m\u001b[1;33m\u001b[0m\u001b[1;33m\u001b[0m\u001b[1;33m\u001b[0m\u001b[0m\n\u001b[0;32m      3\u001b[0m \u001b[1;32mwhile\u001b[0m \u001b[1;32mTrue\u001b[0m\u001b[1;33m:\u001b[0m\u001b[1;33m\u001b[0m\u001b[1;33m\u001b[0m\u001b[0m\n\u001b[1;32m----> 4\u001b[1;33m     \u001b[0mstruct\u001b[0m \u001b[1;33m=\u001b[0m \u001b[0mtime\u001b[0m\u001b[1;33m.\u001b[0m\u001b[0mlocaltime\u001b[0m\u001b[1;33m(\u001b[0m\u001b[1;33m)\u001b[0m\u001b[1;33m\u001b[0m\u001b[1;33m\u001b[0m\u001b[0m\n\u001b[0m\u001b[0;32m      5\u001b[0m     \u001b[1;32mif\u001b[0m \u001b[0mstruct\u001b[0m\u001b[1;33m.\u001b[0m\u001b[0mtm_sec\u001b[0m \u001b[1;33m==\u001b[0m \u001b[1;36m40\u001b[0m\u001b[1;33m:\u001b[0m\u001b[1;33m\u001b[0m\u001b[1;33m\u001b[0m\u001b[0m\n\u001b[0;32m      6\u001b[0m         \u001b[1;31m# загрузка данных из CSV-файла\u001b[0m\u001b[1;33m\u001b[0m\u001b[1;33m\u001b[0m\u001b[1;33m\u001b[0m\u001b[0m\n",
      "\u001b[1;31mKeyboardInterrupt\u001b[0m: "
     ]
    }
   ],
   "source": [
    "# разобраться с ебучим циклом он сука не работает. Признаком его работы должно быть появление файла signal\n",
    "# заебись, вроде работает\n",
    "while True:\n",
    "    struct = time.localtime()\n",
    "    if struct.tm_sec == 40:\n",
    "        # загрузка данных из CSV-файла\n",
    "        # Столбцы для использования в качестве меток строки файла DataFrame либо даны как string name или индекс столбца.\n",
    "        # Если задана последовательность INT / STR, используется многоиндекс.\n",
    "        # Примечание: index_col = false может использоваться для форсирования Pands не использовать первый столбец как индекс,\n",
    "        # например, когда у вас есть неправильный файл с разделителями в конце каждой строки.\n",
    "        # Функция читает файл, в котором данные о последней свече находятся в первой строке \n",
    "        raw = pd.read_csv('c:\\SBERBANK\\QUIK_x64\\lua\\SiH2\\Data\\SiH2_11.2.2022.csv', index_col=0, parse_dates=False)\n",
    "        reverse_raw = raw[::-1] # реверс набора данных\n",
    "        symbol = 'Close' # т.к. нам нужны цены закрытия пятиминутных свечей берём данные из колонки Close\n",
    "        m5_close = reverse_raw[symbol] # сохраняем серию в переменную с наиболее подходящим и информативным названием\n",
    "        # формирование подмножества данных и исключение нечисловых значений (NaN))\n",
    "        data = (pd.DataFrame(m5_close).dropna())\n",
    "        # расчёт логарифмической доходности\n",
    "        data['Доходность'] = np.log(data/data.shift(1))\n",
    "        # всегда применяем после shift, т.к. после shift появляются нечисловые значения NaN\n",
    "        data.dropna(inplace=True)\n",
    "        # Функция sign() является указателем на знак числа. Если число со знаком минус, то возвращает -1, если с плюсом, то 1\n",
    "        # Функция astype() преобразует в указанный тип данных, в данном случае int\n",
    "        data['Направление'] = np.sign(data['Доходность']).astype(int)\n",
    "        features = data['Направление'].iloc[-(lags + 1):-1]\n",
    "        features = features.values.reshape(1, -1)\n",
    "        signal = model.predict(features)[0]\n",
    "        f = open('c:\\SBERBANK\\QUIK_x64\\lua\\SiH2\\Signal_and_transaction\\signal.txt', 'w') # вместо а+ лучше поставить w или w+, т.к. дозапись необязательна\n",
    "        f.write(str(signal)) # секунды убрать нахуй, мешать будут и перевод строки\n",
    "        f.close()\n",
    "        continue\n",
    "    else:\n",
    "        continue\n",
    "        "
   ]
  }
 ],
 "metadata": {
  "kernelspec": {
   "display_name": "Python 3",
   "language": "python",
   "name": "python3"
  },
  "language_info": {
   "codemirror_mode": {
    "name": "ipython",
    "version": 3
   },
   "file_extension": ".py",
   "mimetype": "text/x-python",
   "name": "python",
   "nbconvert_exporter": "python",
   "pygments_lexer": "ipython3",
   "version": "3.8.8"
  }
 },
 "nbformat": 4,
 "nbformat_minor": 5
}
