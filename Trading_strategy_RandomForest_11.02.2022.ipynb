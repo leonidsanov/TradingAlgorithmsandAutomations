{
 "cells": [
  {
   "cell_type": "markdown",
   "id": "c005f565",
   "metadata": {},
   "source": [
    "# Векторизованное тестирование на актуальных исторических данных"
   ]
  },
  {
   "cell_type": "markdown",
   "id": "49ab017e",
   "metadata": {},
   "source": [
    "Прежде чем запускать данный алгоритм необходимо сначала актуализировать исторические данные. Для этого запускаем QUIK. Затем в QUIK запускаем алгоритм в основе которого лежит функция CreateDataSource, извлекающая данные из графиков движения цены."
   ]
  },
  {
   "cell_type": "markdown",
   "id": "f031bb33",
   "metadata": {},
   "source": [
    "В QUIK должны быть запущены стакан с котировками по нужному инструменту, таблица обезличенных сделок и график. А также скрипт QuikLuaPython"
   ]
  },
  {
   "cell_type": "markdown",
   "id": "75cdfa8d",
   "metadata": {},
   "source": [
    "# Получение и обработка данных"
   ]
  },
  {
   "cell_type": "code",
   "execution_count": 1,
   "id": "d3ae2e1f",
   "metadata": {},
   "outputs": [],
   "source": [
    "# Загружаем необходимые библиотеки и классы (treeinterpreter можно\n",
    "# установить с помощью команды pip install treeinterpreter)\n",
    "import time\n",
    "import pickle\n",
    "import datetime as dt\n",
    "from pylab import mpl, plt # импорт библиотеки Matplotlib\n",
    "from sklearn.ensemble import RandomForestRegressor\n",
    "from sklearn.ensemble import RandomForestClassifier\n",
    "from sklearn.metrics import accuracy_score\n",
    "import numpy as np\n",
    "import pandas as pd"
   ]
  },
  {
   "cell_type": "code",
   "execution_count": 2,
   "id": "1022fde5",
   "metadata": {},
   "outputs": [],
   "source": [
    "plt.style.use('seaborn-v0_8-darkgrid') # настройка стиля диаграмм\n",
    "mpl.rcParams['font.family'] = 'serif'\n",
    "%matplotlib inline"
   ]
  },
  {
   "cell_type": "code",
   "execution_count": 3,
   "id": "900cccf2",
   "metadata": {},
   "outputs": [],
   "source": [
    "# загрузка данных из CSV-файла\n",
    "# Столбцы для использования в качестве меток строки файла DataFrame либо даны как string name или индекс столбца.\n",
    "# Если задана последовательность INT / STR, используется многоиндекс.\n",
    "# Примечание: index_col = false может использоваться для форсирования Pands не использовать первый столбец как индекс,\n",
    "# например, когда у вас есть неправильный файл с разделителями в конце каждой строки.\n",
    "# Функция читает файл, в котором данные о последней свече находятся в первой строке \n",
    "raw = pd.read_csv('BRJ2\\Data\\BRJ2_Data.csv', index_col=0, parse_dates=False)"
   ]
  },
  {
   "cell_type": "code",
   "execution_count": 4,
   "id": "8f0758af",
   "metadata": {},
   "outputs": [
    {
     "name": "stdout",
     "output_type": "stream",
     "text": [
      "<class 'pandas.core.frame.DataFrame'>\n",
      "Index: 3504 entries, 2022-3-30 to 2022-2-15\n",
      "Data columns (total 6 columns):\n",
      " #   Column  Non-Null Count  Dtype  \n",
      "---  ------  --------------  -----  \n",
      " 0   Time    3504 non-null   object \n",
      " 1   Open    3504 non-null   float64\n",
      " 2   High    3504 non-null   float64\n",
      " 3   Low     3504 non-null   float64\n",
      " 4   Close   3504 non-null   float64\n",
      " 5   Volume  3504 non-null   float64\n",
      "dtypes: float64(5), object(1)\n",
      "memory usage: 191.6+ KB\n"
     ]
    }
   ],
   "source": [
    "raw.info() # информация о файле"
   ]
  },
  {
   "cell_type": "code",
   "execution_count": 5,
   "id": "1ea760ac",
   "metadata": {},
   "outputs": [],
   "source": [
    "reverse_raw = raw[::-1]"
   ]
  },
  {
   "cell_type": "code",
   "execution_count": 6,
   "id": "a9a9ff8c",
   "metadata": {},
   "outputs": [
    {
     "data": {
      "text/html": [
       "<div>\n",
       "<style scoped>\n",
       "    .dataframe tbody tr th:only-of-type {\n",
       "        vertical-align: middle;\n",
       "    }\n",
       "\n",
       "    .dataframe tbody tr th {\n",
       "        vertical-align: top;\n",
       "    }\n",
       "\n",
       "    .dataframe thead th {\n",
       "        text-align: right;\n",
       "    }\n",
       "</style>\n",
       "<table border=\"1\" class=\"dataframe\">\n",
       "  <thead>\n",
       "    <tr style=\"text-align: right;\">\n",
       "      <th></th>\n",
       "      <th>Time</th>\n",
       "      <th>Open</th>\n",
       "      <th>High</th>\n",
       "      <th>Low</th>\n",
       "      <th>Close</th>\n",
       "      <th>Volume</th>\n",
       "    </tr>\n",
       "    <tr>\n",
       "      <th>Date</th>\n",
       "      <th></th>\n",
       "      <th></th>\n",
       "      <th></th>\n",
       "      <th></th>\n",
       "      <th></th>\n",
       "      <th></th>\n",
       "    </tr>\n",
       "  </thead>\n",
       "  <tbody>\n",
       "    <tr>\n",
       "      <th>2022-2-15</th>\n",
       "      <td>17:45</td>\n",
       "      <td>90.80</td>\n",
       "      <td>90.81</td>\n",
       "      <td>90.56</td>\n",
       "      <td>90.60</td>\n",
       "      <td>268.0</td>\n",
       "    </tr>\n",
       "    <tr>\n",
       "      <th>2022-2-15</th>\n",
       "      <td>17:50</td>\n",
       "      <td>90.59</td>\n",
       "      <td>90.70</td>\n",
       "      <td>90.54</td>\n",
       "      <td>90.61</td>\n",
       "      <td>261.0</td>\n",
       "    </tr>\n",
       "    <tr>\n",
       "      <th>2022-2-15</th>\n",
       "      <td>17:55</td>\n",
       "      <td>90.58</td>\n",
       "      <td>90.64</td>\n",
       "      <td>90.13</td>\n",
       "      <td>90.55</td>\n",
       "      <td>2932.0</td>\n",
       "    </tr>\n",
       "    <tr>\n",
       "      <th>2022-2-15</th>\n",
       "      <td>18:0</td>\n",
       "      <td>90.55</td>\n",
       "      <td>90.58</td>\n",
       "      <td>90.39</td>\n",
       "      <td>90.48</td>\n",
       "      <td>230.0</td>\n",
       "    </tr>\n",
       "    <tr>\n",
       "      <th>2022-2-15</th>\n",
       "      <td>18:5</td>\n",
       "      <td>90.44</td>\n",
       "      <td>90.44</td>\n",
       "      <td>90.22</td>\n",
       "      <td>90.31</td>\n",
       "      <td>334.0</td>\n",
       "    </tr>\n",
       "  </tbody>\n",
       "</table>\n",
       "</div>"
      ],
      "text/plain": [
       "            Time   Open   High    Low  Close  Volume\n",
       "Date                                                \n",
       "2022-2-15  17:45  90.80  90.81  90.56  90.60   268.0\n",
       "2022-2-15  17:50  90.59  90.70  90.54  90.61   261.0\n",
       "2022-2-15  17:55  90.58  90.64  90.13  90.55  2932.0\n",
       "2022-2-15   18:0  90.55  90.58  90.39  90.48   230.0\n",
       "2022-2-15   18:5  90.44  90.44  90.22  90.31   334.0"
      ]
     },
     "execution_count": 6,
     "metadata": {},
     "output_type": "execute_result"
    }
   ],
   "source": [
    "reverse_raw.head()"
   ]
  },
  {
   "cell_type": "code",
   "execution_count": 7,
   "id": "5cfdcef2",
   "metadata": {},
   "outputs": [],
   "source": [
    "symbol = 'Close' # т.к. нам нужны цены закрытия пятиминутных свечей берём данные из колонки Close"
   ]
  },
  {
   "cell_type": "code",
   "execution_count": 8,
   "id": "e049dee0",
   "metadata": {},
   "outputs": [],
   "source": [
    "m5_close = reverse_raw[symbol] # сохраняем серию в переменную с наиболее подходящим и информативным названием"
   ]
  },
  {
   "cell_type": "code",
   "execution_count": 9,
   "id": "57a67748",
   "metadata": {},
   "outputs": [],
   "source": [
    "# формирование подмножества данных и исключение нечисловых значений (NaN))\n",
    "data = (pd.DataFrame(m5_close).dropna())"
   ]
  },
  {
   "cell_type": "code",
   "execution_count": 10,
   "id": "cfb72389",
   "metadata": {},
   "outputs": [],
   "source": [
    "# расчёт логарифмической доходности\n",
    "data['Доходность'] = np.log(data/data.shift(1))"
   ]
  },
  {
   "cell_type": "code",
   "execution_count": 11,
   "id": "6f5db6b7",
   "metadata": {},
   "outputs": [],
   "source": [
    "# всегда применяем после shift, т.к. после shift появляются нечисловые значения NaN\n",
    "data.dropna(inplace=True)"
   ]
  },
  {
   "cell_type": "code",
   "execution_count": 12,
   "id": "6529593d",
   "metadata": {},
   "outputs": [
    {
     "data": {
      "text/plain": [
       "Date\n",
       "2022-2-15    0.000110\n",
       "2022-2-15   -0.000662\n",
       "2022-2-15   -0.000773\n",
       "2022-2-15   -0.001881\n",
       "2022-2-15   -0.000443\n",
       "Name: Доходность, dtype: float64"
      ]
     },
     "execution_count": 12,
     "metadata": {},
     "output_type": "execute_result"
    }
   ],
   "source": [
    "data['Доходность'].head()"
   ]
  },
  {
   "cell_type": "code",
   "execution_count": 13,
   "id": "5669ffda",
   "metadata": {},
   "outputs": [],
   "source": [
    "# Функция sign() является указателем на знак числа. Если число со знаком минус, то возвращает -1, если с плюсом, то 1\n",
    "# Функция astype() преобразует в указанный тип данных, в данном случае int\n",
    "data['Направление'] = np.sign(data['Доходность']).astype(int)"
   ]
  },
  {
   "cell_type": "code",
   "execution_count": 14,
   "id": "1fdcbdff",
   "metadata": {},
   "outputs": [],
   "source": [
    "lags = 5 # поменяли количество 2 на 5"
   ]
  },
  {
   "cell_type": "code",
   "execution_count": 15,
   "id": "4927e4a1",
   "metadata": {},
   "outputs": [],
   "source": [
    "# это не относится к данному разделу, просто проверка работоспособности кода\n",
    "features = data['Направление'].iloc[-(lags + 1):-1] "
   ]
  },
  {
   "cell_type": "code",
   "execution_count": 16,
   "id": "efecb55c",
   "metadata": {},
   "outputs": [
    {
     "data": {
      "text/plain": [
       "pandas.core.series.Series"
      ]
     },
     "execution_count": 16,
     "metadata": {},
     "output_type": "execute_result"
    }
   ],
   "source": [
    "# смотрим, что за тип данных\n",
    "type(features)"
   ]
  },
  {
   "cell_type": "code",
   "execution_count": 17,
   "id": "95a94d7e",
   "metadata": {},
   "outputs": [
    {
     "data": {
      "text/plain": [
       "Date\n",
       "2022-3-30   -1\n",
       "2022-3-30    1\n",
       "2022-3-30   -1\n",
       "2022-3-30    1\n",
       "2022-3-30   -1\n",
       "Name: Направление, dtype: int32"
      ]
     },
     "execution_count": 17,
     "metadata": {},
     "output_type": "execute_result"
    }
   ],
   "source": [
    "# наглядно\n",
    "features.head()"
   ]
  },
  {
   "cell_type": "code",
   "execution_count": 18,
   "id": "f93cc3bf",
   "metadata": {},
   "outputs": [
    {
     "data": {
      "text/plain": [
       "Date\n",
       "2022-3-30   -1\n",
       "2022-3-30    1\n",
       "2022-3-30   -1\n",
       "2022-3-30    1\n",
       "2022-3-30   -1\n",
       "Name: Направление, dtype: int32"
      ]
     },
     "execution_count": 18,
     "metadata": {},
     "output_type": "execute_result"
    }
   ],
   "source": [
    "features"
   ]
  },
  {
   "cell_type": "code",
   "execution_count": 19,
   "id": "41b1f54a",
   "metadata": {},
   "outputs": [],
   "source": [
    "features = features.values.reshape(1, -1)"
   ]
  },
  {
   "cell_type": "code",
   "execution_count": 20,
   "id": "d0f27f02",
   "metadata": {},
   "outputs": [
    {
     "data": {
      "text/plain": [
       "numpy.ndarray"
      ]
     },
     "execution_count": 20,
     "metadata": {},
     "output_type": "execute_result"
    }
   ],
   "source": [
    "type(features)"
   ]
  },
  {
   "cell_type": "code",
   "execution_count": 21,
   "id": "38b75f93",
   "metadata": {},
   "outputs": [
    {
     "data": {
      "text/plain": [
       "array([[-1,  1, -1,  1, -1]])"
      ]
     },
     "execution_count": 21,
     "metadata": {},
     "output_type": "execute_result"
    }
   ],
   "source": [
    "features"
   ]
  },
  {
   "cell_type": "markdown",
   "id": "e10d5f4b",
   "metadata": {},
   "source": [
    "Продолжение раздела, чтобы не перепутать, что откуда берётся"
   ]
  },
  {
   "cell_type": "code",
   "execution_count": 22,
   "id": "47a8b0a0",
   "metadata": {},
   "outputs": [],
   "source": [
    "def create_lags(data):\n",
    "    global cols\n",
    "    cols = []\n",
    "    for lag in range(1, lags + 1):\n",
    "        col = 'lag_{}'.format(lag)\n",
    "        data[col] = data['Доходность'].shift(lag) # обратить внимание на каком этапе появляются data[col]\n",
    "        cols.append(col)"
   ]
  },
  {
   "cell_type": "code",
   "execution_count": 23,
   "id": "bc7839b6",
   "metadata": {},
   "outputs": [],
   "source": [
    "create_lags(data)"
   ]
  },
  {
   "cell_type": "code",
   "execution_count": 24,
   "id": "c76c06b0",
   "metadata": {},
   "outputs": [],
   "source": [
    "data.dropna(inplace=True)"
   ]
  },
  {
   "cell_type": "code",
   "execution_count": 25,
   "id": "bbf28c0e",
   "metadata": {},
   "outputs": [
    {
     "data": {
      "text/plain": [
       "pandas.core.frame.DataFrame"
      ]
     },
     "execution_count": 25,
     "metadata": {},
     "output_type": "execute_result"
    }
   ],
   "source": [
    "type(data)"
   ]
  },
  {
   "cell_type": "code",
   "execution_count": 26,
   "id": "f9bc46d6",
   "metadata": {},
   "outputs": [
    {
     "data": {
      "text/html": [
       "<div>\n",
       "<style scoped>\n",
       "    .dataframe tbody tr th:only-of-type {\n",
       "        vertical-align: middle;\n",
       "    }\n",
       "\n",
       "    .dataframe tbody tr th {\n",
       "        vertical-align: top;\n",
       "    }\n",
       "\n",
       "    .dataframe thead th {\n",
       "        text-align: right;\n",
       "    }\n",
       "</style>\n",
       "<table border=\"1\" class=\"dataframe\">\n",
       "  <thead>\n",
       "    <tr style=\"text-align: right;\">\n",
       "      <th></th>\n",
       "      <th>Close</th>\n",
       "      <th>Доходность</th>\n",
       "      <th>Направление</th>\n",
       "      <th>lag_1</th>\n",
       "      <th>lag_2</th>\n",
       "      <th>lag_3</th>\n",
       "      <th>lag_4</th>\n",
       "      <th>lag_5</th>\n",
       "    </tr>\n",
       "    <tr>\n",
       "      <th>Date</th>\n",
       "      <th></th>\n",
       "      <th></th>\n",
       "      <th></th>\n",
       "      <th></th>\n",
       "      <th></th>\n",
       "      <th></th>\n",
       "      <th></th>\n",
       "      <th></th>\n",
       "    </tr>\n",
       "  </thead>\n",
       "  <tbody>\n",
       "    <tr>\n",
       "      <th>2022-2-15</th>\n",
       "      <td>90.38</td>\n",
       "      <td>0.001218</td>\n",
       "      <td>1</td>\n",
       "      <td>-0.000443</td>\n",
       "      <td>-0.001881</td>\n",
       "      <td>-0.000773</td>\n",
       "      <td>-0.000662</td>\n",
       "      <td>0.000110</td>\n",
       "    </tr>\n",
       "    <tr>\n",
       "      <th>2022-2-15</th>\n",
       "      <td>90.68</td>\n",
       "      <td>0.003314</td>\n",
       "      <td>1</td>\n",
       "      <td>0.001218</td>\n",
       "      <td>-0.000443</td>\n",
       "      <td>-0.001881</td>\n",
       "      <td>-0.000773</td>\n",
       "      <td>-0.000662</td>\n",
       "    </tr>\n",
       "    <tr>\n",
       "      <th>2022-2-15</th>\n",
       "      <td>90.80</td>\n",
       "      <td>0.001322</td>\n",
       "      <td>1</td>\n",
       "      <td>0.003314</td>\n",
       "      <td>0.001218</td>\n",
       "      <td>-0.000443</td>\n",
       "      <td>-0.001881</td>\n",
       "      <td>-0.000773</td>\n",
       "    </tr>\n",
       "    <tr>\n",
       "      <th>2022-2-15</th>\n",
       "      <td>90.70</td>\n",
       "      <td>-0.001102</td>\n",
       "      <td>-1</td>\n",
       "      <td>0.001322</td>\n",
       "      <td>0.003314</td>\n",
       "      <td>0.001218</td>\n",
       "      <td>-0.000443</td>\n",
       "      <td>-0.001881</td>\n",
       "    </tr>\n",
       "    <tr>\n",
       "      <th>2022-2-15</th>\n",
       "      <td>90.58</td>\n",
       "      <td>-0.001324</td>\n",
       "      <td>-1</td>\n",
       "      <td>-0.001102</td>\n",
       "      <td>0.001322</td>\n",
       "      <td>0.003314</td>\n",
       "      <td>0.001218</td>\n",
       "      <td>-0.000443</td>\n",
       "    </tr>\n",
       "  </tbody>\n",
       "</table>\n",
       "</div>"
      ],
      "text/plain": [
       "           Close  Доходность  Направление     lag_1     lag_2     lag_3  \\\n",
       "Date                                                                      \n",
       "2022-2-15  90.38    0.001218            1 -0.000443 -0.001881 -0.000773   \n",
       "2022-2-15  90.68    0.003314            1  0.001218 -0.000443 -0.001881   \n",
       "2022-2-15  90.80    0.001322            1  0.003314  0.001218 -0.000443   \n",
       "2022-2-15  90.70   -0.001102           -1  0.001322  0.003314  0.001218   \n",
       "2022-2-15  90.58   -0.001324           -1 -0.001102  0.001322  0.003314   \n",
       "\n",
       "              lag_4     lag_5  \n",
       "Date                           \n",
       "2022-2-15 -0.000662  0.000110  \n",
       "2022-2-15 -0.000773 -0.000662  \n",
       "2022-2-15 -0.001881 -0.000773  \n",
       "2022-2-15 -0.000443 -0.001881  \n",
       "2022-2-15  0.001218 -0.000443  "
      ]
     },
     "execution_count": 26,
     "metadata": {},
     "output_type": "execute_result"
    }
   ],
   "source": [
    "data.head()"
   ]
  },
  {
   "cell_type": "code",
   "execution_count": 27,
   "id": "bebe8324",
   "metadata": {},
   "outputs": [],
   "source": [
    "# дискретизация значений признаков с учётом параметра bins\n",
    "def create_bins(data, bins=[0]):\n",
    "    global cols_bin # объявляем глобальную переменную\n",
    "    cols_bin = []\n",
    "    for col in cols:\n",
    "        col_bin = col + '_bin' # преобразуем названия колонок\n",
    "        # Функция digitize Возвращает индексы бинов,к которым принадлежит каждое значение во входном массиве.\n",
    "        # Если значения в x выходят за пределы bins , соответственно возвращается 0 или len(bins). Т.е. отрицательные значения преобразуем в 0, а положительные в 1\n",
    "        data[col_bin] = np.digitize(data[col], bins=bins)\n",
    "        cols_bin.append (col_bin )"
   ]
  },
  {
   "cell_type": "code",
   "execution_count": 28,
   "id": "56ecbe25",
   "metadata": {},
   "outputs": [
    {
     "data": {
      "text/plain": [
       "['lag_1_bin', 'lag_2_bin', 'lag_3_bin', 'lag_4_bin', 'lag_5_bin']"
      ]
     },
     "execution_count": 28,
     "metadata": {},
     "output_type": "execute_result"
    }
   ],
   "source": [
    "create_bins(data)\n",
    "cols_bin"
   ]
  },
  {
   "cell_type": "code",
   "execution_count": 29,
   "id": "201325a2",
   "metadata": {},
   "outputs": [
    {
     "data": {
      "text/plain": [
       "pandas.core.frame.DataFrame"
      ]
     },
     "execution_count": 29,
     "metadata": {},
     "output_type": "execute_result"
    }
   ],
   "source": [
    "type(data)"
   ]
  },
  {
   "cell_type": "code",
   "execution_count": 30,
   "id": "614eabc8",
   "metadata": {},
   "outputs": [
    {
     "data": {
      "text/html": [
       "<div>\n",
       "<style scoped>\n",
       "    .dataframe tbody tr th:only-of-type {\n",
       "        vertical-align: middle;\n",
       "    }\n",
       "\n",
       "    .dataframe tbody tr th {\n",
       "        vertical-align: top;\n",
       "    }\n",
       "\n",
       "    .dataframe thead th {\n",
       "        text-align: right;\n",
       "    }\n",
       "</style>\n",
       "<table border=\"1\" class=\"dataframe\">\n",
       "  <thead>\n",
       "    <tr style=\"text-align: right;\">\n",
       "      <th></th>\n",
       "      <th>Close</th>\n",
       "      <th>Доходность</th>\n",
       "      <th>Направление</th>\n",
       "      <th>lag_1</th>\n",
       "      <th>lag_2</th>\n",
       "      <th>lag_3</th>\n",
       "      <th>lag_4</th>\n",
       "      <th>lag_5</th>\n",
       "      <th>lag_1_bin</th>\n",
       "      <th>lag_2_bin</th>\n",
       "      <th>lag_3_bin</th>\n",
       "      <th>lag_4_bin</th>\n",
       "      <th>lag_5_bin</th>\n",
       "    </tr>\n",
       "    <tr>\n",
       "      <th>Date</th>\n",
       "      <th></th>\n",
       "      <th></th>\n",
       "      <th></th>\n",
       "      <th></th>\n",
       "      <th></th>\n",
       "      <th></th>\n",
       "      <th></th>\n",
       "      <th></th>\n",
       "      <th></th>\n",
       "      <th></th>\n",
       "      <th></th>\n",
       "      <th></th>\n",
       "      <th></th>\n",
       "    </tr>\n",
       "  </thead>\n",
       "  <tbody>\n",
       "    <tr>\n",
       "      <th>2022-2-15</th>\n",
       "      <td>90.38</td>\n",
       "      <td>0.001218</td>\n",
       "      <td>1</td>\n",
       "      <td>-0.000443</td>\n",
       "      <td>-0.001881</td>\n",
       "      <td>-0.000773</td>\n",
       "      <td>-0.000662</td>\n",
       "      <td>0.000110</td>\n",
       "      <td>0</td>\n",
       "      <td>0</td>\n",
       "      <td>0</td>\n",
       "      <td>0</td>\n",
       "      <td>1</td>\n",
       "    </tr>\n",
       "    <tr>\n",
       "      <th>2022-2-15</th>\n",
       "      <td>90.68</td>\n",
       "      <td>0.003314</td>\n",
       "      <td>1</td>\n",
       "      <td>0.001218</td>\n",
       "      <td>-0.000443</td>\n",
       "      <td>-0.001881</td>\n",
       "      <td>-0.000773</td>\n",
       "      <td>-0.000662</td>\n",
       "      <td>1</td>\n",
       "      <td>0</td>\n",
       "      <td>0</td>\n",
       "      <td>0</td>\n",
       "      <td>0</td>\n",
       "    </tr>\n",
       "    <tr>\n",
       "      <th>2022-2-15</th>\n",
       "      <td>90.80</td>\n",
       "      <td>0.001322</td>\n",
       "      <td>1</td>\n",
       "      <td>0.003314</td>\n",
       "      <td>0.001218</td>\n",
       "      <td>-0.000443</td>\n",
       "      <td>-0.001881</td>\n",
       "      <td>-0.000773</td>\n",
       "      <td>1</td>\n",
       "      <td>1</td>\n",
       "      <td>0</td>\n",
       "      <td>0</td>\n",
       "      <td>0</td>\n",
       "    </tr>\n",
       "    <tr>\n",
       "      <th>2022-2-15</th>\n",
       "      <td>90.70</td>\n",
       "      <td>-0.001102</td>\n",
       "      <td>-1</td>\n",
       "      <td>0.001322</td>\n",
       "      <td>0.003314</td>\n",
       "      <td>0.001218</td>\n",
       "      <td>-0.000443</td>\n",
       "      <td>-0.001881</td>\n",
       "      <td>1</td>\n",
       "      <td>1</td>\n",
       "      <td>1</td>\n",
       "      <td>0</td>\n",
       "      <td>0</td>\n",
       "    </tr>\n",
       "    <tr>\n",
       "      <th>2022-2-15</th>\n",
       "      <td>90.58</td>\n",
       "      <td>-0.001324</td>\n",
       "      <td>-1</td>\n",
       "      <td>-0.001102</td>\n",
       "      <td>0.001322</td>\n",
       "      <td>0.003314</td>\n",
       "      <td>0.001218</td>\n",
       "      <td>-0.000443</td>\n",
       "      <td>0</td>\n",
       "      <td>1</td>\n",
       "      <td>1</td>\n",
       "      <td>1</td>\n",
       "      <td>0</td>\n",
       "    </tr>\n",
       "  </tbody>\n",
       "</table>\n",
       "</div>"
      ],
      "text/plain": [
       "           Close  Доходность  Направление     lag_1     lag_2     lag_3  \\\n",
       "Date                                                                      \n",
       "2022-2-15  90.38    0.001218            1 -0.000443 -0.001881 -0.000773   \n",
       "2022-2-15  90.68    0.003314            1  0.001218 -0.000443 -0.001881   \n",
       "2022-2-15  90.80    0.001322            1  0.003314  0.001218 -0.000443   \n",
       "2022-2-15  90.70   -0.001102           -1  0.001322  0.003314  0.001218   \n",
       "2022-2-15  90.58   -0.001324           -1 -0.001102  0.001322  0.003314   \n",
       "\n",
       "              lag_4     lag_5  lag_1_bin  lag_2_bin  lag_3_bin  lag_4_bin  \\\n",
       "Date                                                                        \n",
       "2022-2-15 -0.000662  0.000110          0          0          0          0   \n",
       "2022-2-15 -0.000773 -0.000662          1          0          0          0   \n",
       "2022-2-15 -0.001881 -0.000773          1          1          0          0   \n",
       "2022-2-15 -0.000443 -0.001881          1          1          1          0   \n",
       "2022-2-15  0.001218 -0.000443          0          1          1          1   \n",
       "\n",
       "           lag_5_bin  \n",
       "Date                  \n",
       "2022-2-15          1  \n",
       "2022-2-15          0  \n",
       "2022-2-15          0  \n",
       "2022-2-15          0  \n",
       "2022-2-15          0  "
      ]
     },
     "execution_count": 30,
     "metadata": {},
     "output_type": "execute_result"
    }
   ],
   "source": [
    "data.head()"
   ]
  },
  {
   "cell_type": "code",
   "execution_count": 31,
   "id": "ba5b3312",
   "metadata": {},
   "outputs": [
    {
     "data": {
      "text/html": [
       "<div>\n",
       "<style scoped>\n",
       "    .dataframe tbody tr th:only-of-type {\n",
       "        vertical-align: middle;\n",
       "    }\n",
       "\n",
       "    .dataframe tbody tr th {\n",
       "        vertical-align: top;\n",
       "    }\n",
       "\n",
       "    .dataframe thead th {\n",
       "        text-align: right;\n",
       "    }\n",
       "</style>\n",
       "<table border=\"1\" class=\"dataframe\">\n",
       "  <thead>\n",
       "    <tr style=\"text-align: right;\">\n",
       "      <th></th>\n",
       "      <th>lag_1_bin</th>\n",
       "      <th>lag_2_bin</th>\n",
       "      <th>lag_3_bin</th>\n",
       "      <th>lag_4_bin</th>\n",
       "      <th>lag_5_bin</th>\n",
       "      <th>Направление</th>\n",
       "    </tr>\n",
       "    <tr>\n",
       "      <th>Date</th>\n",
       "      <th></th>\n",
       "      <th></th>\n",
       "      <th></th>\n",
       "      <th></th>\n",
       "      <th></th>\n",
       "      <th></th>\n",
       "    </tr>\n",
       "  </thead>\n",
       "  <tbody>\n",
       "    <tr>\n",
       "      <th>2022-2-15</th>\n",
       "      <td>0</td>\n",
       "      <td>0</td>\n",
       "      <td>0</td>\n",
       "      <td>0</td>\n",
       "      <td>1</td>\n",
       "      <td>1</td>\n",
       "    </tr>\n",
       "    <tr>\n",
       "      <th>2022-2-15</th>\n",
       "      <td>1</td>\n",
       "      <td>0</td>\n",
       "      <td>0</td>\n",
       "      <td>0</td>\n",
       "      <td>0</td>\n",
       "      <td>1</td>\n",
       "    </tr>\n",
       "    <tr>\n",
       "      <th>2022-2-15</th>\n",
       "      <td>1</td>\n",
       "      <td>1</td>\n",
       "      <td>0</td>\n",
       "      <td>0</td>\n",
       "      <td>0</td>\n",
       "      <td>1</td>\n",
       "    </tr>\n",
       "    <tr>\n",
       "      <th>2022-2-15</th>\n",
       "      <td>1</td>\n",
       "      <td>1</td>\n",
       "      <td>1</td>\n",
       "      <td>0</td>\n",
       "      <td>0</td>\n",
       "      <td>-1</td>\n",
       "    </tr>\n",
       "    <tr>\n",
       "      <th>2022-2-15</th>\n",
       "      <td>0</td>\n",
       "      <td>1</td>\n",
       "      <td>1</td>\n",
       "      <td>1</td>\n",
       "      <td>0</td>\n",
       "      <td>-1</td>\n",
       "    </tr>\n",
       "    <tr>\n",
       "      <th>2022-2-15</th>\n",
       "      <td>0</td>\n",
       "      <td>0</td>\n",
       "      <td>1</td>\n",
       "      <td>1</td>\n",
       "      <td>1</td>\n",
       "      <td>-1</td>\n",
       "    </tr>\n",
       "    <tr>\n",
       "      <th>2022-2-15</th>\n",
       "      <td>0</td>\n",
       "      <td>0</td>\n",
       "      <td>0</td>\n",
       "      <td>1</td>\n",
       "      <td>1</td>\n",
       "      <td>1</td>\n",
       "    </tr>\n",
       "    <tr>\n",
       "      <th>2022-2-15</th>\n",
       "      <td>1</td>\n",
       "      <td>0</td>\n",
       "      <td>0</td>\n",
       "      <td>0</td>\n",
       "      <td>1</td>\n",
       "      <td>-1</td>\n",
       "    </tr>\n",
       "    <tr>\n",
       "      <th>2022-2-15</th>\n",
       "      <td>0</td>\n",
       "      <td>1</td>\n",
       "      <td>0</td>\n",
       "      <td>0</td>\n",
       "      <td>0</td>\n",
       "      <td>1</td>\n",
       "    </tr>\n",
       "    <tr>\n",
       "      <th>2022-2-15</th>\n",
       "      <td>1</td>\n",
       "      <td>0</td>\n",
       "      <td>1</td>\n",
       "      <td>0</td>\n",
       "      <td>0</td>\n",
       "      <td>-1</td>\n",
       "    </tr>\n",
       "  </tbody>\n",
       "</table>\n",
       "</div>"
      ],
      "text/plain": [
       "           lag_1_bin  lag_2_bin  lag_3_bin  lag_4_bin  lag_5_bin  Направление\n",
       "Date                                                                         \n",
       "2022-2-15          0          0          0          0          1            1\n",
       "2022-2-15          1          0          0          0          0            1\n",
       "2022-2-15          1          1          0          0          0            1\n",
       "2022-2-15          1          1          1          0          0           -1\n",
       "2022-2-15          0          1          1          1          0           -1\n",
       "2022-2-15          0          0          1          1          1           -1\n",
       "2022-2-15          0          0          0          1          1            1\n",
       "2022-2-15          1          0          0          0          1           -1\n",
       "2022-2-15          0          1          0          0          0            1\n",
       "2022-2-15          1          0          1          0          0           -1"
      ]
     },
     "execution_count": 31,
     "metadata": {},
     "output_type": "execute_result"
    }
   ],
   "source": [
    "# Отображение дискретных значений признаков и меток\n",
    "data[cols_bin + ['Направление']].head(10)"
   ]
  },
  {
   "cell_type": "code",
   "execution_count": 32,
   "id": "84dd451e",
   "metadata": {},
   "outputs": [
    {
     "data": {
      "text/plain": [
       "lag_1_bin  lag_2_bin  lag_3_bin  lag_4_bin  lag_5_bin  Направление\n",
       "0          0          0          0          0          -1             26\n",
       "                                                        1             35\n",
       "                                            1          -1             35\n",
       "                                                        0              3\n",
       "                                                        1             40\n",
       "                                                                      ..\n",
       "1          1          1          1          0           0              5\n",
       "                                                        1             42\n",
       "                                            1          -1             47\n",
       "                                                        0             54\n",
       "                                                        1             39\n",
       "Length: 95, dtype: int64"
      ]
     },
     "execution_count": 32,
     "metadata": {},
     "output_type": "execute_result"
    }
   ],
   "source": [
    "grouped = data.groupby(cols_bin + ['Направление'])\n",
    "grouped.size() # Отображение частоты возможных движений в зависимости от комбинаций значений признаков"
   ]
  },
  {
   "cell_type": "code",
   "execution_count": 33,
   "id": "7ab69465",
   "metadata": {},
   "outputs": [],
   "source": [
    "# Преобразование объекта DataFrame, чтобы частоты хранились по столбцам.\n",
    "res = grouped['Направление'].size().unstack(fill_value=0)"
   ]
  },
  {
   "cell_type": "code",
   "execution_count": 34,
   "id": "933fd60b",
   "metadata": {},
   "outputs": [],
   "source": [
    "# Определение наиболее часто встречающегося значения для каждой комбинации значений признаков.\n",
    "def highlight_max(s):\n",
    "    is_max = s == s.max()\n",
    "    return ['background-color: yellow' if v else '' for v in is_max]"
   ]
  },
  {
   "cell_type": "code",
   "execution_count": 35,
   "id": "f6134b4d",
   "metadata": {},
   "outputs": [
    {
     "data": {
      "text/html": [
       "<style type=\"text/css\">\n",
       "#T_80c68_row0_col2, #T_80c68_row1_col2, #T_80c68_row2_col0, #T_80c68_row3_col2, #T_80c68_row4_col2, #T_80c68_row5_col2, #T_80c68_row6_col2, #T_80c68_row7_col2, #T_80c68_row8_col2, #T_80c68_row9_col0, #T_80c68_row10_col0, #T_80c68_row11_col0, #T_80c68_row12_col0, #T_80c68_row12_col2, #T_80c68_row13_col2, #T_80c68_row14_col2, #T_80c68_row15_col2, #T_80c68_row16_col2, #T_80c68_row17_col2, #T_80c68_row18_col0, #T_80c68_row19_col0, #T_80c68_row20_col0, #T_80c68_row20_col2, #T_80c68_row21_col0, #T_80c68_row22_col2, #T_80c68_row23_col0, #T_80c68_row24_col0, #T_80c68_row25_col0, #T_80c68_row26_col0, #T_80c68_row27_col0, #T_80c68_row28_col2, #T_80c68_row29_col0, #T_80c68_row30_col0, #T_80c68_row31_col1 {\n",
       "  background-color: yellow;\n",
       "}\n",
       "</style>\n",
       "<table id=\"T_80c68\">\n",
       "  <thead>\n",
       "    <tr>\n",
       "      <th class=\"blank\" >&nbsp;</th>\n",
       "      <th class=\"blank\" >&nbsp;</th>\n",
       "      <th class=\"blank\" >&nbsp;</th>\n",
       "      <th class=\"blank\" >&nbsp;</th>\n",
       "      <th class=\"index_name level0\" >Направление</th>\n",
       "      <th id=\"T_80c68_level0_col0\" class=\"col_heading level0 col0\" >-1</th>\n",
       "      <th id=\"T_80c68_level0_col1\" class=\"col_heading level0 col1\" >0</th>\n",
       "      <th id=\"T_80c68_level0_col2\" class=\"col_heading level0 col2\" >1</th>\n",
       "    </tr>\n",
       "    <tr>\n",
       "      <th class=\"index_name level0\" >lag_1_bin</th>\n",
       "      <th class=\"index_name level1\" >lag_2_bin</th>\n",
       "      <th class=\"index_name level2\" >lag_3_bin</th>\n",
       "      <th class=\"index_name level3\" >lag_4_bin</th>\n",
       "      <th class=\"index_name level4\" >lag_5_bin</th>\n",
       "      <th class=\"blank col0\" >&nbsp;</th>\n",
       "      <th class=\"blank col1\" >&nbsp;</th>\n",
       "      <th class=\"blank col2\" >&nbsp;</th>\n",
       "    </tr>\n",
       "  </thead>\n",
       "  <tbody>\n",
       "    <tr>\n",
       "      <th id=\"T_80c68_level0_row0\" class=\"row_heading level0 row0\" rowspan=\"16\">0</th>\n",
       "      <th id=\"T_80c68_level1_row0\" class=\"row_heading level1 row0\" rowspan=\"8\">0</th>\n",
       "      <th id=\"T_80c68_level2_row0\" class=\"row_heading level2 row0\" rowspan=\"4\">0</th>\n",
       "      <th id=\"T_80c68_level3_row0\" class=\"row_heading level3 row0\" rowspan=\"2\">0</th>\n",
       "      <th id=\"T_80c68_level4_row0\" class=\"row_heading level4 row0\" >0</th>\n",
       "      <td id=\"T_80c68_row0_col0\" class=\"data row0 col0\" >26</td>\n",
       "      <td id=\"T_80c68_row0_col1\" class=\"data row0 col1\" >0</td>\n",
       "      <td id=\"T_80c68_row0_col2\" class=\"data row0 col2\" >35</td>\n",
       "    </tr>\n",
       "    <tr>\n",
       "      <th id=\"T_80c68_level4_row1\" class=\"row_heading level4 row1\" >1</th>\n",
       "      <td id=\"T_80c68_row1_col0\" class=\"data row1 col0\" >35</td>\n",
       "      <td id=\"T_80c68_row1_col1\" class=\"data row1 col1\" >3</td>\n",
       "      <td id=\"T_80c68_row1_col2\" class=\"data row1 col2\" >40</td>\n",
       "    </tr>\n",
       "    <tr>\n",
       "      <th id=\"T_80c68_level3_row2\" class=\"row_heading level3 row2\" rowspan=\"2\">1</th>\n",
       "      <th id=\"T_80c68_level4_row2\" class=\"row_heading level4 row2\" >0</th>\n",
       "      <td id=\"T_80c68_row2_col0\" class=\"data row2 col0\" >46</td>\n",
       "      <td id=\"T_80c68_row2_col1\" class=\"data row2 col1\" >4</td>\n",
       "      <td id=\"T_80c68_row2_col2\" class=\"data row2 col2\" >42</td>\n",
       "    </tr>\n",
       "    <tr>\n",
       "      <th id=\"T_80c68_level4_row3\" class=\"row_heading level4 row3\" >1</th>\n",
       "      <td id=\"T_80c68_row3_col0\" class=\"data row3 col0\" >31</td>\n",
       "      <td id=\"T_80c68_row3_col1\" class=\"data row3 col1\" >1</td>\n",
       "      <td id=\"T_80c68_row3_col2\" class=\"data row3 col2\" >52</td>\n",
       "    </tr>\n",
       "    <tr>\n",
       "      <th id=\"T_80c68_level2_row4\" class=\"row_heading level2 row4\" rowspan=\"4\">1</th>\n",
       "      <th id=\"T_80c68_level3_row4\" class=\"row_heading level3 row4\" rowspan=\"2\">0</th>\n",
       "      <th id=\"T_80c68_level4_row4\" class=\"row_heading level4 row4\" >0</th>\n",
       "      <td id=\"T_80c68_row4_col0\" class=\"data row4 col0\" >36</td>\n",
       "      <td id=\"T_80c68_row4_col1\" class=\"data row4 col1\" >1</td>\n",
       "      <td id=\"T_80c68_row4_col2\" class=\"data row4 col2\" >60</td>\n",
       "    </tr>\n",
       "    <tr>\n",
       "      <th id=\"T_80c68_level4_row5\" class=\"row_heading level4 row5\" >1</th>\n",
       "      <td id=\"T_80c68_row5_col0\" class=\"data row5 col0\" >56</td>\n",
       "      <td id=\"T_80c68_row5_col1\" class=\"data row5 col1\" >6</td>\n",
       "      <td id=\"T_80c68_row5_col2\" class=\"data row5 col2\" >61</td>\n",
       "    </tr>\n",
       "    <tr>\n",
       "      <th id=\"T_80c68_level3_row6\" class=\"row_heading level3 row6\" rowspan=\"2\">1</th>\n",
       "      <th id=\"T_80c68_level4_row6\" class=\"row_heading level4 row6\" >0</th>\n",
       "      <td id=\"T_80c68_row6_col0\" class=\"data row6 col0\" >51</td>\n",
       "      <td id=\"T_80c68_row6_col1\" class=\"data row6 col1\" >4</td>\n",
       "      <td id=\"T_80c68_row6_col2\" class=\"data row6 col2\" >63</td>\n",
       "    </tr>\n",
       "    <tr>\n",
       "      <th id=\"T_80c68_level4_row7\" class=\"row_heading level4 row7\" >1</th>\n",
       "      <td id=\"T_80c68_row7_col0\" class=\"data row7 col0\" >33</td>\n",
       "      <td id=\"T_80c68_row7_col1\" class=\"data row7 col1\" >5</td>\n",
       "      <td id=\"T_80c68_row7_col2\" class=\"data row7 col2\" >56</td>\n",
       "    </tr>\n",
       "    <tr>\n",
       "      <th id=\"T_80c68_level1_row8\" class=\"row_heading level1 row8\" rowspan=\"8\">1</th>\n",
       "      <th id=\"T_80c68_level2_row8\" class=\"row_heading level2 row8\" rowspan=\"4\">0</th>\n",
       "      <th id=\"T_80c68_level3_row8\" class=\"row_heading level3 row8\" rowspan=\"2\">0</th>\n",
       "      <th id=\"T_80c68_level4_row8\" class=\"row_heading level4 row8\" >0</th>\n",
       "      <td id=\"T_80c68_row8_col0\" class=\"data row8 col0\" >29</td>\n",
       "      <td id=\"T_80c68_row8_col1\" class=\"data row8 col1\" >2</td>\n",
       "      <td id=\"T_80c68_row8_col2\" class=\"data row8 col2\" >45</td>\n",
       "    </tr>\n",
       "    <tr>\n",
       "      <th id=\"T_80c68_level4_row9\" class=\"row_heading level4 row9\" >1</th>\n",
       "      <td id=\"T_80c68_row9_col0\" class=\"data row9 col0\" >68</td>\n",
       "      <td id=\"T_80c68_row9_col1\" class=\"data row9 col1\" >5</td>\n",
       "      <td id=\"T_80c68_row9_col2\" class=\"data row9 col2\" >66</td>\n",
       "    </tr>\n",
       "    <tr>\n",
       "      <th id=\"T_80c68_level3_row10\" class=\"row_heading level3 row10\" rowspan=\"2\">1</th>\n",
       "      <th id=\"T_80c68_level4_row10\" class=\"row_heading level4 row10\" >0</th>\n",
       "      <td id=\"T_80c68_row10_col0\" class=\"data row10 col0\" >60</td>\n",
       "      <td id=\"T_80c68_row10_col1\" class=\"data row10 col1\" >4</td>\n",
       "      <td id=\"T_80c68_row10_col2\" class=\"data row10 col2\" >50</td>\n",
       "    </tr>\n",
       "    <tr>\n",
       "      <th id=\"T_80c68_level4_row11\" class=\"row_heading level4 row11\" >1</th>\n",
       "      <td id=\"T_80c68_row11_col0\" class=\"data row11 col0\" >63</td>\n",
       "      <td id=\"T_80c68_row11_col1\" class=\"data row11 col1\" >3</td>\n",
       "      <td id=\"T_80c68_row11_col2\" class=\"data row11 col2\" >58</td>\n",
       "    </tr>\n",
       "    <tr>\n",
       "      <th id=\"T_80c68_level2_row12\" class=\"row_heading level2 row12\" rowspan=\"4\">1</th>\n",
       "      <th id=\"T_80c68_level3_row12\" class=\"row_heading level3 row12\" rowspan=\"2\">0</th>\n",
       "      <th id=\"T_80c68_level4_row12\" class=\"row_heading level4 row12\" >0</th>\n",
       "      <td id=\"T_80c68_row12_col0\" class=\"data row12 col0\" >55</td>\n",
       "      <td id=\"T_80c68_row12_col1\" class=\"data row12 col1\" >3</td>\n",
       "      <td id=\"T_80c68_row12_col2\" class=\"data row12 col2\" >55</td>\n",
       "    </tr>\n",
       "    <tr>\n",
       "      <th id=\"T_80c68_level4_row13\" class=\"row_heading level4 row13\" >1</th>\n",
       "      <td id=\"T_80c68_row13_col0\" class=\"data row13 col0\" >63</td>\n",
       "      <td id=\"T_80c68_row13_col1\" class=\"data row13 col1\" >3</td>\n",
       "      <td id=\"T_80c68_row13_col2\" class=\"data row13 col2\" >78</td>\n",
       "    </tr>\n",
       "    <tr>\n",
       "      <th id=\"T_80c68_level3_row14\" class=\"row_heading level3 row14\" rowspan=\"2\">1</th>\n",
       "      <th id=\"T_80c68_level4_row14\" class=\"row_heading level4 row14\" >0</th>\n",
       "      <td id=\"T_80c68_row14_col0\" class=\"data row14 col0\" >50</td>\n",
       "      <td id=\"T_80c68_row14_col1\" class=\"data row14 col1\" >4</td>\n",
       "      <td id=\"T_80c68_row14_col2\" class=\"data row14 col2\" >52</td>\n",
       "    </tr>\n",
       "    <tr>\n",
       "      <th id=\"T_80c68_level4_row15\" class=\"row_heading level4 row15\" >1</th>\n",
       "      <td id=\"T_80c68_row15_col0\" class=\"data row15 col0\" >44</td>\n",
       "      <td id=\"T_80c68_row15_col1\" class=\"data row15 col1\" >2</td>\n",
       "      <td id=\"T_80c68_row15_col2\" class=\"data row15 col2\" >56</td>\n",
       "    </tr>\n",
       "    <tr>\n",
       "      <th id=\"T_80c68_level0_row16\" class=\"row_heading level0 row16\" rowspan=\"16\">1</th>\n",
       "      <th id=\"T_80c68_level1_row16\" class=\"row_heading level1 row16\" rowspan=\"8\">0</th>\n",
       "      <th id=\"T_80c68_level2_row16\" class=\"row_heading level2 row16\" rowspan=\"4\">0</th>\n",
       "      <th id=\"T_80c68_level3_row16\" class=\"row_heading level3 row16\" rowspan=\"2\">0</th>\n",
       "      <th id=\"T_80c68_level4_row16\" class=\"row_heading level4 row16\" >0</th>\n",
       "      <td id=\"T_80c68_row16_col0\" class=\"data row16 col0\" >30</td>\n",
       "      <td id=\"T_80c68_row16_col1\" class=\"data row16 col1\" >5</td>\n",
       "      <td id=\"T_80c68_row16_col2\" class=\"data row16 col2\" >43</td>\n",
       "    </tr>\n",
       "    <tr>\n",
       "      <th id=\"T_80c68_level4_row17\" class=\"row_heading level4 row17\" >1</th>\n",
       "      <td id=\"T_80c68_row17_col0\" class=\"data row17 col0\" >46</td>\n",
       "      <td id=\"T_80c68_row17_col1\" class=\"data row17 col1\" >2</td>\n",
       "      <td id=\"T_80c68_row17_col2\" class=\"data row17 col2\" >51</td>\n",
       "    </tr>\n",
       "    <tr>\n",
       "      <th id=\"T_80c68_level3_row18\" class=\"row_heading level3 row18\" rowspan=\"2\">1</th>\n",
       "      <th id=\"T_80c68_level4_row18\" class=\"row_heading level4 row18\" >0</th>\n",
       "      <td id=\"T_80c68_row18_col0\" class=\"data row18 col0\" >69</td>\n",
       "      <td id=\"T_80c68_row18_col1\" class=\"data row18 col1\" >4</td>\n",
       "      <td id=\"T_80c68_row18_col2\" class=\"data row18 col2\" >55</td>\n",
       "    </tr>\n",
       "    <tr>\n",
       "      <th id=\"T_80c68_level4_row19\" class=\"row_heading level4 row19\" >1</th>\n",
       "      <td id=\"T_80c68_row19_col0\" class=\"data row19 col0\" >70</td>\n",
       "      <td id=\"T_80c68_row19_col1\" class=\"data row19 col1\" >6</td>\n",
       "      <td id=\"T_80c68_row19_col2\" class=\"data row19 col2\" >52</td>\n",
       "    </tr>\n",
       "    <tr>\n",
       "      <th id=\"T_80c68_level2_row20\" class=\"row_heading level2 row20\" rowspan=\"4\">1</th>\n",
       "      <th id=\"T_80c68_level3_row20\" class=\"row_heading level3 row20\" rowspan=\"2\">0</th>\n",
       "      <th id=\"T_80c68_level4_row20\" class=\"row_heading level4 row20\" >0</th>\n",
       "      <td id=\"T_80c68_row20_col0\" class=\"data row20 col0\" >57</td>\n",
       "      <td id=\"T_80c68_row20_col1\" class=\"data row20 col1\" >4</td>\n",
       "      <td id=\"T_80c68_row20_col2\" class=\"data row20 col2\" >57</td>\n",
       "    </tr>\n",
       "    <tr>\n",
       "      <th id=\"T_80c68_level4_row21\" class=\"row_heading level4 row21\" >1</th>\n",
       "      <td id=\"T_80c68_row21_col0\" class=\"data row21 col0\" >57</td>\n",
       "      <td id=\"T_80c68_row21_col1\" class=\"data row21 col1\" >4</td>\n",
       "      <td id=\"T_80c68_row21_col2\" class=\"data row21 col2\" >53</td>\n",
       "    </tr>\n",
       "    <tr>\n",
       "      <th id=\"T_80c68_level3_row22\" class=\"row_heading level3 row22\" rowspan=\"2\">1</th>\n",
       "      <th id=\"T_80c68_level4_row22\" class=\"row_heading level4 row22\" >0</th>\n",
       "      <td id=\"T_80c68_row22_col0\" class=\"data row22 col0\" >66</td>\n",
       "      <td id=\"T_80c68_row22_col1\" class=\"data row22 col1\" >4</td>\n",
       "      <td id=\"T_80c68_row22_col2\" class=\"data row22 col2\" >69</td>\n",
       "    </tr>\n",
       "    <tr>\n",
       "      <th id=\"T_80c68_level4_row23\" class=\"row_heading level4 row23\" >1</th>\n",
       "      <td id=\"T_80c68_row23_col0\" class=\"data row23 col0\" >58</td>\n",
       "      <td id=\"T_80c68_row23_col1\" class=\"data row23 col1\" >4</td>\n",
       "      <td id=\"T_80c68_row23_col2\" class=\"data row23 col2\" >52</td>\n",
       "    </tr>\n",
       "    <tr>\n",
       "      <th id=\"T_80c68_level1_row24\" class=\"row_heading level1 row24\" rowspan=\"8\">1</th>\n",
       "      <th id=\"T_80c68_level2_row24\" class=\"row_heading level2 row24\" rowspan=\"4\">0</th>\n",
       "      <th id=\"T_80c68_level3_row24\" class=\"row_heading level3 row24\" rowspan=\"2\">0</th>\n",
       "      <th id=\"T_80c68_level4_row24\" class=\"row_heading level4 row24\" >0</th>\n",
       "      <td id=\"T_80c68_row24_col0\" class=\"data row24 col0\" >55</td>\n",
       "      <td id=\"T_80c68_row24_col1\" class=\"data row24 col1\" >5</td>\n",
       "      <td id=\"T_80c68_row24_col2\" class=\"data row24 col2\" >41</td>\n",
       "    </tr>\n",
       "    <tr>\n",
       "      <th id=\"T_80c68_level4_row25\" class=\"row_heading level4 row25\" >1</th>\n",
       "      <td id=\"T_80c68_row25_col0\" class=\"data row25 col0\" >58</td>\n",
       "      <td id=\"T_80c68_row25_col1\" class=\"data row25 col1\" >4</td>\n",
       "      <td id=\"T_80c68_row25_col2\" class=\"data row25 col2\" >55</td>\n",
       "    </tr>\n",
       "    <tr>\n",
       "      <th id=\"T_80c68_level3_row26\" class=\"row_heading level3 row26\" rowspan=\"2\">1</th>\n",
       "      <th id=\"T_80c68_level4_row26\" class=\"row_heading level4 row26\" >0</th>\n",
       "      <td id=\"T_80c68_row26_col0\" class=\"data row26 col0\" >64</td>\n",
       "      <td id=\"T_80c68_row26_col1\" class=\"data row26 col1\" >1</td>\n",
       "      <td id=\"T_80c68_row26_col2\" class=\"data row26 col2\" >53</td>\n",
       "    </tr>\n",
       "    <tr>\n",
       "      <th id=\"T_80c68_level4_row27\" class=\"row_heading level4 row27\" >1</th>\n",
       "      <td id=\"T_80c68_row27_col0\" class=\"data row27 col0\" >80</td>\n",
       "      <td id=\"T_80c68_row27_col1\" class=\"data row27 col1\" >2</td>\n",
       "      <td id=\"T_80c68_row27_col2\" class=\"data row27 col2\" >47</td>\n",
       "    </tr>\n",
       "    <tr>\n",
       "      <th id=\"T_80c68_level2_row28\" class=\"row_heading level2 row28\" rowspan=\"4\">1</th>\n",
       "      <th id=\"T_80c68_level3_row28\" class=\"row_heading level3 row28\" rowspan=\"2\">0</th>\n",
       "      <th id=\"T_80c68_level4_row28\" class=\"row_heading level4 row28\" >0</th>\n",
       "      <td id=\"T_80c68_row28_col0\" class=\"data row28 col0\" >49</td>\n",
       "      <td id=\"T_80c68_row28_col1\" class=\"data row28 col1\" >3</td>\n",
       "      <td id=\"T_80c68_row28_col2\" class=\"data row28 col2\" >53</td>\n",
       "    </tr>\n",
       "    <tr>\n",
       "      <th id=\"T_80c68_level4_row29\" class=\"row_heading level4 row29\" >1</th>\n",
       "      <td id=\"T_80c68_row29_col0\" class=\"data row29 col0\" >57</td>\n",
       "      <td id=\"T_80c68_row29_col1\" class=\"data row29 col1\" >2</td>\n",
       "      <td id=\"T_80c68_row29_col2\" class=\"data row29 col2\" >44</td>\n",
       "    </tr>\n",
       "    <tr>\n",
       "      <th id=\"T_80c68_level3_row30\" class=\"row_heading level3 row30\" rowspan=\"2\">1</th>\n",
       "      <th id=\"T_80c68_level4_row30\" class=\"row_heading level4 row30\" >0</th>\n",
       "      <td id=\"T_80c68_row30_col0\" class=\"data row30 col0\" >55</td>\n",
       "      <td id=\"T_80c68_row30_col1\" class=\"data row30 col1\" >5</td>\n",
       "      <td id=\"T_80c68_row30_col2\" class=\"data row30 col2\" >42</td>\n",
       "    </tr>\n",
       "    <tr>\n",
       "      <th id=\"T_80c68_level4_row31\" class=\"row_heading level4 row31\" >1</th>\n",
       "      <td id=\"T_80c68_row31_col0\" class=\"data row31 col0\" >47</td>\n",
       "      <td id=\"T_80c68_row31_col1\" class=\"data row31 col1\" >54</td>\n",
       "      <td id=\"T_80c68_row31_col2\" class=\"data row31 col2\" >39</td>\n",
       "    </tr>\n",
       "  </tbody>\n",
       "</table>\n"
      ],
      "text/plain": [
       "<pandas.io.formats.style.Styler at 0x1d5ffc80f10>"
      ]
     },
     "execution_count": 35,
     "metadata": {},
     "output_type": "execute_result"
    }
   ],
   "source": [
    "# Определение наиболее часто встречающегося значения для каждой комбинации значений признаков.\n",
    "res.style.apply(highlight_max, axis=1)"
   ]
  },
  {
   "cell_type": "code",
   "execution_count": 36,
   "id": "9405948e",
   "metadata": {},
   "outputs": [],
   "source": [
    "# Преобразование полученного частотного распределения в торговую стратегию\n",
    "# Функция where() возвращает элементы, которые могут выбираться из двух массивов в зависимости от условия\n",
    "data['pos_freq'] = np.where(data[cols_bin].sum(axis=1) == 2, -1, 1)"
   ]
  },
  {
   "cell_type": "code",
   "execution_count": 37,
   "id": "d824657e",
   "metadata": {},
   "outputs": [
    {
     "data": {
      "text/plain": [
       "pandas.core.series.Series"
      ]
     },
     "execution_count": 37,
     "metadata": {},
     "output_type": "execute_result"
    }
   ],
   "source": [
    "type(data['pos_freq'])"
   ]
  },
  {
   "cell_type": "code",
   "execution_count": 38,
   "id": "e07b40c7",
   "metadata": {},
   "outputs": [
    {
     "data": {
      "text/plain": [
       "Date\n",
       "2022-2-15    1\n",
       "2022-2-15    1\n",
       "2022-2-15   -1\n",
       "2022-2-15    1\n",
       "2022-2-15    1\n",
       "Name: pos_freq, dtype: int32"
      ]
     },
     "execution_count": 38,
     "metadata": {},
     "output_type": "execute_result"
    }
   ],
   "source": [
    "data['pos_freq'].head()"
   ]
  },
  {
   "cell_type": "code",
   "execution_count": 39,
   "id": "db065c3b",
   "metadata": {},
   "outputs": [
    {
     "data": {
      "text/plain": [
       "False    1826\n",
       "True     1672\n",
       "Name: count, dtype: int64"
      ]
     },
     "execution_count": 39,
     "metadata": {},
     "output_type": "execute_result"
    }
   ],
   "source": [
    "(data['Направление'] == data['pos_freq']).value_counts()"
   ]
  },
  {
   "cell_type": "code",
   "execution_count": 40,
   "id": "feb5e329",
   "metadata": {},
   "outputs": [],
   "source": [
    "data['strat_freq'] = data['pos_freq'] * data['Доходность']"
   ]
  },
  {
   "cell_type": "markdown",
   "id": "ad277313",
   "metadata": {},
   "source": [
    "# Обработка данных с помощью алгоритма RandomForest"
   ]
  },
  {
   "cell_type": "code",
   "execution_count": 41,
   "id": "14241f9e",
   "metadata": {},
   "outputs": [],
   "source": [
    "model = RandomForestClassifier(n_estimators=150)"
   ]
  },
  {
   "cell_type": "code",
   "execution_count": 42,
   "id": "4f5bbf15",
   "metadata": {},
   "outputs": [],
   "source": [
    "split = int(len(data ) * 0.80) "
   ]
  },
  {
   "cell_type": "code",
   "execution_count": 43,
   "id": "69dc69ee",
   "metadata": {},
   "outputs": [],
   "source": [
    "train = data.iloc[:split].copy() "
   ]
  },
  {
   "cell_type": "code",
   "execution_count": 44,
   "id": "9291261d",
   "metadata": {},
   "outputs": [
    {
     "data": {
      "text/html": [
       "<style>#sk-container-id-1 {\n",
       "  /* Definition of color scheme common for light and dark mode */\n",
       "  --sklearn-color-text: black;\n",
       "  --sklearn-color-line: gray;\n",
       "  /* Definition of color scheme for unfitted estimators */\n",
       "  --sklearn-color-unfitted-level-0: #fff5e6;\n",
       "  --sklearn-color-unfitted-level-1: #f6e4d2;\n",
       "  --sklearn-color-unfitted-level-2: #ffe0b3;\n",
       "  --sklearn-color-unfitted-level-3: chocolate;\n",
       "  /* Definition of color scheme for fitted estimators */\n",
       "  --sklearn-color-fitted-level-0: #f0f8ff;\n",
       "  --sklearn-color-fitted-level-1: #d4ebff;\n",
       "  --sklearn-color-fitted-level-2: #b3dbfd;\n",
       "  --sklearn-color-fitted-level-3: cornflowerblue;\n",
       "\n",
       "  /* Specific color for light theme */\n",
       "  --sklearn-color-text-on-default-background: var(--sg-text-color, var(--theme-code-foreground, var(--jp-content-font-color1, black)));\n",
       "  --sklearn-color-background: var(--sg-background-color, var(--theme-background, var(--jp-layout-color0, white)));\n",
       "  --sklearn-color-border-box: var(--sg-text-color, var(--theme-code-foreground, var(--jp-content-font-color1, black)));\n",
       "  --sklearn-color-icon: #696969;\n",
       "\n",
       "  @media (prefers-color-scheme: dark) {\n",
       "    /* Redefinition of color scheme for dark theme */\n",
       "    --sklearn-color-text-on-default-background: var(--sg-text-color, var(--theme-code-foreground, var(--jp-content-font-color1, white)));\n",
       "    --sklearn-color-background: var(--sg-background-color, var(--theme-background, var(--jp-layout-color0, #111)));\n",
       "    --sklearn-color-border-box: var(--sg-text-color, var(--theme-code-foreground, var(--jp-content-font-color1, white)));\n",
       "    --sklearn-color-icon: #878787;\n",
       "  }\n",
       "}\n",
       "\n",
       "#sk-container-id-1 {\n",
       "  color: var(--sklearn-color-text);\n",
       "}\n",
       "\n",
       "#sk-container-id-1 pre {\n",
       "  padding: 0;\n",
       "}\n",
       "\n",
       "#sk-container-id-1 input.sk-hidden--visually {\n",
       "  border: 0;\n",
       "  clip: rect(1px 1px 1px 1px);\n",
       "  clip: rect(1px, 1px, 1px, 1px);\n",
       "  height: 1px;\n",
       "  margin: -1px;\n",
       "  overflow: hidden;\n",
       "  padding: 0;\n",
       "  position: absolute;\n",
       "  width: 1px;\n",
       "}\n",
       "\n",
       "#sk-container-id-1 div.sk-dashed-wrapped {\n",
       "  border: 1px dashed var(--sklearn-color-line);\n",
       "  margin: 0 0.4em 0.5em 0.4em;\n",
       "  box-sizing: border-box;\n",
       "  padding-bottom: 0.4em;\n",
       "  background-color: var(--sklearn-color-background);\n",
       "}\n",
       "\n",
       "#sk-container-id-1 div.sk-container {\n",
       "  /* jupyter's `normalize.less` sets `[hidden] { display: none; }`\n",
       "     but bootstrap.min.css set `[hidden] { display: none !important; }`\n",
       "     so we also need the `!important` here to be able to override the\n",
       "     default hidden behavior on the sphinx rendered scikit-learn.org.\n",
       "     See: https://github.com/scikit-learn/scikit-learn/issues/21755 */\n",
       "  display: inline-block !important;\n",
       "  position: relative;\n",
       "}\n",
       "\n",
       "#sk-container-id-1 div.sk-text-repr-fallback {\n",
       "  display: none;\n",
       "}\n",
       "\n",
       "div.sk-parallel-item,\n",
       "div.sk-serial,\n",
       "div.sk-item {\n",
       "  /* draw centered vertical line to link estimators */\n",
       "  background-image: linear-gradient(var(--sklearn-color-text-on-default-background), var(--sklearn-color-text-on-default-background));\n",
       "  background-size: 2px 100%;\n",
       "  background-repeat: no-repeat;\n",
       "  background-position: center center;\n",
       "}\n",
       "\n",
       "/* Parallel-specific style estimator block */\n",
       "\n",
       "#sk-container-id-1 div.sk-parallel-item::after {\n",
       "  content: \"\";\n",
       "  width: 100%;\n",
       "  border-bottom: 2px solid var(--sklearn-color-text-on-default-background);\n",
       "  flex-grow: 1;\n",
       "}\n",
       "\n",
       "#sk-container-id-1 div.sk-parallel {\n",
       "  display: flex;\n",
       "  align-items: stretch;\n",
       "  justify-content: center;\n",
       "  background-color: var(--sklearn-color-background);\n",
       "  position: relative;\n",
       "}\n",
       "\n",
       "#sk-container-id-1 div.sk-parallel-item {\n",
       "  display: flex;\n",
       "  flex-direction: column;\n",
       "}\n",
       "\n",
       "#sk-container-id-1 div.sk-parallel-item:first-child::after {\n",
       "  align-self: flex-end;\n",
       "  width: 50%;\n",
       "}\n",
       "\n",
       "#sk-container-id-1 div.sk-parallel-item:last-child::after {\n",
       "  align-self: flex-start;\n",
       "  width: 50%;\n",
       "}\n",
       "\n",
       "#sk-container-id-1 div.sk-parallel-item:only-child::after {\n",
       "  width: 0;\n",
       "}\n",
       "\n",
       "/* Serial-specific style estimator block */\n",
       "\n",
       "#sk-container-id-1 div.sk-serial {\n",
       "  display: flex;\n",
       "  flex-direction: column;\n",
       "  align-items: center;\n",
       "  background-color: var(--sklearn-color-background);\n",
       "  padding-right: 1em;\n",
       "  padding-left: 1em;\n",
       "}\n",
       "\n",
       "\n",
       "/* Toggleable style: style used for estimator/Pipeline/ColumnTransformer box that is\n",
       "clickable and can be expanded/collapsed.\n",
       "- Pipeline and ColumnTransformer use this feature and define the default style\n",
       "- Estimators will overwrite some part of the style using the `sk-estimator` class\n",
       "*/\n",
       "\n",
       "/* Pipeline and ColumnTransformer style (default) */\n",
       "\n",
       "#sk-container-id-1 div.sk-toggleable {\n",
       "  /* Default theme specific background. It is overwritten whether we have a\n",
       "  specific estimator or a Pipeline/ColumnTransformer */\n",
       "  background-color: var(--sklearn-color-background);\n",
       "}\n",
       "\n",
       "/* Toggleable label */\n",
       "#sk-container-id-1 label.sk-toggleable__label {\n",
       "  cursor: pointer;\n",
       "  display: block;\n",
       "  width: 100%;\n",
       "  margin-bottom: 0;\n",
       "  padding: 0.5em;\n",
       "  box-sizing: border-box;\n",
       "  text-align: center;\n",
       "}\n",
       "\n",
       "#sk-container-id-1 label.sk-toggleable__label-arrow:before {\n",
       "  /* Arrow on the left of the label */\n",
       "  content: \"▸\";\n",
       "  float: left;\n",
       "  margin-right: 0.25em;\n",
       "  color: var(--sklearn-color-icon);\n",
       "}\n",
       "\n",
       "#sk-container-id-1 label.sk-toggleable__label-arrow:hover:before {\n",
       "  color: var(--sklearn-color-text);\n",
       "}\n",
       "\n",
       "/* Toggleable content - dropdown */\n",
       "\n",
       "#sk-container-id-1 div.sk-toggleable__content {\n",
       "  max-height: 0;\n",
       "  max-width: 0;\n",
       "  overflow: hidden;\n",
       "  text-align: left;\n",
       "  /* unfitted */\n",
       "  background-color: var(--sklearn-color-unfitted-level-0);\n",
       "}\n",
       "\n",
       "#sk-container-id-1 div.sk-toggleable__content.fitted {\n",
       "  /* fitted */\n",
       "  background-color: var(--sklearn-color-fitted-level-0);\n",
       "}\n",
       "\n",
       "#sk-container-id-1 div.sk-toggleable__content pre {\n",
       "  margin: 0.2em;\n",
       "  border-radius: 0.25em;\n",
       "  color: var(--sklearn-color-text);\n",
       "  /* unfitted */\n",
       "  background-color: var(--sklearn-color-unfitted-level-0);\n",
       "}\n",
       "\n",
       "#sk-container-id-1 div.sk-toggleable__content.fitted pre {\n",
       "  /* unfitted */\n",
       "  background-color: var(--sklearn-color-fitted-level-0);\n",
       "}\n",
       "\n",
       "#sk-container-id-1 input.sk-toggleable__control:checked~div.sk-toggleable__content {\n",
       "  /* Expand drop-down */\n",
       "  max-height: 200px;\n",
       "  max-width: 100%;\n",
       "  overflow: auto;\n",
       "}\n",
       "\n",
       "#sk-container-id-1 input.sk-toggleable__control:checked~label.sk-toggleable__label-arrow:before {\n",
       "  content: \"▾\";\n",
       "}\n",
       "\n",
       "/* Pipeline/ColumnTransformer-specific style */\n",
       "\n",
       "#sk-container-id-1 div.sk-label input.sk-toggleable__control:checked~label.sk-toggleable__label {\n",
       "  color: var(--sklearn-color-text);\n",
       "  background-color: var(--sklearn-color-unfitted-level-2);\n",
       "}\n",
       "\n",
       "#sk-container-id-1 div.sk-label.fitted input.sk-toggleable__control:checked~label.sk-toggleable__label {\n",
       "  background-color: var(--sklearn-color-fitted-level-2);\n",
       "}\n",
       "\n",
       "/* Estimator-specific style */\n",
       "\n",
       "/* Colorize estimator box */\n",
       "#sk-container-id-1 div.sk-estimator input.sk-toggleable__control:checked~label.sk-toggleable__label {\n",
       "  /* unfitted */\n",
       "  background-color: var(--sklearn-color-unfitted-level-2);\n",
       "}\n",
       "\n",
       "#sk-container-id-1 div.sk-estimator.fitted input.sk-toggleable__control:checked~label.sk-toggleable__label {\n",
       "  /* fitted */\n",
       "  background-color: var(--sklearn-color-fitted-level-2);\n",
       "}\n",
       "\n",
       "#sk-container-id-1 div.sk-label label.sk-toggleable__label,\n",
       "#sk-container-id-1 div.sk-label label {\n",
       "  /* The background is the default theme color */\n",
       "  color: var(--sklearn-color-text-on-default-background);\n",
       "}\n",
       "\n",
       "/* On hover, darken the color of the background */\n",
       "#sk-container-id-1 div.sk-label:hover label.sk-toggleable__label {\n",
       "  color: var(--sklearn-color-text);\n",
       "  background-color: var(--sklearn-color-unfitted-level-2);\n",
       "}\n",
       "\n",
       "/* Label box, darken color on hover, fitted */\n",
       "#sk-container-id-1 div.sk-label.fitted:hover label.sk-toggleable__label.fitted {\n",
       "  color: var(--sklearn-color-text);\n",
       "  background-color: var(--sklearn-color-fitted-level-2);\n",
       "}\n",
       "\n",
       "/* Estimator label */\n",
       "\n",
       "#sk-container-id-1 div.sk-label label {\n",
       "  font-family: monospace;\n",
       "  font-weight: bold;\n",
       "  display: inline-block;\n",
       "  line-height: 1.2em;\n",
       "}\n",
       "\n",
       "#sk-container-id-1 div.sk-label-container {\n",
       "  text-align: center;\n",
       "}\n",
       "\n",
       "/* Estimator-specific */\n",
       "#sk-container-id-1 div.sk-estimator {\n",
       "  font-family: monospace;\n",
       "  border: 1px dotted var(--sklearn-color-border-box);\n",
       "  border-radius: 0.25em;\n",
       "  box-sizing: border-box;\n",
       "  margin-bottom: 0.5em;\n",
       "  /* unfitted */\n",
       "  background-color: var(--sklearn-color-unfitted-level-0);\n",
       "}\n",
       "\n",
       "#sk-container-id-1 div.sk-estimator.fitted {\n",
       "  /* fitted */\n",
       "  background-color: var(--sklearn-color-fitted-level-0);\n",
       "}\n",
       "\n",
       "/* on hover */\n",
       "#sk-container-id-1 div.sk-estimator:hover {\n",
       "  /* unfitted */\n",
       "  background-color: var(--sklearn-color-unfitted-level-2);\n",
       "}\n",
       "\n",
       "#sk-container-id-1 div.sk-estimator.fitted:hover {\n",
       "  /* fitted */\n",
       "  background-color: var(--sklearn-color-fitted-level-2);\n",
       "}\n",
       "\n",
       "/* Specification for estimator info (e.g. \"i\" and \"?\") */\n",
       "\n",
       "/* Common style for \"i\" and \"?\" */\n",
       "\n",
       ".sk-estimator-doc-link,\n",
       "a:link.sk-estimator-doc-link,\n",
       "a:visited.sk-estimator-doc-link {\n",
       "  float: right;\n",
       "  font-size: smaller;\n",
       "  line-height: 1em;\n",
       "  font-family: monospace;\n",
       "  background-color: var(--sklearn-color-background);\n",
       "  border-radius: 1em;\n",
       "  height: 1em;\n",
       "  width: 1em;\n",
       "  text-decoration: none !important;\n",
       "  margin-left: 1ex;\n",
       "  /* unfitted */\n",
       "  border: var(--sklearn-color-unfitted-level-1) 1pt solid;\n",
       "  color: var(--sklearn-color-unfitted-level-1);\n",
       "}\n",
       "\n",
       ".sk-estimator-doc-link.fitted,\n",
       "a:link.sk-estimator-doc-link.fitted,\n",
       "a:visited.sk-estimator-doc-link.fitted {\n",
       "  /* fitted */\n",
       "  border: var(--sklearn-color-fitted-level-1) 1pt solid;\n",
       "  color: var(--sklearn-color-fitted-level-1);\n",
       "}\n",
       "\n",
       "/* On hover */\n",
       "div.sk-estimator:hover .sk-estimator-doc-link:hover,\n",
       ".sk-estimator-doc-link:hover,\n",
       "div.sk-label-container:hover .sk-estimator-doc-link:hover,\n",
       ".sk-estimator-doc-link:hover {\n",
       "  /* unfitted */\n",
       "  background-color: var(--sklearn-color-unfitted-level-3);\n",
       "  color: var(--sklearn-color-background);\n",
       "  text-decoration: none;\n",
       "}\n",
       "\n",
       "div.sk-estimator.fitted:hover .sk-estimator-doc-link.fitted:hover,\n",
       ".sk-estimator-doc-link.fitted:hover,\n",
       "div.sk-label-container:hover .sk-estimator-doc-link.fitted:hover,\n",
       ".sk-estimator-doc-link.fitted:hover {\n",
       "  /* fitted */\n",
       "  background-color: var(--sklearn-color-fitted-level-3);\n",
       "  color: var(--sklearn-color-background);\n",
       "  text-decoration: none;\n",
       "}\n",
       "\n",
       "/* Span, style for the box shown on hovering the info icon */\n",
       ".sk-estimator-doc-link span {\n",
       "  display: none;\n",
       "  z-index: 9999;\n",
       "  position: relative;\n",
       "  font-weight: normal;\n",
       "  right: .2ex;\n",
       "  padding: .5ex;\n",
       "  margin: .5ex;\n",
       "  width: min-content;\n",
       "  min-width: 20ex;\n",
       "  max-width: 50ex;\n",
       "  color: var(--sklearn-color-text);\n",
       "  box-shadow: 2pt 2pt 4pt #999;\n",
       "  /* unfitted */\n",
       "  background: var(--sklearn-color-unfitted-level-0);\n",
       "  border: .5pt solid var(--sklearn-color-unfitted-level-3);\n",
       "}\n",
       "\n",
       ".sk-estimator-doc-link.fitted span {\n",
       "  /* fitted */\n",
       "  background: var(--sklearn-color-fitted-level-0);\n",
       "  border: var(--sklearn-color-fitted-level-3);\n",
       "}\n",
       "\n",
       ".sk-estimator-doc-link:hover span {\n",
       "  display: block;\n",
       "}\n",
       "\n",
       "/* \"?\"-specific style due to the `<a>` HTML tag */\n",
       "\n",
       "#sk-container-id-1 a.estimator_doc_link {\n",
       "  float: right;\n",
       "  font-size: 1rem;\n",
       "  line-height: 1em;\n",
       "  font-family: monospace;\n",
       "  background-color: var(--sklearn-color-background);\n",
       "  border-radius: 1rem;\n",
       "  height: 1rem;\n",
       "  width: 1rem;\n",
       "  text-decoration: none;\n",
       "  /* unfitted */\n",
       "  color: var(--sklearn-color-unfitted-level-1);\n",
       "  border: var(--sklearn-color-unfitted-level-1) 1pt solid;\n",
       "}\n",
       "\n",
       "#sk-container-id-1 a.estimator_doc_link.fitted {\n",
       "  /* fitted */\n",
       "  border: var(--sklearn-color-fitted-level-1) 1pt solid;\n",
       "  color: var(--sklearn-color-fitted-level-1);\n",
       "}\n",
       "\n",
       "/* On hover */\n",
       "#sk-container-id-1 a.estimator_doc_link:hover {\n",
       "  /* unfitted */\n",
       "  background-color: var(--sklearn-color-unfitted-level-3);\n",
       "  color: var(--sklearn-color-background);\n",
       "  text-decoration: none;\n",
       "}\n",
       "\n",
       "#sk-container-id-1 a.estimator_doc_link.fitted:hover {\n",
       "  /* fitted */\n",
       "  background-color: var(--sklearn-color-fitted-level-3);\n",
       "}\n",
       "</style><div id=\"sk-container-id-1\" class=\"sk-top-container\"><div class=\"sk-text-repr-fallback\"><pre>RandomForestClassifier(n_estimators=150)</pre><b>In a Jupyter environment, please rerun this cell to show the HTML representation or trust the notebook. <br />On GitHub, the HTML representation is unable to render, please try loading this page with nbviewer.org.</b></div><div class=\"sk-container\" hidden><div class=\"sk-item\"><div class=\"sk-estimator fitted sk-toggleable\"><input class=\"sk-toggleable__control sk-hidden--visually\" id=\"sk-estimator-id-1\" type=\"checkbox\" checked><label for=\"sk-estimator-id-1\" class=\"sk-toggleable__label fitted sk-toggleable__label-arrow fitted\">&nbsp;&nbsp;RandomForestClassifier<a class=\"sk-estimator-doc-link fitted\" rel=\"noreferrer\" target=\"_blank\" href=\"https://scikit-learn.org/1.4/modules/generated/sklearn.ensemble.RandomForestClassifier.html\">?<span>Documentation for RandomForestClassifier</span></a><span class=\"sk-estimator-doc-link fitted\">i<span>Fitted</span></span></label><div class=\"sk-toggleable__content fitted\"><pre>RandomForestClassifier(n_estimators=150)</pre></div> </div></div></div></div>"
      ],
      "text/plain": [
       "RandomForestClassifier(n_estimators=150)"
      ]
     },
     "execution_count": 44,
     "metadata": {},
     "output_type": "execute_result"
    }
   ],
   "source": [
    "model.fit(data[cols_bin], data['Направление'])"
   ]
  },
  {
   "cell_type": "code",
   "execution_count": 45,
   "id": "ee57d60e",
   "metadata": {},
   "outputs": [
    {
     "data": {
      "text/plain": [
       "0.5285918513223731"
      ]
     },
     "execution_count": 45,
     "metadata": {},
     "output_type": "execute_result"
    }
   ],
   "source": [
    "accuracy_score(train['Направление'], model.predict(train[cols_bin]))"
   ]
  },
  {
   "cell_type": "code",
   "execution_count": 46,
   "id": "a8071b24",
   "metadata": {},
   "outputs": [],
   "source": [
    "test = data.iloc[split:].copy() "
   ]
  },
  {
   "cell_type": "code",
   "execution_count": 47,
   "id": "18ffa104",
   "metadata": {},
   "outputs": [],
   "source": [
    "test['position'] = model.predict(test[cols_bin]) "
   ]
  },
  {
   "cell_type": "code",
   "execution_count": 48,
   "id": "5458b71c",
   "metadata": {},
   "outputs": [
    {
     "data": {
      "text/plain": [
       "0.5157142857142857"
      ]
     },
     "execution_count": 48,
     "metadata": {},
     "output_type": "execute_result"
    }
   ],
   "source": [
    "accuracy_score(test['Направление'], test['position'])"
   ]
  },
  {
   "cell_type": "code",
   "execution_count": 49,
   "id": "cc78ea1b",
   "metadata": {},
   "outputs": [],
   "source": [
    "test['strategy'] = test['position'] * test['Доходность']"
   ]
  },
  {
   "cell_type": "code",
   "execution_count": 50,
   "id": "c07392cd",
   "metadata": {},
   "outputs": [
    {
     "data": {
      "text/plain": [
       "334"
      ]
     },
     "execution_count": 50,
     "metadata": {},
     "output_type": "execute_result"
    }
   ],
   "source": [
    "sum(test['position'].diff() != 0)"
   ]
  },
  {
   "cell_type": "code",
   "execution_count": 51,
   "id": "9ba73e10",
   "metadata": {},
   "outputs": [
    {
     "data": {
      "text/plain": [
       "Доходность    1.000887\n",
       "strategy      1.121944\n",
       "dtype: float64"
      ]
     },
     "execution_count": 51,
     "metadata": {},
     "output_type": "execute_result"
    }
   ],
   "source": [
    "test[['Доходность', 'strategy']].sum().apply(np.exp) "
   ]
  },
  {
   "cell_type": "code",
   "execution_count": 52,
   "id": "eb43ee13",
   "metadata": {},
   "outputs": [
    {
     "data": {
      "text/plain": [
       "<Axes: xlabel='Date'>"
      ]
     },
     "execution_count": 52,
     "metadata": {},
     "output_type": "execute_result"
    },
    {
     "data": {
      "image/png": "[encoded data removed]",
      "text/plain": [
       "<Figure size 1900x600 with 1 Axes>"
      ]
     },
     "metadata": {},
     "output_type": "display_data"
    }
   ],
   "source": [
    "test[['Доходность', 'strategy']].cumsum().apply(np.exp).plot(figsize=(19, 6))"
   ]
  },
  {
   "cell_type": "code",
   "execution_count": 53,
   "id": "d6ab27ab",
   "metadata": {},
   "outputs": [],
   "source": [
    "pickle.dump(model, open('algorithm.pkl', 'wb')) # сохраняем модель в файл, который будет храниться в той же папке"
   ]
  },
  {
   "cell_type": "markdown",
   "id": "82331529",
   "metadata": {},
   "source": [
    "# Сохранение объекта модели"
   ]
  },
  {
   "cell_type": "code",
   "execution_count": 54,
   "id": "392a5217",
   "metadata": {},
   "outputs": [],
   "source": [
    "algorithm = pickle.load(open('algorithm.pkl', 'rb')) # загружаем модель из сохранённого файла"
   ]
  },
  {
   "cell_type": "code",
   "execution_count": 55,
   "id": "755ca8e7",
   "metadata": {},
   "outputs": [
    {
     "name": "stderr",
     "output_type": "stream",
     "text": [
      "e:\\repo\\TradingAlgorithmsandAutomations\\.venv\\Lib\\site-packages\\sklearn\\base.py:493: UserWarning: X does not have valid feature names, but RandomForestClassifier was fitted with feature names\n",
      "  warnings.warn(\n"
     ]
    }
   ],
   "source": [
    "cignal = algorithm.predict(features)[0] # первый вариант получения сигнала"
   ]
  },
  {
   "cell_type": "code",
   "execution_count": 56,
   "id": "0b565031",
   "metadata": {},
   "outputs": [
    {
     "name": "stderr",
     "output_type": "stream",
     "text": [
      "e:\\repo\\TradingAlgorithmsandAutomations\\.venv\\Lib\\site-packages\\sklearn\\base.py:493: UserWarning: X does not have valid feature names, but RandomForestClassifier was fitted with feature names\n",
      "  warnings.warn(\n"
     ]
    }
   ],
   "source": [
    "signal = model.predict(features)[0] # второй вариант"
   ]
  },
  {
   "cell_type": "code",
   "execution_count": 57,
   "id": "aedd96e5",
   "metadata": {},
   "outputs": [
    {
     "data": {
      "text/plain": [
       "-1"
      ]
     },
     "execution_count": 57,
     "metadata": {},
     "output_type": "execute_result"
    }
   ],
   "source": [
    "signal"
   ]
  },
  {
   "cell_type": "code",
   "execution_count": 58,
   "id": "48cf1770",
   "metadata": {},
   "outputs": [
    {
     "data": {
      "text/plain": [
       "numpy.int32"
      ]
     },
     "execution_count": 58,
     "metadata": {},
     "output_type": "execute_result"
    }
   ],
   "source": [
    "type(signal)"
   ]
  },
  {
   "cell_type": "markdown",
   "id": "06db1727",
   "metadata": {},
   "source": [
    "# Запуск алгоритма в режиме реального времени с периодическим обновлением данных"
   ]
  },
  {
   "cell_type": "markdown",
   "id": "1a2e85cf",
   "metadata": {},
   "source": [
    "До этого момента мы тестировали алгоритм торговой стратегии в автономном режиме. Другими словами, для решения поставленной задачи ему требовался полный набор данных. Основная трудность заключалась в обучении SVM-алгоритма на бинарных признаках и метках, задающих направление движения. На практике при развертывании системы алгоритмической торговли для работы на финансовых рынках данные будут обрабатываться по мере поступления, и предсказываться будет направление рыночного движения в следующем временном интервале. В этом разделе мы интегрируем сохраненный объект модели в среду потоковой обработки данных.\n",
    "Программа, которая преобразует автономный алгоритм в систему реального времени, должна решить следующие основные задачи.\n",
    "Обработка данных свечей:\n",
    "Данные свечей поступают в реальном времени и должны обрабатываться в потоковом режиме.\n",
    "Повторная выборка данных:\n",
    "Данные свечей нужно перевыбирать в соответствии с величиной интервала, установленного в алгоритме торговой стратегии.\n",
    "Прогнозирование:\n",
    "Торговый алгоритм прогнозирует направление рыночного движения в будущие периоды.\n",
    "Размещение заявок:\n",
    "С учетом текущей позиции и сгенерированного прогноза (“сигнала”) программа должна либо размещать заявку, либо удерживать позицию."
   ]
  },
  {
   "cell_type": "markdown",
   "id": "e6421624",
   "metadata": {},
   "source": [
    "Мы получаем данные свечей из периодически обновляемого файла CSV. Затем обрабатываем алгоритмом и генерируем сигнал"
   ]
  },
  {
   "cell_type": "code",
   "execution_count": 59,
   "id": "86b17124",
   "metadata": {},
   "outputs": [
    {
     "data": {
      "text/plain": [
       "int"
      ]
     },
     "execution_count": 59,
     "metadata": {},
     "output_type": "execute_result"
    }
   ],
   "source": [
    "struct = time.localtime()\n",
    "type(struct.tm_sec)"
   ]
  },
  {
   "cell_type": "code",
   "execution_count": 60,
   "id": "77e994b6",
   "metadata": {},
   "outputs": [
    {
     "data": {
      "text/plain": [
       "21"
      ]
     },
     "execution_count": 60,
     "metadata": {},
     "output_type": "execute_result"
    }
   ],
   "source": [
    "struct.tm_sec"
   ]
  },
  {
   "cell_type": "code",
   "execution_count": 61,
   "id": "5bbb536a",
   "metadata": {},
   "outputs": [
    {
     "ename": "KeyboardInterrupt",
     "evalue": "",
     "output_type": "error",
     "traceback": [
      "\u001b[1;31m---------------------------------------------------------------------------\u001b[0m",
      "\u001b[1;31mKeyboardInterrupt\u001b[0m                         Traceback (most recent call last)",
      "\u001b[1;32m<ipython-input-61-20bbe49cc636>\u001b[0m in \u001b[0;36m<module>\u001b[1;34m\u001b[0m\n\u001b[0;32m      2\u001b[0m \u001b[1;31m# заебись, вроде работает\u001b[0m\u001b[1;33m\u001b[0m\u001b[1;33m\u001b[0m\u001b[1;33m\u001b[0m\u001b[0m\n\u001b[0;32m      3\u001b[0m \u001b[1;32mwhile\u001b[0m \u001b[1;32mTrue\u001b[0m\u001b[1;33m:\u001b[0m\u001b[1;33m\u001b[0m\u001b[1;33m\u001b[0m\u001b[0m\n\u001b[1;32m----> 4\u001b[1;33m     \u001b[0mstruct\u001b[0m \u001b[1;33m=\u001b[0m \u001b[0mtime\u001b[0m\u001b[1;33m.\u001b[0m\u001b[0mlocaltime\u001b[0m\u001b[1;33m(\u001b[0m\u001b[1;33m)\u001b[0m\u001b[1;33m\u001b[0m\u001b[1;33m\u001b[0m\u001b[0m\n\u001b[0m\u001b[0;32m      5\u001b[0m     \u001b[1;32mif\u001b[0m \u001b[0mstruct\u001b[0m\u001b[1;33m.\u001b[0m\u001b[0mtm_sec\u001b[0m \u001b[1;33m==\u001b[0m \u001b[1;36m40\u001b[0m\u001b[1;33m:\u001b[0m\u001b[1;33m\u001b[0m\u001b[1;33m\u001b[0m\u001b[0m\n\u001b[0;32m      6\u001b[0m         \u001b[1;31m# загрузка данных из CSV-файла\u001b[0m\u001b[1;33m\u001b[0m\u001b[1;33m\u001b[0m\u001b[1;33m\u001b[0m\u001b[0m\n",
      "\u001b[1;31mKeyboardInterrupt\u001b[0m: "
     ]
    }
   ],
   "source": [
    "# разобраться с ебучим циклом он сука не работает. Признаком его работы должно быть появление файла signal\n",
    "# заебись, вроде работает\n",
    "while True:\n",
    "    struct = time.localtime()\n",
    "    if struct.tm_sec == 40:\n",
    "        # загрузка данных из CSV-файла\n",
    "        # Столбцы для использования в качестве меток строки файла DataFrame либо даны как string name или индекс столбца.\n",
    "        # Если задана последовательность INT / STR, используется многоиндекс.\n",
    "        # Примечание: index_col = false может использоваться для форсирования Pands не использовать первый столбец как индекс,\n",
    "        # например, когда у вас есть неправильный файл с разделителями в конце каждой строки.\n",
    "        # Функция читает файл, в котором данные о последней свече находятся в первой строке \n",
    "        raw = pd.read_csv('BRJ2\\Data\\BRJ2_Data.csv', index_col=0, parse_dates=False)\n",
    "        reverse_raw = raw[::-1] # реверс набора данных\n",
    "        symbol = 'Close' # т.к. нам нужны цены закрытия пятиминутных свечей берём данные из колонки Close\n",
    "        m5_close = reverse_raw[symbol] # сохраняем серию в переменную с наиболее подходящим и информативным названием\n",
    "        # формирование подмножества данных и исключение нечисловых значений (NaN))\n",
    "        data = (pd.DataFrame(m5_close).dropna())\n",
    "        # расчёт логарифмической доходности\n",
    "        data['Доходность'] = np.log(data/data.shift(1))\n",
    "        # всегда применяем после shift, т.к. после shift появляются нечисловые значения NaN\n",
    "        data.dropna(inplace=True)\n",
    "        # Функция sign() является указателем на знак числа. Если число со знаком минус, то возвращает -1, если с плюсом, то 1\n",
    "        # Функция astype() преобразует в указанный тип данных, в данном случае int\n",
    "        data['Направление'] = np.sign(data['Доходность']).astype(int)\n",
    "        features = data['Направление'].iloc[-(lags + 1):-1]\n",
    "        features = features.values.reshape(1, -1)\n",
    "        signal = model.predict(features)[0]\n",
    "        f = open('BRJ2\\Signal_and_transaction\\signal.txt', 'w') # вместо а+ лучше поставить w или w+, т.к. дозапись необязательна\n",
    "        f.write(str(signal)) # секунды убрать нахуй, мешать будут и перевод строки\n",
    "        f.close()\n",
    "        continue\n",
    "    else:\n",
    "        continue\n",
    "        "
   ]
  }
 ],
 "metadata": {
  "kernelspec": {
   "display_name": "Python 3",
   "language": "python",
   "name": "python3"
  },
  "language_info": {
   "codemirror_mode": {
    "name": "ipython",
    "version": 3
   },
   "file_extension": ".py",
   "mimetype": "text/x-python",
   "name": "python",
   "nbconvert_exporter": "python",
   "pygments_lexer": "ipython3",
   "version": "3.11.5"
  }
 },
 "nbformat": 4,
 "nbformat_minor": 5
}
